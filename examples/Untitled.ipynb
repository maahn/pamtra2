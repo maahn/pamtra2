{
 "cells": [
  {
   "cell_type": "code",
   "execution_count": 63,
   "metadata": {},
   "outputs": [
    {
     "name": "stdout",
     "output_type": "stream",
     "text": [
      "fallVelocityRelation\n"
     ]
    }
   ],
   "source": [
    "import sys\n",
    "import importlib\n",
    "\n",
    "sys.path = ['/Users/mmaahn/projects/pamtra2/pyPamtra2'] + sys.path\n",
    "import pyPamtra2\n",
    "importlib.reload(pyPamtra2)\n",
    "importlib.reload(pyPamtra2.core2)\n",
    "\n",
    "pam2 = pyPamtra2.core2.profile()"
   ]
  },
  {
   "cell_type": "code",
   "execution_count": 64,
   "metadata": {},
   "outputs": [
    {
     "data": {
      "text/plain": [
       "<xarray.Dataset>\n",
       "Dimensions:              (activePolarisation: 0, activePolarisations: 0, dopplerPeak: 0, dopplerVelBin: 0, frequency: 0, hydroBin: 0, hydrometeor: 0, layer: 1)\n",
       "Coordinates:\n",
       "  * layer                (layer) int64 0\n",
       "  * hydrometeor          (hydrometeor) float64 \n",
       "  * hydroBin             (hydroBin) float64 \n",
       "  * frequency            (frequency) float64 \n",
       "  * activePolarisation   (activePolarisation) float64 \n",
       "  * dopplerVelBin        (dopplerVelBin) float64 \n",
       "  * dopplerPeak          (dopplerPeak) float64 \n",
       "  * activePolarisations  (activePolarisations) float64 \n",
       "Data variables:\n",
       "    height               (layer) float64 nan\n",
       "    temperature          (layer) float64 nan\n",
       "    pressure             (layer) float64 nan\n",
       "    relativeHumidity     (layer) float64 nan\n",
       "    horizontalWind       (layer) float64 nan\n",
       "    hydro_name           (hydrometeor) |S10 "
      ]
     },
     "execution_count": 64,
     "metadata": {},
     "output_type": "execute_result"
    }
   ],
   "source": [
    "pam2.dataset"
   ]
  },
  {
   "cell_type": "code",
   "execution_count": 65,
   "metadata": {},
   "outputs": [],
   "source": [
    "pam2.height = [11]"
   ]
  },
  {
   "cell_type": "code",
   "execution_count": 66,
   "metadata": {},
   "outputs": [],
   "source": [
    "pam2.height.values[:] = 12"
   ]
  },
  {
   "cell_type": "code",
   "execution_count": 108,
   "metadata": {},
   "outputs": [
    {
     "name": "stderr",
     "output_type": "stream",
     "text": [
      "<ipython-input-108-d1e668d52ab4>:1: SyntaxWarning: assertion is always true, perhaps remove parentheses?\n",
      "  assert(1==1, 'test')\n"
     ]
    }
   ],
   "source": [
    "assert(1==1, 'test')"
   ]
  },
  {
   "cell_type": "code",
   "execution_count": 68,
   "metadata": {},
   "outputs": [
    {
     "ename": "AttributeError",
     "evalue": "height22",
     "output_type": "error",
     "traceback": [
      "\u001b[0;31m---------------------------------------------------------------------------\u001b[0m",
      "\u001b[0;31mAttributeError\u001b[0m                            Traceback (most recent call last)",
      "\u001b[0;32m<ipython-input-68-a0bb469a9a50>\u001b[0m in \u001b[0;36m<module>\u001b[0;34m()\u001b[0m\n\u001b[0;32m----> 1\u001b[0;31m \u001b[0;32mdel\u001b[0m \u001b[0mpam2\u001b[0m\u001b[0;34m.\u001b[0m\u001b[0mheight22\u001b[0m\u001b[0;34m\u001b[0m\u001b[0m\n\u001b[0m",
      "\u001b[0;31mAttributeError\u001b[0m: height22"
     ]
    }
   ],
   "source": [
    "del pam2.height22"
   ]
  },
  {
   "cell_type": "code",
   "execution_count": 71,
   "metadata": {},
   "outputs": [
    {
     "name": "stderr",
     "output_type": "stream",
     "text": [
      "/Volumes/User/mmaahn/anaconda/envs/python3/lib/python3.6/site-packages/xarray/core/dataset.py:378: FutureWarning: iteration over an xarray.Dataset will change in xarray v0.11 to only include data variables, not coordinates. Iterate over the Dataset.variables property instead to preserve existing behavior in a forwards compatible manner.\n",
      "  both_data_and_coords = [k for k in data_vars if k in coords]\n"
     ]
    },
    {
     "data": {
      "text/plain": [
       "<xarray.Dataset>\n",
       "Dimensions:              (activePolarisation: 0, activePolarisations: 0, dopplerPeak: 0, dopplerVelBin: 0, frequency: 0, hydroBin: 0, hydrometeor: 0, layer: 1)\n",
       "Coordinates:\n",
       "  * layer                (layer) int64 0\n",
       "  * hydrometeor          (hydrometeor) float64 \n",
       "  * hydroBin             (hydroBin) float64 \n",
       "  * frequency            (frequency) float64 \n",
       "  * activePolarisation   (activePolarisation) float64 \n",
       "  * dopplerVelBin        (dopplerVelBin) float64 \n",
       "  * dopplerPeak          (dopplerPeak) float64 \n",
       "  * activePolarisations  (activePolarisations) float64 \n",
       "Data variables:\n",
       "    height               (layer) float64 12.0\n",
       "    temperature          (layer) float64 nan\n",
       "    pressure             (layer) float64 nan\n",
       "    relativeHumidity     (layer) float64 nan\n",
       "    horizontalWind       (layer) float64 nan\n",
       "    hydro_name           (hydrometeor) |S10 "
      ]
     },
     "execution_count": 71,
     "metadata": {},
     "output_type": "execute_result"
    }
   ],
   "source": [
    "import xarray as xr \n",
    "xr.Dataset(pam2.dataset)"
   ]
  },
  {
   "cell_type": "code",
   "execution_count": 54,
   "metadata": {},
   "outputs": [
    {
     "name": "stdout",
     "output_type": "stream",
     "text": [
      "layer\n",
      "hydrometeor\n",
      "hydroBin\n",
      "frequency\n",
      "activePolarisation\n",
      "dopplerVelBin\n",
      "dopplerPeak\n",
      "activePolarisations\n",
      "height\n",
      "temperature\n",
      "pressure\n",
      "relativeHumidity\n",
      "horizontalWind\n",
      "hydro_name\n"
     ]
    }
   ],
   "source": [
    "for k in pam2.dataset.variables: print(k)"
   ]
  },
  {
   "cell_type": "code",
   "execution_count": 112,
   "metadata": {},
   "outputs": [
    {
     "data": {
      "text/plain": [
       "True"
      ]
     },
     "execution_count": 112,
     "metadata": {},
     "output_type": "execute_result"
    }
   ],
   "source": [
    "callable(xr.Dataset)\n",
    "\n"
   ]
  },
  {
   "cell_type": "code",
   "execution_count": 95,
   "metadata": {},
   "outputs": [],
   "source": [
    "def test(arg1,arg2,kwarg1=1,kwarg2=2):\n",
    "    print(arg1,arg2,kwarg1,kwarg2)\n",
    "    \n",
    "def test2(arg1,arg2):\n",
    "    print(arg1,arg2)"
   ]
  },
  {
   "cell_type": "code",
   "execution_count": 96,
   "metadata": {},
   "outputs": [
    {
     "name": "stdout",
     "output_type": "stream",
     "text": [
      "2 1 4 3\n",
      "2 1\n"
     ]
    }
   ],
   "source": [
    "test(kwarg2=3,kwarg1=4,arg2=1,arg1=2)\n",
    "test2(arg2=1,arg1=2)"
   ]
  },
  {
   "cell_type": "code",
   "execution_count": 83,
   "metadata": {},
   "outputs": [],
   "source": [
    "import numpy as np"
   ]
  },
  {
   "cell_type": "code",
   "execution_count": 97,
   "metadata": {},
   "outputs": [],
   "source": [
    "import math.sin??"
   ]
  },
  {
   "cell_type": "code",
   "execution_count": null,
   "metadata": {},
   "outputs": [],
   "source": [
    "import math.sin"
   ]
  },
  {
   "cell_type": "code",
   "execution_count": 99,
   "metadata": {},
   "outputs": [],
   "source": [
    "xr.Dataset?"
   ]
  },
  {
   "cell_type": "code",
   "execution_count": null,
   "metadata": {},
   "outputs": [],
   "source": [
    "import pamtra2\n",
    "\n",
    "\n",
    "additionalDims = OrderedDict()\n",
    "additionalDims['time'] = pn.date_range('2016-01-01','2016-01-05',freq='D')[:1]\n",
    "additionalDims['lat'] = np.arange(70,80)\n",
    "nHeights = 100\n",
    "\n",
    "pam2 = pamtra2.pamtra2(nHeights,additionalDims = additionalDims)\n",
    "\n",
    "pam2.profile.height[:] = .... \n",
    "pam2.profile.temperature[:] = .... \n",
    "pam2.profile.relativeHumidty[:] = .... \n",
    "pam2.profile.pressure[:] = .... \n",
    "\n",
    "# OR EASIER: \n",
    "pam2 = pamtra2.importers.profiles.usStandardAtmosphere(heigths)\n",
    "\n",
    "pam2.addHydrometeor(\n",
    "    name = 'snow1', #or None, then str(index)\n",
    "    index = 0, #or None, then append\n",
    "    kind = 'snow', #liquid, ice\n",
    "    psd = (\n",
    "        pamtra2.hydrometeors.sizeDistributions.exponentialFieldLwc, #function/object to call for getting psd\n",
    "        funcArgs = {\n",
    "            temperature : pam2.profile.temperature,\n",
    "            lwc : pam2.profile.lwc, #test whether hydrodim is included! for all input vars!\n",
    "            massSizeA : 0.01, #mass size relation required to estimate exponential doistribution from N0\n",
    "            massSizeB : 1.8,\n",
    "        },\n",
    "    ),\n",
    "    aspectRatio = (\n",
    "        0.6,\n",
    "    ),\n",
    "    mass = (\n",
    "        pamtra2.hydrometeors.mass.powerLaw,\n",
    "        funcArgs = {\n",
    "            massSizeA : 0.01,\n",
    "            massSizeB : 1.8,\n",
    "        },\n",
    "    ),\n",
    "    density = (\n",
    "        pamtra2.hydrometeors.density.softSphere,\n",
    "        funcArgs = {\n",
    "            minDensity : 100,\n",
    "#             maxDensity : , defaults to snow!\n",
    "        },\n",
    "    ),\n",
    "    crossSectionArea = (\n",
    "        pamtra2.hydrometeors.area.powerLaw,\n",
    "        funcArgs = {\n",
    "            areaSizeA : 0.01,\n",
    "            areaSizeB : 1.8,\n",
    "        },\n",
    "    ),\n",
    ")\n",
    "\n",
    "pam2.addHydrometeor(\n",
    "    name = 'rain1', #or None, then str(index)\n",
    "    index = 1, #or None, then append\n",
    "    kind = 'liquid', #liquid, ice\n",
    "    psd = (\n",
    "        pamtra2.hydrometeors.sizeDistributions.exponentialLwc, #function/object to call for getting psd\n",
    "        funcArgs = {\n",
    "            lwc : pam2.profile.lwc, #test whether hydrodim is included! for all input vars!\n",
    "            lambd : 10,\n",
    "        },\n",
    "    ),\n",
    "    aspectRatio = (\n",
    "        pamtra2.hydrometeors.aspectRatio.rainAspectRatioModel,\n",
    "        funcArgs = {\n",
    "            sampleKeyword : 10, \n",
    "        },\n",
    "    ),\n",
    "    mass = (\n",
    "        pamtra2.hydrometeors.mass.ellipsoid,\n",
    "    ),\n",
    "    density = (\n",
    "        pamtra2.hydrometeors.density.water, # or 1000.\n",
    "    ),\n",
    "    crossSectionArea = (\n",
    "        pamtra2.hydrometeors.area.ellipsoid,\n",
    "    ),\n",
    ")\n",
    "\n",
    "# all hydrometeor data stored in list pam2.hydrometeors\n",
    "\n",
    "# OR EASIER: \n",
    "pamtra2.importers.CosmoColumsNetcdf('fname') #will take care of hydrometeors and profiles\n",
    "\n",
    "\n",
    "kazr = pam2.createInstrument(\n",
    "    name= 'KAZR'\n",
    "    kind = 'dopplerRadar',\n",
    "    #the pamtra2.forwardOperators.spectralRadarSimulator class will contain all the magic and create the object to be retruend\n",
    "    method = pamtra2.forwardOperators.spectralRadarSimulator, \n",
    "    frequencies = [35],\n",
    "    settings = {\n",
    "        'nyquistVMax' : 10,\n",
    "        'nyquistVMin' : -10,\n",
    "        'nFFT' : 512,\n",
    "        ...\n",
    "    }\n",
    ")\n",
    "\n",
    "hatpro = pam2.createInstrument(\n",
    "    name= 'Hatpro'\n",
    "    kind = 'MWR',\n",
    "    method = pamtra2.forwardOperators.RT4,\n",
    "    frequencies = [22.24, 23.04, 23.84, 25.44, 26.24, 27.84, 31.40],\n",
    "    settings = {\n",
    "        'bandWidths' : [0.230, 0.230, 0.230, 0.230, 0.230, 0.230, 0.230],\n",
    "        ....\n",
    "    }\n",
    ")\n",
    "\n",
    "ceilo = pam2.createInstrument(\n",
    "    name= 'Ceilo'\n",
    "    kind = 'Ceilometer',\n",
    "    wavelengths = [905],\n",
    "    settings = {\n",
    "        'property' : 10,\n",
    "        ...\n",
    "    }\n",
    ")\n",
    "\n",
    "# OR EASIER: \n",
    "WSACR = pamtra.importer.instruments.WSACR(site='Oliktok Point',configuration='20171004')\n",
    "\n",
    "\n",
    "kazr.run()\n",
    "kazr.results.to_netcdf('kazr.nc')\n",
    "\n",
    "hatpro.run()\n",
    "hatpro.results.to_netcdf('hatpro.nc')\n",
    "\n",
    "ceilo.run()\n",
    "ceilo.results.to_netcdf('ceilo.nc')\n",
    "\n",
    "\n",
    "\n"
   ]
  },
  {
   "cell_type": "code",
   "execution_count": 149,
   "metadata": {},
   "outputs": [],
   "source": [
    "aa = dict(a=[1,3],b=[2,3])"
   ]
  },
  {
   "cell_type": "code",
   "execution_count": 120,
   "metadata": {},
   "outputs": [
    {
     "data": {
      "text/plain": [
       "1"
      ]
     },
     "execution_count": 120,
     "metadata": {},
     "output_type": "execute_result"
    }
   ],
   "source": [
    "aa.pop('a')"
   ]
  },
  {
   "cell_type": "code",
   "execution_count": 136,
   "metadata": {},
   "outputs": [
    {
     "data": {
      "text/plain": [
       "\"{'a': 1, 'b': 2, 'c': <function test at 0x11b96f6a8>}\""
      ]
     },
     "execution_count": 136,
     "metadata": {},
     "output_type": "execute_result"
    }
   ],
   "source": [
    "str(aa)"
   ]
  },
  {
   "cell_type": "code",
   "execution_count": 150,
   "metadata": {},
   "outputs": [],
   "source": [
    "bb = xr.Dataset(aa)"
   ]
  },
  {
   "cell_type": "code",
   "execution_count": 157,
   "metadata": {},
   "outputs": [
    {
     "data": {
      "text/plain": [
       "<xarray.Dataset>\n",
       "Dimensions:  (a: 2, b: 2)\n",
       "Coordinates:\n",
       "  * a        (a) int64 1 10\n",
       "  * b        (b) int64 2 3\n",
       "Data variables:\n",
       "    *empty*"
      ]
     },
     "execution_count": 157,
     "metadata": {},
     "output_type": "execute_result"
    }
   ],
   "source": [
    "bb.reindex(a=[1,10],method='nearest',tolerance=0)"
   ]
  },
  {
   "cell_type": "code",
   "execution_count": 166,
   "metadata": {},
   "outputs": [],
   "source": [
    "class test(object):\n",
    "    def __init__(self,a):\n",
    "        self.a = a\n",
    "        \n",
    "    def setA(self,newA):\n",
    "        self.a = newA\n",
    "        return self\n",
    "        "
   ]
  },
  {
   "cell_type": "code",
   "execution_count": 167,
   "metadata": {},
   "outputs": [],
   "source": []
  },
  {
   "cell_type": "code",
   "execution_count": 168,
   "metadata": {},
   "outputs": [],
   "source": [
    "a1 = test(1)\n",
    "a2 = a1.setA(2)\n",
    "a3 = a1.setA(3)"
   ]
  },
  {
   "cell_type": "code",
   "execution_count": 169,
   "metadata": {},
   "outputs": [
    {
     "data": {
      "text/plain": [
       "(3, 3, 3)"
      ]
     },
     "execution_count": 169,
     "metadata": {},
     "output_type": "execute_result"
    }
   ],
   "source": [
    "a1.a, a2.a, a3.a"
   ]
  },
  {
   "cell_type": "code",
   "execution_count": null,
   "metadata": {},
   "outputs": [],
   "source": []
  }
 ],
 "metadata": {
  "kernelspec": {
   "display_name": "Python 3",
   "language": "python",
   "name": "python3"
  },
  "language_info": {
   "codemirror_mode": {
    "name": "ipython",
    "version": 3
   },
   "file_extension": ".py",
   "mimetype": "text/x-python",
   "name": "python",
   "nbconvert_exporter": "python",
   "pygments_lexer": "ipython3",
   "version": "3.6.3"
  },
  "toc": {
   "nav_menu": {},
   "number_sections": true,
   "sideBar": true,
   "skip_h1_title": false,
   "toc_cell": false,
   "toc_position": {},
   "toc_section_display": "block",
   "toc_window_display": false
  }
 },
 "nbformat": 4,
 "nbformat_minor": 2
}
