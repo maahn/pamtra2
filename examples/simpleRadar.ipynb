{
 "cells": [
  {
   "cell_type": "markdown",
   "metadata": {},
   "source": [
    "# Simple Radar"
   ]
  },
  {
   "cell_type": "code",
   "execution_count": 1,
   "metadata": {},
   "outputs": [],
   "source": [
    "import pamtra2\n",
    "import collections\n",
    "import pamtra2.libs.refractiveIndex as refractiveIndex\n",
    "import numpy as np\n",
    "import pandas as pn\n",
    "import xarray as xr\n",
    "from collections import OrderedDict\n",
    "from copy import deepcopy, copy\n",
    "import toolz\n",
    "import collections\n",
    "import matplotlib.pyplot as plt\n",
    "\n",
    "try:\n",
    "    %matplotlib inline\n",
    "except:\n",
    "    pass"
   ]
  },
  {
   "cell_type": "code",
   "execution_count": 2,
   "metadata": {},
   "outputs": [],
   "source": [
    "import pamtra2.libs.pamgasabs"
   ]
  },
  {
   "cell_type": "markdown",
   "metadata": {},
   "source": [
    "# create Profile"
   ]
  },
  {
   "cell_type": "code",
   "execution_count": 3,
   "metadata": {},
   "outputs": [],
   "source": [
    "additionalDims = collections.OrderedDict()\n",
    "# additionalDims['lat'] = np.linspace(0,90,4)\n",
    "nHeights = 3\n",
    "\n",
    "pam2 = pamtra2.pamtra2(\n",
    "    nLayer=nHeights,\n",
    "    hydrometeors=['cloud'],\n",
    "    additionalDims = additionalDims,\n",
    "    frequencies = [3e9],\n",
    ")\n"
   ]
  },
  {
   "cell_type": "code",
   "execution_count": 4,
   "metadata": {},
   "outputs": [
    {
     "data": {
      "text/plain": [
       "<xarray.customProfile>\n",
       "Dimensions:              (frequency: 1, hydrometeor: 1, layer: 3)\n",
       "Coordinates:\n",
       "  * layer                (layer) int64 0 1 2\n",
       "  * hydrometeor          (hydrometeor) <U5 'cloud'\n",
       "  * frequency            (frequency) float64 3e+09\n",
       "Data variables:\n",
       "    height               (layer) float64 nan nan nan\n",
       "    temperature          (layer) float64 nan nan nan\n",
       "    pressure             (layer) float64 nan nan nan\n",
       "    relativeHumidity     (layer) float64 nan nan nan\n",
       "    horizontalWind       (layer) float64 nan nan nan\n",
       "    verticalWind         (layer) float64 nan nan nan\n",
       "    eddyDissipationRate  (layer) float64 nan nan nan\n",
       "    hydrometeorContent   (layer, hydrometeor) float64 nan nan nan\n",
       "    wavelength           (frequency) float64 0.09993"
      ]
     },
     "execution_count": 4,
     "metadata": {},
     "output_type": "execute_result"
    }
   ],
   "source": [
    "pam2.profile"
   ]
  },
  {
   "cell_type": "markdown",
   "metadata": {},
   "source": [
    "Fill with some dummie values"
   ]
  },
  {
   "cell_type": "code",
   "execution_count": 5,
   "metadata": {},
   "outputs": [],
   "source": [
    "\n",
    "pam2.profile.height[:] = 1000\n",
    "pam2.profile.temperature[:] = 250 \n",
    "pam2.profile.relativeHumidity[:] = 90\n",
    "pam2.profile.pressure[:] = 100000\n",
    "pam2.profile.eddyDissipationRate[:] = 1e-3\n",
    "pam2.profile.horizontalWind[:] = 10\n",
    "pam2.profile.hydrometeorContent[:] = 1e-4\n"
   ]
  },
  {
   "cell_type": "markdown",
   "metadata": {},
   "source": [
    "For testing, dask arrays are turned on by chunking."
   ]
  },
  {
   "cell_type": "code",
   "execution_count": 6,
   "metadata": {},
   "outputs": [
    {
     "data": {
      "text/plain": [
       "<xarray.customProfile>\n",
       "Dimensions:              (frequency: 1, hydrometeor: 1, layer: 3)\n",
       "Coordinates:\n",
       "  * layer                (layer) int64 0 1 2\n",
       "  * hydrometeor          (hydrometeor) <U5 'cloud'\n",
       "  * frequency            (frequency) float64 3e+09\n",
       "Data variables:\n",
       "    height               (layer) float64 dask.array<shape=(3,), chunksize=(3,)>\n",
       "    temperature          (layer) float64 dask.array<shape=(3,), chunksize=(3,)>\n",
       "    pressure             (layer) float64 dask.array<shape=(3,), chunksize=(3,)>\n",
       "    relativeHumidity     (layer) float64 dask.array<shape=(3,), chunksize=(3,)>\n",
       "    horizontalWind       (layer) float64 dask.array<shape=(3,), chunksize=(3,)>\n",
       "    verticalWind         (layer) float64 dask.array<shape=(3,), chunksize=(3,)>\n",
       "    eddyDissipationRate  (layer) float64 dask.array<shape=(3,), chunksize=(3,)>\n",
       "    hydrometeorContent   (layer, hydrometeor) float64 dask.array<shape=(3, 1), chunksize=(3, 1)>\n",
       "    wavelength           (frequency) float64 dask.array<shape=(1,), chunksize=(1,)>\n",
       "    heightBinDepth       (layer) float64 0.0 0.0 0.0\n",
       "    specificHumidity     (layer) float64 dask.array<shape=(3,), chunksize=(3,)>\n",
       "    absoluteHumidity     (layer) float64 dask.array<shape=(3,), chunksize=(3,)>\n",
       "    dryAirDensity        (layer) float64 dask.array<shape=(3,), chunksize=(3,)>\n",
       "    airDensity           (layer) float64 dask.array<shape=(3,), chunksize=(3,)>\n",
       "    dynamicViscosity     (layer) float64 dask.array<shape=(3,), chunksize=(3,)>\n",
       "    kinematicViscosity   (layer) float64 dask.array<shape=(3,), chunksize=(3,)>\n",
       "    waterVaporPressure   (layer) float64 dask.array<shape=(3,), chunksize=(3,)>"
      ]
     },
     "execution_count": 6,
     "metadata": {},
     "output_type": "execute_result"
    }
   ],
   "source": [
    "pam2.profile = pam2.profile.chunk({ 'frequency':1}) #'lat':1,\n",
    "\n",
    "\n",
    "pam2.profile \n",
    "pam2.addMissingVariables()"
   ]
  },
  {
   "cell_type": "code",
   "execution_count": 7,
   "metadata": {},
   "outputs": [],
   "source": [
    "# # OR EASIER if desired: \n",
    "# pam2 = pamtra2.importers.profiles.usStandardAtmosphere(heigths)"
   ]
  },
  {
   "cell_type": "markdown",
   "metadata": {},
   "source": [
    "# Describe Hydrometeors\n",
    "To describe the hydrometeors, you can use functions, xr.DataArrays or scalars. Teh functions must support xr.DataArrays. The kwargs of the functions are gathered from (in this order)\n",
    "\n",
    "1. pam2.hydrometors.name.profile variables (name must match). E.g. density (after it has been calculated) \n",
    "2. pam2.profile variables (name must match). E.g. temperature\n",
    "3. Other provided kwargs (e.g. Dmin, DMax, N0 etc)\n",
    "4. Default function arguments. Can be turned of with useFuncArgDefaults = False to make sure everything is explicitly covered.\n",
    "\n"
   ]
  },
  {
   "cell_type": "code",
   "execution_count": 8,
   "metadata": {},
   "outputs": [
    {
     "name": "stderr",
     "output_type": "stream",
     "text": [
      "/Volumes/User/mmaahn/anaconda/envs/python3/lib/python3.6/_collections_abc.py:720: FutureWarning: iteration over an xarray.Dataset will change in xarray v0.11 to only include data variables, not coordinates. Iterate over the Dataset.variables property instead to preserve existing behavior in a forwards compatible manner.\n",
      "  yield from self._mapping\n",
      "/Volumes/User/mmaahn/anaconda/envs/python3/lib/python3.6/site-packages/pamtra2-0.1-py3.6-macosx-10.9-x86_64.egg/pamtra2/hydrometeors/core.py:309: FutureWarning: xarray.DataArray.__contains__ currently checks membership in DataArray.coords, but in xarray v0.11 will change to check membership in array values.\n",
      "  if key in self.profile[key]:\n",
      "/Volumes/User/mmaahn/anaconda/envs/python3/lib/python3.6/site-packages/pamtra2-0.1-py3.6-macosx-10.9-x86_64.egg/pamtra2/hydrometeors/core.py:313: FutureWarning: xarray.DataArray.__contains__ currently checks membership in DataArray.coords, but in xarray v0.11 will change to check membership in array values.\n",
      "  if key in self.profile[key]:\n"
     ]
    },
    {
     "data": {
      "text/plain": [
       "<pamtra2.hydrometeors.core.cloud at 0x1a1fa14898>"
      ]
     },
     "execution_count": 8,
     "metadata": {},
     "output_type": "execute_result"
    }
   ],
   "source": [
    "pam2.addHydrometeor(\n",
    "    pamtra2.hydrometeors.cloud(\n",
    "        name = 'cloud',\n",
    "        Dmin  = 0.0001 - .5e-10,\n",
    "        Dmax  = 0.0001 + .5e-10,\n",
    "        scattering = pamtra2.hydrometeors.scattering.Mie,\n",
    "    )\n",
    ")\n",
    "\n",
    "\n",
    "# pam2.describeHydrometeor(\n",
    "#     pamtra2.hydrometeors.softEllipsoidFixedDensity,\n",
    "#     name = 'cloud', #or None, then str(index)\n",
    "#     nBins =2,\n",
    "#     sizeBounds = pamtra2.hydrometeors.size.linspaceBounds, \n",
    "#     sizeCenter = pamtra2.hydrometeors.size.boundsToMid,\n",
    "#     sizeBoundsWidth = pamtra2.hydrometeors.size.boundsWidth,\n",
    "#     sizeDistribution = pamtra2.hydrometeors.sizeDistribution.monoDisperse, \n",
    "#     aspectRatio = 1.0,\n",
    "#     mass = pamtra2.hydrometeors.mass.ellipsoid,\n",
    "#     density = pamtra2.hydrometeors.density.water,\n",
    "#     crossSectionArea = pamtra2.hydrometeors.crossSectionArea.sphere,\n",
    "#     relativePermittivity = refractiveIndex.water.turner_kneifel_cadeddu, #replace with refractiveIndex.water.Turner.n\n",
    "#     scattering = pamtra2.hydrometeors.scattering.Rayleigh,\n",
    "#     fallVelocity = pamtra2.hydrometeors.fallVelocity.khvorostyanov01_drops,\n",
    "#     Dmin  = 0.001 - .5e-10,\n",
    "#     Dmax  = 0.001 + .5e-10,\n",
    "#     Ntot =  xr.DataArray(np.logspace(-2,2,nHeights),coords=[pam2.profile.layer]),\n",
    "# #     Ntot = 10,\n",
    "#     useFuncArgDefaults = False,\n",
    "# )\n"
   ]
  },
  {
   "cell_type": "markdown",
   "metadata": {},
   "source": [
    "The profile arrays have been populated, but they contain daks arrays. These are only placeholders, they have not been calculated yet!"
   ]
  },
  {
   "cell_type": "markdown",
   "metadata": {},
   "source": [
    "# Radar simulator\n"
   ]
  },
  {
   "cell_type": "code",
   "execution_count": 9,
   "metadata": {},
   "outputs": [
    {
     "data": {
      "text/plain": [
       "<pamtra2.instruments.radar.simpleRadar at 0x1a1fa14748>"
      ]
     },
     "execution_count": 9,
     "metadata": {},
     "output_type": "execute_result"
    }
   ],
   "source": [
    "pam2.addInstrument(\n",
    "    pamtra2.instruments.radar.simpleRadar(\n",
    "        name='simple',\n",
    "        frequencies=3e9,\n",
    "        radarK2=0.93,\n",
    "    )\n",
    ")"
   ]
  },
  {
   "cell_type": "code",
   "execution_count": 10,
   "metadata": {},
   "outputs": [
    {
     "name": "stderr",
     "output_type": "stream",
     "text": [
      "/Volumes/User/mmaahn/anaconda/envs/python3/lib/python3.6/site-packages/pamtra2-0.1-py3.6-macosx-10.9-x86_64.egg/pamtra2/libs/singleScattering/scattering_utilities.py:158: RuntimeWarning: invalid value encountered in double_scalars\n",
      "  alpha = np.arccos((cos_sca-cos_th*cos_inc)/(sin_th*sin_inc))\n",
      "/Volumes/User/mmaahn/anaconda/envs/python3/lib/python3.6/site-packages/pamtra2-0.1-py3.6-macosx-10.9-x86_64.egg/pamtra2/libs/singleScattering/scattering_utilities.py:159: RuntimeWarning: invalid value encountered in double_scalars\n",
      "  beta = np.arccos((cos_inc-cos_th*cos_sca)/(sin_th*sin_sca))\n"
     ]
    },
    {
     "data": {
      "text/plain": [
       "<xarray.Dataset>\n",
       "Dimensions:                    (frequency: 1, layer: 3)\n",
       "Coordinates:\n",
       "  * layer                      (layer) int64 0 1 2\n",
       "  * frequency                  (frequency) float64 3e+09\n",
       "Data variables:\n",
       "    specificAttenuation        (frequency, layer) float64 1.22e-05 1.22e-05 ...\n",
       "    pathIntegratedAttBottomUp  (frequency, layer) float64 0.0 0.0 0.0\n",
       "    pathIntegratedAttTopDown   (frequency, layer) float64 0.0 0.0 0.0\n",
       "    radarReflectivity          (frequency, layer) float64 -7.158 -7.158 -7.158"
      ]
     },
     "execution_count": 10,
     "metadata": {},
     "output_type": "execute_result"
    }
   ],
   "source": [
    "pam2.instruments.simple.results.load()"
   ]
  },
  {
   "cell_type": "code",
   "execution_count": 11,
   "metadata": {},
   "outputs": [
    {
     "data": {
      "text/plain": [
       "<pamtra2.instruments.radar.dopplerRadarPamtra at 0x1a1faae940>"
      ]
     },
     "execution_count": 11,
     "metadata": {},
     "output_type": "execute_result"
    }
   ],
   "source": [
    "pam2.addInstrument(\n",
    "    pamtra2.instruments.radar.dopplerRadarPamtra(\n",
    "        name = 'spectral',\n",
    "        frequencies = 3e9,    \n",
    "            verbosity=10,\n",
    "        radarNAve =150,\n",
    "        momentsNPeaks = 1,\n",
    "        seed = 11,\n",
    "        radarAliasingNyquistInterv = 0,\n",
    "        radarPNoise1000 = -100\n",
    "    )\n",
    ")\n",
    "\n"
   ]
  },
  {
   "cell_type": "code",
   "execution_count": 12,
   "metadata": {},
   "outputs": [
    {
     "name": "stderr",
     "output_type": "stream",
     "text": [
      "/Volumes/User/mmaahn/anaconda/envs/python3/lib/python3.6/site-packages/pamtra2-0.1-py3.6-macosx-10.9-x86_64.egg/pamtra2/libs/singleScattering/scattering_utilities.py:158: RuntimeWarning: invalid value encountered in double_scalars\n",
      "  alpha = np.arccos((cos_sca-cos_th*cos_inc)/(sin_th*sin_inc))\n",
      "/Volumes/User/mmaahn/anaconda/envs/python3/lib/python3.6/site-packages/pamtra2-0.1-py3.6-macosx-10.9-x86_64.egg/pamtra2/libs/singleScattering/scattering_utilities.py:159: RuntimeWarning: invalid value encountered in double_scalars\n",
      "  beta = np.arccos((cos_inc-cos_th*cos_sca)/(sin_th*sin_sca))\n"
     ]
    },
    {
     "data": {
      "text/plain": [
       "<xarray.Dataset>\n",
       "Dimensions:                    (dopplerVelocity: 256, dopplerVelocityAliased: 256, frequency: 1, layer: 3, peak: 1)\n",
       "Coordinates:\n",
       "  * layer                      (layer) int64 0 1 2\n",
       "  * frequency                  (frequency) float64 3e+09\n",
       "  * dopplerVelocity            (dopplerVelocity) float64 -7.885 -7.823 ...\n",
       "  * peak                       (peak) int64 1\n",
       "Dimensions without coordinates: dopplerVelocityAliased\n",
       "Data variables:\n",
       "    specificAttenuation        (frequency, layer) float64 1.22e-05 1.22e-05 ...\n",
       "    pathIntegratedAttBottomUp  (frequency, layer) float64 0.0 0.0 0.0\n",
       "    pathIntegratedAttTopDown   (frequency, layer) float64 0.0 0.0 0.0\n",
       "    radarIdealizedSpectrum     (dopplerVelocityAliased, layer, frequency) float64 0.0 ...\n",
       "    radarSpectrum              (dopplerVelocity, layer, frequency) float64 6.777e-12 ...\n",
       "    radarReflectivity          (peak, layer, frequency) float64 -7.208 ...\n",
       "    meanDopplerVel             (peak, layer, frequency) float64 0.2442 ...\n",
       "    spectrumWidth              (peak, layer, frequency) float64 0.399 0.3985 ...\n",
       "    skewness                   (peak, layer, frequency) float64 -0.002282 ...\n",
       "    kurtosis                   (peak, layer, frequency) float64 2.962 2.97 2.979\n",
       "    leftSlope                  (peak, layer, frequency) float64 37.01 36.15 ...\n",
       "    rightSlope                 (peak, layer, frequency) float64 -35.46 ...\n",
       "    leftEdge                   (peak, layer, frequency) float64 -2.587 ...\n",
       "    rightEdge                  (peak, layer, frequency) float64 3.08 3.08 3.08\n",
       "    quality                    (layer, frequency) float64 0.0 0.0 0.0\n",
       "    noiseMean                  (layer, frequency) float64 -100.0 -99.94 -100.0"
      ]
     },
     "execution_count": 12,
     "metadata": {},
     "output_type": "execute_result"
    }
   ],
   "source": [
    "pam2.instruments.spectral.results.load()"
   ]
  },
  {
   "cell_type": "code",
   "execution_count": 13,
   "metadata": {},
   "outputs": [
    {
     "data": {
      "text/plain": [
       "<matplotlib.collections.QuadMesh at 0x1a2b46b3c8>"
      ]
     },
     "execution_count": 13,
     "metadata": {},
     "output_type": "execute_result"
    },
    {
     "data": {
      "image/png": "[encoded data removed]",
      "text/plain": [
       "<Figure size 432x288 with 2 Axes>"
      ]
     },
     "metadata": {},
     "output_type": "display_data"
    }
   ],
   "source": [
    "pam2.instruments.spectral.results.radarSpectrum.plot()"
   ]
  },
  {
   "cell_type": "code",
   "execution_count": null,
   "metadata": {},
   "outputs": [],
   "source": []
  },
  {
   "cell_type": "code",
   "execution_count": null,
   "metadata": {},
   "outputs": [],
   "source": []
  }
 ],
 "metadata": {
  "kernelspec": {
   "display_name": "Python 3",
   "language": "python",
   "name": "python3"
  },
  "language_info": {
   "codemirror_mode": {
    "name": "ipython",
    "version": 3
   },
   "file_extension": ".py",
   "mimetype": "text/x-python",
   "name": "python",
   "nbconvert_exporter": "python",
   "pygments_lexer": "ipython3",
   "version": "3.6.5"
  },
  "toc": {
   "base_numbering": 1,
   "nav_menu": {},
   "number_sections": true,
   "sideBar": true,
   "skip_h1_title": false,
   "title_cell": "Table of Contents",
   "title_sidebar": "Contents",
   "toc_cell": false,
   "toc_position": {
    "height": "calc(100% - 180px)",
    "left": "10px",
    "top": "150px",
    "width": "249px"
   },
   "toc_section_display": "block",
   "toc_window_display": true
  }
 },
 "nbformat": 4,
 "nbformat_minor": 2
}
