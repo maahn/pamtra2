{
 "cells": [
  {
   "cell_type": "code",
   "execution_count": 7,
   "metadata": {},
   "outputs": [
    {
     "name": "stdout",
     "output_type": "stream",
     "text": [
      "4.39822971502571 0.0\n",
      "2.356194490192345 0.7853981633974483 1.2566370614359172 4.39822971502571\n"
     ]
    }
   ],
   "source": [
    "%matplotlib inline  \n",
    "import matplotlib.pyplot as plt\n",
    "from pamtra2.libs.singleScattering import scattering\n",
    "from pamtra2.libs.singleScattering import scattering_utilities as scautils\n",
    "from pamtra2.libs.singleScattering import mie, rayleigh, tmatrix, ssrg\n",
    "from pamtra2.libs import refractiveIndex\n",
    "import numpy as np\n",
    "np.set_printoptions(precision=3)\n",
    "rad2deg = 180.0/np.pi\n",
    "\n",
    "# Angles\n",
    "t0 = np.pi*0.75 # theta must be within 0 pi\n",
    "t1 = np.pi*0.25\n",
    "#t1 = np.pi-t0\n",
    "p0 = 0.4*np.pi\n",
    "p1 = 0.8*np.pi\n",
    "p1 = np.pi+p0\n",
    "print(p1, p1 // (2.*np.pi))\n",
    "#p1 = p1 - 2.*np.pi*(p1//(2.*np.pi))\n",
    "print(t0, t1, p0, p1)"
   ]
  },
  {
   "cell_type": "code",
   "execution_count": 8,
   "metadata": {},
   "outputs": [
    {
     "name": "stdout",
     "output_type": "stream",
     "text": [
      "Cext                    Csca                    Cabs                   Cbck            [m**2]\n",
      "3.42313882614e-12 2.74872213037e-13 3.1482666131e-12 4.12308319556e-13\n",
      "3.42552492696e-12 2.74936863749e-13 3.15058806321e-12 4.12217233995e-13\n",
      "3.42307506305e-12 2.748084499522858e-13 3.1482666131e-12 4.12117043789e-13\n",
      "3.42552500089e-12 2.7493685025226993e-13 3.15058815064e-12 4.12217233682e-13\n",
      " \n",
      "RAY\n",
      " \n",
      "[[  1.811e-07 +1.470e-11j   0.000e+00 +0.000e+00j]\n",
      " [  0.000e+00 +0.000e+00j  -1.811e-07 -1.470e-11j]]\n",
      " \n",
      " \n",
      "MIE\n",
      "[[  1.811e-07 +1.599e-11j   0.000e+00 +0.000e+00j]\n",
      " [  0.000e+00 +0.000e+00j  -1.811e-07 -1.599e-11j]]\n",
      " \n",
      " \n",
      "SSRG\n",
      " \n",
      "[[  1.811e-07 +1.470e-11j   0.000e+00 +0.000e+00j]\n",
      " [  0.000e+00 +0.000e+00j  -1.811e-07 -1.470e-11j]]\n",
      " \n",
      "TMM\n",
      "[[  1.811e-07 +1.599e-11j   2.561e-14 +2.261e-18j]\n",
      " [  2.561e-14 +2.261e-18j  -1.811e-07 -1.599e-11j]]\n",
      " \n",
      " \n",
      "[[  1.811e-07 +1.599e-11j   2.561e-14 +2.261e-18j]\n",
      " [  2.561e-14 +2.261e-18j  -1.811e-07 -1.599e-11j]]\n",
      " \n",
      "[[  1.811e-07 +1.599e-11j   2.561e-14 +2.261e-18j]\n",
      " [  2.561e-14 +2.261e-18j  -1.811e-07 -1.599e-11j]]\n",
      " \n",
      " \n"
     ]
    }
   ],
   "source": [
    "# One centimeter particle, S-band 2.8GHz, pure ice sphere \n",
    "f = 2.8e9\n",
    "d = 0.001\n",
    "n = refractiveIndex.n(frequencies=f, temperatures=263.15, substance='ice')\n",
    "\n",
    "cost=1.0\n",
    "R = rayleigh.RayleighScatt(d,frequency=f,refractive_index=n, theta_inc=t0, theta_sca=t1, phi_inc=p0, phi_sca=p1)\n",
    "M = mie.MieScatt(d*cost,frequency=f/cost,refractive_index=n, theta_inc=t0, theta_sca=t1, phi_inc=p0, phi_sca=p1)\n",
    "T = tmatrix.TmatrixScatt(d*cost,frequency=f/cost,refractive_index=n, theta_inc=t0, theta_sca=t1, phi_inc=p0, phi_sca=p1)\n",
    "S = ssrg.SsrgScatt(d,frequency=f,refractive_index=n, theta_inc=t0, theta_sca=t1, phi_inc=p0, phi_sca=p1, volume=np.pi*d**3/6.)\n",
    "\n",
    "from pytmatrix import tmatrix as tm\n",
    "from pytmatrix import scatter, radar\n",
    "scatt = tm.Scatterer(radius=0.5*d, wavelength=299792458./f, m=n, axis_ratio=1.0/1.0, thet0=t0*rad2deg, thet=t1*rad2deg, phi0=p0*rad2deg, phi=p1*rad2deg)\n",
    "\n",
    "print('Cext                    Csca                    Cabs                   Cbck            [m**2]')\n",
    "print(R.Cext, R.Csca, R.Cabs, R.Cbck)\n",
    "print(M.Cext, M.Csca, M.Cabs, M.Cbck)\n",
    "print(S.Cext, S.Csca, S.Cabs, S.Cbck)\n",
    "print(T.Cext, T.Csca, T.Cabs, T.Cbck)\n",
    "\n",
    "\n",
    "print(\" \")\n",
    "print(\"RAY\")\n",
    "print(\" \")\n",
    "print(R.S)\n",
    "print(\" \")\n",
    "#print(R.S2/(R.S1*np.cos(p1-p0)))\n",
    "print(\" \")\n",
    "print(\"MIE\")\n",
    "print(M.S)\n",
    "print(\" \")\n",
    "#print(M.S2/(M.S1*np.cos(p1-p0)))\n",
    "print(\" \")\n",
    "print(\"SSRG\")\n",
    "print(\" \")\n",
    "print(S.S)\n",
    "print(\" \")\n",
    "print(\"TMM\")\n",
    "print(T.S)\n",
    "print(\" \")\n",
    "#print(T.S[1,1]/(T.S[0,0]*np.cos(p1-p0)))\n",
    "print(\" \")\n",
    "print(scatt.get_S())\n",
    "print(\" \")\n",
    "print(T.S)\n",
    "print(\" \")\n",
    "print(\" \")\n"
   ]
  },
  {
   "cell_type": "code",
   "execution_count": 9,
   "metadata": {},
   "outputs": [
    {
     "name": "stdout",
     "output_type": "stream",
     "text": [
      "[[  3.280e-14   3.566e-28  -4.965e-35  -3.673e-40]\n",
      " [  3.566e-28   3.280e-14  -9.278e-21   1.837e-40]\n",
      " [ -4.965e-35  -9.278e-21  -3.280e-14   7.704e-34]\n",
      " [  3.673e-40  -1.837e-40  -7.704e-34  -3.280e-14]]\n",
      "\n",
      "[[  3.280e-14   0.000e+00  -0.000e+00  -0.000e+00]\n",
      " [  0.000e+00   3.280e-14  -0.000e+00  -0.000e+00]\n",
      " [ -0.000e+00  -0.000e+00  -3.280e-14   0.000e+00]\n",
      " [ -0.000e+00  -0.000e+00   0.000e+00  -3.280e-14]]\n",
      "\n",
      "[[  3.280e-14   3.566e-28  -4.965e-35  -3.673e-40]\n",
      " [  3.566e-28   3.280e-14  -9.278e-21   1.837e-40]\n",
      " [ -4.965e-35  -9.278e-21  -3.280e-14   7.704e-34]\n",
      " [  3.673e-40  -1.837e-40  -7.704e-34  -3.280e-14]]\n"
     ]
    }
   ],
   "source": [
    "TS = scautils.amplitude_matrix(T.S)\n",
    "TZ = scautils.amplitude2mueller(TS)\n",
    "MS = scautils.amplitude_matrix(M.S)\n",
    "MZ = scautils.amplitude2mueller(MS)\n",
    "print(TZ.matrix)\n",
    "print(\"\")\n",
    "print(MZ.matrix)\n",
    "print(\"\")\n",
    "print(scatt.get_Z())"
   ]
  },
  {
   "cell_type": "code",
   "execution_count": null,
   "metadata": {},
   "outputs": [],
   "source": [
    "# One millimeter particle, W-band 94GHz, pure ice sphere \n",
    "f = 94e9\n",
    "d = 0.001\n",
    "n = refractiveIndex.n(frequencies=f, temperatures=263.15, substance='ice')\n",
    "rayC = scattering(diameters=d, frequencies=f, refractive_indices=n, model='Ray')\n",
    "mieC = scattering(diameters=d, frequencies=f, refractive_indices=n, model='Mie')\n",
    "TmaC = scattering(diameters=d, frequencies=f, refractive_indices=n, model='TMM', theta_inc=t0, theta_sca=t1, phi_inc=p0, phi_sca=p1)\n",
    "\n",
    "print('Cext                    Csca                    Cabs                   Cbck            [m**2]')\n",
    "print(rayC)\n",
    "print(mieC)\n",
    "print(TmaC)\n",
    "from pytmatrix import tmatrix, scatter, radar\n",
    "scatt = tmatrix.Scatterer(radius=0.5*d, wavelength=299792458./f, m=n, axis_ratio=1.0/1.0, thet0=t0*rad2deg, thet=t1*rad2deg, phi0=p0*rad2deg, phi=p1*rad2deg)\n",
    "print([scatter.ext_xsect(scatt),scatter.sca_xsect(scatt),scatter.ext_xsect(scatt)-scatter.sca_xsect(scatt),radar.radar_xsect(scatt)])"
   ]
  },
  {
   "cell_type": "code",
   "execution_count": null,
   "metadata": {},
   "outputs": [],
   "source": [
    "# One millimeter particle, S-band 2.8GHz, pure ice sphere \n",
    "f=2.8e9\n",
    "n = refractiveIndex.n(frequencies=f,temperatures=263.15,substance='ice')\n",
    "rayC = scattering(diameters=0.0001, frequencies=f, refractive_indices=n, model='Ray')\n",
    "mieC = scattering(diameters=0.0001, frequencies=f, refractive_indices=n, model='Mie')\n",
    "TmaC = scattering(diameters=0.0001, frequencies=f, refractive_indices=n, model='TMM')\n",
    "\n",
    "print('Cext                    Csca                    Cabs                   Cbck            [m**2]')\n",
    "print(rayC)\n",
    "print(mieC)\n",
    "print(TmaC)"
   ]
  },
  {
   "cell_type": "code",
   "execution_count": null,
   "metadata": {},
   "outputs": [],
   "source": [
    "scatt.get_S()\n",
    "scatt.get_Z()"
   ]
  },
  {
   "cell_type": "code",
   "execution_count": null,
   "metadata": {},
   "outputs": [],
   "source": []
  }
 ],
 "metadata": {
  "kernelspec": {
   "display_name": "Python 3",
   "language": "python",
   "name": "python3"
  },
  "language_info": {
   "codemirror_mode": {
    "name": "ipython",
    "version": 3
   },
   "file_extension": ".py",
   "mimetype": "text/x-python",
   "name": "python",
   "nbconvert_exporter": "python",
   "pygments_lexer": "ipython3",
   "version": "3.5.2"
  },
  "toc": {
   "base_numbering": 1,
   "nav_menu": {},
   "number_sections": true,
   "sideBar": true,
   "skip_h1_title": false,
   "title_cell": "Table of Contents",
   "title_sidebar": "Contents",
   "toc_cell": false,
   "toc_position": {},
   "toc_section_display": true,
   "toc_window_display": false
  }
 },
 "nbformat": 4,
 "nbformat_minor": 2
}
