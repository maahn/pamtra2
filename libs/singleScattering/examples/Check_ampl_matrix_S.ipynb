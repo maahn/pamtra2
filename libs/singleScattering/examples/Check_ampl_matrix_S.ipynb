{
 "cells": [
  {
   "cell_type": "code",
   "execution_count": 4,
   "metadata": {
    "collapsed": false,
    "deletable": true,
    "editable": true
   },
   "outputs": [
    {
     "ename": "SyntaxError",
     "evalue": "invalid syntax (self_similar_rayleigh_gans.py, line 176)",
     "output_type": "error",
     "traceback": [
      "Traceback \u001b[0;36m(most recent call last)\u001b[0m:\n",
      "  File \u001b[1;32m\"/home/dori/.local/lib/python3.5/site-packages/IPython/core/interactiveshell.py\"\u001b[0m, line \u001b[1;32m2961\u001b[0m, in \u001b[1;35mrun_code\u001b[0m\n    exec(code_obj, self.user_global_ns, self.user_ns)\n",
      "\u001b[0;36m  File \u001b[0;32m\"<ipython-input-4-82a360b64b4b>\"\u001b[0;36m, line \u001b[0;32m5\u001b[0;36m, in \u001b[0;35m<module>\u001b[0;36m\u001b[0m\n\u001b[0;31m    from pamtra2.libs.singleScattering import self_similar_rayleigh_gans as ssrg\u001b[0m\n",
      "\u001b[0;36m  File \u001b[0;32m\"/home/dori/.local/lib/python3.5/site-packages/pamtra2-0.1-py3.5-linux-x86_64.egg/pamtra2/libs/singleScattering/self_similar_rayleigh_gans.py\"\u001b[0;36m, line \u001b[0;32m176\u001b[0m\n\u001b[0;31m    else if isinstance(par, str):\u001b[0m\n\u001b[0m          ^\u001b[0m\n\u001b[0;31mSyntaxError\u001b[0m\u001b[0;31m:\u001b[0m invalid syntax\n"
     ]
    }
   ],
   "source": [
    "%matplotlib inline  \n",
    "import matplotlib.pyplot as plt\n",
    "from pamtra2.libs.singleScattering import scattering\n",
    "from pamtra2.libs.singleScattering import Mie, Rayleigh, Tmatrix\n",
    "from pamtra2.libs.singleScattering import self_similar_rayleigh_gans as ssrg\n",
    "from pamtra2.libs import refractiveIndex\n",
    "import numpy as np\n",
    "rad2deg = 180.0/np.pi\n",
    "\n",
    "# Angles\n",
    "t0 = np.pi*0.5 # theta must be within 0 pi\n",
    "t1 = np.pi*0.5\n",
    "#t1 = np.pi-t0\n",
    "p0 = 0.0*np.pi\n",
    "p1 = 0.3*np.pi\n",
    "#p1 = np.pi+p0\n",
    "print(p1, p1 // (2.*np.pi))\n",
    "#p1 = p1 - 2.*np.pi*(p1//(2.*np.pi))\n",
    "print(t0, t1, p0, p1)"
   ]
  },
  {
   "cell_type": "code",
   "execution_count": 3,
   "metadata": {
    "collapsed": false
   },
   "outputs": [
    {
     "name": "stdout",
     "output_type": "stream",
     "text": [
      "Cext                    Csca                    Cabs                   Cbck            [m**2]\n",
      "0.34915390735 0.349151464999 2.44235120109e-06 0.523727197499\n",
      "0.000186599730593 0.000178732245048 7.86748554476e-06 0.000919845031585\n",
      "0.000186599728595 0.0001787322473233511 7.86748127188e-06 0.00091984499428\n",
      " \n",
      "RAY\n",
      " \n",
      "(0.204148817152+0.000382899914217j) 0j\n",
      "0j (0.119995663995+0.000225062922681j)\n",
      " \n",
      "(2.894427191-7.68589613425e-19j)\n",
      " \n",
      "MIE\n",
      "(0.0008117428976867167-0.0019117250355033585j) 0j\n",
      "0j (-0.00256599634962685-0.0026620960657562595j)\n",
      " \n",
      "(0.37411536588071287+0.879381551058582j)\n",
      " \n",
      "TMM\n",
      "(0.000816408322532-0.00191828844653j) 0j\n",
      "0j (-0.00257045404474-0.00267015910779j)\n",
      " \n",
      "(1.18353190011-2.78339940215j)\n",
      " \n",
      "[[  8.16408323e-04 -1.91828845e-03j  -5.47252364e-20 -1.43156974e-19j]\n",
      " [  5.47252364e-20 +1.43156974e-19j  -2.57045404e-03 -2.67015911e-03j]]\n",
      " \n",
      "[[  8.16408323e-04 -1.91828845e-03j  -5.47252364e-20 -1.43156974e-19j]\n",
      " [  5.47252364e-20 +1.43156974e-19j  -2.57045404e-03 -2.67015911e-03j]]\n",
      " \n",
      " \n"
     ]
    }
   ],
   "source": [
    "# One centimeter particle, S-band 2.8GHz, pure ice sphere \n",
    "f = 94e9\n",
    "d = 0.01\n",
    "n = refractiveIndex.n(frequencies=f, temperatures=263.15, substance='ice')\n",
    "\n",
    "cost=1.0\n",
    "R = Rayleigh.RayleighScatt(d,frequency=f,refractive_index=n, theta_inc=t0, theta_sca=t1, phi_inc=p0, phi_sca=p1)\n",
    "M = Mie.MieScatt(d*cost,frequency=f/cost,refractive_index=n, theta_inc=t0, theta_sca=t1, phi_inc=p0, phi_sca=p1)\n",
    "T = Tmatrix.TmatrixScatt(d*cost,frequency=f/cost,refractive_index=n, theta_inc=t0, theta_sca=t1, phi_inc=p0, phi_sca=p1)\n",
    "\n",
    "from pytmatrix import tmatrix, scatter, radar\n",
    "scatt = tmatrix.Scatterer(radius=0.5*d, wavelength=299792458./f, m=n, axis_ratio=1.0/1.0, thet0=t0*rad2deg, thet=t1*rad2deg, phi0=p0*rad2deg, phi=p1*rad2deg)\n",
    "\n",
    "print('Cext                    Csca                    Cabs                   Cbck            [m**2]')\n",
    "print(R.Cext, R.Csca, R.Cabs,R.Cbck)\n",
    "print(M.Cext, M.Csca, M.Cabs,M.Cbck)\n",
    "print(T.Cext, T.Csca, T.Cabs,T.Cbck)\n",
    "\n",
    "print(\" \")\n",
    "print(\"RAY\")\n",
    "print(\" \")\n",
    "print(R.S2, complex(0.,0.))\n",
    "print(complex(0.,0.), R.S1)\n",
    "print(\" \")\n",
    "print(R.S2/(R.S1*np.cos(p1-p0)))\n",
    "print(\" \")\n",
    "print(\"MIE\")\n",
    "print(M.S2,complex(0.,0.))\n",
    "print(complex(0.,0.),M.S1)\n",
    "print(\" \")\n",
    "print(M.S2/(M.S1*np.cos(p1-p0)))\n",
    "print(\" \")\n",
    "print(\"TMM\")\n",
    "print(T.S[0,0], complex(0.,0.))\n",
    "print(complex(0.,0.), T.S[1,1])\n",
    "print(\" \")\n",
    "print(T.S[1,1]/(T.S[0,0]*np.cos(p1-p0)))\n",
    "print(\" \")\n",
    "print(scatt.get_S())\n",
    "print(\" \")\n",
    "print(T.S)\n",
    "print(\" \")\n",
    "print(\" \")\n"
   ]
  },
  {
   "cell_type": "code",
   "execution_count": 6,
   "metadata": {
    "collapsed": false
   },
   "outputs": [
    {
     "data": {
      "text/plain": [
       "3.141592653589793"
      ]
     },
     "execution_count": 6,
     "metadata": {},
     "output_type": "execute_result"
    }
   ],
   "source": [
    "p1-p0"
   ]
  },
  {
   "cell_type": "code",
   "execution_count": 3,
   "metadata": {
    "collapsed": false,
    "deletable": true,
    "editable": true
   },
   "outputs": [
    {
     "name": "stdout",
     "output_type": "stream",
     "text": [
      "Cext                    Csca                    Cabs                   Cbck            [m**2]\n",
      "(1.0498967461984795e-06, 1.0474543949973939e-06, 2.4423512010854983e-09, 5.2372719749869694e-07)\n",
      "(3.8169026989341472e-07, 3.7719995847397647e-07, 4.4903114194382853e-09, 3.0198335883905455e-07)\n",
      "(3.8169025547199783e-07, 3.771999482202861e-07, 4.4903072517117332e-09, 3.0198337240757998e-07)\n",
      "[3.8169025547199783e-07, 3.771999482202861e-07, 4.4903072517117332e-09, 3.0198337240757998e-07]\n"
     ]
    }
   ],
   "source": [
    "# One millimeter particle, W-band 94GHz, pure ice sphere \n",
    "f = 94e9\n",
    "d = 0.001\n",
    "n = refractiveIndex.n(frequencies=f, temperatures=263.15, substance='ice')\n",
    "rayC = scattering(diameters=d, frequencies=f, refractive_indices=n, model='Ray')\n",
    "mieC = scattering(diameters=d, frequencies=f, refractive_indices=n, model='Mie')\n",
    "TmaC = scattering(diameters=d, frequencies=f, refractive_indices=n, model='TMM', theta_inc=t0, theta_sca=t1, phi_inc=p0, phi_sca=p1)\n",
    "\n",
    "print('Cext                    Csca                    Cabs                   Cbck            [m**2]')\n",
    "print(rayC)\n",
    "print(mieC)\n",
    "print(TmaC)\n",
    "from pytmatrix import tmatrix, scatter, radar\n",
    "scatt = tmatrix.Scatterer(radius=0.5*d, wavelength=299792458./f, m=n, axis_ratio=1.0/1.0, thet0=t0*rad2deg, thet=t1*rad2deg, phi0=p0*rad2deg, phi=p1*rad2deg)\n",
    "print([scatter.ext_xsect(scatt),scatter.sca_xsect(scatt),scatter.ext_xsect(scatt)-scatter.sca_xsect(scatt),radar.radar_xsect(scatt)])"
   ]
  },
  {
   "cell_type": "code",
   "execution_count": 4,
   "metadata": {
    "collapsed": false,
    "deletable": true,
    "editable": true
   },
   "outputs": [
    {
     "name": "stdout",
     "output_type": "stream",
     "text": [
      "Cext                    Csca                    Cabs                   Cbck            [m**2]\n",
      "(3.1490912297415749e-15, 8.2461663911100578e-19, 3.1482666131024637e-15, 4.1230831955550289e-19)\n",
      "(3.1485646987497757e-15, 2.7487285968888451e-19, 3.1482898258900869e-15, 4.1230740899916799e-19)\n",
      "(3.1485646291424952e-15, 2.7487285368539355e-19, 3.14828975628881e-15, 4.1230742079816574e-19)\n"
     ]
    }
   ],
   "source": [
    "# One millimeter particle, S-band 2.8GHz, pure ice sphere \n",
    "f=2.8e9\n",
    "n = refractiveIndex.n(frequencies=f,temperatures=263.15,substance='ice')\n",
    "rayC = scattering(diameters=0.0001, frequencies=f, refractive_indices=n, model='Ray')\n",
    "mieC = scattering(diameters=0.0001, frequencies=f, refractive_indices=n, model='Mie')\n",
    "TmaC = scattering(diameters=0.0001, frequencies=f, refractive_indices=n, model='TMM')\n",
    "\n",
    "print('Cext                    Csca                    Cabs                   Cbck            [m**2]')\n",
    "print(rayC)\n",
    "print(mieC)\n",
    "print(TmaC)"
   ]
  },
  {
   "cell_type": "code",
   "execution_count": 5,
   "metadata": {
    "collapsed": false,
    "deletable": true,
    "editable": true
   },
   "outputs": [
    {
     "data": {
      "text/plain": [
       "array([[  2.40310732e-08,   0.00000000e+00,   2.66798438e-24,\n",
       "         -3.94430453e-31],\n",
       "       [  0.00000000e+00,   2.40310732e-08,  -9.61242926e-15,\n",
       "         -0.00000000e+00],\n",
       "       [ -2.66798438e-24,  -9.61242926e-15,  -2.40310732e-08,\n",
       "         -4.70197740e-38],\n",
       "       [  3.94430453e-31,   0.00000000e+00,  -4.70197740e-38,\n",
       "         -2.40310732e-08]])"
      ]
     },
     "execution_count": 5,
     "metadata": {},
     "output_type": "execute_result"
    }
   ],
   "source": [
    "scatt.get_S()\n",
    "scatt.get_Z()"
   ]
  },
  {
   "cell_type": "code",
   "execution_count": null,
   "metadata": {
    "collapsed": true
   },
   "outputs": [],
   "source": []
  }
 ],
 "metadata": {
  "kernelspec": {
   "display_name": "Python 3",
   "language": "python",
   "name": "python3"
  },
  "language_info": {
   "codemirror_mode": {
    "name": "ipython",
    "version": 3
   },
   "file_extension": ".py",
   "mimetype": "text/x-python",
   "name": "python",
   "nbconvert_exporter": "python",
   "pygments_lexer": "ipython3",
   "version": "3.5.2"
  },
  "toc": {
   "base_numbering": 1,
   "nav_menu": {},
   "number_sections": true,
   "sideBar": true,
   "skip_h1_title": false,
   "title_cell": "Table of Contents",
   "title_sidebar": "Contents",
   "toc_cell": false,
   "toc_position": {},
   "toc_section_display": true,
   "toc_window_display": false
  }
 },
 "nbformat": 4,
 "nbformat_minor": 2
}
