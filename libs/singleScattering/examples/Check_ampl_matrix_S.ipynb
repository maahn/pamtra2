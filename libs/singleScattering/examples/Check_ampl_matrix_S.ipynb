{
 "cells": [
  {
   "cell_type": "code",
   "execution_count": 14,
   "metadata": {},
   "outputs": [
    {
     "name": "stdout",
     "output_type": "stream",
     "text": [
      "3.141592653589793 0.0\n",
      "0.9424777960769379 1.8849555921538759 3.141592653589793 3.141592653589793\n"
     ]
    }
   ],
   "source": [
    "%matplotlib inline  \n",
    "import matplotlib.pyplot as plt\n",
    "from pamtra2.libs.singleScattering import scattering\n",
    "from pamtra2.libs.singleScattering import scattering_utilities as scautils\n",
    "from pamtra2.libs.singleScattering import mie, rayleigh, tmatrix, ssrg\n",
    "from pamtra2.libs import refractiveIndex\n",
    "import numpy as np\n",
    "np.set_printoptions(precision=3)\n",
    "rad2deg = 180.0/np.pi\n",
    "\n",
    "# Angles\n",
    "t0 = np.pi*0.3 # theta must be within 0 pi\n",
    "t1 = np.pi*0.6\n",
    "#t1 = np.pi-t0\n",
    "p0 = 1.0*np.pi\n",
    "p1 = p0#0.1*np.pi\n",
    "#p1 = np.pi+p0\n",
    "print(p1, p1 // (2.*np.pi))\n",
    "p1 = p1 - 2.*np.pi*(p1//(2.*np.pi))\n",
    "print(t0, t1, p0, p1)\n",
    "\n",
    "if((t0==0.0)and(t1==0.0)):\n",
    "    Rmat0= np.array([[np.cos(p0),-np.sin(p0)],[-np.sin(p0),-np.cos(p0)]])\n",
    "    Rmat = np.array([[np.cos(p1),-np.sin(p1)],[-np.sin(p1),-np.cos(p1)]])\n",
    "elif((t0==0.0)or(p0==p1)):\n",
    "    Rmat0= np.array([[np.cos(p1-p0),np.sin(p1-p0)],[np.sin(p1-p0),-np.cos(p1-p0)]])\n",
    "    Rmat = np.array([[1,0],[0,-1]])\n",
    "elif((t1==0.0)or(p0==p1)):\n",
    "    Rmat0= np.array([[1,0],[0,-1]])\n",
    "    Rmat = np.array([[np.cos(p0-p1),np.sin(p0-p1)],[np.sin(p0-p1),-np.cos(p0-p1)]])\n",
    "else:\n",
    "    print('do not know what to do')\n"
   ]
  },
  {
   "cell_type": "code",
   "execution_count": 15,
   "metadata": {},
   "outputs": [
    {
     "name": "stdout",
     "output_type": "stream",
     "text": [
      "Cext                    Csca                    Cabs                   Cbck            [m**2]\n",
      "3.42313882614e-12 2.74872213037e-13 3.1482666131e-12 4.12308319556e-13\n",
      "3.42552492696e-12 2.74936863749e-13 3.15058806321e-12 4.12217233995e-13\n",
      "3.42307506305e-12 2.748084499522858e-13 3.1482666131e-12 4.12117043789e-13\n",
      "3.42552500089e-12 2.749368496695048e-13 3.15058815122e-12 4.12217233682e-13\n",
      " \n",
      "RAY\n",
      " \n",
      "[[ nan+nanj  nan+nanj]\n",
      " [ nan+nanj  nan+nanj]]\n",
      " \n",
      " \n",
      "MIE\n",
      "[[ nan+nanj  nan+nanj]\n",
      " [ nan+nanj  nan+nanj]]\n",
      " \n",
      " \n",
      "SSRG\n",
      " \n",
      "[[ nan+nanj  nan+nanj]\n",
      " [ nan+nanj  nan+nanj]]\n",
      " \n",
      "TMM\n",
      "[[  1.065e-07 +9.403e-12j   0.000e+00 +0.000e+00j]\n",
      " [  0.000e+00 +0.000e+00j   1.812e-07 +1.599e-11j]]\n",
      " \n",
      " \n",
      "[[  1.065e-07 +9.403e-12j   0.000e+00 +0.000e+00j]\n",
      " [  0.000e+00 +0.000e+00j   1.812e-07 +1.599e-11j]]\n",
      " \n",
      "[[  1.065e-07 +9.403e-12j   0.000e+00 +0.000e+00j]\n",
      " [  0.000e+00 +0.000e+00j   1.812e-07 +1.599e-11j]]\n",
      " \n"
     ]
    }
   ],
   "source": [
    "# One centimeter particle, S-band 2.8GHz, pure ice sphere \n",
    "f = 2.8e9\n",
    "d = 0.001\n",
    "n = refractiveIndex.n(frequencies=f, temperatures=263.15, substance='ice')\n",
    "\n",
    "R = rayleigh.RayleighScatt(d,frequency=f,refractive_index=n, theta_inc=t0, theta_sca=t1, phi_inc=p0, phi_sca=p1)\n",
    "M = mie.MieScatt(d,frequency=f,refractive_index=n, theta_inc=t0, theta_sca=t1, phi_inc=p0, phi_sca=p1)\n",
    "T = tmatrix.TmatrixScatt(d,frequency=f,refractive_index=n, theta_inc=t0, theta_sca=t1, phi_inc=p0, phi_sca=p1)\n",
    "S = ssrg.SsrgScatt(d,frequency=f,refractive_index=n, theta_inc=t0, theta_sca=t1, phi_inc=p0, phi_sca=p1, volume=np.pi*d**3/6.)\n",
    "\n",
    "from pytmatrix import tmatrix as tm\n",
    "from pytmatrix import scatter, radar\n",
    "scatt = tm.Scatterer(radius=0.5*d, wavelength=299792458./f, m=n, axis_ratio=1.0/1.0, thet0=t0*rad2deg, thet=t1*rad2deg, phi0=p0*rad2deg, phi=p1*rad2deg)\n",
    "\n",
    "print('Cext                    Csca                    Cabs                   Cbck            [m**2]')\n",
    "print(R.Cext, R.Csca, R.Cabs, R.Cbck)\n",
    "print(M.Cext, M.Csca, M.Cabs, M.Cbck)\n",
    "print(S.Cext, S.Csca, S.Cabs, S.Cbck)\n",
    "print(T.Cext, T.Csca, T.Cabs, T.Cbck)\n",
    "\n",
    "\n",
    "print(\" \")\n",
    "print(\"RAY\")\n",
    "print(\" \")\n",
    "print(R.S)\n",
    "print(\" \")\n",
    "#print(R.S2/(R.S1*np.cos(p1-p0)))\n",
    "print(\" \")\n",
    "print(\"MIE\")\n",
    "print(M.S)\n",
    "print(\" \")\n",
    "#print(M.S2/(M.S1*np.cos(p1-p0)))\n",
    "print(\" \")\n",
    "print(\"SSRG\")\n",
    "print(\" \")\n",
    "print(S.S)\n",
    "print(\" \")\n",
    "print(\"TMM\")\n",
    "print(T.S)\n",
    "print(\" \")\n",
    "#print(T.S[1,1]/(T.S[0,0]*np.cos(p1-p0)))\n",
    "print(\" \")\n",
    "print(scatt.get_S())\n",
    "print(\" \")\n",
    "print(T.S)\n",
    "print(\" \")\n"
   ]
  },
  {
   "cell_type": "code",
   "execution_count": 16,
   "metadata": {},
   "outputs": [
    {
     "name": "stdout",
     "output_type": "stream",
     "text": [
      "0.0 0.0 0.0 1.0 1.0\n",
      "nan 0.0 0.942477796077\n",
      "nan 0.0 0.942477796077\n",
      "nan 0.0 0.942477796077\n"
     ]
    }
   ],
   "source": [
    "a0 = abs(p1 - p0)\n",
    "a1 = abs(p0 - p1)\n",
    "print(a0,a1,min(a0,a1),np.cos(min(a0,a1)),np.cos(p1-p0))\n",
    "print(R.rot_alpha,R.rot_beta,R.scatt_angle)\n",
    "print(M.rot_alpha,M.rot_beta,M.scatt_angle)\n",
    "print(S.rot_alpha,S.rot_beta,S.scatt_angle)"
   ]
  },
  {
   "cell_type": "code",
   "execution_count": 4,
   "metadata": {},
   "outputs": [
    {
     "name": "stdout",
     "output_type": "stream",
     "text": [
      "[[ nan  nan  nan  nan]\n",
      " [ nan  nan  nan  nan]\n",
      " [ nan  nan  nan  nan]\n",
      " [ nan  nan  nan  nan]]\n",
      "\n",
      "[[ nan  nan  nan  nan]\n",
      " [ nan  nan  nan  nan]\n",
      " [ nan  nan  nan  nan]\n",
      " [ nan  nan  nan  nan]]\n",
      "\n",
      "[[  3.281e-14   0.000e+00  -0.000e+00   1.926e-34]\n",
      " [  0.000e+00   2.654e-14  -1.929e-14  -0.000e+00]\n",
      " [ -0.000e+00   1.929e-14   2.654e-14   0.000e+00]\n",
      " [  1.926e-34  -0.000e+00   0.000e+00   3.281e-14]]\n",
      "\n",
      "=================\n",
      "\n",
      "[[  3.283e-14   0.000e+00  -0.000e+00  -0.000e+00]\n",
      " [  0.000e+00   2.656e-14  -1.930e-14  -0.000e+00]\n",
      " [ -0.000e+00   1.930e-14   2.656e-14   0.000e+00]\n",
      " [ -0.000e+00  -0.000e+00   0.000e+00   3.283e-14]]\n",
      "\n",
      "[[  3.283e-14   0.000e+00   0.000e+00   0.000e+00]\n",
      " [  0.000e+00   2.656e-14  -1.930e-14   0.000e+00]\n",
      " [  0.000e+00   1.930e-14   2.656e-14   0.000e+00]\n",
      " [  0.000e+00  -0.000e+00   0.000e+00   3.283e-14]]\n"
     ]
    }
   ],
   "source": [
    "RS = scautils.amplitude_matrix(R.S)\n",
    "RZ = scautils.amplitude2mueller(RS)\n",
    "SS = scautils.amplitude_matrix(S.S)\n",
    "SZ = scautils.amplitude2mueller(SS)\n",
    "TS = scautils.amplitude_matrix(T.S)\n",
    "TZ = scautils.amplitude2mueller(TS)\n",
    "MS = scautils.amplitude_matrix(M.S)\n",
    "MZ = scautils.amplitude2mueller(MS)\n",
    "print(RZ.matrix)\n",
    "print(\"\")\n",
    "print(MZ.matrix)\n",
    "print(\"\")\n",
    "print(SZ.matrix)\n",
    "print(\"\")\n",
    "print(\"=================\")\n",
    "print(\"\")\n",
    "print(TZ.matrix)\n",
    "print(\"\")\n",
    "print(scatt.get_Z())"
   ]
  },
  {
   "cell_type": "code",
   "execution_count": 5,
   "metadata": {},
   "outputs": [
    {
     "name": "stdout",
     "output_type": "stream",
     "text": [
      "Cext                    Csca                    Cabs                   Cbck            [m**2]\n",
      "(3.5159381620021679e-07, 3.4915146499913131e-07, 2.4423512010854983e-09, 5.2372719749869694e-07, array([[ nan+nanj,  nan+nanj],\n",
      "       [ nan+nanj,  nan+nanj]]))\n",
      "(3.8169026989341472e-07, 3.7719995847397647e-07, 4.4903114194382853e-09, 3.0198335883905455e-07, array([[ nan+nanj,  nan+nanj],\n",
      "       [ nan+nanj,  nan+nanj]]))\n",
      "(3.8169025547199788e-07, 3.7719994813947296e-07, 4.4903073325249232e-09, 3.0198337240758909e-07, array([[ -2.466e-04 -5.691e-05j,  -8.011e-05 -1.849e-05j],\n",
      "       [  8.011e-05 +1.849e-05j,  -2.466e-04 -5.691e-05j]]))\n",
      "[3.8169025547199788e-07, 3.7719994813947296e-07, 4.4903073325249232e-09, 8.0462124145081377e-07]\n"
     ]
    }
   ],
   "source": [
    "# One millimeter particle, W-band 94GHz, pure ice sphere \n",
    "f = 94e9\n",
    "d = 0.001\n",
    "n = refractiveIndex.n(frequencies=f, temperatures=263.15, substance='ice')\n",
    "rayC = scattering(diameters=d, frequencies=f, refractive_indices=n, model='Ray')\n",
    "mieC = scattering(diameters=d, frequencies=f, refractive_indices=n, model='Mie')\n",
    "TmaC = scattering(diameters=d, frequencies=f, refractive_indices=n, model='TMM', theta_inc=t0, theta_sca=t1, phi_inc=p0, phi_sca=p1)\n",
    "\n",
    "print('Cext                    Csca                    Cabs                   Cbck            [m**2]')\n",
    "print(rayC)\n",
    "print(mieC)\n",
    "print(TmaC)\n",
    "from pytmatrix import tmatrix, scatter, radar\n",
    "scatt = tmatrix.Scatterer(radius=0.5*d, wavelength=299792458./f, m=n, axis_ratio=1.0/1.0, thet0=t0*rad2deg, thet=t1*rad2deg, phi0=p0*rad2deg, phi=p1*rad2deg)\n",
    "print([scatter.ext_xsect(scatt),scatter.sca_xsect(scatt),scatter.ext_xsect(scatt)-scatter.sca_xsect(scatt),radar.radar_xsect(scatt)])"
   ]
  },
  {
   "cell_type": "code",
   "execution_count": 6,
   "metadata": {},
   "outputs": [
    {
     "name": "stdout",
     "output_type": "stream",
     "text": [
      "Cext                    Csca                    Cabs                   Cbck            [m**2]\n",
      "(3.1485414853155008e-15, 2.7487221303700193e-19, 3.1482666131024637e-15, 4.1230831955550289e-19, array([[ nan+nanj,  nan+nanj],\n",
      "       [ nan+nanj,  nan+nanj]]))\n",
      "(3.1485646987497757e-15, 2.7487285968888451e-19, 3.1482898258900869e-15, 4.1230740899916799e-19, array([[ nan+nanj,  nan+nanj],\n",
      "       [ nan+nanj,  nan+nanj]]))\n",
      "(3.1485646291424952e-15, 2.7487285368539355e-19, 3.14828975628881e-15, 4.1230742079816574e-19, array([[  1.811e-10 +1.470e-14j,   0.000e+00 +0.000e+00j],\n",
      "       [  0.000e+00 +0.000e+00j,   1.811e-10 +1.470e-14j]]))\n"
     ]
    }
   ],
   "source": [
    "# One millimeter particle, S-band 2.8GHz, pure ice sphere \n",
    "f=2.8e9\n",
    "n = refractiveIndex.n(frequencies=f,temperatures=263.15,substance='ice')\n",
    "rayC = scattering(diameters=0.0001, frequencies=f, refractive_indices=n, model='Ray')\n",
    "mieC = scattering(diameters=0.0001, frequencies=f, refractive_indices=n, model='Mie')\n",
    "TmaC = scattering(diameters=0.0001, frequencies=f, refractive_indices=n, model='TMM')\n",
    "\n",
    "print('Cext                    Csca                    Cabs                   Cbck            [m**2]')\n",
    "print(rayC)\n",
    "print(mieC)\n",
    "print(TmaC)"
   ]
  },
  {
   "cell_type": "code",
   "execution_count": 7,
   "metadata": {},
   "outputs": [
    {
     "data": {
      "text/plain": [
       "array([[  7.079e-08,   0.000e+00,   0.000e+00,   0.000e+00],\n",
       "       [  0.000e+00,   5.727e-08,  -4.161e-08,   0.000e+00],\n",
       "       [  0.000e+00,   4.161e-08,   5.727e-08,   0.000e+00],\n",
       "       [  0.000e+00,  -0.000e+00,   0.000e+00,   7.079e-08]])"
      ]
     },
     "execution_count": 7,
     "metadata": {},
     "output_type": "execute_result"
    }
   ],
   "source": [
    "scatt.get_S()\n",
    "scatt.get_Z()"
   ]
  },
  {
   "cell_type": "code",
   "execution_count": null,
   "metadata": {},
   "outputs": [],
   "source": []
  },
  {
   "cell_type": "code",
   "execution_count": null,
   "metadata": {},
   "outputs": [],
   "source": []
  }
 ],
 "metadata": {
  "kernelspec": {
   "display_name": "Python 3",
   "language": "python",
   "name": "python3"
  },
  "language_info": {
   "codemirror_mode": {
    "name": "ipython",
    "version": 3
   },
   "file_extension": ".py",
   "mimetype": "text/x-python",
   "name": "python",
   "nbconvert_exporter": "python",
   "pygments_lexer": "ipython3",
   "version": "3.5.2"
  },
  "toc": {
   "base_numbering": 1,
   "nav_menu": {},
   "number_sections": true,
   "sideBar": true,
   "skip_h1_title": false,
   "title_cell": "Table of Contents",
   "title_sidebar": "Contents",
   "toc_cell": false,
   "toc_position": {},
   "toc_section_display": true,
   "toc_window_display": false
  }
 },
 "nbformat": 4,
 "nbformat_minor": 2
}
