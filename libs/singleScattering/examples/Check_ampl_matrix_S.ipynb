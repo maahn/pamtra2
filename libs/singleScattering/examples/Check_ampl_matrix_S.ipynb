{
 "cells": [
  {
   "cell_type": "code",
   "execution_count": 16,
   "metadata": {},
   "outputs": [
    {
     "name": "stdout",
     "output_type": "stream",
     "text": [
      "1.2566370614359172 0.0\n",
      "1.2566370614359172 1.8849555921538759 0.6283185307179586 1.2566370614359172\n"
     ]
    }
   ],
   "source": [
    "%matplotlib inline  \n",
    "import matplotlib.pyplot as plt\n",
    "from pamtra2.libs.singleScattering import scattering\n",
    "from pamtra2.libs.singleScattering import scattering_utilities as scautils\n",
    "from pamtra2.libs.singleScattering import mie, rayleigh, tmatrix, ssrg\n",
    "from pamtra2.libs import refractiveIndex\n",
    "import numpy as np\n",
    "np.set_printoptions(precision=3)\n",
    "rad2deg = 180.0/np.pi\n",
    "\n",
    "# Angles\n",
    "t0 = np.pi*0.4 # theta must be within 0 pi\n",
    "t1 = np.pi*0.6\n",
    "#t1 = np.pi-t0\n",
    "p0 = 0.2*np.pi\n",
    "p1 = 0.4*np.pi\n",
    "#p1 = np.pi+p0\n",
    "print(p1, p1 // (2.*np.pi))\n",
    "#p1 = p1 - 2.*np.pi*(p1//(2.*np.pi))\n",
    "print(t0, t1, p0, p1)"
   ]
  },
  {
   "cell_type": "code",
   "execution_count": 17,
   "metadata": {},
   "outputs": [
    {
     "name": "stdout",
     "output_type": "stream",
     "text": [
      "Cext                    Csca                    Cabs                   Cbck            [m**2]\n",
      "3.42313882614e-12 2.74872213037e-13 3.1482666131e-12 4.12308319556e-13\n",
      "3.42552492696e-12 2.74936863749e-13 3.15058806321e-12 4.12217233995e-13\n",
      "3.42307506305e-12 2.748084499522858e-13 3.1482666131e-12 4.12117043789e-13\n",
      "3.42552500089e-12 2.7493684988201866e-13 3.15058815101e-12 4.12217233682e-13\n",
      " \n",
      "RAY\n",
      " \n",
      "[[ -4.037e-08 -3.277e-12j  -3.290e-08 -2.670e-12j]\n",
      " [  1.480e-07 +1.201e-11j   1.465e-07 +1.189e-11j]]\n",
      " \n",
      " \n",
      "MIE\n",
      "[[ -4.038e-08 -3.564e-12j  -3.291e-08 -2.905e-12j]\n",
      " [  1.480e-07 +1.307e-11j   1.466e-07 +1.294e-11j]]\n",
      " \n",
      " \n",
      "SSRG\n",
      " \n",
      "[[ -4.037e-08 -3.277e-12j  -3.290e-08 -2.670e-12j]\n",
      " [  1.480e-07 +1.201e-11j   1.465e-07 +1.189e-11j]]\n",
      " \n",
      "TMM\n",
      "[[  1.499e-07 +1.323e-11j  -3.291e-08 -2.904e-12j]\n",
      " [ -3.291e-08 -2.904e-12j   1.466e-07 +1.294e-11j]]\n",
      " \n",
      " \n",
      "[[  1.499e-07 +1.323e-11j  -3.291e-08 -2.904e-12j]\n",
      " [ -3.291e-08 -2.904e-12j   1.466e-07 +1.294e-11j]]\n",
      " \n",
      "[[  1.499e-07 +1.323e-11j  -3.291e-08 -2.904e-12j]\n",
      " [ -3.291e-08 -2.904e-12j   1.466e-07 +1.294e-11j]]\n",
      " \n",
      " \n"
     ]
    }
   ],
   "source": [
    "# One centimeter particle, S-band 2.8GHz, pure ice sphere \n",
    "f = 2.8e9\n",
    "d = 0.001\n",
    "n = refractiveIndex.n(frequencies=f, temperatures=263.15, substance='ice')\n",
    "\n",
    "cost=1.0\n",
    "R = rayleigh.RayleighScatt(d,frequency=f,refractive_index=n, theta_inc=t0, theta_sca=t1, phi_inc=p0, phi_sca=p1)\n",
    "M = mie.MieScatt(d*cost,frequency=f/cost,refractive_index=n, theta_inc=t0, theta_sca=t1, phi_inc=p0, phi_sca=p1)\n",
    "T = tmatrix.TmatrixScatt(d*cost,frequency=f/cost,refractive_index=n, theta_inc=t0, theta_sca=t1, phi_inc=p0, phi_sca=p1)\n",
    "S = ssrg.SsrgScatt(d,frequency=f,refractive_index=n, theta_inc=t0, theta_sca=t1, phi_inc=p0, phi_sca=p1, volume=np.pi*d**3/6.)\n",
    "\n",
    "from pytmatrix import tmatrix as tm\n",
    "from pytmatrix import scatter, radar\n",
    "scatt = tm.Scatterer(radius=0.5*d, wavelength=299792458./f, m=n, axis_ratio=1.0/1.0, thet0=t0*rad2deg, thet=t1*rad2deg, phi0=p0*rad2deg, phi=p1*rad2deg)\n",
    "\n",
    "print('Cext                    Csca                    Cabs                   Cbck            [m**2]')\n",
    "print(R.Cext, R.Csca, R.Cabs, R.Cbck)\n",
    "print(M.Cext, M.Csca, M.Cabs, M.Cbck)\n",
    "print(S.Cext, S.Csca, S.Cabs, S.Cbck)\n",
    "print(T.Cext, T.Csca, T.Cabs, T.Cbck)\n",
    "\n",
    "\n",
    "print(\" \")\n",
    "print(\"RAY\")\n",
    "print(\" \")\n",
    "print(R.S)\n",
    "print(\" \")\n",
    "#print(R.S2/(R.S1*np.cos(p1-p0)))\n",
    "print(\" \")\n",
    "print(\"MIE\")\n",
    "print(M.S)\n",
    "print(\" \")\n",
    "#print(M.S2/(M.S1*np.cos(p1-p0)))\n",
    "print(\" \")\n",
    "print(\"SSRG\")\n",
    "print(\" \")\n",
    "print(S.S)\n",
    "print(\" \")\n",
    "print(\"TMM\")\n",
    "print(T.S)\n",
    "print(\" \")\n",
    "#print(T.S[1,1]/(T.S[0,0]*np.cos(p1-p0)))\n",
    "print(\" \")\n",
    "print(scatt.get_S())\n",
    "print(\" \")\n",
    "print(T.S)\n",
    "print(\" \")\n",
    "print(\" \")\n"
   ]
  },
  {
   "cell_type": "code",
   "execution_count": 18,
   "metadata": {},
   "outputs": [
    {
     "data": {
      "text/plain": [
       "(0.81047853428408223,\n",
       " 0.81047853428408223,\n",
       " 0.81047853428408223,\n",
       " 0.88114109541898866)"
      ]
     },
     "execution_count": 18,
     "metadata": {},
     "output_type": "execute_result"
    }
   ],
   "source": [
    "np.arcsin(np.sin(S.theta_inc)*np.sin(abs(S.phi_sca-S.phi_inc))/np.sin(S.scatt_angle)),S.rot_alpha,S.rot_beta,S.scatt_angle"
   ]
  },
  {
   "cell_type": "code",
   "execution_count": 12,
   "metadata": {},
   "outputs": [
    {
     "name": "stdout",
     "output_type": "stream",
     "text": [
      "[[  3.281e-14  -6.311e-30  -0.000e+00  -0.000e+00]\n",
      " [ -6.311e-30   3.281e-14  -0.000e+00  -0.000e+00]\n",
      " [ -0.000e+00  -0.000e+00   3.281e-14   0.000e+00]\n",
      " [ -0.000e+00  -0.000e+00   0.000e+00   3.281e-14]]\n",
      "\n",
      "[[  3.283e-14  -4.293e-24  -0.000e+00  -0.000e+00]\n",
      " [ -4.293e-24   3.283e-14  -0.000e+00  -0.000e+00]\n",
      " [ -0.000e+00  -0.000e+00   3.283e-14   7.511e-32]\n",
      " [ -0.000e+00  -0.000e+00  -7.511e-32   3.283e-14]]\n",
      "\n",
      "[[  3.281e-14  -6.311e-30  -0.000e+00  -0.000e+00]\n",
      " [ -6.311e-30   3.281e-14  -0.000e+00  -0.000e+00]\n",
      " [ -0.000e+00  -0.000e+00   3.281e-14   0.000e+00]\n",
      " [ -0.000e+00  -0.000e+00   0.000e+00   3.281e-14]]\n",
      "\n",
      "=================\n",
      "\n",
      "[[  3.283e-14  -3.155e-30  -0.000e+00  -0.000e+00]\n",
      " [ -3.155e-30   3.283e-14  -0.000e+00  -0.000e+00]\n",
      " [ -0.000e+00  -0.000e+00   3.283e-14  -7.704e-34]\n",
      " [ -0.000e+00  -0.000e+00   7.704e-34   3.283e-14]]\n",
      "\n",
      "[[  3.283e-14  -3.155e-30  -0.000e+00   0.000e+00]\n",
      " [ -3.155e-30   3.283e-14   0.000e+00   0.000e+00]\n",
      " [ -0.000e+00   0.000e+00   3.283e-14  -7.704e-34]\n",
      " [  0.000e+00   0.000e+00   7.704e-34   3.283e-14]]\n"
     ]
    }
   ],
   "source": [
    "RS = scautils.amplitude_matrix(R.S)\n",
    "RZ = scautils.amplitude2mueller(RS)\n",
    "SS = scautils.amplitude_matrix(S.S)\n",
    "SZ = scautils.amplitude2mueller(SS)\n",
    "TS = scautils.amplitude_matrix(T.S)\n",
    "TZ = scautils.amplitude2mueller(TS)\n",
    "MS = scautils.amplitude_matrix(M.S)\n",
    "MZ = scautils.amplitude2mueller(MS)\n",
    "print(RZ.matrix)\n",
    "print(\"\")\n",
    "print(MZ.matrix)\n",
    "print(\"\")\n",
    "print(SZ.matrix)\n",
    "print(\"\")\n",
    "print(\"=================\")\n",
    "print(\"\")\n",
    "print(TZ.matrix)\n",
    "print(\"\")\n",
    "print(scatt.get_Z())"
   ]
  },
  {
   "cell_type": "code",
   "execution_count": 5,
   "metadata": {},
   "outputs": [
    {
     "name": "stdout",
     "output_type": "stream",
     "text": [
      "[[-1. -0.]\n",
      " [-0. -1.]] \n",
      "\n",
      " [[-1. -0.]\n",
      " [-0. -1.]] \n",
      "\n",
      " [[ 1.  0.]\n",
      " [ 0.  1.]] \n",
      "####\n",
      " [[-1. -0.]\n",
      " [ 0. -1.]] \n",
      "\n",
      " [[-1.  0.]\n",
      " [-0. -1.]] \n",
      "\n",
      " [[ 1.  0.]\n",
      " [ 0.  1.]]\n"
     ]
    }
   ],
   "source": [
    "from pamtra2.libs.singleScattering.scattering_utilities import rotation_matrix\n",
    "Ra, Rb = rotation_matrix(S.rot_alpha, S.rot_beta)\n",
    "print(Ra.T,\"\\n\\n\",Ra,\"\\n\\n\",Ra@Ra,\"\\n####\\n\",Rb.T,\"\\n\\n\",Rb,\"\\n\\n\",Rb.T@Rb)"
   ]
  },
  {
   "cell_type": "code",
   "execution_count": 6,
   "metadata": {},
   "outputs": [
    {
     "name": "stdout",
     "output_type": "stream",
     "text": [
      "Cext                    Csca                    Cabs                   Cbck            [m**2]\n",
      "(3.5159381620021679e-07, 3.4915146499913131e-07, 2.4423512010854983e-09, 5.2372719749869694e-07, array([[ 0. +3.829e-07j,  0. +0.000e+00j],\n",
      "       [ 0. +0.000e+00j,  0. +3.829e-07j]]))\n",
      "(3.8169026989341472e-07, 3.7719995847397647e-07, 4.4903114194382853e-09, 3.0198335883905455e-07, array([[ 0. +5.984e-05j,  0. +0.000e+00j],\n",
      "       [ 0. +0.000e+00j,  0. +5.984e-05j]]))\n",
      "(3.8169025547199794e-07, 3.7719994589127806e-07, 4.4903095807198777e-09, 3.019833724075803e-07, array([[ 0. +5.984e-05j,  0. +0.000e+00j],\n",
      "       [ 0. +0.000e+00j,  0. +5.984e-05j]]))\n",
      "[3.8169025547199794e-07, 3.7719994589127806e-07, 4.4903095807198777e-09, 8.89567423899513e-07]\n"
     ]
    }
   ],
   "source": [
    "# One millimeter particle, W-band 94GHz, pure ice sphere \n",
    "f = 94e9\n",
    "d = 0.001\n",
    "n = refractiveIndex.n(frequencies=f, temperatures=263.15, substance='ice')\n",
    "rayC = scattering(diameters=d, frequencies=f, refractive_indices=n, model='Ray')\n",
    "mieC = scattering(diameters=d, frequencies=f, refractive_indices=n, model='Mie')\n",
    "TmaC = scattering(diameters=d, frequencies=f, refractive_indices=n, model='TMM', theta_inc=t0, theta_sca=t1, phi_inc=p0, phi_sca=p1)\n",
    "\n",
    "print('Cext                    Csca                    Cabs                   Cbck            [m**2]')\n",
    "print(rayC)\n",
    "print(mieC)\n",
    "print(TmaC)\n",
    "from pytmatrix import tmatrix, scatter, radar\n",
    "scatt = tmatrix.Scatterer(radius=0.5*d, wavelength=299792458./f, m=n, axis_ratio=1.0/1.0, thet0=t0*rad2deg, thet=t1*rad2deg, phi0=p0*rad2deg, phi=p1*rad2deg)\n",
    "print([scatter.ext_xsect(scatt),scatter.sca_xsect(scatt),scatter.ext_xsect(scatt)-scatter.sca_xsect(scatt),radar.radar_xsect(scatt)])"
   ]
  },
  {
   "cell_type": "code",
   "execution_count": 7,
   "metadata": {},
   "outputs": [
    {
     "name": "stdout",
     "output_type": "stream",
     "text": [
      "Cext                    Csca                    Cabs                   Cbck            [m**2]\n",
      "(3.1485414853155008e-15, 2.7487221303700193e-19, 3.1482666131024637e-15, 4.1230831955550289e-19, array([[  1.811e-10 +1.470e-14j,   0.000e+00 +0.000e+00j],\n",
      "       [  0.000e+00 +0.000e+00j,   1.811e-10 +1.470e-14j]]))\n",
      "(3.1485646987497757e-15, 2.7487285968888451e-19, 3.1482898258900869e-15, 4.1230740899916799e-19, array([[  1.811e-10 +1.470e-14j,   0.000e+00 +0.000e+00j],\n",
      "       [  0.000e+00 +0.000e+00j,   1.811e-10 +1.470e-14j]]))\n",
      "(3.1485646291424952e-15, 2.7487285368539355e-19, 3.14828975628881e-15, 4.1230742079816574e-19, array([[  1.811e-10 +1.470e-14j,   0.000e+00 +0.000e+00j],\n",
      "       [  0.000e+00 +0.000e+00j,   1.811e-10 +1.470e-14j]]))\n"
     ]
    }
   ],
   "source": [
    "# One millimeter particle, S-band 2.8GHz, pure ice sphere \n",
    "f=2.8e9\n",
    "n = refractiveIndex.n(frequencies=f,temperatures=263.15,substance='ice')\n",
    "rayC = scattering(diameters=0.0001, frequencies=f, refractive_indices=n, model='Ray')\n",
    "mieC = scattering(diameters=0.0001, frequencies=f, refractive_indices=n, model='Mie')\n",
    "TmaC = scattering(diameters=0.0001, frequencies=f, refractive_indices=n, model='TMM')\n",
    "\n",
    "print('Cext                    Csca                    Cabs                   Cbck            [m**2]')\n",
    "print(rayC)\n",
    "print(mieC)\n",
    "print(TmaC)"
   ]
  },
  {
   "cell_type": "code",
   "execution_count": 8,
   "metadata": {},
   "outputs": [
    {
     "data": {
      "text/plain": [
       "array([[  7.079e-08,   2.647e-23,  -0.000e+00,   0.000e+00],\n",
       "       [  2.647e-23,   7.079e-08,   0.000e+00,   0.000e+00],\n",
       "       [ -0.000e+00,   0.000e+00,   7.079e-08,  -6.617e-24],\n",
       "       [  0.000e+00,   0.000e+00,   6.617e-24,   7.079e-08]])"
      ]
     },
     "execution_count": 8,
     "metadata": {},
     "output_type": "execute_result"
    }
   ],
   "source": [
    "scatt.get_S()\n",
    "scatt.get_Z()"
   ]
  },
  {
   "cell_type": "code",
   "execution_count": null,
   "metadata": {},
   "outputs": [],
   "source": []
  }
 ],
 "metadata": {
  "kernelspec": {
   "display_name": "Python 3",
   "language": "python",
   "name": "python3"
  },
  "language_info": {
   "codemirror_mode": {
    "name": "ipython",
    "version": 3
   },
   "file_extension": ".py",
   "mimetype": "text/x-python",
   "name": "python",
   "nbconvert_exporter": "python",
   "pygments_lexer": "ipython3",
   "version": "3.5.2"
  },
  "toc": {
   "base_numbering": 1,
   "nav_menu": {},
   "number_sections": true,
   "sideBar": true,
   "skip_h1_title": false,
   "title_cell": "Table of Contents",
   "title_sidebar": "Contents",
   "toc_cell": false,
   "toc_position": {},
   "toc_section_display": true,
   "toc_window_display": false
  }
 },
 "nbformat": 4,
 "nbformat_minor": 2
}
