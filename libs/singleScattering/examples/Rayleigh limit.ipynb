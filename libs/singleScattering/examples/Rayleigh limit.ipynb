{
 "cells": [
  {
   "cell_type": "code",
   "execution_count": 1,
   "metadata": {
    "collapsed": false,
    "deletable": true,
    "editable": true
   },
   "outputs": [],
   "source": [
    "%matplotlib inline  \n",
    "import matplotlib.pyplot as plt\n",
    "from pamtra2.libs.singleScattering import scattering\n",
    "from pamtra2.libs import refractiveIndex"
   ]
  },
  {
   "cell_type": "code",
   "execution_count": null,
   "metadata": {
    "collapsed": false
   },
   "outputs": [],
   "source": []
  },
  {
   "cell_type": "code",
   "execution_count": 2,
   "metadata": {
    "collapsed": false,
    "deletable": true,
    "editable": true
   },
   "outputs": [
    {
     "name": "stdout",
     "output_type": "stream",
     "text": [
      "[[ 0.00189574+0.0292542j  0.00000000+0.j       ]\n",
      " [ 0.00000000+0.j         0.00189574+0.0292542j]] [[ 0.0008594  0.        -0.         0.       ]\n",
      " [ 0.         0.0008594  0.         0.       ]\n",
      " [-0.         0.         0.0008594  0.       ]\n",
      " [ 0.         0.         0.         0.0008594]]\n",
      "(array([[ 0.00189574+0.0292542j,  0.00000000+0.j       ],\n",
      "       [ 0.00000000+0.j       ,  0.00189574+0.0292542j]]), array([[ 0.0008594,  0.       , -0.       ,  0.       ],\n",
      "       [ 0.       ,  0.0008594,  0.       ,  0.       ],\n",
      "       [-0.       ,  0.       ,  0.0008594,  0.       ],\n",
      "       [ 0.       ,  0.       ,  0.       ,  0.0008594]]))\n",
      "Cext                    Csca                    Cabs                   Cbck            [m**2]\n",
      "(1.0474568373485953, 1.0474543949973942, 2.4423512010854983e-06, 0.52372719749869712)\n",
      "(0.00018659973059313443, 0.00017873224504837384, 7.8674855447605929e-06, 0.00091984503158532916)\n",
      "(0.00018659972859522665, 0.010518107088632251, -0.010331507360037025, 0.010799561280276836)\n",
      "[0.00018659972859522665, 0.0001787322473233511, 7.8674812718755398e-06, 0.00091984499427965097]\n",
      "(array([[ -6.71186117e-03 +5.30564402e-03j,\n",
      "         -8.07505747e-27 -1.64994376e-24j],\n",
      "       [  8.07505747e-27 +1.64994376e-24j,\n",
      "          6.71186117e-03 -5.30564402e-03j]]), array([[  7.31989389e-05,  -7.08119544e-18,   1.73996311e-26,\n",
      "          1.43492963e-42],\n",
      "       [ -7.08119544e-18,   7.31989389e-05,  -2.22844571e-39,\n",
      "          2.22340736e-26],\n",
      "       [ -1.73996311e-26,   2.21122656e-39,  -7.31989389e-05,\n",
      "         -9.07341693e-18],\n",
      "       [  4.30478888e-42,   2.22340736e-26,   9.07341693e-18,\n",
      "         -7.31989389e-05]]))\n"
     ]
    }
   ],
   "source": [
    "# One centimeter particle, S-band 2.8GHz, pure ice sphere \n",
    "f=94e9\n",
    "d=0.01\n",
    "\n",
    "n = refractiveIndex.n(frequencies=f,temperatures=263.15,substance='ice')\n",
    "rayC = scattering(diameters=d, frequencies=f, refractive_indices=n,model='Ray')\n",
    "mieC = scattering(diameters=d, frequencies=f, refractive_indices=n,model='Mie')\n",
    "TmaC = scattering(diameters=d, frequencies=f, refractive_indices=n,model='TMM')\n",
    "\n",
    "print('Cext                    Csca                    Cabs                   Cbck            [m**2]')\n",
    "print(rayC)\n",
    "print(mieC)\n",
    "print(TmaC)\n",
    "\n",
    "from pytmatrix import tmatrix, scatter, radar\n",
    "scatt = tmatrix.Scatterer(radius=0.5*d, wavelength=299792458./f, m=n, axis_ratio=1.0/1.0)\n",
    "print([scatter.ext_xsect(scatt),scatter.sca_xsect(scatt),scatter.ext_xsect(scatt)-scatter.sca_xsect(scatt),radar.radar_xsect(scatt)])\n",
    "print(scatt.get_SZ())"
   ]
  },
  {
   "cell_type": "code",
   "execution_count": 8,
   "metadata": {
    "collapsed": false
   },
   "outputs": [
    {
     "name": "stdout",
     "output_type": "stream",
     "text": [
      "Cext                    Csca                    Cabs                   Cbck            [m**2]\n",
      "(3.1490912297415749e-15, 8.2461663911100578e-19, 3.1482666131024637e-15, 4.1230831955550289e-19)\n",
      "(3.1485646987497757e-15, 2.7487285968888451e-19, 3.1482898258900869e-15, 4.1230740899916799e-19)\n",
      "(3.1485646291424952e-15, 4.12309707707192e-19, 3.1481523194347879e-15, 4.1231118190032209e-19)\n"
     ]
    }
   ],
   "source": [
    "# One millimeter particle, S-band 2.8GHz, pure ice sphere \n",
    "f=2.8e9\n",
    "\n",
    "n = refractiveIndex.n(frequencies=f,temperatures=263.15,substance='ice')\n",
    "rayC = scattering(diameters=0.0001, frequencies=f, refractive_indices=n, model='Ray')\n",
    "mieC = scattering(diameters=0.0001, frequencies=f, refractive_indices=n, model='Mie')\n",
    "TmaC = scattering(diameters=0.0001, frequencies=f, refractive_indices=n, model='TMM')\n",
    "\n",
    "print('Cext                    Csca                    Cabs                   Cbck            [m**2]')\n",
    "print(rayC)\n",
    "print(mieC)\n",
    "print(TmaC)"
   ]
  },
  {
   "cell_type": "code",
   "execution_count": null,
   "metadata": {
    "collapsed": false,
    "deletable": true,
    "editable": true
   },
   "outputs": [],
   "source": [
    "import numpy as np\n",
    "fig, ((ax00,ax01),(ax10,ax11)) = plt.subplots(2,2,figsize=(10,6),sharex=True)\n",
    "\n",
    "sizes = np.linspace(0.0001,0.01,10) # from 0.1 mm to 1 cm\n",
    "scaRay = 0.0*sizes\n",
    "absRay = 0.0*sizes\n",
    "bckRay = 0.0*sizes\n",
    "extRay = 0.0*sizes\n",
    "scaMie = 0.0*sizes\n",
    "absMie = 0.0*sizes\n",
    "bckMie = 0.0*sizes\n",
    "extMie = 0.0*sizes\n",
    "scaTMM = 0.0*sizes\n",
    "absTMM = 0.0*sizes\n",
    "bckTMM = 0.0*sizes\n",
    "extTMM = 0.0*sizes\n",
    "\n",
    "frequencies = {'S':2.8e9,'C':5.6e9,'Ku':13.6e9,'Ka':35.6e9,'W':94e9}\n",
    "frequencies = {'S':2.8e9,'Ku':13.6e9,'W':94e9}\n",
    "for fk in frequencies.keys():\n",
    "    f = frequencies[fk]\n",
    "    n = refractiveIndex.n(frequencies=f,temperatures=263.15,substance='ice')\n",
    "    \n",
    "    for i,s in enumerate(sizes):\n",
    "        rayC = scattering(diameters=s, frequencies=f, refractive_indices=n,model='Ray')\n",
    "        mieC = scattering(diameters=s, frequencies=f, refractive_indices=n,model='Mie')\n",
    "        TmaC = scattering(diameters=s, frequencies=f, refractive_indices=n,model='TMM')\n",
    "        #print(s,i)\n",
    "        extMie[i] = mieC[0]\n",
    "        scaMie[i] = mieC[1]\n",
    "        absMie[i] = mieC[2]\n",
    "        bckMie[i] = mieC[3]\n",
    "        extRay[i] = rayC[0]\n",
    "        scaRay[i] = rayC[1]\n",
    "        absRay[i] = rayC[2]\n",
    "        bckRay[i] = rayC[3]\n",
    "        extTMM[i] = TmaC[0]\n",
    "        scaTMM[i] = TmaC[1]\n",
    "        absTMM[i] = TmaC[2]\n",
    "        bckTMM[i] = TmaC[3]\n",
    "    ax00.plot(sizes,extMie,ls=':',label=fk+' Mie')\n",
    "    ax01.plot(sizes,scaMie,ls=':',label=fk+' Mie')\n",
    "    ax10.plot(sizes,absMie,ls=':',label=fk+' Mie')\n",
    "    ax11.plot(sizes,bckMie,ls=':',label=fk+' Mie')\n",
    "    ax00.plot(sizes,extRay,label=fk+' Ray')\n",
    "    ax01.plot(sizes,scaRay,label=fk+' Ray')\n",
    "    ax10.plot(sizes,absRay,label=fk+' Ray')\n",
    "    ax11.plot(sizes,bckRay,label=fk+' Ray')\n",
    "    ax00.plot(sizes,extTMM,ls='--',label=fk+' TMM')\n",
    "    ax01.plot(sizes,scaTMM,ls='--',label=fk+' TMM')\n",
    "    ax10.plot(sizes,absTMM,ls='--',label=fk+' TMM')\n",
    "    ax11.plot(sizes,bckTMM,ls='--',label=fk+' TMM')\n",
    "\n",
    "ax00.set_yscale('log')\n",
    "ax01.set_yscale('log')\n",
    "ax10.set_yscale('log')\n",
    "ax11.set_yscale('log')\n",
    "ax00.set_xscale('log')\n",
    "ax01.set_xscale('log')\n",
    "ax10.set_xscale('log')\n",
    "ax11.set_xscale('log')\n",
    "ax11.legend()\n",
    "ax00.grid()\n",
    "ax01.grid()\n",
    "ax10.grid()\n",
    "ax11.grid()\n",
    "ax00.set_ylabel('C$_{ext}$    [m$^2$]')\n",
    "ax01.set_ylabel('C$_{sca}$    [m$^2$]')\n",
    "ax10.set_ylabel('C$_{abs}$    [m$^2$]')\n",
    "ax11.set_ylabel('C$_{bck}$    [m$^2$]')\n",
    "ax10.set_xlabel('size    [m]')\n",
    "ax11.set_xlabel('size    [m]')\n",
    "ax00.set_title('Extinction')\n",
    "ax01.set_title('Scattering')\n",
    "ax10.set_title('Absorption')\n",
    "ax11.set_title('Radar backscattering')\n",
    "fig.tight_layout()"
   ]
  },
  {
   "cell_type": "code",
   "execution_count": null,
   "metadata": {
    "collapsed": false,
    "deletable": true,
    "editable": true
   },
   "outputs": [],
   "source": [
    "mieC"
   ]
  },
  {
   "cell_type": "code",
   "execution_count": null,
   "metadata": {
    "collapsed": false,
    "deletable": true,
    "editable": true
   },
   "outputs": [],
   "source": [
    "mieC[0]"
   ]
  },
  {
   "cell_type": "code",
   "execution_count": null,
   "metadata": {
    "collapsed": true,
    "deletable": true,
    "editable": true
   },
   "outputs": [],
   "source": []
  },
  {
   "cell_type": "markdown",
   "metadata": {
    "deletable": true,
    "editable": true
   },
   "source": [
    "#### Old code to test inner functionalities"
   ]
  },
  {
   "cell_type": "code",
   "execution_count": null,
   "metadata": {
    "collapsed": true,
    "deletable": true,
    "editable": true
   },
   "outputs": [],
   "source": [
    "import numpy as np\n",
    "\n",
    "\n",
    "import sys\n",
    "sys.path.append('../') # singleScattering is not in my default path\n",
    "\n",
    "from singleScattering import scatterer\n",
    "from singleScattering import Rayleigh\n",
    "\n",
    "%matplotlib inline"
   ]
  },
  {
   "cell_type": "code",
   "execution_count": null,
   "metadata": {
    "collapsed": true,
    "deletable": true,
    "editable": true
   },
   "outputs": [],
   "source": [
    "try:\n",
    "    generic = scatterer.scatterer()\n",
    "except:\n",
    "    pass\n",
    "try:\n",
    "    ray = Rayleigh.Rayleigh()\n",
    "except:\n",
    "    pass\n",
    "try:\n",
    "    TM = scatterer.T_Matrix()\n",
    "except:\n",
    "    pass\n",
    "try:\n",
    "    Mie = scatterer.Mie()\n",
    "except:\n",
    "    pass\n",
    "#ray.back_spec"
   ]
  },
  {
   "cell_type": "code",
   "execution_count": null,
   "metadata": {
    "collapsed": true,
    "deletable": true,
    "editable": true
   },
   "outputs": [],
   "source": [
    "ray = Rayleigh.RayleighScatt(frequency=1.0e9,dielectric_permittivity=complex(6.0,1.0))\n",
    "# ray.set_scattering_geometry([0.5*np.pi, 0.0, 0.5*np.pi, 0.0])\n",
    "# ray.set_scattering_geometry([0.0, 0.0, np.pi, 0.0])\n",
    "# ray.set_scattering_geometry([np.pi, 0.0, np.pi, 0.0])"
   ]
  },
  {
   "cell_type": "code",
   "execution_count": null,
   "metadata": {
    "collapsed": true,
    "deletable": true,
    "editable": true
   },
   "outputs": [],
   "source": [
    "ray.set_scattering_geometry([0.5*np.pi, 0.0, 0.5*np.pi, np.pi, 0.5*np.pi, np.pi])\n",
    "\n"
   ]
  },
  {
   "cell_type": "code",
   "execution_count": null,
   "metadata": {
    "collapsed": false,
    "deletable": true,
    "editable": true
   },
   "outputs": [],
   "source": [
    "print(ray.wavelength,ray.Cbck)"
   ]
  },
  {
   "cell_type": "code",
   "execution_count": null,
   "metadata": {
    "collapsed": false,
    "deletable": true,
    "editable": true
   },
   "outputs": [],
   "source": [
    "8.0*ray.size_parameter**4*ray.K2*ray.geometric_cross_section/3.0"
   ]
  },
  {
   "cell_type": "code",
   "execution_count": null,
   "metadata": {
    "collapsed": false,
    "deletable": true,
    "editable": true
   },
   "outputs": [],
   "source": [
    "ray.Cabs"
   ]
  },
  {
   "cell_type": "code",
   "execution_count": null,
   "metadata": {
    "collapsed": false,
    "deletable": true,
    "editable": true
   },
   "outputs": [],
   "source": [
    "print(ray.theta_inc,ray.theta_sca,ray.phi_inc,ray.phi_sca)\n",
    "ray.scatt_angle\n"
   ]
  },
  {
   "cell_type": "code",
   "execution_count": null,
   "metadata": {
    "collapsed": true,
    "deletable": true,
    "editable": true
   },
   "outputs": [],
   "source": []
  }
 ],
 "metadata": {
  "kernelspec": {
   "display_name": "Python 3",
   "language": "python",
   "name": "python3"
  },
  "language_info": {
   "codemirror_mode": {
    "name": "ipython",
    "version": 3
   },
   "file_extension": ".py",
   "mimetype": "text/x-python",
   "name": "python",
   "nbconvert_exporter": "python",
   "pygments_lexer": "ipython3",
   "version": "3.5.2"
  },
  "toc": {
   "base_numbering": 1,
   "nav_menu": {},
   "number_sections": true,
   "sideBar": true,
   "skip_h1_title": false,
   "title_cell": "Table of Contents",
   "title_sidebar": "Contents",
   "toc_cell": false,
   "toc_position": {},
   "toc_section_display": true,
   "toc_window_display": false
  }
 },
 "nbformat": 4,
 "nbformat_minor": 2
}
