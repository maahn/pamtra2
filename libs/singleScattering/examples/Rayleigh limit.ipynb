{
 "cells": [
  {
   "cell_type": "code",
   "execution_count": 61,
   "metadata": {},
   "outputs": [
    {
     "name": "stdout",
     "output_type": "stream",
     "text": [
      "4.39822971502571 0.0\n",
      "0.0 1.5707963267948966 3.455751918948773 4.39822971502571\n"
     ]
    }
   ],
   "source": [
    "%matplotlib inline  \n",
    "import matplotlib.pyplot as plt\n",
    "from pamtra2.libs.singleScattering import scattering\n",
    "from pamtra2.libs import refractiveIndex\n",
    "import numpy as np\n",
    "np.set_printoptions(precision=3,linewidth=100)\n",
    "\n",
    "rad2deg = 180.0/np.pi\n",
    "\n",
    "# One centimeter particle, S-band 2.8GHz, pure ice sphere \n",
    "f = 3.6e9\n",
    "d = 0.001\n",
    "\n",
    "t0 = np.pi*0.0 # theta must be within 0 pi\n",
    "t1 = np.pi*0.5\n",
    "#t1 = np.pi-t0\n",
    "p0 = 1.1*np.pi\n",
    "p1 = 1.4*np.pi\n",
    "#p1 = np.pi+p0\n",
    "print(p1, p1 // (2.*np.pi))\n",
    "p1 = p1 - 2.*np.pi*(p1//(2.*np.pi))\n",
    "print(t0, t1, p0, p1)"
   ]
  },
  {
   "cell_type": "code",
   "execution_count": 62,
   "metadata": {},
   "outputs": [
    {
     "name": "stdout",
     "output_type": "stream",
     "text": [
      "Cext           Csca         Cabs        Cbck[m**2]\n",
      "[  5.312e-12   7.511e-13   4.561e-12   1.127e-12]\n",
      "[  5.318e-12   7.514e-13   4.567e-12   1.126e-12]\n",
      "[  5.318e-12   7.514e-13   4.567e-12   1.126e-12]\n",
      "[  5.318e-12   7.514e-13   4.567e-12   3.894e-13]\n"
     ]
    }
   ],
   "source": [
    "n = refractiveIndex.n(frequencies=f, temperatures=263.15, substance='ice')\n",
    "rayC = scattering(diameters=d, frequencies=f, refractive_indices=n, model='Ray', theta_inc=t0, theta_sca=t1, phi_inc=p0, phi_sca=p1)\n",
    "mieC = scattering(diameters=d, frequencies=f, refractive_indices=n, model='Mie', theta_inc=t0, theta_sca=t1, phi_inc=p0, phi_sca=p1)\n",
    "TmaC = scattering(diameters=d, frequencies=f, refractive_indices=n, model='TMM', theta_inc=t0, theta_sca=t1, phi_inc=p0, phi_sca=p1)\n",
    "\n",
    "print(    'Cext           Csca         Cabs        Cbck[m**2]')\n",
    "print(np.array(rayC[0:-1]))\n",
    "print(np.array(mieC[0:-1]))\n",
    "print(np.array(TmaC[0:-1]))\n",
    "from pytmatrix import tmatrix, scatter, radar\n",
    "scatt = tmatrix.Scatterer(radius=0.5*d, wavelength=299792458./f, m=n, axis_ratio=1.0/1.0, thet0=t0*rad2deg, thet=t1*rad2deg, phi0=p0*rad2deg, phi=p1*rad2deg)\n",
    "print(np.array([scatter.ext_xsect(scatt),scatter.sca_xsect(scatt),scatter.ext_xsect(scatt)-scatter.sca_xsect(scatt),radar.radar_xsect(scatt)]))"
   ]
  },
  {
   "cell_type": "code",
   "execution_count": 64,
   "metadata": {},
   "outputs": [
    {
     "ename": "AttributeError",
     "evalue": "'tuple' object has no attribute 'scatt_angle'",
     "output_type": "error",
     "traceback": [
      "\u001b[0;31m---------------------------------------------------------------------------\u001b[0m",
      "\u001b[0;31mAttributeError\u001b[0m                            Traceback (most recent call last)",
      "\u001b[0;32m<ipython-input-64-11d841324ab5>\u001b[0m in \u001b[0;36m<module>\u001b[0;34m()\u001b[0m\n\u001b[0;32m----> 1\u001b[0;31m \u001b[0mprint\u001b[0m\u001b[0;34m(\u001b[0m\u001b[0mrayC\u001b[0m\u001b[0;34m.\u001b[0m\u001b[0mscatt_angle\u001b[0m\u001b[0;34m)\u001b[0m\u001b[0;34m\u001b[0m\u001b[0m\n\u001b[0m\u001b[1;32m      2\u001b[0m \u001b[0mprint\u001b[0m\u001b[0;34m(\u001b[0m\u001b[0mrayC\u001b[0m\u001b[0;34m[\u001b[0m\u001b[0;34m-\u001b[0m\u001b[0;36m1\u001b[0m\u001b[0;34m]\u001b[0m\u001b[0;34m.\u001b[0m\u001b[0mflatten\u001b[0m\u001b[0;34m(\u001b[0m\u001b[0;34m)\u001b[0m\u001b[0;34m)\u001b[0m\u001b[0;34m\u001b[0m\u001b[0m\n\u001b[1;32m      3\u001b[0m \u001b[0mprint\u001b[0m\u001b[0;34m(\u001b[0m\u001b[0mmieC\u001b[0m\u001b[0;34m[\u001b[0m\u001b[0;34m-\u001b[0m\u001b[0;36m1\u001b[0m\u001b[0;34m]\u001b[0m\u001b[0;34m.\u001b[0m\u001b[0mflatten\u001b[0m\u001b[0;34m(\u001b[0m\u001b[0;34m)\u001b[0m\u001b[0;34m)\u001b[0m\u001b[0;34m\u001b[0m\u001b[0m\n\u001b[1;32m      4\u001b[0m \u001b[0mprint\u001b[0m\u001b[0;34m(\u001b[0m\u001b[0mTmaC\u001b[0m\u001b[0;34m[\u001b[0m\u001b[0;34m-\u001b[0m\u001b[0;36m1\u001b[0m\u001b[0;34m]\u001b[0m\u001b[0;34m.\u001b[0m\u001b[0mflatten\u001b[0m\u001b[0;34m(\u001b[0m\u001b[0;34m)\u001b[0m\u001b[0;34m)\u001b[0m\u001b[0;34m\u001b[0m\u001b[0m\n\u001b[1;32m      5\u001b[0m \u001b[0mprint\u001b[0m\u001b[0;34m(\u001b[0m\u001b[0mscatt\u001b[0m\u001b[0;34m.\u001b[0m\u001b[0mget_S\u001b[0m\u001b[0;34m(\u001b[0m\u001b[0;34m)\u001b[0m\u001b[0;34m.\u001b[0m\u001b[0mflatten\u001b[0m\u001b[0;34m(\u001b[0m\u001b[0;34m)\u001b[0m\u001b[0;34m)\u001b[0m\u001b[0;34m\u001b[0m\u001b[0m\n",
      "\u001b[0;31mAttributeError\u001b[0m: 'tuple' object has no attribute 'scatt_angle'"
     ]
    }
   ],
   "source": [
    "print(rayC[-1].flatten())\n",
    "print(mieC[-1].flatten())\n",
    "print(TmaC[-1].flatten())\n",
    "print(scatt.get_S().flatten())"
   ]
  },
  {
   "cell_type": "code",
   "execution_count": 10,
   "metadata": {},
   "outputs": [
    {
     "name": "stdout",
     "output_type": "stream",
     "text": [
      "Cext                    Csca                    Cabs                   Cbck            [m**2]\n",
      "(3.1485414853155008e-15, 2.7487221303700193e-19, 3.1482666131024637e-15, 4.1230831955550289e-19)\n",
      "(3.1485646987497757e-15, 2.7487285968888451e-19, 3.1482898258900869e-15, 4.1230740899916799e-19)\n",
      "(3.1485646291424952e-15, 2.7487285368539355e-19, 3.14828975628881e-15, 4.1230742079816574e-19)\n"
     ]
    }
   ],
   "source": [
    "# One millimeter particle, S-band 2.8GHz, pure ice sphere \n",
    "f=2.8e9\n",
    "\n",
    "n = refractiveIndex.n(frequencies=f,temperatures=263.15,substance='ice')\n",
    "rayC = scattering(diameters=0.0001, frequencies=f, refractive_indices=n, model='Ray')\n",
    "mieC = scattering(diameters=0.0001, frequencies=f, refractive_indices=n, model='Mie')\n",
    "TmaC = scattering(diameters=0.0001, frequencies=f, refractive_indices=n, model='TMM')\n",
    "\n",
    "print('Cext                    Csca                    Cabs                   Cbck            [m**2]')\n",
    "print(rayC[0:-1])\n",
    "print(mieC[0:-1])\n",
    "print(TmaC[0:-1])"
   ]
  },
  {
   "cell_type": "code",
   "execution_count": 8,
   "metadata": {},
   "outputs": [
    {
     "data": {
      "text/plain": [
       "array([[  2.99375135e-07 +3.18999523e-11j,\n",
       "          5.98750267e-14 +6.37999044e-18j],\n",
       "       [  5.98750267e-14 +6.37999045e-18j,\n",
       "         -2.99375135e-07 -3.18999523e-11j]])"
      ]
     },
     "execution_count": 8,
     "metadata": {},
     "output_type": "execute_result"
    }
   ],
   "source": [
    "scatt.get_S()\n",
    "#scatt.get_Z()"
   ]
  },
  {
   "cell_type": "code",
   "execution_count": null,
   "metadata": {},
   "outputs": [],
   "source": [
    "import numpy as np\n",
    "fig, ((ax00,ax01),(ax10,ax11)) = plt.subplots(2,2,figsize=(10,6),sharex=True)\n",
    "\n",
    "sizes = np.linspace(0.0001,0.01,10) # from 0.1 mm to 1 cm\n",
    "scaRay = 0.0*sizes\n",
    "absRay = 0.0*sizes\n",
    "bckRay = 0.0*sizes\n",
    "extRay = 0.0*sizes\n",
    "scaMie = 0.0*sizes\n",
    "absMie = 0.0*sizes\n",
    "bckMie = 0.0*sizes\n",
    "extMie = 0.0*sizes\n",
    "scaTMM = 0.0*sizes\n",
    "absTMM = 0.0*sizes\n",
    "bckTMM = 0.0*sizes\n",
    "extTMM = 0.0*sizes\n",
    "\n",
    "frequencies = {'S':2.8e9,'C':5.6e9,'Ku':13.6e9,'Ka':35.6e9,'W':94e9}\n",
    "frequencies = {'S':2.8e9,'Ku':13.6e9,'W':94e9}\n",
    "for fk in frequencies.keys():\n",
    "    f = frequencies[fk]\n",
    "    n = refractiveIndex.n(frequencies=f,temperatures=263.15,substance='ice')\n",
    "    \n",
    "    for i,s in enumerate(sizes):\n",
    "        rayC = scattering(diameters=s, frequencies=f, refractive_indices=n,model='Ray')\n",
    "        mieC = scattering(diameters=s, frequencies=f, refractive_indices=n,model='Mie')\n",
    "        TmaC = scattering(diameters=s, frequencies=f, refractive_indices=n,model='TMM', theta_inc=t0, theta_sca=t1, phi_inc=p0, phi_sca=p1)\n",
    "        #print(s,i)\n",
    "        extMie[i] = mieC[0]\n",
    "        scaMie[i] = mieC[1]\n",
    "        absMie[i] = mieC[2]\n",
    "        bckMie[i] = mieC[3]\n",
    "        extRay[i] = rayC[0]\n",
    "        scaRay[i] = rayC[1]\n",
    "        absRay[i] = rayC[2]\n",
    "        bckRay[i] = rayC[3]\n",
    "        extTMM[i] = TmaC[0]\n",
    "        scaTMM[i] = TmaC[1]\n",
    "        absTMM[i] = TmaC[2]\n",
    "        bckTMM[i] = TmaC[3]\n",
    "    ax00.plot(sizes,extMie,ls='-.',label=fk+' Mie')\n",
    "    ax01.plot(sizes,scaMie,ls='-.',label=fk+' Mie')\n",
    "    ax10.plot(sizes,absMie,ls='-.',label=fk+' Mie')\n",
    "    ax11.plot(sizes,bckMie,ls='-.',label=fk+' Mie')\n",
    "    ax00.plot(sizes,extRay,label=fk+' Ray')\n",
    "    ax01.plot(sizes,scaRay,label=fk+' Ray')\n",
    "    ax10.plot(sizes,absRay,label=fk+' Ray')\n",
    "    ax11.plot(sizes,bckRay,label=fk+' Ray')\n",
    "    ax00.plot(sizes,extTMM,ls='--',label=fk+' TMM')\n",
    "    ax01.plot(sizes,scaTMM,ls='--',label=fk+' TMM')\n",
    "    ax10.plot(sizes,absTMM,ls='--',label=fk+' TMM')\n",
    "    ax11.plot(sizes,bckTMM,ls='--',label=fk+' TMM')\n",
    "\n",
    "ax00.set_yscale('log')\n",
    "ax01.set_yscale('log')\n",
    "ax10.set_yscale('log')\n",
    "ax11.set_yscale('log')\n",
    "ax00.set_xscale('log')\n",
    "ax01.set_xscale('log')\n",
    "ax10.set_xscale('log')\n",
    "ax11.set_xscale('log')\n",
    "ax11.legend()\n",
    "ax00.grid()\n",
    "ax01.grid()\n",
    "ax10.grid()\n",
    "ax11.grid()\n",
    "ax00.set_ylabel('C$_{ext}$    [m$^2$]')\n",
    "ax01.set_ylabel('C$_{sca}$    [m$^2$]')\n",
    "ax10.set_ylabel('C$_{abs}$    [m$^2$]')\n",
    "ax11.set_ylabel('C$_{bck}$    [m$^2$]')\n",
    "ax10.set_xlabel('size    [m]')\n",
    "ax11.set_xlabel('size    [m]')\n",
    "ax00.set_title('Extinction')\n",
    "ax01.set_title('Scattering')\n",
    "ax10.set_title('Absorption')\n",
    "ax11.set_title('Radar backscattering')\n",
    "fig.tight_layout()"
   ]
  },
  {
   "cell_type": "code",
   "execution_count": null,
   "metadata": {},
   "outputs": [],
   "source": [
    "mieC"
   ]
  },
  {
   "cell_type": "code",
   "execution_count": null,
   "metadata": {},
   "outputs": [],
   "source": [
    "mieC[0]"
   ]
  },
  {
   "cell_type": "code",
   "execution_count": null,
   "metadata": {
    "collapsed": true
   },
   "outputs": [],
   "source": []
  },
  {
   "cell_type": "markdown",
   "metadata": {},
   "source": [
    "#### Old code to test inner functionalities"
   ]
  },
  {
   "cell_type": "code",
   "execution_count": null,
   "metadata": {
    "collapsed": true
   },
   "outputs": [],
   "source": [
    "import numpy as np\n",
    "\n",
    "\n",
    "import sys\n",
    "sys.path.append('../') # singleScattering is not in my default path\n",
    "\n",
    "from singleScattering import scatterer\n",
    "from singleScattering import Rayleigh\n",
    "\n",
    "%matplotlib inline"
   ]
  },
  {
   "cell_type": "code",
   "execution_count": null,
   "metadata": {
    "collapsed": true
   },
   "outputs": [],
   "source": [
    "try:\n",
    "    generic = scatterer.scatterer()\n",
    "except:\n",
    "    pass\n",
    "try:\n",
    "    ray = Rayleigh.Rayleigh()\n",
    "except:\n",
    "    pass\n",
    "try:\n",
    "    TM = scatterer.T_Matrix()\n",
    "except:\n",
    "    pass\n",
    "try:\n",
    "    Mie = scatterer.Mie()\n",
    "except:\n",
    "    pass\n",
    "#ray.back_spec"
   ]
  },
  {
   "cell_type": "code",
   "execution_count": null,
   "metadata": {
    "collapsed": true
   },
   "outputs": [],
   "source": [
    "ray = Rayleigh.RayleighScatt(frequency=1.0e9,dielectric_permittivity=complex(6.0,1.0))\n",
    "# ray.set_scattering_geometry([0.5*np.pi, 0.0, 0.5*np.pi, 0.0])\n",
    "# ray.set_scattering_geometry([0.0, 0.0, np.pi, 0.0])\n",
    "# ray.set_scattering_geometry([np.pi, 0.0, np.pi, 0.0])"
   ]
  },
  {
   "cell_type": "code",
   "execution_count": null,
   "metadata": {
    "collapsed": true
   },
   "outputs": [],
   "source": [
    "ray.set_scattering_geometry([0.5*np.pi, 0.0, 0.5*np.pi, np.pi, 0.5*np.pi, np.pi])\n",
    "\n"
   ]
  },
  {
   "cell_type": "code",
   "execution_count": null,
   "metadata": {},
   "outputs": [],
   "source": [
    "print(ray.wavelength,ray.Cbck)"
   ]
  },
  {
   "cell_type": "code",
   "execution_count": null,
   "metadata": {},
   "outputs": [],
   "source": [
    "8.0*ray.size_parameter**4*ray.K2*ray.geometric_cross_section/3.0"
   ]
  },
  {
   "cell_type": "code",
   "execution_count": null,
   "metadata": {},
   "outputs": [],
   "source": [
    "ray.Cabs"
   ]
  },
  {
   "cell_type": "code",
   "execution_count": null,
   "metadata": {},
   "outputs": [],
   "source": [
    "print(ray.theta_inc,ray.theta_sca,ray.phi_inc,ray.phi_sca)\n",
    "ray.scatt_angle\n"
   ]
  },
  {
   "cell_type": "code",
   "execution_count": null,
   "metadata": {
    "collapsed": true
   },
   "outputs": [],
   "source": []
  }
 ],
 "metadata": {
  "kernelspec": {
   "display_name": "Python 3",
   "language": "python",
   "name": "python3"
  },
  "language_info": {
   "codemirror_mode": {
    "name": "ipython",
    "version": 3
   },
   "file_extension": ".py",
   "mimetype": "text/x-python",
   "name": "python",
   "nbconvert_exporter": "python",
   "pygments_lexer": "ipython3",
   "version": "3.5.2"
  },
  "toc": {
   "base_numbering": 1,
   "nav_menu": {},
   "number_sections": true,
   "sideBar": true,
   "skip_h1_title": false,
   "title_cell": "Table of Contents",
   "title_sidebar": "Contents",
   "toc_cell": false,
   "toc_position": {},
   "toc_section_display": true,
   "toc_window_display": false
  }
 },
 "nbformat": 4,
 "nbformat_minor": 2
}
