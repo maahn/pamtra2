{
 "cells": [
  {
   "cell_type": "code",
   "execution_count": 1,
   "metadata": {},
   "outputs": [],
   "source": [
    "import pamtra2\n",
    "import numpy as np\n",
    "import pandas as pn\n",
    "import xarray as xr\n",
    "from collections import OrderedDict\n",
    "from copy import deepcopy, copy\n",
    "import toolz"
   ]
  },
  {
   "cell_type": "code",
   "execution_count": 2,
   "metadata": {},
   "outputs": [],
   "source": [
    "additionalDims = OrderedDict()\n",
    "additionalDims['time'] = pn.date_range('2016-01-01','2016-01-05',freq='D')[:1]\n",
    "additionalDims['lat'] = np.arange(70,80)\n",
    "nHeights = 100\n",
    "\n",
    "pam2 = pamtra2.pamtra2(nHeights,additionalDims = additionalDims)\n",
    "\n"
   ]
  },
  {
   "cell_type": "code",
   "execution_count": 3,
   "metadata": {},
   "outputs": [],
   "source": [
    "\n",
    "pam2.profile.height[:] = np.linspace(0,1000,nHeights)\n",
    "pam2.profile.temperature[:] = 250 \n",
    "pam2.profile.relativeHumidity[:] = 90\n",
    "pam2.profile.pressure[:] = 10000\n",
    "\n"
   ]
  },
  {
   "cell_type": "code",
   "execution_count": 4,
   "metadata": {},
   "outputs": [
    {
     "data": {
      "text/plain": [
       "<xarray.DataArray 'hydrometeorWaterContent' (time: 1, lat: 10, layer: 100, hydrometeor: 0)>\n",
       "array([], shape=(1, 10, 100, 0), dtype=float64)\n",
       "Coordinates:\n",
       "  * time         (time) datetime64[ns] 2016-01-01\n",
       "  * lat          (lat) int64 70 71 72 73 74 75 76 77 78 79\n",
       "  * layer        (layer) int64 0 1 2 3 4 5 6 7 8 9 10 11 12 13 14 15 16 17 ...\n",
       "  * hydrometeor  (hydrometeor) |S128 \n",
       "Attributes:\n",
       "    unit:     kg/m^3"
      ]
     },
     "execution_count": 4,
     "metadata": {},
     "output_type": "execute_result"
    }
   ],
   "source": [
    "pam2.profile.hydrometeorWaterContent\n",
    "#Array exists, but length of hydrometeor coordinate ==0\n"
   ]
  },
  {
   "cell_type": "code",
   "execution_count": 5,
   "metadata": {},
   "outputs": [],
   "source": [
    "# # OR EASIER if desired: \n",
    "# pam2 = pamtra2.importers.profiles.usStandardAtmosphere(heigths)"
   ]
  },
  {
   "cell_type": "code",
   "execution_count": 6,
   "metadata": {},
   "outputs": [
    {
     "name": "stderr",
     "output_type": "stream",
     "text": [
      "/Volumes/User/mmaahn/anaconda/envs/python3/lib/python3.6/site-packages/pamtra2/core.py:94: FutureWarning: xarray.DataArray.__contains__ currently checks membership in DataArray.coords, but in xarray v0.11 will change to check membership in array values.\n",
      "  if name in self.profile.hydrometeor:\n"
     ]
    },
    {
     "data": {
      "text/plain": [
       "<pamtra2.hydrometeors.core.properties at 0x11e034438>"
      ]
     },
     "execution_count": 6,
     "metadata": {},
     "output_type": "execute_result"
    }
   ],
   "source": [
    "\n",
    "pam2.addHydrometeor(\n",
    "    name = 'rain', #or None, then str(index)\n",
    "    kind = 'liquid', #liquid, ice\n",
    "    nBins =40,\n",
    "    sizeCenter = (\n",
    "        pamtra2.hydrometeors.maximumDimension.linspace, \n",
    "        {\n",
    "            'Dmin' : 1e-6,\n",
    "            'Dmax' : 1e-2,\n",
    "        }\n",
    "    ),\n",
    "    sizeDistribution = (\n",
    "        pamtra2.hydrometeors.sizeDistribution.exponentialN0WC, \n",
    "        {\n",
    "            'N0':   8e6,\n",
    "            'WC' : pam2.profile.hydrometeorWaterContent, \n",
    "        },\n",
    "    ),\n",
    "    aspectRatio = 1.0,\n",
    "    mass = (\n",
    "        pamtra2.hydrometeors.mass.ellipsoid,\n",
    "    ),\n",
    "    density = (\n",
    "        pamtra2.hydrometeors.density.water,\n",
    "    ),\n",
    "    crossSectionArea = (\n",
    "        pamtra2.hydrometeors.crossSectionArea.sphere,\n",
    "    ),\n",
    ")\n",
    "\n"
   ]
  },
  {
   "cell_type": "code",
   "execution_count": 7,
   "metadata": {
    "scrolled": false
   },
   "outputs": [
    {
     "name": "stderr",
     "output_type": "stream",
     "text": [
      "/Volumes/User/mmaahn/anaconda/envs/python3/lib/python3.6/site-packages/pamtra2/core.py:94: FutureWarning: xarray.DataArray.__contains__ currently checks membership in DataArray.coords, but in xarray v0.11 will change to check membership in array values.\n",
      "  if name in self.profile.hydrometeor:\n"
     ]
    },
    {
     "data": {
      "text/plain": [
       "<pamtra2.hydrometeors.core.properties at 0x11e0341d0>"
      ]
     },
     "execution_count": 7,
     "metadata": {},
     "output_type": "execute_result"
    }
   ],
   "source": [
    "pam2.addHydrometeor(\n",
    "    name='snow',\n",
    "    nBins = 20,\n",
    "    sizeCenter=(\n",
    "        pamtra2.hydrometeors.maximumDimension.logspace, #function/object to call for getting sizes\n",
    "        {\n",
    "            'Dmin' : 1e-6,\n",
    "            'Dmax' : 1e-2,\n",
    "        }\n",
    "    ),\n",
    "    sizeDistribution = (\n",
    "        pamtra2.hydrometeors.sizeDistribution.exponentialFieldWC, #function/object to call for getting psd\n",
    "        {\n",
    "            'temperature' : pam2.profile.temperature,\n",
    "            'WC' : pam2.profile.hydrometeorWaterContent, #test whether hydrodim is included! for all input vars!\n",
    "            'massSizeA' : 0.0121, #mass size relation required to estimate exponential doistribution from N0\n",
    "            'massSizeB' : 1.9,\n",
    "        },\n",
    "    ),\n",
    "    aspectRatio = (\n",
    "        0.6,\n",
    "    ),\n",
    "    crossSectionArea = (\n",
    "        pamtra2.hydrometeors.crossSectionArea.powerLaw, #function/object to call for getting crossSectionArea\n",
    "        {\n",
    "            'areaSizeA' : 0.01,\n",
    "            'areaSizeB' : 1.8,\n",
    "        },\n",
    "    ),\n",
    "    mass = (\n",
    "        pamtra2.hydrometeors.mass.powerLaw, #function/object to call for getting mass\n",
    "        {\n",
    "            'massSizeA' : 0.0121,\n",
    "            'massSizeB' : 1.9,\n",
    "        },\n",
    "    ),\n",
    "    density = (\n",
    "        pamtra2.hydrometeors.density.softEllipsoid, #function/object to call for getting density\n",
    "        {\n",
    "            'minDensity' : 100,\n",
    "        },\n",
    "    ),\n",
    ")\n",
    "\n"
   ]
  },
  {
   "cell_type": "code",
   "execution_count": 8,
   "metadata": {},
   "outputs": [],
   "source": [
    "pam2.profile.hydrometeorWaterContent.values[:] = 0\n",
    "pam2.profile.hydrometeorWaterContent.values[:,:,20:40] = 1e-4\n",
    "\n"
   ]
  },
  {
   "cell_type": "code",
   "execution_count": 9,
   "metadata": {
    "scrolled": false
   },
   "outputs": [
    {
     "name": "stdout",
     "output_type": "stream",
     "text": [
      "callable\n",
      "callable\n",
      "not callable 1.0\n",
      "callable\n",
      "NOT softsphere!\n",
      "not callable (1000.0,)\n",
      "callable\n"
     ]
    },
    {
     "name": "stderr",
     "output_type": "stream",
     "text": [
      "/Volumes/User/mmaahn/anaconda/envs/python3/lib/python3.6/site-packages/pamtra2/hydrometeors/sizeDistribution.py:145: RuntimeWarning: divide by zero encountered in true_divide\n",
      "  lambd = (massSizeA * N0 * scipy.special.gamma(massSizeB+1.) / WC)**(1. /(massSizeB+1.))\n"
     ]
    },
    {
     "data": {
      "text/plain": [
       "<xarray.Dataset>\n",
       "Dimensions:                   (frequency: 0, lat: 10, layer: 100, sizeBin: 40, time: 1)\n",
       "Coordinates:\n",
       "  * time                      (time) datetime64[ns] 2016-01-01\n",
       "  * lat                       (lat) int64 70 71 72 73 74 75 76 77 78 79\n",
       "  * layer                     (layer) int64 0 1 2 3 4 5 6 7 8 9 10 11 12 13 ...\n",
       "  * sizeBin                   (sizeBin) int64 0 1 2 3 4 5 6 7 8 9 10 11 12 ...\n",
       "  * frequency                 (frequency) float64 \n",
       "Data variables:\n",
       "    sizeCenter                (time, lat, layer, sizeBin) float64 1e-06 ...\n",
       "    particleSizeDistribution  (time, lat, layer, sizeBin) float64 0.0 0.0 ...\n",
       "    aspectRatio               (time, lat, layer, sizeBin) float64 1.0 1.0 ...\n",
       "    crossSectionArea          (time, lat, layer, sizeBin) float64 7.854e-25 ...\n",
       "    mass                      (time, lat, layer, sizeBin) float64 5.236e-16 ...\n",
       "    density                   (time, lat, layer, sizeBin) float64 1e+03 ..."
      ]
     },
     "execution_count": 9,
     "metadata": {},
     "output_type": "execute_result"
    }
   ],
   "source": [
    "pam2.hydrometeors['rain'].calculateProperties()"
   ]
  },
  {
   "cell_type": "code",
   "execution_count": 10,
   "metadata": {},
   "outputs": [
    {
     "name": "stdout",
     "output_type": "stream",
     "text": [
      "> \u001b[0;32m/Volumes/User/mmaahn/anaconda/envs/python3/lib/python3.6/site-packages/pamtra2/hydrometeors/core.py\u001b[0m(169)\u001b[0;36m_arrayOrFunc\u001b[0;34m()\u001b[0m\n",
      "\u001b[0;32m    167 \u001b[0;31m            \u001b[0;31m#inspect function to get the required arguments\u001b[0m\u001b[0;34m\u001b[0m\u001b[0;34m\u001b[0m\u001b[0m\n",
      "\u001b[0m\u001b[0;32m    168 \u001b[0;31m            \u001b[0mfuncArgs\u001b[0m\u001b[0;34m,\u001b[0m \u001b[0mfuncVarargs\u001b[0m\u001b[0;34m,\u001b[0m \u001b[0mfuncKeywords\u001b[0m\u001b[0;34m,\u001b[0m \u001b[0mfuncDefaults\u001b[0m \u001b[0;34m=\u001b[0m \u001b[0minspect\u001b[0m\u001b[0;34m.\u001b[0m\u001b[0mgetargspec\u001b[0m\u001b[0;34m(\u001b[0m\u001b[0mfunc\u001b[0m\u001b[0;34m)\u001b[0m\u001b[0;34m\u001b[0m\u001b[0m\n",
      "\u001b[0m\u001b[0;32m--> 169 \u001b[0;31m            \u001b[0mfuncDefaults\u001b[0m \u001b[0;34m=\u001b[0m \u001b[0mdict\u001b[0m\u001b[0;34m(\u001b[0m\u001b[0mzip\u001b[0m\u001b[0;34m(\u001b[0m\u001b[0mfuncArgs\u001b[0m\u001b[0;34m[\u001b[0m\u001b[0;34m-\u001b[0m\u001b[0mlen\u001b[0m\u001b[0;34m(\u001b[0m\u001b[0mfuncDefaults\u001b[0m\u001b[0;34m)\u001b[0m\u001b[0;34m:\u001b[0m\u001b[0;34m]\u001b[0m\u001b[0;34m,\u001b[0m\u001b[0mfuncDefaults\u001b[0m\u001b[0;34m)\u001b[0m\u001b[0;34m)\u001b[0m\u001b[0;34m\u001b[0m\u001b[0m\n",
      "\u001b[0m\u001b[0;32m    170 \u001b[0;31m\u001b[0;34m\u001b[0m\u001b[0m\n",
      "\u001b[0m\u001b[0;32m    171 \u001b[0;31m            \u001b[0;31m#where do we find the required data?\u001b[0m\u001b[0;34m\u001b[0m\u001b[0;34m\u001b[0m\u001b[0m\n",
      "\u001b[0m\n",
      "ipdb> funcArgs[-len(funcDefaults):]\n",
      "*** TypeError: object of type 'NoneType' has no len()\n",
      "ipdb> funcArgs\n",
      "['sizeCenter']\n",
      "ipdb> len(funcDefaults)\n",
      "*** TypeError: object of type 'NoneType' has no len()\n",
      "ipdb> funcDefaults\n",
      "ipdb> funcDefaults is None\n",
      "True\n",
      "ipdb> q\n"
     ]
    }
   ],
   "source": [
    "%debug"
   ]
  },
  {
   "cell_type": "code",
   "execution_count": 12,
   "metadata": {},
   "outputs": [
    {
     "name": "stdout",
     "output_type": "stream",
     "text": [
      "callable\n",
      "callable\n",
      "not callable (0.6,)\n",
      "callable\n",
      "softsphere!\n",
      "callable\n",
      "callable\n"
     ]
    },
    {
     "name": "stderr",
     "output_type": "stream",
     "text": [
      "/Volumes/User/mmaahn/anaconda/envs/python3/lib/python3.6/site-packages/pamtra2/hydrometeors/sizeDistribution.py:145: RuntimeWarning: divide by zero encountered in true_divide\n",
      "  lambd = (massSizeA * N0 * scipy.special.gamma(massSizeB+1.) / WC)**(1. /(massSizeB+1.))\n"
     ]
    },
    {
     "data": {
      "text/plain": [
       "<xarray.Dataset>\n",
       "Dimensions:                   (lat: 10, layer: 100, sizeBin: 20, time: 1)\n",
       "Coordinates:\n",
       "  * time                      (time) datetime64[ns] 2016-01-01\n",
       "  * lat                       (lat) int64 70 71 72 73 74 75 76 77 78 79\n",
       "  * layer                     (layer) int64 0 1 2 3 4 5 6 7 8 9 10 11 12 13 ...\n",
       "  * sizeBin                   (sizeBin) int64 0 1 2 3 4 5 6 7 8 9 10 11 12 ...\n",
       "Data variables:\n",
       "    maximumDimension          (time, lat, layer, sizeBin) float64 1e-06 ...\n",
       "    particleSizeDistribution  (time, lat, layer, sizeBin) float64 0.0 0.0 ...\n",
       "    aspectRatio               (time, lat, layer, sizeBin) float64 0.6 0.6 ...\n",
       "    crossSectionArea          (time, lat, layer, sizeBin) float64 1.585e-13 ...\n",
       "    mass                      (time, lat, layer, sizeBin) float64 4.817e-14 ...\n",
       "    density                   (time, lat, layer, sizeBin) float64 917.0 ..."
      ]
     },
     "execution_count": 12,
     "metadata": {},
     "output_type": "execute_result"
    }
   ],
   "source": [
    "pam2.hydrometeors['snow'].calculateProperties()"
   ]
  },
  {
   "cell_type": "code",
   "execution_count": null,
   "metadata": {},
   "outputs": [],
   "source": [
    "pam2.hydrometeors['ice'].addScatteringProperties(\n",
    "    refractiveIndex = (\n",
    "        pamtra2.refractiveIndex.snow, \n",
    "        funcArgs = {\n",
    "            'model_mix':'Bruggeman',\n",
    "            'model_ice':'Matzler_2006',\n",
    "            'densities':\n",
    "        }\n",
    "    ),\n",
    "    singleScattering = (\n",
    "        pamtra2.singleScattering.rayleighGans, \n",
    "        funcArgs = {\n",
    "        },\n",
    "    ),\n",
    ")\n",
    "\n"
   ]
  },
  {
   "cell_type": "code",
   "execution_count": null,
   "metadata": {},
   "outputs": [],
   "source": []
  },
  {
   "cell_type": "code",
   "execution_count": null,
   "metadata": {},
   "outputs": [],
   "source": []
  },
  {
   "cell_type": "code",
   "execution_count": null,
   "metadata": {},
   "outputs": [],
   "source": []
  },
  {
   "cell_type": "code",
   "execution_count": null,
   "metadata": {},
   "outputs": [],
   "source": []
  },
  {
   "cell_type": "code",
   "execution_count": null,
   "metadata": {},
   "outputs": [],
   "source": []
  },
  {
   "cell_type": "code",
   "execution_count": 16,
   "metadata": {},
   "outputs": [
    {
     "ename": "SyntaxError",
     "evalue": "invalid syntax (<ipython-input-16-98e892c92325>, line 13)",
     "output_type": "error",
     "traceback": [
      "\u001b[0;36m  File \u001b[0;32m\"<ipython-input-16-98e892c92325>\"\u001b[0;36m, line \u001b[0;32m13\u001b[0m\n\u001b[0;31m    funcArgs = {\u001b[0m\n\u001b[0m             ^\u001b[0m\n\u001b[0;31mSyntaxError\u001b[0m\u001b[0;31m:\u001b[0m invalid syntax\n"
     ]
    }
   ],
   "source": [
    "\n",
    "#this function will add hydrometeor confihuration to pam2.hydrometeors and \n",
    "#append hydrometeor to coordinates of e.g. pam2.profile.lwc\n",
    "#Note that only the configuration will stored! All the functions\n",
    "#will be calles later by the forward model! \n",
    "pam2.addHydrometeor(\n",
    "    name = 'snow1', #or None, then str(index)\n",
    "    index = 0, #or None, then append\n",
    "    kind = 'snow', #liquid, ice\n",
    "    nBins = 80,\n",
    "    sizes = (\n",
    "        pamtra2.hydrometeors.sizes.logspace, #function/object to call for getting sizes\n",
    "        funcArgs = {\n",
    "            Dmin = 1e-6,\n",
    "            Dmax = 1e-4,\n",
    "        }\n",
    "    ),\n",
    "    psd = (\n",
    "        pamtra2.hydrometeors.sizeDistributions.exponentialFieldLwc, #function/object to call for getting psd\n",
    "        funcArgs = {\n",
    "            temperature : pam2.profile.temperature,\n",
    "            lwc : pam2.profile.lwc, #test whether hydrodim is included! for all input vars!\n",
    "            massSizeA : 0.01, #mass size relation required to estimate exponential doistribution from N0\n",
    "            massSizeB : 1.8,\n",
    "        },\n",
    "    ),\n",
    "    aspectRatio = (\n",
    "        0.6,\n",
    "    ),\n",
    "    mass = (\n",
    "        pamtra2.hydrometeors.mass.powerLaw, #function/object to call for getting mass\n",
    "        funcArgs = {\n",
    "            massSizeA : 0.01,\n",
    "            massSizeB : 1.8,\n",
    "        },\n",
    "    ),\n",
    "    density = (\n",
    "        pamtra2.hydrometeors.density.softSphere, #function/object to call for getting density\n",
    "        funcArgs = {\n",
    "            minDensity : 100,\n",
    "#             maxDensity : , defaults to ice!\n",
    "        },\n",
    "    ),\n",
    "    crossSectionArea = (\n",
    "        pamtra2.hydrometeors.area.powerLaw, #function/object to call for getting crossSectionArea\n",
    "        funcArgs = {\n",
    "            areaSizeA : 0.01,\n",
    "            areaSizeB : 1.8,\n",
    "        },\n",
    "    ),\n",
    ")\n",
    "#for example, pamtra2.hydrometeors.area.powerLaw will be an object\n",
    "# which will be called with pamtra2.hydrometeors.area.powerLaw(diameterCenter,\n",
    "# areaSizeA=areaSizeA,areaSizeB=areaSizeB)\n",
    "\n",
    "\n",
    "\n",
    "pam2.addHydrometeor(\n",
    "    name = 'rain1', #or None, then str(index)\n",
    "    index = 1, #or None, then append\n",
    "    kind = 'liquid', #liquid, ice\n",
    "    nBins =40,\n",
    "    sizes = (\n",
    "        pamtra2.hydrometeors.sizes.linspace, \n",
    "        funcArgs = {\n",
    "            Dmin = 1e-6,\n",
    "            Dmax = 1e-4,\n",
    "        }\n",
    "    ),\n",
    "    psd = (\n",
    "        pamtra2.hydrometeors.sizeDistributions.exponentialLwc, #function/object to call for getting psd\n",
    "        funcArgs = {\n",
    "            lwc : pam2.profile.lwc, #test whether hydrodim is included! for all input vars!\n",
    "            lambd : 10,\n",
    "        },\n",
    "    ),\n",
    "    aspectRatio = (\n",
    "        pamtra2.hydrometeors.aspectRatio.rainAspectRatioModel,\n",
    "        funcArgs = {\n",
    "            sampleKeyword : 10, \n",
    "        },\n",
    "    ),\n",
    "    mass = (\n",
    "        pamtra2.hydrometeors.mass.ellipsoid,\n",
    "    ),\n",
    "    density = (\n",
    "        pamtra2.hydrometeors.density.water, # or 1000.\n",
    "    ),\n",
    "    crossSectionArea = (\n",
    "        pamtra2.hydrometeors.area.ellipsoid,\n",
    "    ),\n",
    ")\n",
    "\n",
    "#in case we already have the full spectrum!\n",
    "\n",
    "pam2.addHydrometeor(\n",
    "    name = 'ice1', #or None, then str(index)\n",
    "    index = 1, #or None, then append\n",
    "    kind = 'liquid', #liquid, ice\n",
    "    nBins =2,\n",
    "    sizes = (\n",
    "        pamtra2.hydrometeors.sizes.monodispers, \n",
    "        funcArgs = {\n",
    "            Dmono = 1e-5,\n",
    "        },\n",
    "    ),\n",
    "    psd = (\n",
    "        pamtra2.profiles.hydrometeor_size_distribution, #array with discrete n(D) exists, but has len ==0.\n",
    "    ),\n",
    "    aspectRatio = (\n",
    "        1.0,\n",
    "    ),\n",
    "    mass = (\n",
    "        pamtra2.hydrometeors.mass.ellipsoid,\n",
    "    ),\n",
    "    density = (\n",
    "        pamtra2.hydrometeors.density.ice, # or 971.\n",
    "    ),\n",
    "    crossSectionArea = (\n",
    "        pamtra2.hydrometeors.area.ellipsoid,\n",
    "    ),\n",
    ")\n",
    "#now the array is prepared because addHydrometeor got an array as an argumetn for psd\n",
    "pam2.profiles.hydrometeor_size_distribution.sel(hydrometeor='ice1')[:] = ICE_PSD_FROM_AIRCRAFT\n",
    "\n",
    "\n",
    "#now also profile.lwc is prepare because we know how many hydrometeors we have:\n",
    "pam2.profile.lwc[:] = 0.1\n",
    "\n",
    "\n",
    "# OR EASIER for all of the above: \n",
    "pamtra2.importer.profiles.CosmoColumsNetcdf('COSMO_column_20170102.nc') #will take care of hydrometeors and profiles\n",
    "\n",
    "\n",
    "#kazr is a copy of the pam object with added information about the instrument\n",
    "kazr = pam2.createInstrument(\n",
    "    name= 'KAZR'\n",
    "    kind = 'dopplerRadar',\n",
    "    #the pamtra2.forwardOperators.spectralRadarSimulator class will contain all the magic and create the object to be retruend\n",
    "    method = pamtra2.forwardOperators.spectralRadarSimulator, \n",
    "    frequencies = [35],\n",
    "    settings = {\n",
    "        'nyquistVMax' : 10,\n",
    "        'nyquistVMin' : -10,\n",
    "        'nFFT' : 512,\n",
    "        'K2': 0.92,\n",
    "        ...\n",
    "    }\n",
    ")\n",
    "\n",
    "\n",
    "#add information about scattering properties\n",
    "kazr.setHydrometeorScattering(\n",
    "    'rain1',\n",
    "    refractiveIndex = (\n",
    "        pamtra2.refractiveIndex.water, \n",
    "        funcArgs = {\n",
    "            'model' : 'Turner',\n",
    "        }\n",
    "    ),\n",
    "    singleScattering = (\n",
    "        pamtra2.singleScattering.tmatrix, \n",
    "        funcArgs = {\n",
    "            'cached' : True,\n",
    "        },\n",
    "    ),\n",
    ")\n",
    "\n",
    "kazr.setHydrometeorScattering(\n",
    "    'snow1', \n",
    "    refractiveIndex = (\n",
    "        pamtra2.refractiveIndex.snow, \n",
    "        funcArgs = {\n",
    "            'model_mix':'Bruggeman',\n",
    "            'model_ice':'Matzler_2006',\n",
    "        }\n",
    "    ),\n",
    "    singleScattering = (\n",
    "        pamtra2.singleScattering.rayleighGans, \n",
    "        funcArgs = {\n",
    "        },\n",
    "    ),\n",
    ")\n",
    "\n",
    "kazr.setHydrometeorScattering(\n",
    "    'ice1',\n",
    "    # refractiveIndex = (), For missing descriptions, default values \n",
    "    # will be used depending on particle kind!\n",
    "    # singleScattering = (\n",
    "    #     pamtra2.singleScattering.mie, \n",
    "    # ),\n",
    ")\n",
    "\n",
    "\n",
    "hatpro = pam2.createInstrument(\n",
    "    name= 'Hatpro'\n",
    "    kind = 'MWR',\n",
    "    #pamtra2.forwardOperators.RT4 will share a lot of code with pamtra2.forwardOperators.spectralRadarSimulator\n",
    "    method = pamtra2.forwardOperators.RT4, \n",
    "    frequencies = [22.24, 23.04, 23.84, 25.44, 26.24, 27.84, 31.40],\n",
    "    settings = {\n",
    "        'bandWidths' : [0.230, 0.230, 0.230, 0.230, 0.230, 0.230, 0.230],\n",
    "        ....\n",
    "    }\n",
    ")\n",
    "\n",
    "#We can either copy the scattering properties or do new ones!\n",
    "hatpro.setHydrometeorScattering(\n",
    "...\n",
    ")\n",
    "\n",
    "\n",
    "\n",
    "ceilo = pam2.createInstrument(\n",
    "    name= 'Ceilo'\n",
    "    kind = 'Ceilometer',\n",
    "    method = pamtra2.forwardOperators.Ceilosim, \n",
    "    wavelengths = [905],\n",
    "    settings = {\n",
    "        'property' : 10,\n",
    "        ...\n",
    "    }\n",
    ")\n",
    "\n",
    "ceilo.setHydrometeorScattering(\n",
    "...\n",
    ")\n",
    "\n",
    "# OR EASIER: \n",
    "WSACR = pamtra.importer.instruments.WSACR(site='Oliktok Point',configuration='20171004')\n",
    "WSACR.setHydrometeorScattering(\n",
    "...\n",
    ")\n",
    "\n",
    "\n",
    "\n",
    "kazr.run() #this command runs all the functions defined above!\n",
    "kazr.results.to_netcdf('kazr.nc')\n",
    "\n",
    "hatpro.run()\n",
    "hatpro.results.to_netcdf('hatpro.nc')\n",
    "\n",
    "ceilo.run()\n",
    "ceilo.results.to_netcdf('ceilo.nc')"
   ]
  },
  {
   "cell_type": "code",
   "execution_count": null,
   "metadata": {},
   "outputs": [
    {
     "name": "stdout",
     "output_type": "stream",
     "text": [
      "> \u001b[0;32m/Volumes/User/mmaahn/anaconda/envs/python3/lib/python3.6/site-packages/pyPamtra2/hydrometeors/core.py\u001b[0m(139)\u001b[0;36m_arrayOrFunc\u001b[0;34m()\u001b[0m\n",
      "\u001b[0;32m    137 \u001b[0;31m\u001b[0;34m\u001b[0m\u001b[0m\n",
      "\u001b[0m\u001b[0;32m    138 \u001b[0;31m        \u001b[0mthisProperty\u001b[0m \u001b[0;34m=\u001b[0m \u001b[0mnp\u001b[0m\u001b[0;34m.\u001b[0m\u001b[0mzeros\u001b[0m\u001b[0;34m(\u001b[0m\u001b[0mthisShape\u001b[0m\u001b[0;34m)\u001b[0m \u001b[0;34m*\u001b[0m \u001b[0mnp\u001b[0m\u001b[0;34m.\u001b[0m\u001b[0mnan\u001b[0m\u001b[0;34m\u001b[0m\u001b[0m\n",
      "\u001b[0m\u001b[0;32m--> 139 \u001b[0;31m        \u001b[0;32mif\u001b[0m \u001b[0mcallable\u001b[0m\u001b[0;34m(\u001b[0m\u001b[0mthisDesription\u001b[0m\u001b[0;34m[\u001b[0m\u001b[0;36m0\u001b[0m\u001b[0;34m]\u001b[0m\u001b[0;34m)\u001b[0m\u001b[0;34m:\u001b[0m\u001b[0;34m\u001b[0m\u001b[0m\n",
      "\u001b[0m\u001b[0;32m    140 \u001b[0;31m            \u001b[0mprint\u001b[0m\u001b[0;34m(\u001b[0m\u001b[0;34m'callable'\u001b[0m\u001b[0;34m)\u001b[0m\u001b[0;34m\u001b[0m\u001b[0m\n",
      "\u001b[0m\u001b[0;32m    141 \u001b[0;31m            \u001b[0mfunc\u001b[0m\u001b[0;34m,\u001b[0m \u001b[0mkwargs\u001b[0m \u001b[0;34m=\u001b[0m \u001b[0mthisDesription\u001b[0m\u001b[0;34m\u001b[0m\u001b[0m\n",
      "\u001b[0m\n",
      "ipdb> thisDesription\n",
      "1.0\n",
      "ipdb> thisDesription\n",
      "1.0\n",
      "ipdb> type(thisDesription\n",
      "*** SyntaxError: unexpected EOF while parsing\n",
      "ipdb> type(thisDesription)\n",
      "<class 'float'>\n"
     ]
    }
   ],
   "source": [
    "%debug"
   ]
  },
  {
   "cell_type": "code",
   "execution_count": 53,
   "metadata": {},
   "outputs": [
    {
     "data": {
      "text/plain": [
       "(10, 10)"
      ]
     },
     "execution_count": 53,
     "metadata": {},
     "output_type": "execute_result"
    }
   ],
   "source": [
    "np.array(list(map(lambda x,y:x+y**2,np.random.random((10,10)),np.random.random((10,10)))))"
   ]
  },
  {
   "cell_type": "code",
   "execution_count": null,
   "metadata": {},
   "outputs": [],
   "source": []
  },
  {
   "cell_type": "code",
   "execution_count": null,
   "metadata": {},
   "outputs": [],
   "source": []
  },
  {
   "cell_type": "code",
   "execution_count": 16,
   "metadata": {},
   "outputs": [
    {
     "data": {
      "text/plain": [
       "array([[[ 250.,  250.,  250.,  250.,  250.,  250.,  250.,  250.,  250.,\n",
       "          250.,  250.,  250.,  250.,  250.,  250.,  250.,  250.,  250.,\n",
       "          250.,  250.,  250.,  250.,  250.,  250.,  250.,  250.,  250.,\n",
       "          250.,  250.,  250.,  250.,  250.,  250.,  250.,  250.,  250.,\n",
       "          250.,  250.,  250.,  250.,  250.,  250.,  250.,  250.,  250.,\n",
       "          250.,  250.,  250.,  250.,  250.,  250.,  250.,  250.,  250.,\n",
       "          250.,  250.,  250.,  250.,  250.,  250.,  250.,  250.,  250.,\n",
       "          250.,  250.,  250.,  250.,  250.,  250.,  250.,  250.,  250.,\n",
       "          250.,  250.,  250.,  250.,  250.,  250.,  250.,  250.,  250.,\n",
       "          250.,  250.,  250.,  250.,  250.,  250.,  250.,  250.,  250.,\n",
       "          250.,  250.,  250.,  250.,  250.,  250.,  250.,  250.,  250.,\n",
       "          250.],\n",
       "        [ 250.,  250.,  250.,  250.,  250.,  250.,  250.,  250.,  250.,\n",
       "          250.,  250.,  250.,  250.,  250.,  250.,  250.,  250.,  250.,\n",
       "          250.,  250.,  250.,  250.,  250.,  250.,  250.,  250.,  250.,\n",
       "          250.,  250.,  250.,  250.,  250.,  250.,  250.,  250.,  250.,\n",
       "          250.,  250.,  250.,  250.,  250.,  250.,  250.,  250.,  250.,\n",
       "          250.,  250.,  250.,  250.,  250.,  250.,  250.,  250.,  250.,\n",
       "          250.,  250.,  250.,  250.,  250.,  250.,  250.,  250.,  250.,\n",
       "          250.,  250.,  250.,  250.,  250.,  250.,  250.,  250.,  250.,\n",
       "          250.,  250.,  250.,  250.,  250.,  250.,  250.,  250.,  250.,\n",
       "          250.,  250.,  250.,  250.,  250.,  250.,  250.,  250.,  250.,\n",
       "          250.,  250.,  250.,  250.,  250.,  250.,  250.,  250.,  250.,\n",
       "          250.],\n",
       "        [ 250.,  250.,  250.,  250.,  250.,  250.,  250.,  250.,  250.,\n",
       "          250.,  250.,  250.,  250.,  250.,  250.,  250.,  250.,  250.,\n",
       "          250.,  250.,  250.,  250.,  250.,  250.,  250.,  250.,  250.,\n",
       "          250.,  250.,  250.,  250.,  250.,  250.,  250.,  250.,  250.,\n",
       "          250.,  250.,  250.,  250.,  250.,  250.,  250.,  250.,  250.,\n",
       "          250.,  250.,  250.,  250.,  250.,  250.,  250.,  250.,  250.,\n",
       "          250.,  250.,  250.,  250.,  250.,  250.,  250.,  250.,  250.,\n",
       "          250.,  250.,  250.,  250.,  250.,  250.,  250.,  250.,  250.,\n",
       "          250.,  250.,  250.,  250.,  250.,  250.,  250.,  250.,  250.,\n",
       "          250.,  250.,  250.,  250.,  250.,  250.,  250.,  250.,  250.,\n",
       "          250.,  250.,  250.,  250.,  250.,  250.,  250.,  250.,  250.,\n",
       "          250.],\n",
       "        [ 250.,  250.,  250.,  250.,  250.,  250.,  250.,  250.,  250.,\n",
       "          250.,  250.,  250.,  250.,  250.,  250.,  250.,  250.,  250.,\n",
       "          250.,  250.,  250.,  250.,  250.,  250.,  250.,  250.,  250.,\n",
       "          250.,  250.,  250.,  250.,  250.,  250.,  250.,  250.,  250.,\n",
       "          250.,  250.,  250.,  250.,  250.,  250.,  250.,  250.,  250.,\n",
       "          250.,  250.,  250.,  250.,  250.,  250.,  250.,  250.,  250.,\n",
       "          250.,  250.,  250.,  250.,  250.,  250.,  250.,  250.,  250.,\n",
       "          250.,  250.,  250.,  250.,  250.,  250.,  250.,  250.,  250.,\n",
       "          250.,  250.,  250.,  250.,  250.,  250.,  250.,  250.,  250.,\n",
       "          250.,  250.,  250.,  250.,  250.,  250.,  250.,  250.,  250.,\n",
       "          250.,  250.,  250.,  250.,  250.,  250.,  250.,  250.,  250.,\n",
       "          250.],\n",
       "        [ 250.,  250.,  250.,  250.,  250.,  250.,  250.,  250.,  250.,\n",
       "          250.,  250.,  250.,  250.,  250.,  250.,  250.,  250.,  250.,\n",
       "          250.,  250.,  250.,  250.,  250.,  250.,  250.,  250.,  250.,\n",
       "          250.,  250.,  250.,  250.,  250.,  250.,  250.,  250.,  250.,\n",
       "          250.,  250.,  250.,  250.,  250.,  250.,  250.,  250.,  250.,\n",
       "          250.,  250.,  250.,  250.,  250.,  250.,  250.,  250.,  250.,\n",
       "          250.,  250.,  250.,  250.,  250.,  250.,  250.,  250.,  250.,\n",
       "          250.,  250.,  250.,  250.,  250.,  250.,  250.,  250.,  250.,\n",
       "          250.,  250.,  250.,  250.,  250.,  250.,  250.,  250.,  250.,\n",
       "          250.,  250.,  250.,  250.,  250.,  250.,  250.,  250.,  250.,\n",
       "          250.,  250.,  250.,  250.,  250.,  250.,  250.,  250.,  250.,\n",
       "          250.],\n",
       "        [ 250.,  250.,  250.,  250.,  250.,  250.,  250.,  250.,  250.,\n",
       "          250.,  250.,  250.,  250.,  250.,  250.,  250.,  250.,  250.,\n",
       "          250.,  250.,  250.,  250.,  250.,  250.,  250.,  250.,  250.,\n",
       "          250.,  250.,  250.,  250.,  250.,  250.,  250.,  250.,  250.,\n",
       "          250.,  250.,  250.,  250.,  250.,  250.,  250.,  250.,  250.,\n",
       "          250.,  250.,  250.,  250.,  250.,  250.,  250.,  250.,  250.,\n",
       "          250.,  250.,  250.,  250.,  250.,  250.,  250.,  250.,  250.,\n",
       "          250.,  250.,  250.,  250.,  250.,  250.,  250.,  250.,  250.,\n",
       "          250.,  250.,  250.,  250.,  250.,  250.,  250.,  250.,  250.,\n",
       "          250.,  250.,  250.,  250.,  250.,  250.,  250.,  250.,  250.,\n",
       "          250.,  250.,  250.,  250.,  250.,  250.,  250.,  250.,  250.,\n",
       "          250.],\n",
       "        [ 250.,  250.,  250.,  250.,  250.,  250.,  250.,  250.,  250.,\n",
       "          250.,  250.,  250.,  250.,  250.,  250.,  250.,  250.,  250.,\n",
       "          250.,  250.,  250.,  250.,  250.,  250.,  250.,  250.,  250.,\n",
       "          250.,  250.,  250.,  250.,  250.,  250.,  250.,  250.,  250.,\n",
       "          250.,  250.,  250.,  250.,  250.,  250.,  250.,  250.,  250.,\n",
       "          250.,  250.,  250.,  250.,  250.,  250.,  250.,  250.,  250.,\n",
       "          250.,  250.,  250.,  250.,  250.,  250.,  250.,  250.,  250.,\n",
       "          250.,  250.,  250.,  250.,  250.,  250.,  250.,  250.,  250.,\n",
       "          250.,  250.,  250.,  250.,  250.,  250.,  250.,  250.,  250.,\n",
       "          250.,  250.,  250.,  250.,  250.,  250.,  250.,  250.,  250.,\n",
       "          250.,  250.,  250.,  250.,  250.,  250.,  250.,  250.,  250.,\n",
       "          250.],\n",
       "        [ 250.,  250.,  250.,  250.,  250.,  250.,  250.,  250.,  250.,\n",
       "          250.,  250.,  250.,  250.,  250.,  250.,  250.,  250.,  250.,\n",
       "          250.,  250.,  250.,  250.,  250.,  250.,  250.,  250.,  250.,\n",
       "          250.,  250.,  250.,  250.,  250.,  250.,  250.,  250.,  250.,\n",
       "          250.,  250.,  250.,  250.,  250.,  250.,  250.,  250.,  250.,\n",
       "          250.,  250.,  250.,  250.,  250.,  250.,  250.,  250.,  250.,\n",
       "          250.,  250.,  250.,  250.,  250.,  250.,  250.,  250.,  250.,\n",
       "          250.,  250.,  250.,  250.,  250.,  250.,  250.,  250.,  250.,\n",
       "          250.,  250.,  250.,  250.,  250.,  250.,  250.,  250.,  250.,\n",
       "          250.,  250.,  250.,  250.,  250.,  250.,  250.,  250.,  250.,\n",
       "          250.,  250.,  250.,  250.,  250.,  250.,  250.,  250.,  250.,\n",
       "          250.],\n",
       "        [ 250.,  250.,  250.,  250.,  250.,  250.,  250.,  250.,  250.,\n",
       "          250.,  250.,  250.,  250.,  250.,  250.,  250.,  250.,  250.,\n",
       "          250.,  250.,  250.,  250.,  250.,  250.,  250.,  250.,  250.,\n",
       "          250.,  250.,  250.,  250.,  250.,  250.,  250.,  250.,  250.,\n",
       "          250.,  250.,  250.,  250.,  250.,  250.,  250.,  250.,  250.,\n",
       "          250.,  250.,  250.,  250.,  250.,  250.,  250.,  250.,  250.,\n",
       "          250.,  250.,  250.,  250.,  250.,  250.,  250.,  250.,  250.,\n",
       "          250.,  250.,  250.,  250.,  250.,  250.,  250.,  250.,  250.,\n",
       "          250.,  250.,  250.,  250.,  250.,  250.,  250.,  250.,  250.,\n",
       "          250.,  250.,  250.,  250.,  250.,  250.,  250.,  250.,  250.,\n",
       "          250.,  250.,  250.,  250.,  250.,  250.,  250.,  250.,  250.,\n",
       "          250.],\n",
       "        [ 250.,  250.,  250.,  250.,  250.,  250.,  250.,  250.,  250.,\n",
       "          250.,  250.,  250.,  250.,  250.,  250.,  250.,  250.,  250.,\n",
       "          250.,  250.,  250.,  250.,  250.,  250.,  250.,  250.,  250.,\n",
       "          250.,  250.,  250.,  250.,  250.,  250.,  250.,  250.,  250.,\n",
       "          250.,  250.,  250.,  250.,  250.,  250.,  250.,  250.,  250.,\n",
       "          250.,  250.,  250.,  250.,  250.,  250.,  250.,  250.,  250.,\n",
       "          250.,  250.,  250.,  250.,  250.,  250.,  250.,  250.,  250.,\n",
       "          250.,  250.,  250.,  250.,  250.,  250.,  250.,  250.,  250.,\n",
       "          250.,  250.,  250.,  250.,  250.,  250.,  250.,  250.,  250.,\n",
       "          250.,  250.,  250.,  250.,  250.,  250.,  250.,  250.,  250.,\n",
       "          250.,  250.,  250.,  250.,  250.,  250.,  250.,  250.,  250.,\n",
       "          250.]]])"
      ]
     },
     "execution_count": 16,
     "metadata": {},
     "output_type": "execute_result"
    }
   ],
   "source": [
    "np.asarray(pam2.profile.temperature)"
   ]
  },
  {
   "cell_type": "code",
   "execution_count": 31,
   "metadata": {},
   "outputs": [
    {
     "data": {
      "text/plain": [
       "<xarray.DataArray 'aspectRatio' ()>\n",
       "array(90427118.89111808)"
      ]
     },
     "execution_count": 31,
     "metadata": {},
     "output_type": "execute_result"
    }
   ],
   "source": [
    "hyd.discreteProperties.aspectRatio.max()"
   ]
  },
  {
   "cell_type": "code",
   "execution_count": 31,
   "metadata": {},
   "outputs": [],
   "source": [
    "import numba\n",
    "\n",
    "@numba.jit(nopython=False)\n",
    "def modifiedGamma(sizeCenter,N0,lambd,mu=0,gamma=1):\n",
    "  \"\"\"\n",
    "  classical modifed gamma distribution\n",
    "\n",
    "  Parameters\n",
    "  ----------\n",
    "  sizeCenter : array_like\n",
    "    particle size at center of size bin\n",
    "  N0 : array_like\n",
    "    N0 prefactor (default None)\n",
    "  lambd : float or array_like\n",
    "    lambda parameter (default array)\n",
    "  mu : float or array_like\n",
    "    mu parameter (default array)\n",
    "  gamma : float or array_like\n",
    "    gamma parameter (default array)\n",
    "\n",
    "  Returns\n",
    "  -------\n",
    "\n",
    "  N : array\n",
    "    particle size distribution with shape = N0.shape + sizeCenter.shape\n",
    "  \"\"\"\n",
    "\n",
    "  N = N0 * sizeCenter**mu * np.exp(-lambd * sizeCenter**gamma)\n",
    "\n",
    "  return N"
   ]
  },
  {
   "cell_type": "code",
   "execution_count": 32,
   "metadata": {},
   "outputs": [
    {
     "name": "stdout",
     "output_type": "stream",
     "text": [
      "784 µs ± 13.5 µs per loop (mean ± std. dev. of 7 runs, 1000 loops each)\n"
     ]
    }
   ],
   "source": [
    "\n",
    "\n",
    "\n",
    "sizeCenter=np.zeros((1000,10,4))\n",
    "sizeCenter[:] = np.logspace(-6,-2,4)\n",
    "# sizeCenter =np.logspace(-6,-2,100).reshape((1000,10))\n",
    "N0 = np.random.random((1000,10))\n",
    "lambd = np.random.random((1000,10))\n",
    "\n",
    "# vecFunc = np.vectorize(lambda sizeCenter,N0,lambd : modifiedGamma(sizeCenter,N0,lambd))\n",
    "\n",
    "\n",
    "%timeit modifiedGamma(sizeCenter.T,N0.T,lambd.T).T"
   ]
  }
 ],
 "metadata": {
  "kernelspec": {
   "display_name": "Python 3",
   "language": "python",
   "name": "python3"
  },
  "language_info": {
   "codemirror_mode": {
    "name": "ipython",
    "version": 3
   },
   "file_extension": ".py",
   "mimetype": "text/x-python",
   "name": "python",
   "nbconvert_exporter": "python",
   "pygments_lexer": "ipython3",
   "version": "3.6.3"
  },
  "toc": {
   "nav_menu": {},
   "number_sections": true,
   "sideBar": true,
   "skip_h1_title": false,
   "toc_cell": false,
   "toc_position": {},
   "toc_section_display": "block",
   "toc_window_display": false
  }
 },
 "nbformat": 4,
 "nbformat_minor": 2
}
