{
 "cells": [
  {
   "cell_type": "markdown",
   "metadata": {},
   "source": [
    "# Design draft"
   ]
  },
  {
   "cell_type": "code",
   "execution_count": 1,
   "metadata": {},
   "outputs": [],
   "source": [
    "import pamtra2\n",
    "import collections\n",
    "import refractiveIndex\n",
    "import numpy as np\n",
    "import pandas as pn\n",
    "import xarray as xr\n",
    "from collections import OrderedDict\n",
    "from copy import deepcopy, copy\n",
    "import toolz\n",
    "import collections\n",
    "import matplotlib.pyplot as plt\n",
    "\n",
    "try:\n",
    "    %matplotlib inline\n",
    "except:\n",
    "    pass"
   ]
  },
  {
   "cell_type": "code",
   "execution_count": 2,
   "metadata": {},
   "outputs": [],
   "source": [
    "import pyPamtraRadarSimulator\n",
    "\n"
   ]
  },
  {
   "cell_type": "markdown",
   "metadata": {},
   "source": [
    "# create Profile"
   ]
  },
  {
   "cell_type": "code",
   "execution_count": 37,
   "metadata": {},
   "outputs": [],
   "source": [
    "additionalDims = collections.OrderedDict()\n",
    "# additionalDims['time'] = pn.date_range('2016-01-01','2016-01-05',freq='D')[:1]\n",
    "# additionalDims['lat'] = np.arange(70,80)\n",
    "nHeights = 100\n",
    "\n",
    "pam2 = pamtra2.pamtra2(\n",
    "    nLayer=nHeights,\n",
    "    hydrometeors=['rain','snow'],\n",
    "    additionalDims = additionalDims,\n",
    "    frequencies = [35e9, 94e9],\n",
    ")\n",
    "\n"
   ]
  },
  {
   "cell_type": "code",
   "execution_count": 38,
   "metadata": {},
   "outputs": [
    {
     "data": {
      "text/plain": [
       "<xarray.customProfile>\n",
       "Dimensions:              (frequency: 2, hydrometeor: 2, layer: 100)\n",
       "Coordinates:\n",
       "  * layer                (layer) int64 0 1 2 3 4 5 6 7 8 9 10 11 12 13 14 15 ...\n",
       "  * hydrometeor          (hydrometeor) <U4 'rain' 'snow'\n",
       "  * frequency            (frequency) float64 3.5e+10 9.4e+10\n",
       "Data variables:\n",
       "    height               (layer) float64 nan nan nan nan nan nan nan nan nan ...\n",
       "    temperature          (layer) float64 nan nan nan nan nan nan nan nan nan ...\n",
       "    pressure             (layer) float64 nan nan nan nan nan nan nan nan nan ...\n",
       "    relativeHumidity     (layer) float64 nan nan nan nan nan nan nan nan nan ...\n",
       "    horizontalWind       (layer) float64 nan nan nan nan nan nan nan nan nan ...\n",
       "    verticalWind         (layer) float64 nan nan nan nan nan nan nan nan nan ...\n",
       "    eddyDissipationRate  (layer) float64 nan nan nan nan nan nan nan nan nan ...\n",
       "    waterContent         (layer, hydrometeor) float64 nan nan nan nan nan ...\n",
       "    wavelength           (frequency) float64 0.008565 0.003189"
      ]
     },
     "execution_count": 38,
     "metadata": {},
     "output_type": "execute_result"
    }
   ],
   "source": [
    "pam2.profile"
   ]
  },
  {
   "cell_type": "markdown",
   "metadata": {},
   "source": [
    "Fill with some dummie values"
   ]
  },
  {
   "cell_type": "code",
   "execution_count": 39,
   "metadata": {},
   "outputs": [],
   "source": [
    "\n",
    "pam2.profile.height[:] = np.linspace(0,1000,nHeights)\n",
    "pam2.profile.temperature[:] = 250 \n",
    "pam2.profile.relativeHumidity[:] = 90\n",
    "pam2.profile.pressure[:] = 100000\n",
    "pam2.profile.eddyDissipationRate[:] = 1e-4\n",
    "pam2.profile.horizontalWind[:] = 0\n",
    "\n",
    "\n",
    "\n",
    "pam2.profile.waterContent.values[:] = 0\n",
    "#rain\n",
    "pam2.profile.waterContent.values[...,20:40,0] = 1e-4\n",
    "#snow\n",
    "pam2.profile.waterContent.values[...,20:40,1] = 2e-4\n",
    "\n"
   ]
  },
  {
   "cell_type": "markdown",
   "metadata": {},
   "source": [
    "For testing, dask arrays are turned on by chunking."
   ]
  },
  {
   "cell_type": "code",
   "execution_count": 40,
   "metadata": {},
   "outputs": [
    {
     "data": {
      "text/plain": [
       "<xarray.customProfile>\n",
       "Dimensions:              (frequency: 2, hydrometeor: 2, layer: 100)\n",
       "Coordinates:\n",
       "  * layer                (layer) int64 0 1 2 3 4 5 6 7 8 9 10 11 12 13 14 15 ...\n",
       "  * hydrometeor          (hydrometeor) <U4 'rain' 'snow'\n",
       "  * frequency            (frequency) float64 3.5e+10 9.4e+10\n",
       "Data variables:\n",
       "    height               (layer) float64 0.0 10.1 20.2 30.3 40.4 50.51 60.61 ...\n",
       "    temperature          (layer) float64 250.0 250.0 250.0 250.0 250.0 250.0 ...\n",
       "    pressure             (layer) float64 1e+05 1e+05 1e+05 1e+05 1e+05 1e+05 ...\n",
       "    relativeHumidity     (layer) float64 90.0 90.0 90.0 90.0 90.0 90.0 90.0 ...\n",
       "    horizontalWind       (layer) float64 0.0 0.0 0.0 0.0 0.0 0.0 0.0 0.0 0.0 ...\n",
       "    verticalWind         (layer) float64 nan nan nan nan nan nan nan nan nan ...\n",
       "    eddyDissipationRate  (layer) float64 0.0001 0.0001 0.0001 0.0001 0.0001 ...\n",
       "    waterContent         (layer, hydrometeor) float64 0.0 0.0 0.0 0.0 0.0 ...\n",
       "    wavelength           (frequency) float64 0.008565 0.003189\n",
       "    dryAirDensity        (layer) float64 1.392 1.392 1.392 1.392 1.392 1.392 ...\n",
       "    airDensity           (layer) float64 1.392 1.392 1.392 1.392 1.392 1.392 ...\n",
       "    dynamicViscosity     (layer) float64 1.6e-05 1.6e-05 1.6e-05 1.6e-05 ...\n",
       "    kinematicViscosity   (layer) float64 1.149e-05 1.149e-05 1.149e-05 ..."
      ]
     },
     "execution_count": 40,
     "metadata": {},
     "output_type": "execute_result"
    }
   ],
   "source": [
    "# pam2.profile = pam2.profile.chunk({'time':1, 'hydrometeor':1, 'lat':1, 'frequency':1})\n",
    "pam2.addMissingVariables()\n",
    "pam2.profile \n"
   ]
  },
  {
   "cell_type": "code",
   "execution_count": 41,
   "metadata": {},
   "outputs": [],
   "source": [
    "# # OR EASIER if desired: \n",
    "# pam2 = pamtra2.importers.profiles.usStandardAtmosphere(heigths)"
   ]
  },
  {
   "cell_type": "markdown",
   "metadata": {},
   "source": [
    "# Describe Hydrometeors\n",
    "To describe the hydrometeors, you can use functions, xr.DataArrays or scalars. Teh functions must support xr.DataArrays. The kwargs of the functions are gathered from (in this order)\n",
    "\n",
    "1. pam2.hydrometors.name.profile variables (name must match). E.g. density (after it has been calculated) \n",
    "2. pam2.profile variables (name must match). E.g. temperature\n",
    "3. Other provided kwargs (e.g. Dmin, DMax, N0 etc)\n",
    "4. Default function arguments. Can be turned of with useFuncArgDefaults = False to make sure everything is explicitly covered.\n",
    "\n"
   ]
  },
  {
   "cell_type": "code",
   "execution_count": 42,
   "metadata": {},
   "outputs": [
    {
     "name": "stdout",
     "output_type": "stream",
     "text": [
      "sizeBounds <function linspaceBounds at 0x115fc87b8>\n",
      "callable\n",
      "sizeCenter <function boundsToMid at 0x115fc88c8>\n",
      "callable\n",
      "sizeBoundsWidth <function boundsWidth at 0x115fc8950>\n",
      "callable\n",
      "aspectRatio 1.0\n",
      "not callable 1.0\n",
      "density 1000.0\n",
      "not callable 1000.0\n",
      "mass <function ellipsoid at 0x11655ea60>\n",
      "callable\n",
      "crossSectionArea <function sphere at 0x316f96158>\n",
      "callable\n",
      "sizeDistribution <function exponentialN0WC at 0x11655ee18>\n",
      "callable\n",
      "relativePermittivity <function turner_kneifel_cadeddu at 0x417bb40d0>\n",
      "callable\n",
      "scattering <function Rayleigh at 0x316f96598>\n",
      "callable\n",
      "fallVelocity <function khvorostyanov01_drops at 0x417bab6a8>\n",
      "callable\n",
      "nBins 40\n",
      "not callable 40\n",
      "Dmin 1e-06\n",
      "not callable 1e-06\n",
      "Dmax 0.01\n",
      "not callable 0.01\n",
      "N0 8000000.0\n",
      "not callable 8000000.0\n"
     ]
    },
    {
     "name": "stderr",
     "output_type": "stream",
     "text": [
      "/Volumes/User/mmaahn/anaconda/envs/python3/lib/python3.6/site-packages/pamtra2/hydrometeors/sizeDistribution.py:301: UserWarning: Truncation effect on the PSD are not considered. I.e., typically mass is lost!\n",
      "  warnings.warn('Truncation effect on the PSD are not considered. '\n",
      "/Volumes/User/mmaahn/anaconda/envs/python3/lib/python3.6/site-packages/xarray/core/computation.py:565: RuntimeWarning: divide by zero encountered in true_divide\n",
      "  result_data = func(*input_data)\n",
      "/Volumes/User/mmaahn/anaconda/envs/python3/lib/python3.6/_collections_abc.py:720: FutureWarning: iteration over an xarray.Dataset will change in xarray v0.11 to only include data variables, not coordinates. Iterate over the Dataset.variables property instead to preserve existing behavior in a forwards compatible manner.\n",
      "  yield from self._mapping\n"
     ]
    },
    {
     "data": {
      "text/plain": [
       "<pamtra2.hydrometeors.core.softEllipsoidFixedDensity at 0x41bedc3c8>"
      ]
     },
     "execution_count": 42,
     "metadata": {},
     "output_type": "execute_result"
    }
   ],
   "source": [
    "\n",
    "pam2.describeHydrometeor(\n",
    "    pamtra2.hydrometeors.softEllipsoidFixedDensity,\n",
    "    name = 'rain', #or None, then str(index)\n",
    "    nBins =40,\n",
    "    sizeBounds = pamtra2.hydrometeors.size.linspaceBounds, \n",
    "    sizeCenter = pamtra2.hydrometeors.size.boundsToMid,\n",
    "    sizeBoundsWidth = pamtra2.hydrometeors.size.boundsWidth,\n",
    "    sizeDistribution = pamtra2.hydrometeors.sizeDistribution.exponentialN0WC, \n",
    "    aspectRatio = 1.0,\n",
    "    mass = pamtra2.hydrometeors.mass.ellipsoid,\n",
    "    density = pamtra2.hydrometeors.density.water,\n",
    "    crossSectionArea = pamtra2.hydrometeors.crossSectionArea.sphere,\n",
    "    relativePermittivity = refractiveIndex.water.turner_kneifel_cadeddu, #replace with refractiveIndex.water.Turner.n\n",
    "    scattering = pamtra2.hydrometeors.scattering.Rayleigh,\n",
    "    fallVelocity = pamtra2.hydrometeors.fallVelocity.khvorostyanov01_drops,\n",
    "    Dmin  = 1e-6,\n",
    "    Dmax  = 1e-2,\n",
    "    N0 =  8e6,\n",
    "    useFuncArgDefaults = True,\n",
    ")\n"
   ]
  },
  {
   "cell_type": "code",
   "execution_count": 43,
   "metadata": {
    "scrolled": true
   },
   "outputs": [
    {
     "name": "stdout",
     "output_type": "stream",
     "text": [
      "sizeBounds <function logspaceBounds at 0x115fc8840>\n",
      "callable\n",
      "sizeCenter <function boundsToMid at 0x115fc88c8>\n",
      "callable\n",
      "sizeBoundsWidth <function boundsWidth at 0x115fc8950>\n",
      "callable\n",
      "aspectRatio 0.6\n",
      "not callable 0.6\n",
      "mass <function powerLaw at 0x11655e9d8>\n",
      "callable\n",
      "density <function softEllipsoid at 0x316f96268>\n",
      "callable\n",
      "crossSectionArea <function powerLaw at 0x316f960d0>\n",
      "callable\n",
      "sizeDistribution <function exponentialFieldWC at 0x11655ed08>\n",
      "callable\n",
      "relativePermittivity <function eps at 0x417babea0>\n",
      "callable\n",
      "scattering <function Mie at 0x316f96510>\n",
      "callable\n"
     ]
    },
    {
     "name": "stderr",
     "output_type": "stream",
     "text": [
      "/Volumes/User/mmaahn/anaconda/envs/python3/lib/python3.6/site-packages/pamtra2/hydrometeors/sizeDistribution.py:301: UserWarning: Truncation effect on the PSD are not considered. I.e., typically mass is lost!\n",
      "  warnings.warn('Truncation effect on the PSD are not considered. '\n"
     ]
    },
    {
     "name": "stdout",
     "output_type": "stream",
     "text": [
      "fallVelocity <function heymsfield10_particles at 0x316f96730>\n",
      "callable\n",
      "nBins 20\n",
      "not callable 20\n",
      "Dmin 1e-06\n",
      "not callable 1e-06\n",
      "Dmax 0.01\n",
      "not callable 0.01\n",
      "massSizeA 0.0121\n",
      "not callable 0.0121\n",
      "massSizeB 1.9\n",
      "not callable 1.9\n",
      "areaSizeA 0.4\n",
      "not callable 0.4\n",
      "areaSizeB 1.8\n",
      "not callable 1.8\n",
      "minDensity 100\n",
      "not callable 100\n",
      "bla 12\n",
      "not callable 12\n"
     ]
    },
    {
     "name": "stderr",
     "output_type": "stream",
     "text": [
      "/Volumes/User/mmaahn/anaconda/envs/python3/lib/python3.6/_collections_abc.py:720: FutureWarning: iteration over an xarray.Dataset will change in xarray v0.11 to only include data variables, not coordinates. Iterate over the Dataset.variables property instead to preserve existing behavior in a forwards compatible manner.\n",
      "  yield from self._mapping\n",
      "/Volumes/User/mmaahn/anaconda/envs/python3/lib/python3.6/site-packages/pamtra2/hydrometeors/core.py:263: UserWarning: The following kwargs were NOT used: ['bla']\n",
      "  '%s' % self._keysToBeUsed)\n"
     ]
    },
    {
     "data": {
      "text/plain": [
       "<pamtra2.hydrometeors.core.softEllipsoidMassSize at 0x41beef9e8>"
      ]
     },
     "execution_count": 43,
     "metadata": {},
     "output_type": "execute_result"
    }
   ],
   "source": [
    "pam2.describeHydrometeor(\n",
    "    pamtra2.hydrometeors.softEllipsoidMassSize,\n",
    "    name='snow',\n",
    "    nBins = 20,\n",
    "    sizeBounds=pamtra2.hydrometeors.size.logspaceBounds, #function/object to call for getting sizes\n",
    "    sizeCenter = pamtra2.hydrometeors.size.boundsToMid,\n",
    "    sizeBoundsWidth = pamtra2.hydrometeors.size.boundsWidth,\n",
    "    sizeDistribution = pamtra2.hydrometeors.sizeDistribution.exponentialFieldWC,\n",
    "    aspectRatio = 0.6,\n",
    "    crossSectionArea = pamtra2.hydrometeors.crossSectionArea.powerLaw,\n",
    "    mass = pamtra2.hydrometeors.mass.powerLaw,\n",
    "    density = pamtra2.hydrometeors.density.softEllipsoid,\n",
    "    #to do: adapt refractiveIndex routine so that mixing and RI are treated separately. \n",
    "    relativePermittivity = refractiveIndex.snow.eps,\n",
    "    scattering = pamtra2.hydrometeors.scattering.Mie,\n",
    "    fallVelocity = pamtra2.hydrometeors.fallVelocity.heymsfield10_particles,\n",
    "    Dmin = 1e-6,\n",
    "    Dmax = 1e-2,\n",
    "    massSizeA = 0.0121, \n",
    "    massSizeB = 1.9,\n",
    "    areaSizeA = 0.4,\n",
    "    areaSizeB = 1.8,\n",
    "    minDensity = 100,\n",
    "    bla = 12,\n",
    "    useFuncArgDefaults = True,\n",
    "    )\n"
   ]
  },
  {
   "cell_type": "code",
   "execution_count": 45,
   "metadata": {},
   "outputs": [
    {
     "data": {
      "image/png": "[encoded data removed]",
      "text/plain": [
       "<Figure size 432x288 with 1 Axes>"
      ]
     },
     "metadata": {},
     "output_type": "display_data"
    }
   ],
   "source": [
    "plt.plot(\n",
    "    pam2.hydrometeors.rain.profile.sizeCenter,\n",
    "    pam2.hydrometeors.rain.profile.fallVelocity.isel(layer=10))\n",
    "plt.plot(\n",
    "    pam2.hydrometeors.snow.profile.sizeCenter,\n",
    "    pam2.hydrometeors.snow.profile.fallVelocity.isel(layer=10))\n",
    "\n",
    "# plt.xlim(0,0.002)\n",
    "plt.grid()\n",
    "# plt.ylim(0,7)"
   ]
  },
  {
   "cell_type": "markdown",
   "metadata": {},
   "source": [
    "The profile arrays have been populated, but they contain daks arrays. These are only placeholders, they have not been calculated yet!"
   ]
  },
  {
   "cell_type": "code",
   "execution_count": 46,
   "metadata": {},
   "outputs": [
    {
     "data": {
      "text/plain": [
       "(<xarray.Dataset>\n",
       " Dimensions:                  (frequency: 2, layer: 100, sizeBin: 40, sizeBin1: 41)\n",
       " Coordinates:\n",
       "   * sizeBin                  (sizeBin) int64 0 1 2 3 4 5 6 7 8 9 10 11 12 13 ...\n",
       "   * sizeBin1                 (sizeBin1) int64 0 1 2 3 4 5 6 7 8 9 10 11 12 ...\n",
       "   * layer                    (layer) int64 0 1 2 3 4 5 6 7 8 9 10 11 12 13 ...\n",
       "   * frequency                (frequency) float64 3.5e+10 9.4e+10\n",
       " Data variables:\n",
       "     sizeBounds               (sizeBin1) float64 1e-06 0.000251 0.000501 ...\n",
       "     sizeCenter               (sizeBin) float64 0.000126 0.000376 0.0006259 ...\n",
       "     sizeBoundsWidth          (sizeBin) float64 0.00025 0.00025 0.00025 ...\n",
       "     aspectRatio              float64 1.0\n",
       "     density                  float64 1e+03\n",
       "     mass                     (sizeBin) float64 1.047e-09 2.782e-08 1.284e-07 ...\n",
       "     crossSectionArea         (sizeBin) float64 1.247e-08 1.11e-07 3.077e-07 ...\n",
       "     sizeDistribution         (sizeBin, layer) float64 0.0 0.0 0.0 0.0 0.0 ...\n",
       "     relativePermittivity     (layer, frequency) complex128 (8.063082178292973+9.05376377166876j) ...\n",
       "     fallVelocity             (sizeBin, layer) float64 0.363 0.363 0.363 ...\n",
       "     nBins                    int64 40\n",
       "     Dmin                     float64 1e-06\n",
       "     Dmax                     float64 0.01\n",
       "     N0                       float64 8e+06\n",
       "     extinctionCrossSection   (sizeBin, frequency, layer) float64 3.419e-10 ...\n",
       "     scatterCrossSection      (sizeBin, frequency, layer) float64 3.272e-13 ...\n",
       "     absorptionCrossSection   (sizeBin, frequency, layer) float64 3.416e-10 ...\n",
       "     backscatterCrossSection  (sizeBin, frequency, layer) float64 1.636e-13 ...,\n",
       " <xarray.Dataset>\n",
       " Dimensions:                  (frequency: 2, layer: 100, sizeBin: 20, sizeBin1: 21)\n",
       " Coordinates:\n",
       "   * sizeBin                  (sizeBin) int64 0 1 2 3 4 5 6 7 8 9 10 11 12 13 ...\n",
       "   * sizeBin1                 (sizeBin1) int64 0 1 2 3 4 5 6 7 8 9 10 11 12 ...\n",
       "   * layer                    (layer) int64 0 1 2 3 4 5 6 7 8 9 10 11 12 13 ...\n",
       "   * frequency                (frequency) float64 3.5e+10 9.4e+10\n",
       " Data variables:\n",
       "     sizeBounds               (sizeBin1) float64 1e-06 1.585e-06 2.512e-06 ...\n",
       "     sizeCenter               (sizeBin) float64 1.292e-06 2.048e-06 3.246e-06 ...\n",
       "     sizeBoundsWidth          (sizeBin) float64 5.849e-07 9.27e-07 1.469e-06 ...\n",
       "     aspectRatio              float64 0.6\n",
       "     mass                     (sizeBin) float64 7.843e-14 1.881e-13 4.513e-13 ...\n",
       "     density                  (sizeBin) float64 917.0 917.0 917.0 917.0 917.0 ...\n",
       "     crossSectionArea         (sizeBin) float64 1.006e-11 2.305e-11 5.28e-11 ...\n",
       "     sizeDistribution         (layer, sizeBin) float64 0.0 0.0 0.0 0.0 0.0 ...\n",
       "     relativePermittivity     (sizeBin, layer, frequency) complex128 (3.1683889703002954+0.002092966589446651j) ...\n",
       "     fallVelocity             (layer, sizeBin) float64 0.001522 0.002408 ...\n",
       "     nBins                    int64 20\n",
       "     Dmin                     float64 1e-06\n",
       "     Dmax                     float64 0.01\n",
       "     massSizeA                float64 0.0121\n",
       "     massSizeB                float64 1.9\n",
       "     areaSizeA                float64 0.4\n",
       "     areaSizeB                float64 1.8\n",
       "     minDensity               int64 100\n",
       "     bla                      int64 12\n",
       "     extinctionCrossSection   (sizeBin, frequency, layer) float64 5.847e-19 ...\n",
       "     scatterCrossSection      (sizeBin, frequency, layer) float64 3.109e-26 ...\n",
       "     absorptionCrossSection   (sizeBin, frequency, layer) float64 5.847e-19 ...\n",
       "     backscatterCrossSection  (sizeBin, frequency, layer) float64 4.664e-26 ...)"
      ]
     },
     "execution_count": 46,
     "metadata": {},
     "output_type": "execute_result"
    }
   ],
   "source": [
    "pam2.hydrometeors.rain.profile, pam2.hydrometeors.snow.profile"
   ]
  },
  {
   "cell_type": "markdown",
   "metadata": {},
   "source": [
    "Force computation with e.g.\n",
    "`pam2.hydrometeors.rain.profile.compute()` or `pam2.hydrometeors.rain.profile.to_netcdf()` or  or `pam2.hydrometeors.rain.profile.plot()`"
   ]
  },
  {
   "cell_type": "markdown",
   "metadata": {},
   "source": [
    "# Radar simulator\n"
   ]
  },
  {
   "cell_type": "code",
   "execution_count": 50,
   "metadata": {},
   "outputs": [
    {
     "ename": "RuntimeError",
     "evalue": "Error in Fortran routine simulate_radar",
     "output_type": "error",
     "traceback": [
      "\u001b[0;31m---------------------------------------------------------------------------\u001b[0m",
      "\u001b[0;31mRuntimeError\u001b[0m                              Traceback (most recent call last)",
      "\u001b[0;32m<ipython-input-50-9ce77a1c6eea>\u001b[0m in \u001b[0;36m<module>\u001b[0;34m()\u001b[0m\n\u001b[1;32m     23\u001b[0m         \u001b[0mradarPNoise1000\u001b[0m\u001b[0;34m=\u001b[0m\u001b[0;34m-\u001b[0m\u001b[0;36m30\u001b[0m\u001b[0;34m,\u001b[0m\u001b[0;34m\u001b[0m\u001b[0m\n\u001b[1;32m     24\u001b[0m         \u001b[0mradarNAve\u001b[0m\u001b[0;34m=\u001b[0m\u001b[0;36m150\u001b[0m\u001b[0;34m,\u001b[0m\u001b[0;34m\u001b[0m\u001b[0m\n\u001b[0;32m---> 25\u001b[0;31m         \u001b[0mseed\u001b[0m\u001b[0;34m=\u001b[0m\u001b[0;36m0\u001b[0m\u001b[0;34m,\u001b[0m\u001b[0;34m\u001b[0m\u001b[0m\n\u001b[0m\u001b[1;32m     26\u001b[0m )\n",
      "\u001b[0;32m/Volumes/User/mmaahn/anaconda/envs/python3/lib/python3.6/site-packages/pamtra2/core.py\u001b[0m in \u001b[0;36maddInstrument\u001b[0;34m(self, instrumentClass, name, frequencies, solve, **kwargs)\u001b[0m\n\u001b[1;32m    315\u001b[0m \u001b[0;34m\u001b[0m\u001b[0m\n\u001b[1;32m    316\u001b[0m         \u001b[0;32mif\u001b[0m \u001b[0msolve\u001b[0m\u001b[0;34m:\u001b[0m\u001b[0;34m\u001b[0m\u001b[0m\n\u001b[0;32m--> 317\u001b[0;31m             \u001b[0mself\u001b[0m\u001b[0;34m.\u001b[0m\u001b[0minstruments\u001b[0m\u001b[0;34m[\u001b[0m\u001b[0mname\u001b[0m\u001b[0;34m]\u001b[0m\u001b[0;34m.\u001b[0m\u001b[0msolve\u001b[0m\u001b[0;34m(\u001b[0m\u001b[0;34m)\u001b[0m\u001b[0;34m\u001b[0m\u001b[0m\n\u001b[0m\u001b[1;32m    318\u001b[0m \u001b[0;34m\u001b[0m\u001b[0m\n\u001b[1;32m    319\u001b[0m         \u001b[0;32mreturn\u001b[0m \u001b[0mself\u001b[0m\u001b[0;34m.\u001b[0m\u001b[0minstruments\u001b[0m\u001b[0;34m[\u001b[0m\u001b[0mname\u001b[0m\u001b[0;34m]\u001b[0m\u001b[0;34m\u001b[0m\u001b[0m\n",
      "\u001b[0;32m/Volumes/User/mmaahn/anaconda/envs/python3/lib/python3.6/site-packages/pamtra2/instruments/radar.py\u001b[0m in \u001b[0;36msolve\u001b[0;34m(self)\u001b[0m\n\u001b[1;32m    125\u001b[0m \u001b[0;34m\u001b[0m\u001b[0m\n\u001b[1;32m    126\u001b[0m         \u001b[0mself\u001b[0m\u001b[0;34m.\u001b[0m\u001b[0m_calcRadarSpectrum\u001b[0m\u001b[0;34m(\u001b[0m\u001b[0;34m)\u001b[0m\u001b[0;34m\u001b[0m\u001b[0m\n\u001b[0;32m--> 127\u001b[0;31m         \u001b[0mself\u001b[0m\u001b[0;34m.\u001b[0m\u001b[0m_simulateRadar\u001b[0m\u001b[0;34m(\u001b[0m\u001b[0;34m)\u001b[0m\u001b[0;34m\u001b[0m\u001b[0m\n\u001b[0m\u001b[1;32m    128\u001b[0m         \u001b[0;31m# self._calcMoments()\u001b[0m\u001b[0;34m\u001b[0m\u001b[0;34m\u001b[0m\u001b[0m\n\u001b[1;32m    129\u001b[0m         \u001b[0;31m# add coordinates for self.results['radarSpectrum']!\u001b[0m\u001b[0;34m\u001b[0m\u001b[0;34m\u001b[0m\u001b[0m\n",
      "\u001b[0;32m/Volumes/User/mmaahn/anaconda/envs/python3/lib/python3.6/site-packages/pamtra2/instruments/radar.py\u001b[0m in \u001b[0;36m_simulateRadar\u001b[0;34m(self)\u001b[0m\n\u001b[1;32m    266\u001b[0m             \u001b[0moutput_dtypes\u001b[0m\u001b[0;34m=\u001b[0m\u001b[0;34m[\u001b[0m\u001b[0mmergedProfile\u001b[0m\u001b[0;34m.\u001b[0m\u001b[0mradarIdealizedSpectrum\u001b[0m\u001b[0;34m.\u001b[0m\u001b[0mdtype\u001b[0m\u001b[0;34m]\u001b[0m\u001b[0;34m,\u001b[0m\u001b[0;34m\u001b[0m\u001b[0m\n\u001b[1;32m    267\u001b[0m             \u001b[0moutput_sizes\u001b[0m\u001b[0;34m=\u001b[0m\u001b[0;34m{\u001b[0m\u001b[0;34m'radarNFFT'\u001b[0m\u001b[0;34m:\u001b[0m \u001b[0;36m256\u001b[0m\u001b[0;34m}\u001b[0m\u001b[0;34m,\u001b[0m\u001b[0;34m\u001b[0m\u001b[0m\n\u001b[0;32m--> 268\u001b[0;31m             \u001b[0mdask\u001b[0m\u001b[0;34m=\u001b[0m\u001b[0;34m'parallelized'\u001b[0m\u001b[0;34m,\u001b[0m\u001b[0;34m\u001b[0m\u001b[0m\n\u001b[0m\u001b[1;32m    269\u001b[0m         ).unstack('merged')\n\u001b[1;32m    270\u001b[0m \u001b[0;34m\u001b[0m\u001b[0m\n",
      "\u001b[0;32m/Volumes/User/mmaahn/anaconda/envs/python3/lib/python3.6/site-packages/xarray/core/computation.py\u001b[0m in \u001b[0;36mapply_ufunc\u001b[0;34m(func, *args, **kwargs)\u001b[0m\n\u001b[1;32m    932\u001b[0m                                      \u001b[0mjoin\u001b[0m\u001b[0;34m=\u001b[0m\u001b[0mjoin\u001b[0m\u001b[0;34m,\u001b[0m\u001b[0;34m\u001b[0m\u001b[0m\n\u001b[1;32m    933\u001b[0m                                      \u001b[0mexclude_dims\u001b[0m\u001b[0;34m=\u001b[0m\u001b[0mexclude_dims\u001b[0m\u001b[0;34m,\u001b[0m\u001b[0;34m\u001b[0m\u001b[0m\n\u001b[0;32m--> 934\u001b[0;31m                                      keep_attrs=keep_attrs)\n\u001b[0m\u001b[1;32m    935\u001b[0m     \u001b[0;32melif\u001b[0m \u001b[0many\u001b[0m\u001b[0;34m(\u001b[0m\u001b[0misinstance\u001b[0m\u001b[0;34m(\u001b[0m\u001b[0ma\u001b[0m\u001b[0;34m,\u001b[0m \u001b[0mVariable\u001b[0m\u001b[0;34m)\u001b[0m \u001b[0;32mfor\u001b[0m \u001b[0ma\u001b[0m \u001b[0;32min\u001b[0m \u001b[0margs\u001b[0m\u001b[0;34m)\u001b[0m\u001b[0;34m:\u001b[0m\u001b[0;34m\u001b[0m\u001b[0m\n\u001b[1;32m    936\u001b[0m         \u001b[0;32mreturn\u001b[0m \u001b[0mvariables_ufunc\u001b[0m\u001b[0;34m(\u001b[0m\u001b[0;34m*\u001b[0m\u001b[0margs\u001b[0m\u001b[0;34m)\u001b[0m\u001b[0;34m\u001b[0m\u001b[0m\n",
      "\u001b[0;32m/Volumes/User/mmaahn/anaconda/envs/python3/lib/python3.6/site-packages/xarray/core/computation.py\u001b[0m in \u001b[0;36mapply_dataarray_ufunc\u001b[0;34m(func, *args, **kwargs)\u001b[0m\n\u001b[1;32m    209\u001b[0m \u001b[0;34m\u001b[0m\u001b[0m\n\u001b[1;32m    210\u001b[0m     \u001b[0mdata_vars\u001b[0m \u001b[0;34m=\u001b[0m \u001b[0;34m[\u001b[0m\u001b[0mgetattr\u001b[0m\u001b[0;34m(\u001b[0m\u001b[0ma\u001b[0m\u001b[0;34m,\u001b[0m \u001b[0;34m'variable'\u001b[0m\u001b[0;34m,\u001b[0m \u001b[0ma\u001b[0m\u001b[0;34m)\u001b[0m \u001b[0;32mfor\u001b[0m \u001b[0ma\u001b[0m \u001b[0;32min\u001b[0m \u001b[0margs\u001b[0m\u001b[0;34m]\u001b[0m\u001b[0;34m\u001b[0m\u001b[0m\n\u001b[0;32m--> 211\u001b[0;31m     \u001b[0mresult_var\u001b[0m \u001b[0;34m=\u001b[0m \u001b[0mfunc\u001b[0m\u001b[0;34m(\u001b[0m\u001b[0;34m*\u001b[0m\u001b[0mdata_vars\u001b[0m\u001b[0;34m)\u001b[0m\u001b[0;34m\u001b[0m\u001b[0m\n\u001b[0m\u001b[1;32m    212\u001b[0m \u001b[0;34m\u001b[0m\u001b[0m\n\u001b[1;32m    213\u001b[0m     \u001b[0;32mif\u001b[0m \u001b[0msignature\u001b[0m\u001b[0;34m.\u001b[0m\u001b[0mnum_outputs\u001b[0m \u001b[0;34m>\u001b[0m \u001b[0;36m1\u001b[0m\u001b[0;34m:\u001b[0m\u001b[0;34m\u001b[0m\u001b[0m\n",
      "\u001b[0;32m/Volumes/User/mmaahn/anaconda/envs/python3/lib/python3.6/site-packages/xarray/core/computation.py\u001b[0m in \u001b[0;36mapply_variable_ufunc\u001b[0;34m(func, *args, **kwargs)\u001b[0m\n\u001b[1;32m    563\u001b[0m             raise ValueError('unknown setting for dask array handling in '\n\u001b[1;32m    564\u001b[0m                              'apply_ufunc: {}'.format(dask))\n\u001b[0;32m--> 565\u001b[0;31m     \u001b[0mresult_data\u001b[0m \u001b[0;34m=\u001b[0m \u001b[0mfunc\u001b[0m\u001b[0;34m(\u001b[0m\u001b[0;34m*\u001b[0m\u001b[0minput_data\u001b[0m\u001b[0;34m)\u001b[0m\u001b[0;34m\u001b[0m\u001b[0m\n\u001b[0m\u001b[1;32m    566\u001b[0m \u001b[0;34m\u001b[0m\u001b[0m\n\u001b[1;32m    567\u001b[0m     \u001b[0;32mif\u001b[0m \u001b[0msignature\u001b[0m\u001b[0;34m.\u001b[0m\u001b[0mnum_outputs\u001b[0m \u001b[0;34m>\u001b[0m \u001b[0;36m1\u001b[0m\u001b[0;34m:\u001b[0m\u001b[0;34m\u001b[0m\u001b[0m\n",
      "\u001b[0;32m/Volumes/User/mmaahn/anaconda/envs/python3/lib/python3.6/site-packages/pyPamtraRadarSimulator/core.py\u001b[0m in \u001b[0;36msimulateRadarSpectrum\u001b[0;34m(height, eddyDissipationRate, horizontalWind, mergedParticleSpec, pathIntegratedAtenuattion, wavelength, radarMaxV, radarMinV, radarAliasingNyquistInterv, radarNFFT, radarPNoise1000, radarK2, radarNAve, radarBeamwidthDeg, radarIntegrationTime, kolmogorov, seed, verbosity)\u001b[0m\n\u001b[1;32m    442\u001b[0m     \u001b[0meddyDissipationRate\u001b[0m \u001b[0;34m:\u001b[0m \u001b[0marray_like\u001b[0m\u001b[0;34m\u001b[0m\u001b[0m\n\u001b[1;32m    443\u001b[0m         \u001b[0meddy\u001b[0m \u001b[0mdissipation\u001b[0m \u001b[0mrate\u001b[0m \u001b[0;32min\u001b[0m  \u001b[0mm\u001b[0m\u001b[0;34m^\u001b[0m\u001b[0;34m(\u001b[0m\u001b[0;36m2\u001b[0m\u001b[0;34m/\u001b[0m\u001b[0;36m3\u001b[0m\u001b[0;34m)\u001b[0m \u001b[0ms\u001b[0m\u001b[0;34m^\u001b[0m\u001b[0;34m(\u001b[0m\u001b[0;34m-\u001b[0m\u001b[0;36m1\u001b[0m\u001b[0;34m)\u001b[0m\u001b[0;34m\u001b[0m\u001b[0m\n\u001b[0;32m--> 444\u001b[0;31m     \u001b[0mhorizontalWind\u001b[0m \u001b[0;34m:\u001b[0m \u001b[0marray_like\u001b[0m\u001b[0;34m\u001b[0m\u001b[0m\n\u001b[0m\u001b[1;32m    445\u001b[0m         \u001b[0mhorizontal\u001b[0m \u001b[0mwind\u001b[0m \u001b[0;32min\u001b[0m \u001b[0mm\u001b[0m\u001b[0;34m/\u001b[0m\u001b[0ms\u001b[0m\u001b[0;34m\u001b[0m\u001b[0m\n\u001b[1;32m    446\u001b[0m     \u001b[0mheight\u001b[0m \u001b[0;34m:\u001b[0m \u001b[0marray_like\u001b[0m\u001b[0;34m\u001b[0m\u001b[0m\n",
      "\u001b[0;31mRuntimeError\u001b[0m: Error in Fortran routine simulate_radar"
     ]
    }
   ],
   "source": [
    "pam2.profile['pathIntegratedAtenuattion'] = xr.zeros_like(pam2.profile.height)\n",
    "\n",
    "\n",
    "\n",
    "pam2.addInstrument(\n",
    "    pamtra2.instruments.radar.dopplerRadarPamtra,\n",
    "    name = 'test',\n",
    "    frequencies = 3.5e+10,    \n",
    "        radarMaxV=7.885,\n",
    "        radarMinV=-7.885,\n",
    "        radarAliasingNyquistInterv=1,\n",
    "        radarNFFT=256,\n",
    "        verbosity=3,\n",
    "        radarAirmotion=True,\n",
    "        radarAirmotionModel=\"constant\",  # \"constant\",\"linear\",\"step\"\n",
    "        radarAirmotionVmin=0,\n",
    "        radarAirmotionVmax=0,\n",
    "        radarAirmotionLinearSteps=30,\n",
    "        radarAirmotionStepVmin=0.5,\n",
    "        radarK2=0.93,         # dielectric constant |K|² (always for liquid water by convention) for the radar equation\n",
    "        radarBeamwidthDeg=0.2,\n",
    "        radarIntegrationTime=60,\n",
    "        radarPNoise1000=-30,\n",
    "        radarNAve=150,\n",
    "        seed=0,\n",
    ")"
   ]
  },
  {
   "cell_type": "code",
   "execution_count": null,
   "metadata": {},
   "outputs": [],
   "source": [
    "pam2.instruments.test._calcRadarSpectrum()"
   ]
  },
  {
   "cell_type": "code",
   "execution_count": null,
   "metadata": {
    "scrolled": false
   },
   "outputs": [],
   "source": [
    "%debug"
   ]
  },
  {
   "cell_type": "code",
   "execution_count": null,
   "metadata": {},
   "outputs": [],
   "source": [
    "np.ndim(np.zeros((10,10)))"
   ]
  },
  {
   "cell_type": "markdown",
   "metadata": {},
   "source": [
    "# Original concept"
   ]
  },
  {
   "cell_type": "code",
   "execution_count": null,
   "metadata": {},
   "outputs": [],
   "source": [
    "\n",
    "#this function will add hydrometeor confihuration to pam2.hydrometeors and \n",
    "#append hydrometeor to coordinates of e.g. pam2.profile.lwc\n",
    "#Note that only the configuration will stored! All the functions\n",
    "#will be calles later by the forward model! \n",
    "pam2.addHydrometeor(\n",
    "    name = 'snow1', #or None, then str(index)\n",
    "    index = 0, #or None, then append\n",
    "    kind = 'snow', #liquid, ice\n",
    "    nBins = 80,\n",
    "    sizes = (\n",
    "        pamtra2.hydrometeors.sizes.logspace, #function/object to call for getting sizes\n",
    "        funcArgs = {\n",
    "            Dmin = 1e-6,\n",
    "            Dmax = 1e-4,\n",
    "        }\n",
    "    ),\n",
    "    psd = (\n",
    "        pamtra2.hydrometeors.sizeDistributions.exponentialFieldLwc, #function/object to call for getting psd\n",
    "        funcArgs = {\n",
    "            temperature : pam2.profile.temperature,\n",
    "            lwc : pam2.profile.lwc, #test whether hydrodim is included! for all input vars!\n",
    "            massSizeA : 0.01, #mass size relation required to estimate exponential doistribution from N0\n",
    "            massSizeB : 1.8,\n",
    "        },\n",
    "    ),\n",
    "    aspectRatio = (\n",
    "        0.6,\n",
    "    ),\n",
    "    mass = (\n",
    "        pamtra2.hydrometeors.mass.powerLaw, #function/object to call for getting mass\n",
    "        funcArgs = {\n",
    "            massSizeA : 0.01,\n",
    "            massSizeB : 1.8,\n",
    "        },\n",
    "    ),\n",
    "    density = (\n",
    "        pamtra2.hydrometeors.density.softSphere, #function/object to call for getting density\n",
    "        funcArgs = {\n",
    "            minDensity : 100,\n",
    "#             maxDensity : , defaults to ice!\n",
    "        },\n",
    "    ),\n",
    "    crossSectionArea = (\n",
    "        pamtra2.hydrometeors.area.powerLaw, #function/object to call for getting crossSectionArea\n",
    "        funcArgs = {\n",
    "            areaSizeA : 0.01,\n",
    "            areaSizeB : 1.8,\n",
    "        },\n",
    "    ),\n",
    ")\n",
    "#for example, pamtra2.hydrometeors.area.powerLaw will be an object\n",
    "# which will be called with pamtra2.hydrometeors.area.powerLaw(diameterCenter,\n",
    "# areaSizeA=areaSizeA,areaSizeB=areaSizeB)\n",
    "\n",
    "\n",
    "\n",
    "pam2.addHydrometeor(\n",
    "    name = 'rain1', #or None, then str(index)\n",
    "    index = 1, #or None, then append\n",
    "    kind = 'liquid', #liquid, ice\n",
    "    nBins =40,\n",
    "    sizes = (\n",
    "        pamtra2.hydrometeors.sizes.linspace, \n",
    "        funcArgs = {\n",
    "            Dmin = 1e-6,\n",
    "            Dmax = 1e-4,\n",
    "        }\n",
    "    ),\n",
    "    psd = (\n",
    "        pamtra2.hydrometeors.sizeDistributions.exponentialLwc, #function/object to call for getting psd\n",
    "        funcArgs = {\n",
    "            lwc : pam2.profile.lwc, #test whether hydrodim is included! for all input vars!\n",
    "            lambd : 10,\n",
    "        },\n",
    "    ),\n",
    "    aspectRatio = (\n",
    "        pamtra2.hydrometeors.aspectRatio.rainAspectRatioModel,\n",
    "        funcArgs = {\n",
    "            sampleKeyword : 10, \n",
    "        },\n",
    "    ),\n",
    "    mass = (\n",
    "        pamtra2.hydrometeors.mass.ellipsoid,\n",
    "    ),\n",
    "    density = (\n",
    "        pamtra2.hydrometeors.density.water, # or 1000.\n",
    "    ),\n",
    "    crossSectionArea = (\n",
    "        pamtra2.hydrometeors.area.ellipsoid,\n",
    "    ),\n",
    ")\n",
    "\n",
    "#in case we already have the full spectrum!\n",
    "\n",
    "pam2.addHydrometeor(\n",
    "    name = 'ice1', #or None, then str(index)\n",
    "    index = 1, #or None, then append\n",
    "    kind = 'liquid', #liquid, ice\n",
    "    nBins =2,\n",
    "    sizes = (\n",
    "        pamtra2.hydrometeors.sizes.monodispers, \n",
    "        funcArgs = {\n",
    "            Dmono = 1e-5,\n",
    "        },\n",
    "    ),\n",
    "    psd = (\n",
    "        pamtra2.profiles.hydrometeor_size_distribution, #array with discrete n(D) exists, but has len ==0.\n",
    "    ),\n",
    "    aspectRatio = (\n",
    "        1.0,\n",
    "    ),\n",
    "    mass = (\n",
    "        pamtra2.hydrometeors.mass.ellipsoid,\n",
    "    ),\n",
    "    density = (\n",
    "        pamtra2.hydrometeors.density.ice, # or 971.\n",
    "    ),\n",
    "    crossSectionArea = (\n",
    "        pamtra2.hydrometeors.area.ellipsoid,\n",
    "    ),\n",
    ")\n",
    "#now the array is prepared because addHydrometeor got an array as an argumetn for psd\n",
    "pam2.profiles.hydrometeor_size_distribution.sel(hydrometeor='ice1')[:] = ICE_PSD_FROM_AIRCRAFT\n",
    "\n",
    "\n",
    "#now also profile.lwc is prepare because we know how many hydrometeors we have:\n",
    "pam2.profile.lwc[:] = 0.1\n",
    "\n",
    "\n",
    "# OR EASIER for all of the above: \n",
    "pamtra2.importer.profiles.CosmoColumsNetcdf('COSMO_column_20170102.nc') #will take care of hydrometeors and profiles\n",
    "\n",
    "\n",
    "#kazr is a copy of the pam object with added information about the instrument\n",
    "kazr = pam2.createInstrument(\n",
    "    name= 'KAZR'\n",
    "    kind = 'dopplerRadar',\n",
    "    #the pamtra2.forwardOperators.spectralRadarSimulator class will contain all the magic and create the object to be retruend\n",
    "    method = pamtra2.forwardOperators.spectralRadarSimulator, \n",
    "    frequencies = [35],\n",
    "    settings = {\n",
    "        'nyquistVMax' : 10,\n",
    "        'nyquistVMin' : -10,\n",
    "        'nFFT' : 512,\n",
    "        'K2': 0.92,\n",
    "        ...\n",
    "    }\n",
    ")\n",
    "\n",
    "\n",
    "#add information about scattering properties\n",
    "kazr.setHydrometeorScattering(\n",
    "    'rain1',\n",
    "    refractiveIndex = (\n",
    "        pamtra2.refractiveIndex.water, \n",
    "        funcArgs = {\n",
    "            'model' : 'Turner',\n",
    "        }\n",
    "    ),\n",
    "    singleScattering = (\n",
    "        pamtra2.singleScattering.tmatrix, \n",
    "        funcArgs = {\n",
    "            'cached' : True,\n",
    "        },\n",
    "    ),\n",
    ")\n",
    "\n",
    "kazr.setHydrometeorScattering(\n",
    "    'snow1', \n",
    "    refractiveIndex = (\n",
    "        pamtra2.refractiveIndex.snow, \n",
    "        funcArgs = {\n",
    "            'model_mix':'Bruggeman',\n",
    "            'model_ice':'Matzler_2006',\n",
    "        }\n",
    "    ),\n",
    "    singleScattering = (\n",
    "        pamtra2.singleScattering.rayleighGans, \n",
    "        funcArgs = {\n",
    "        },\n",
    "    ),\n",
    ")\n",
    "\n",
    "kazr.setHydrometeorScattering(\n",
    "    'ice1',\n",
    "    # refractiveIndex = (), For missing descriptions, default values \n",
    "    # will be used depending on particle kind!\n",
    "    # singleScattering = (\n",
    "    #     pamtra2.singleScattering.mie, \n",
    "    # ),\n",
    ")\n",
    "\n",
    "\n",
    "hatpro = pam2.createInstrument(\n",
    "    name= 'Hatpro'\n",
    "    kind = 'MWR',\n",
    "    #pamtra2.forwardOperators.RT4 will share a lot of code with pamtra2.forwardOperators.spectralRadarSimulator\n",
    "    method = pamtra2.forwardOperators.RT4, \n",
    "    frequencies = [22.24, 23.04, 23.84, 25.44, 26.24, 27.84, 31.40],\n",
    "    settings = {\n",
    "        'bandWidths' : [0.230, 0.230, 0.230, 0.230, 0.230, 0.230, 0.230],\n",
    "        ....\n",
    "    }\n",
    ")\n",
    "\n",
    "#We can either copy the scattering properties or do new ones!\n",
    "hatpro.setHydrometeorScattering(\n",
    "...\n",
    ")\n",
    "\n",
    "\n",
    "\n",
    "ceilo = pam2.createInstrument(\n",
    "    name= 'Ceilo'\n",
    "    kind = 'Ceilometer',\n",
    "    method = pamtra2.forwardOperators.Ceilosim, \n",
    "    wavelengths = [905],\n",
    "    settings = {\n",
    "        'property' : 10,\n",
    "        ...\n",
    "    }\n",
    ")\n",
    "\n",
    "ceilo.setHydrometeorScattering(\n",
    "...\n",
    ")\n",
    "\n",
    "# OR EASIER: \n",
    "WSACR = pamtra.importer.instruments.WSACR(site='Oliktok Point',configuration='20171004')\n",
    "WSACR.setHydrometeorScattering(\n",
    "...\n",
    ")\n",
    "\n",
    "\n",
    "\n",
    "kazr.run() #this command runs all the functions defined above!\n",
    "kazr.results.to_netcdf('kazr.nc')\n",
    "\n",
    "hatpro.run()\n",
    "hatpro.results.to_netcdf('hatpro.nc')\n",
    "\n",
    "ceilo.run()\n",
    "ceilo.results.to_netcdf('ceilo.nc')"
   ]
  },
  {
   "cell_type": "code",
   "execution_count": null,
   "metadata": {},
   "outputs": [],
   "source": [
    "import numba\n",
    "\n",
    "@numba.jit(nopython=False)\n",
    "def modifiedGamma(sizeCenter,N0,lambd,mu=0,gamma=1):\n",
    "  \"\"\"\n",
    "  classical modifed gamma distribution\n",
    "\n",
    "  Parameters\n",
    "  ----------\n",
    "  sizeCenter : array_like\n",
    "    particle size at center of size bin\n",
    "  N0 : array_like\n",
    "    N0 prefactor (default None)\n",
    "  lambd : float or array_like\n",
    "    lambda parameter (default array)\n",
    "  mu : float or array_like\n",
    "    mu parameter (default array)\n",
    "  gamma : float or array_like\n",
    "    gamma parameter (default array)\n",
    "\n",
    "  Returns\n",
    "  -------\n",
    "\n",
    "  N : array\n",
    "    particle size distribution with shape = N0.shape + sizeCenter.shape\n",
    "  \"\"\"\n",
    "\n",
    "  N = N0 * sizeCenter**mu * np.exp(-lambd * sizeCenter**gamma)\n",
    "\n",
    "  return N"
   ]
  },
  {
   "cell_type": "code",
   "execution_count": null,
   "metadata": {},
   "outputs": [],
   "source": [
    "\n",
    "\n",
    "\n",
    "sizeCenter=np.zeros((1000,10,4))\n",
    "sizeCenter[:] = np.logspace(-6,-2,4)\n",
    "# sizeCenter =np.logspace(-6,-2,100).reshape((1000,10))\n",
    "N0 = np.random.random((1000,10))\n",
    "lambd = np.random.random((1000,10))\n",
    "\n",
    "# vecFunc = np.vectorize(lambda sizeCenter,N0,lambd : modifiedGamma(sizeCenter,N0,lambd))\n",
    "\n",
    "\n",
    "%timeit modifiedGamma(sizeCenter.T,N0.T,lambd.T).T"
   ]
  }
 ],
 "metadata": {
  "kernelspec": {
   "display_name": "Python 3",
   "language": "python",
   "name": "python3"
  },
  "language_info": {
   "codemirror_mode": {
    "name": "ipython",
    "version": 3
   },
   "file_extension": ".py",
   "mimetype": "text/x-python",
   "name": "python",
   "nbconvert_exporter": "python",
   "pygments_lexer": "ipython3",
   "version": "3.6.5"
  },
  "toc": {
   "base_numbering": 1,
   "nav_menu": {},
   "number_sections": true,
   "sideBar": true,
   "skip_h1_title": false,
   "title_cell": "Table of Contents",
   "title_sidebar": "Contents",
   "toc_cell": false,
   "toc_position": {
    "height": "calc(100% - 180px)",
    "left": "10px",
    "top": "150px",
    "width": "249px"
   },
   "toc_section_display": "block",
   "toc_window_display": true
  }
 },
 "nbformat": 4,
 "nbformat_minor": 2
}
