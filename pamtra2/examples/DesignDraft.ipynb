{
 "cells": [
  {
   "cell_type": "markdown",
   "metadata": {},
   "source": [
    "* discrete properties = hydrometeor class?"
   ]
  },
  {
   "cell_type": "code",
   "execution_count": 1,
   "metadata": {},
   "outputs": [],
   "source": [
    "import pamtra2\n",
    "import refractiveIndex\n",
    "import numpy as np\n",
    "import pandas as pn\n",
    "import xarray as xr\n",
    "from collections import OrderedDict\n",
    "from copy import deepcopy, copy\n",
    "import toolz\n",
    "import collections"
   ]
  },
  {
   "cell_type": "code",
   "execution_count": null,
   "metadata": {},
   "outputs": [],
   "source": []
  },
  {
   "cell_type": "code",
   "execution_count": 2,
   "metadata": {},
   "outputs": [],
   "source": [
    "additionalDims = OrderedDict()\n",
    "additionalDims['time'] = pn.date_range('2016-01-01','2016-01-05',freq='D')[:1]\n",
    "additionalDims['lat'] = np.arange(70,80)\n",
    "nHeights = 100\n",
    "\n",
    "pam2 = pamtra2.pamtra2(\n",
    "    nLayer=nHeights,\n",
    "    hydrometeors=['rain','snow'],\n",
    "    additionalDims = additionalDims,\n",
    "    frequencies = [35e9, 94e9],\n",
    ")\n",
    "\n"
   ]
  },
  {
   "cell_type": "code",
   "execution_count": 3,
   "metadata": {},
   "outputs": [
    {
     "data": {
      "text/plain": [
       "<xarray.customProfile>\n",
       "Dimensions:           (frequency: 2, hydrometeor: 2, lat: 10, layer: 100, time: 1)\n",
       "Coordinates:\n",
       "  * time              (time) datetime64[ns] 2016-01-01\n",
       "  * lat               (lat) int64 70 71 72 73 74 75 76 77 78 79\n",
       "  * layer             (layer) int64 0 1 2 3 4 5 6 7 8 9 10 11 12 13 14 15 16 ...\n",
       "  * hydrometeor       (hydrometeor) <U4 'rain' 'snow'\n",
       "  * frequency         (frequency) float64 3.5e+10 9.4e+10\n",
       "Data variables:\n",
       "    height            (time, lat, layer) float64 dask.array<shape=(1, 10, 100), chunksize=(1, 1, 100)>\n",
       "    temperature       (time, lat, layer) float64 dask.array<shape=(1, 10, 100), chunksize=(1, 1, 100)>\n",
       "    pressure          (time, lat, layer) float64 dask.array<shape=(1, 10, 100), chunksize=(1, 1, 100)>\n",
       "    relativeHumidity  (time, lat, layer) float64 dask.array<shape=(1, 10, 100), chunksize=(1, 1, 100)>\n",
       "    horizontalWind    (time, lat, layer) float64 dask.array<shape=(1, 10, 100), chunksize=(1, 1, 100)>\n",
       "    verticalWind      (time, lat, layer) float64 dask.array<shape=(1, 10, 100), chunksize=(1, 1, 100)>\n",
       "    waterContent      (time, lat, layer, hydrometeor) float64 dask.array<shape=(1, 10, 100, 2), chunksize=(1, 1, 100, 1)>"
      ]
     },
     "execution_count": 3,
     "metadata": {},
     "output_type": "execute_result"
    }
   ],
   "source": [
    "\n",
    "pam2.profile.height[:] = np.linspace(0,1000,nHeights)\n",
    "pam2.profile.temperature[:] = 250 \n",
    "pam2.profile.relativeHumidity[:] = 90\n",
    "pam2.profile.pressure[:] = 10000\n",
    "\n",
    "pam2.profile.waterContent.values[:] = 0\n",
    "#rain\n",
    "pam2.profile.waterContent.values[:,:,20:40,0] = 1e-4\n",
    "#snow\n",
    "pam2.profile.waterContent.values[:,:,20:40,1] = 2e-4\n",
    "\n",
    "pam2.profile = pam2.profile.chunk({'time':1, 'hydrometeor':1, 'lat':1})\n",
    "\n",
    "pam2.profile \n",
    "\n"
   ]
  },
  {
   "cell_type": "code",
   "execution_count": 4,
   "metadata": {},
   "outputs": [],
   "source": [
    "# # OR EASIER if desired: \n",
    "# pam2 = pamtra2.importers.profiles.usStandardAtmosphere(heigths)"
   ]
  },
  {
   "cell_type": "code",
   "execution_count": 5,
   "metadata": {},
   "outputs": [
    {
     "name": "stdout",
     "output_type": "stream",
     "text": [
      "sizeCenter <function linspace at 0x10ff0c620>\n",
      "callable\n",
      "aspectRatio 1.0\n",
      "not callable 1.0\n",
      "density 1000.0\n",
      "not callable 1000.0\n",
      "mass <function ellipsoid at 0x1104a26a8>\n",
      "callable\n",
      "crossSectionArea <function sphere at 0x1104a2c80>\n",
      "callable\n",
      "sizeDistribution <function exponentialN0WC at 0x1104a29d8>\n",
      "callable\n",
      "dielectricConstant <function turner_kneifel_cadeddu at 0x411ae6158>\n",
      "callable\n",
      "kind liquid\n",
      "not callable liquid\n",
      "Dmin 1e-06\n",
      "not callable 1e-06\n",
      "Dmax 0.01\n",
      "not callable 0.01\n",
      "N0 8000000.0\n",
      "not callable 8000000.0\n"
     ]
    },
    {
     "name": "stderr",
     "output_type": "stream",
     "text": [
      "/Volumes/User/mmaahn/anaconda/envs/python3/lib/python3.6/site-packages/dask/local.py:271: RuntimeWarning: divide by zero encountered in true_divide\n",
      "  return func(*args2)\n"
     ]
    },
    {
     "data": {
      "text/plain": [
       "<pamtra2.hydrometeors.core.softEllipsoidFixedDensity at 0x411ae8438>"
      ]
     },
     "execution_count": 5,
     "metadata": {},
     "output_type": "execute_result"
    }
   ],
   "source": [
    "\n",
    "pam2.describeHydrometeor(\n",
    "    pamtra2.hydrometeors.softEllipsoidFixedDensity,\n",
    "    name = 'rain', #or None, then str(index)\n",
    "    kind = 'liquid', #liquid, ice\n",
    "    nBins =40,\n",
    "    sizeCenter = pamtra2.hydrometeors.sizeCenter.linspace, \n",
    "    sizeDistribution = pamtra2.hydrometeors.sizeDistribution.exponentialN0WC, \n",
    "    aspectRatio = 1.0,\n",
    "    mass = pamtra2.hydrometeors.mass.ellipsoid,\n",
    "    density = pamtra2.hydrometeors.density.water,\n",
    "    crossSectionArea = pamtra2.hydrometeors.crossSectionArea.sphere,\n",
    "    dielectricConstant = refractiveIndex.water.turner_kneifel_cadeddu,\n",
    "    Dmin  = 1e-6,\n",
    "    Dmax  = 1e-2,\n",
    "    N0 =  8e6,\n",
    "    useFuncArgDefaults = True,\n",
    ")\n"
   ]
  },
  {
   "cell_type": "code",
   "execution_count": 8,
   "metadata": {
    "scrolled": false
   },
   "outputs": [
    {
     "name": "stdout",
     "output_type": "stream",
     "text": [
      "sizeCenter <function logspace at 0x10ff0c6a8>\n",
      "callable\n",
      "aspectRatio 0.6\n",
      "not callable 0.6\n",
      "mass <function powerLaw at 0x10ff0c8c8>\n",
      "callable\n",
      "density <function softEllipsoid at 0x1104a2d90>\n",
      "callable\n",
      "crossSectionArea <function powerLaw at 0x1104a2bf8>\n",
      "callable\n",
      "sizeDistribution <function exponentialFieldWC at 0x1104a28c8>\n",
      "callable\n",
      "dielectricConstant <function eps at 0x411addf28>\n",
      "callable\n",
      "Dmin 1e-06\n",
      "not callable 1e-06\n",
      "Dmax 0.01\n",
      "not callable 0.01\n",
      "massSizeA 0.0121\n",
      "not callable 0.0121\n",
      "massSizeB 1.9\n",
      "not callable 1.9\n",
      "areaSizeA 0.01\n",
      "not callable 0.01\n",
      "areaSizeB 1.8\n",
      "not callable 1.8\n",
      "minDensity 100\n",
      "not callable 100\n",
      "bla 12\n",
      "not callable 12\n"
     ]
    },
    {
     "name": "stderr",
     "output_type": "stream",
     "text": [
      "/Volumes/User/mmaahn/anaconda/envs/python3/lib/python3.6/site-packages/dask/local.py:271: RuntimeWarning: divide by zero encountered in true_divide\n",
      "  return func(*args2)\n"
     ]
    },
    {
     "data": {
      "text/plain": [
       "<pamtra2.hydrometeors.core.softEllipsoidMassSize at 0x411f9af60>"
      ]
     },
     "execution_count": 8,
     "metadata": {},
     "output_type": "execute_result"
    }
   ],
   "source": [
    "pam2.describeHydrometeor(\n",
    "    pamtra2.hydrometeors.softEllipsoidMassSize,\n",
    "    name='snow',\n",
    "    nBins = 20,\n",
    "    sizeCenter=pamtra2.hydrometeors.sizeCenter.logspace, #function/object to call for getting sizes\n",
    "    sizeDistribution = pamtra2.hydrometeors.sizeDistribution.exponentialFieldWC,\n",
    "    aspectRatio = 0.6,\n",
    "    crossSectionArea = pamtra2.hydrometeors.crossSectionArea.powerLaw,\n",
    "    mass = pamtra2.hydrometeors.mass.powerLaw,\n",
    "    density = pamtra2.hydrometeors.density.softEllipsoid,\n",
    "    dielectricConstant = refractiveIndex.snow.eps,\n",
    "    Dmin = 1e-6,\n",
    "    Dmax = 1e-2,\n",
    "    massSizeA = 0.0121, \n",
    "    massSizeB = 1.9,\n",
    "    areaSizeA = 0.01,\n",
    "    areaSizeB = 1.8,\n",
    "    minDensity = 100,\n",
    "    useFuncArgDefaults = True,\n",
    "    )\n"
   ]
  },
  {
   "cell_type": "code",
   "execution_count": 11,
   "metadata": {},
   "outputs": [
    {
     "data": {
      "text/plain": [
       "[]"
      ]
     },
     "execution_count": 11,
     "metadata": {},
     "output_type": "execute_result"
    }
   ],
   "source": [
    "[k for k in pam2.hydrometeors.snow.description.keys() if k not in pam2.hydrometeors.snow._usedDescriptionKeys]\n",
    "\n"
   ]
  },
  {
   "cell_type": "code",
   "execution_count": 13,
   "metadata": {},
   "outputs": [
    {
     "data": {
      "text/plain": [
       "<xarray.Dataset>\n",
       "Dimensions:             (frequency: 2, lat: 10, layer: 100, sizeBin: 20, time: 1)\n",
       "Coordinates:\n",
       "  * sizeBin             (sizeBin) int64 0 1 2 3 4 5 6 7 8 9 10 11 12 13 14 ...\n",
       "  * time                (time) datetime64[ns] 2016-01-01\n",
       "  * lat                 (lat) int64 70 71 72 73 74 75 76 77 78 79\n",
       "  * layer               (layer) int64 0 1 2 3 4 5 6 7 8 9 10 11 12 13 14 15 ...\n",
       "  * frequency           (frequency) float64 3.5e+10 9.4e+10\n",
       "Data variables:\n",
       "    sizeCenter          (sizeBin) float64 1e-06 1.624e-06 2.637e-06 ...\n",
       "    aspectRatio         float64 0.6\n",
       "    mass                (sizeBin) float64 4.817e-14 1.21e-13 3.039e-13 ...\n",
       "    density             (sizeBin) float64 917.0 917.0 917.0 917.0 917.0 ...\n",
       "    crossSectionArea    (sizeBin) float64 1.585e-13 3.793e-13 9.076e-13 ...\n",
       "    sizeDistribution    (time, lat, layer, sizeBin) float64 dask.array<shape=(1, 10, 100, 20), chunksize=(1, 1, 100, 20)>\n",
       "    dielectricConstant  (sizeBin, time, lat, layer, frequency) complex128 dask.array<shape=(20, 1, 10, 100, 2), chunksize=(20, 1, 1, 100, 2)>\n",
       "    Dmin                float64 1e-06\n",
       "    Dmax                float64 0.01\n",
       "    massSizeA           float64 0.0121\n",
       "    massSizeB           float64 1.9\n",
       "    areaSizeA           float64 0.01\n",
       "    areaSizeB           float64 1.8\n",
       "    minDensity          int64 100\n",
       "    bla                 int64 12"
      ]
     },
     "execution_count": 13,
     "metadata": {},
     "output_type": "execute_result"
    }
   ],
   "source": [
    "pam2.hydrometeors.snow.profile"
   ]
  },
  {
   "cell_type": "code",
   "execution_count": null,
   "metadata": {},
   "outputs": [],
   "source": []
  },
  {
   "cell_type": "markdown",
   "metadata": {},
   "source": [
    "# Original concept"
   ]
  },
  {
   "cell_type": "code",
   "execution_count": null,
   "metadata": {},
   "outputs": [],
   "source": [
    "\n",
    "#this function will add hydrometeor confihuration to pam2.hydrometeors and \n",
    "#append hydrometeor to coordinates of e.g. pam2.profile.lwc\n",
    "#Note that only the configuration will stored! All the functions\n",
    "#will be calles later by the forward model! \n",
    "pam2.addHydrometeor(\n",
    "    name = 'snow1', #or None, then str(index)\n",
    "    index = 0, #or None, then append\n",
    "    kind = 'snow', #liquid, ice\n",
    "    nBins = 80,\n",
    "    sizes = (\n",
    "        pamtra2.hydrometeors.sizes.logspace, #function/object to call for getting sizes\n",
    "        funcArgs = {\n",
    "            Dmin = 1e-6,\n",
    "            Dmax = 1e-4,\n",
    "        }\n",
    "    ),\n",
    "    psd = (\n",
    "        pamtra2.hydrometeors.sizeDistributions.exponentialFieldLwc, #function/object to call for getting psd\n",
    "        funcArgs = {\n",
    "            temperature : pam2.profile.temperature,\n",
    "            lwc : pam2.profile.lwc, #test whether hydrodim is included! for all input vars!\n",
    "            massSizeA : 0.01, #mass size relation required to estimate exponential doistribution from N0\n",
    "            massSizeB : 1.8,\n",
    "        },\n",
    "    ),\n",
    "    aspectRatio = (\n",
    "        0.6,\n",
    "    ),\n",
    "    mass = (\n",
    "        pamtra2.hydrometeors.mass.powerLaw, #function/object to call for getting mass\n",
    "        funcArgs = {\n",
    "            massSizeA : 0.01,\n",
    "            massSizeB : 1.8,\n",
    "        },\n",
    "    ),\n",
    "    density = (\n",
    "        pamtra2.hydrometeors.density.softSphere, #function/object to call for getting density\n",
    "        funcArgs = {\n",
    "            minDensity : 100,\n",
    "#             maxDensity : , defaults to ice!\n",
    "        },\n",
    "    ),\n",
    "    crossSectionArea = (\n",
    "        pamtra2.hydrometeors.area.powerLaw, #function/object to call for getting crossSectionArea\n",
    "        funcArgs = {\n",
    "            areaSizeA : 0.01,\n",
    "            areaSizeB : 1.8,\n",
    "        },\n",
    "    ),\n",
    ")\n",
    "#for example, pamtra2.hydrometeors.area.powerLaw will be an object\n",
    "# which will be called with pamtra2.hydrometeors.area.powerLaw(diameterCenter,\n",
    "# areaSizeA=areaSizeA,areaSizeB=areaSizeB)\n",
    "\n",
    "\n",
    "\n",
    "pam2.addHydrometeor(\n",
    "    name = 'rain1', #or None, then str(index)\n",
    "    index = 1, #or None, then append\n",
    "    kind = 'liquid', #liquid, ice\n",
    "    nBins =40,\n",
    "    sizes = (\n",
    "        pamtra2.hydrometeors.sizes.linspace, \n",
    "        funcArgs = {\n",
    "            Dmin = 1e-6,\n",
    "            Dmax = 1e-4,\n",
    "        }\n",
    "    ),\n",
    "    psd = (\n",
    "        pamtra2.hydrometeors.sizeDistributions.exponentialLwc, #function/object to call for getting psd\n",
    "        funcArgs = {\n",
    "            lwc : pam2.profile.lwc, #test whether hydrodim is included! for all input vars!\n",
    "            lambd : 10,\n",
    "        },\n",
    "    ),\n",
    "    aspectRatio = (\n",
    "        pamtra2.hydrometeors.aspectRatio.rainAspectRatioModel,\n",
    "        funcArgs = {\n",
    "            sampleKeyword : 10, \n",
    "        },\n",
    "    ),\n",
    "    mass = (\n",
    "        pamtra2.hydrometeors.mass.ellipsoid,\n",
    "    ),\n",
    "    density = (\n",
    "        pamtra2.hydrometeors.density.water, # or 1000.\n",
    "    ),\n",
    "    crossSectionArea = (\n",
    "        pamtra2.hydrometeors.area.ellipsoid,\n",
    "    ),\n",
    ")\n",
    "\n",
    "#in case we already have the full spectrum!\n",
    "\n",
    "pam2.addHydrometeor(\n",
    "    name = 'ice1', #or None, then str(index)\n",
    "    index = 1, #or None, then append\n",
    "    kind = 'liquid', #liquid, ice\n",
    "    nBins =2,\n",
    "    sizes = (\n",
    "        pamtra2.hydrometeors.sizes.monodispers, \n",
    "        funcArgs = {\n",
    "            Dmono = 1e-5,\n",
    "        },\n",
    "    ),\n",
    "    psd = (\n",
    "        pamtra2.profiles.hydrometeor_size_distribution, #array with discrete n(D) exists, but has len ==0.\n",
    "    ),\n",
    "    aspectRatio = (\n",
    "        1.0,\n",
    "    ),\n",
    "    mass = (\n",
    "        pamtra2.hydrometeors.mass.ellipsoid,\n",
    "    ),\n",
    "    density = (\n",
    "        pamtra2.hydrometeors.density.ice, # or 971.\n",
    "    ),\n",
    "    crossSectionArea = (\n",
    "        pamtra2.hydrometeors.area.ellipsoid,\n",
    "    ),\n",
    ")\n",
    "#now the array is prepared because addHydrometeor got an array as an argumetn for psd\n",
    "pam2.profiles.hydrometeor_size_distribution.sel(hydrometeor='ice1')[:] = ICE_PSD_FROM_AIRCRAFT\n",
    "\n",
    "\n",
    "#now also profile.lwc is prepare because we know how many hydrometeors we have:\n",
    "pam2.profile.lwc[:] = 0.1\n",
    "\n",
    "\n",
    "# OR EASIER for all of the above: \n",
    "pamtra2.importer.profiles.CosmoColumsNetcdf('COSMO_column_20170102.nc') #will take care of hydrometeors and profiles\n",
    "\n",
    "\n",
    "#kazr is a copy of the pam object with added information about the instrument\n",
    "kazr = pam2.createInstrument(\n",
    "    name= 'KAZR'\n",
    "    kind = 'dopplerRadar',\n",
    "    #the pamtra2.forwardOperators.spectralRadarSimulator class will contain all the magic and create the object to be retruend\n",
    "    method = pamtra2.forwardOperators.spectralRadarSimulator, \n",
    "    frequencies = [35],\n",
    "    settings = {\n",
    "        'nyquistVMax' : 10,\n",
    "        'nyquistVMin' : -10,\n",
    "        'nFFT' : 512,\n",
    "        'K2': 0.92,\n",
    "        ...\n",
    "    }\n",
    ")\n",
    "\n",
    "\n",
    "#add information about scattering properties\n",
    "kazr.setHydrometeorScattering(\n",
    "    'rain1',\n",
    "    refractiveIndex = (\n",
    "        pamtra2.refractiveIndex.water, \n",
    "        funcArgs = {\n",
    "            'model' : 'Turner',\n",
    "        }\n",
    "    ),\n",
    "    singleScattering = (\n",
    "        pamtra2.singleScattering.tmatrix, \n",
    "        funcArgs = {\n",
    "            'cached' : True,\n",
    "        },\n",
    "    ),\n",
    ")\n",
    "\n",
    "kazr.setHydrometeorScattering(\n",
    "    'snow1', \n",
    "    refractiveIndex = (\n",
    "        pamtra2.refractiveIndex.snow, \n",
    "        funcArgs = {\n",
    "            'model_mix':'Bruggeman',\n",
    "            'model_ice':'Matzler_2006',\n",
    "        }\n",
    "    ),\n",
    "    singleScattering = (\n",
    "        pamtra2.singleScattering.rayleighGans, \n",
    "        funcArgs = {\n",
    "        },\n",
    "    ),\n",
    ")\n",
    "\n",
    "kazr.setHydrometeorScattering(\n",
    "    'ice1',\n",
    "    # refractiveIndex = (), For missing descriptions, default values \n",
    "    # will be used depending on particle kind!\n",
    "    # singleScattering = (\n",
    "    #     pamtra2.singleScattering.mie, \n",
    "    # ),\n",
    ")\n",
    "\n",
    "\n",
    "hatpro = pam2.createInstrument(\n",
    "    name= 'Hatpro'\n",
    "    kind = 'MWR',\n",
    "    #pamtra2.forwardOperators.RT4 will share a lot of code with pamtra2.forwardOperators.spectralRadarSimulator\n",
    "    method = pamtra2.forwardOperators.RT4, \n",
    "    frequencies = [22.24, 23.04, 23.84, 25.44, 26.24, 27.84, 31.40],\n",
    "    settings = {\n",
    "        'bandWidths' : [0.230, 0.230, 0.230, 0.230, 0.230, 0.230, 0.230],\n",
    "        ....\n",
    "    }\n",
    ")\n",
    "\n",
    "#We can either copy the scattering properties or do new ones!\n",
    "hatpro.setHydrometeorScattering(\n",
    "...\n",
    ")\n",
    "\n",
    "\n",
    "\n",
    "ceilo = pam2.createInstrument(\n",
    "    name= 'Ceilo'\n",
    "    kind = 'Ceilometer',\n",
    "    method = pamtra2.forwardOperators.Ceilosim, \n",
    "    wavelengths = [905],\n",
    "    settings = {\n",
    "        'property' : 10,\n",
    "        ...\n",
    "    }\n",
    ")\n",
    "\n",
    "ceilo.setHydrometeorScattering(\n",
    "...\n",
    ")\n",
    "\n",
    "# OR EASIER: \n",
    "WSACR = pamtra.importer.instruments.WSACR(site='Oliktok Point',configuration='20171004')\n",
    "WSACR.setHydrometeorScattering(\n",
    "...\n",
    ")\n",
    "\n",
    "\n",
    "\n",
    "kazr.run() #this command runs all the functions defined above!\n",
    "kazr.results.to_netcdf('kazr.nc')\n",
    "\n",
    "hatpro.run()\n",
    "hatpro.results.to_netcdf('hatpro.nc')\n",
    "\n",
    "ceilo.run()\n",
    "ceilo.results.to_netcdf('ceilo.nc')"
   ]
  },
  {
   "cell_type": "code",
   "execution_count": null,
   "metadata": {},
   "outputs": [],
   "source": [
    "%debug"
   ]
  },
  {
   "cell_type": "code",
   "execution_count": null,
   "metadata": {},
   "outputs": [],
   "source": [
    "np.array(list(map(lambda x,y:x+y**2,np.random.random((10,10)),np.random.random((10,10)))))"
   ]
  },
  {
   "cell_type": "code",
   "execution_count": null,
   "metadata": {},
   "outputs": [],
   "source": []
  },
  {
   "cell_type": "code",
   "execution_count": null,
   "metadata": {},
   "outputs": [],
   "source": []
  },
  {
   "cell_type": "code",
   "execution_count": null,
   "metadata": {},
   "outputs": [],
   "source": [
    "np.asarray(pam2.profile.temperature)"
   ]
  },
  {
   "cell_type": "code",
   "execution_count": null,
   "metadata": {},
   "outputs": [],
   "source": [
    "hyd.discreteProperties.aspectRatio.max()"
   ]
  },
  {
   "cell_type": "code",
   "execution_count": null,
   "metadata": {},
   "outputs": [],
   "source": [
    "import numba\n",
    "\n",
    "@numba.jit(nopython=False)\n",
    "def modifiedGamma(sizeCenter,N0,lambd,mu=0,gamma=1):\n",
    "  \"\"\"\n",
    "  classical modifed gamma distribution\n",
    "\n",
    "  Parameters\n",
    "  ----------\n",
    "  sizeCenter : array_like\n",
    "    particle size at center of size bin\n",
    "  N0 : array_like\n",
    "    N0 prefactor (default None)\n",
    "  lambd : float or array_like\n",
    "    lambda parameter (default array)\n",
    "  mu : float or array_like\n",
    "    mu parameter (default array)\n",
    "  gamma : float or array_like\n",
    "    gamma parameter (default array)\n",
    "\n",
    "  Returns\n",
    "  -------\n",
    "\n",
    "  N : array\n",
    "    particle size distribution with shape = N0.shape + sizeCenter.shape\n",
    "  \"\"\"\n",
    "\n",
    "  N = N0 * sizeCenter**mu * np.exp(-lambd * sizeCenter**gamma)\n",
    "\n",
    "  return N"
   ]
  },
  {
   "cell_type": "code",
   "execution_count": null,
   "metadata": {},
   "outputs": [],
   "source": [
    "\n",
    "\n",
    "\n",
    "sizeCenter=np.zeros((1000,10,4))\n",
    "sizeCenter[:] = np.logspace(-6,-2,4)\n",
    "# sizeCenter =np.logspace(-6,-2,100).reshape((1000,10))\n",
    "N0 = np.random.random((1000,10))\n",
    "lambd = np.random.random((1000,10))\n",
    "\n",
    "# vecFunc = np.vectorize(lambda sizeCenter,N0,lambd : modifiedGamma(sizeCenter,N0,lambd))\n",
    "\n",
    "\n",
    "%timeit modifiedGamma(sizeCenter.T,N0.T,lambd.T).T"
   ]
  }
 ],
 "metadata": {
  "kernelspec": {
   "display_name": "Python 3",
   "language": "python",
   "name": "python3"
  },
  "language_info": {
   "codemirror_mode": {
    "name": "ipython",
    "version": 3
   },
   "file_extension": ".py",
   "mimetype": "text/x-python",
   "name": "python",
   "nbconvert_exporter": "python",
   "pygments_lexer": "ipython3",
   "version": "3.6.5"
  },
  "toc": {
   "base_numbering": 1,
   "nav_menu": {},
   "number_sections": true,
   "sideBar": true,
   "skip_h1_title": false,
   "title_cell": "Table of Contents",
   "title_sidebar": "Contents",
   "toc_cell": false,
   "toc_position": {},
   "toc_section_display": "block",
   "toc_window_display": true
  }
 },
 "nbformat": 4,
 "nbformat_minor": 2
}
