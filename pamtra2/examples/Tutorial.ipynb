{
 "cells": [
  {
   "cell_type": "code",
   "execution_count": 1,
   "metadata": {},
   "outputs": [],
   "source": [
    "import pamtra2\n",
    "import collections\n",
    "import refractiveIndex\n",
    "import numpy as np\n",
    "import pandas as pn\n",
    "import xarray as xr\n",
    "from collections import OrderedDict\n",
    "from copy import deepcopy, copy\n",
    "import toolz\n",
    "import collections\n",
    "import matplotlib.pyplot as plt\n",
    "\n",
    "try:\n",
    "    %matplotlib inline\n",
    "except:\n",
    "    pass"
   ]
  },
  {
   "cell_type": "markdown",
   "metadata": {},
   "source": [
    "# create Profile"
   ]
  },
  {
   "cell_type": "code",
   "execution_count": 2,
   "metadata": {},
   "outputs": [],
   "source": [
    "additionalDims = collections.OrderedDict()\n",
    "additionalDims['time'] = pn.date_range('2016-01-01','2016-01-05',freq='D')[:1]\n",
    "additionalDims['lat'] = np.arange(70,80)\n",
    "nHeights = 100\n",
    "\n",
    "pam2 = pamtra2.pamtra2(\n",
    "    nLayer=nHeights,\n",
    "    hydrometeors=['rain','snow'],\n",
    "    additionalDims = additionalDims,\n",
    "    frequencies = [35e9, 94e9],\n",
    ")\n",
    "\n"
   ]
  },
  {
   "cell_type": "code",
   "execution_count": 3,
   "metadata": {},
   "outputs": [
    {
     "data": {
      "text/plain": [
       "<xarray.customProfile>\n",
       "Dimensions:              (frequency: 2, hydrometeor: 2, lat: 10, layer: 100, time: 1)\n",
       "Coordinates:\n",
       "  * time                 (time) datetime64[ns] 2016-01-01\n",
       "  * lat                  (lat) int64 70 71 72 73 74 75 76 77 78 79\n",
       "  * layer                (layer) int64 0 1 2 3 4 5 6 7 8 9 10 11 12 13 14 15 ...\n",
       "  * hydrometeor          (hydrometeor) <U4 'rain' 'snow'\n",
       "  * frequency            (frequency) float64 3.5e+10 9.4e+10\n",
       "Data variables:\n",
       "    height               (time, lat, layer) float64 nan nan nan nan nan nan ...\n",
       "    temperature          (time, lat, layer) float64 nan nan nan nan nan nan ...\n",
       "    pressure             (time, lat, layer) float64 nan nan nan nan nan nan ...\n",
       "    relativeHumidity     (time, lat, layer) float64 nan nan nan nan nan nan ...\n",
       "    horizontalWind       (time, lat, layer) float64 nan nan nan nan nan nan ...\n",
       "    verticalWind         (time, lat, layer) float64 nan nan nan nan nan nan ...\n",
       "    eddyDissipationRate  (time, lat, layer) float64 nan nan nan nan nan nan ...\n",
       "    waterContent         (time, lat, layer, hydrometeor) float64 nan nan nan ...\n",
       "    wavelength           (frequency) float64 0.008565 0.003189"
      ]
     },
     "execution_count": 3,
     "metadata": {},
     "output_type": "execute_result"
    }
   ],
   "source": [
    "pam2.profile"
   ]
  },
  {
   "cell_type": "markdown",
   "metadata": {},
   "source": [
    "Fill with some dummie values"
   ]
  },
  {
   "cell_type": "code",
   "execution_count": 4,
   "metadata": {},
   "outputs": [],
   "source": [
    "\n",
    "pam2.profile.height[:] = np.linspace(0,1000,nHeights)\n",
    "pam2.profile.temperature[:] = 250 \n",
    "pam2.profile.relativeHumidity[:] = 90\n",
    "pam2.profile.pressure[:] = 100000\n",
    "pam2.profile.eddyDissipationRate[:] = 1e-4\n",
    "pam2.profile.horizontalWind[:] = 0\n",
    "\n",
    "\n",
    "\n",
    "pam2.profile.waterContent.values[:] = 0\n",
    "#rain\n",
    "pam2.profile.waterContent.values[...,20:40,0] = 1e-4\n",
    "#snow\n",
    "pam2.profile.waterContent.values[...,20:40,1] = 2e-4\n",
    "\n"
   ]
  },
  {
   "cell_type": "markdown",
   "metadata": {},
   "source": [
    "For testing, dask arrays are turned on by chunking."
   ]
  },
  {
   "cell_type": "code",
   "execution_count": 5,
   "metadata": {
    "scrolled": true
   },
   "outputs": [],
   "source": [
    "pam2.profile = pam2.profile.chunk({'time':1, 'hydrometeor':1, 'lat':1, 'frequency':1})"
   ]
  },
  {
   "cell_type": "code",
   "execution_count": 6,
   "metadata": {},
   "outputs": [
    {
     "data": {
      "text/plain": [
       "<xarray.customProfile>\n",
       "Dimensions:              (frequency: 2, hydrometeor: 2, lat: 10, layer: 100, time: 1)\n",
       "Coordinates:\n",
       "  * time                 (time) datetime64[ns] 2016-01-01\n",
       "  * lat                  (lat) int64 70 71 72 73 74 75 76 77 78 79\n",
       "  * layer                (layer) int64 0 1 2 3 4 5 6 7 8 9 10 11 12 13 14 15 ...\n",
       "  * hydrometeor          (hydrometeor) <U4 'rain' 'snow'\n",
       "  * frequency            (frequency) float64 3.5e+10 9.4e+10\n",
       "Data variables:\n",
       "    height               (time, lat, layer) float64 dask.array<shape=(1, 10, 100), chunksize=(1, 1, 100)>\n",
       "    temperature          (time, lat, layer) float64 dask.array<shape=(1, 10, 100), chunksize=(1, 1, 100)>\n",
       "    pressure             (time, lat, layer) float64 dask.array<shape=(1, 10, 100), chunksize=(1, 1, 100)>\n",
       "    relativeHumidity     (time, lat, layer) float64 dask.array<shape=(1, 10, 100), chunksize=(1, 1, 100)>\n",
       "    horizontalWind       (time, lat, layer) float64 dask.array<shape=(1, 10, 100), chunksize=(1, 1, 100)>\n",
       "    verticalWind         (time, lat, layer) float64 dask.array<shape=(1, 10, 100), chunksize=(1, 1, 100)>\n",
       "    eddyDissipationRate  (time, lat, layer) float64 dask.array<shape=(1, 10, 100), chunksize=(1, 1, 100)>\n",
       "    waterContent         (time, lat, layer, hydrometeor) float64 dask.array<shape=(1, 10, 100, 2), chunksize=(1, 1, 100, 1)>\n",
       "    wavelength           (frequency) float64 dask.array<shape=(2,), chunksize=(1,)>\n",
       "    dryAirDensity        (time, lat, layer) float64 dask.array<shape=(1, 10, 100), chunksize=(1, 1, 100)>\n",
       "    airDensity           (time, lat, layer) float64 dask.array<shape=(1, 10, 100), chunksize=(1, 1, 100)>\n",
       "    dynamicViscosity     (time, lat, layer) float64 dask.array<shape=(1, 10, 100), chunksize=(1, 1, 100)>\n",
       "    kinematicViscosity   (time, lat, layer) float64 dask.array<shape=(1, 10, 100), chunksize=(1, 1, 100)>"
      ]
     },
     "execution_count": 6,
     "metadata": {},
     "output_type": "execute_result"
    }
   ],
   "source": [
    "pam2.addMissingVariables()\n",
    "pam2.profile "
   ]
  },
  {
   "cell_type": "code",
   "execution_count": 7,
   "metadata": {},
   "outputs": [],
   "source": [
    "# # OR EASIER if desired: \n",
    "# pam2 = pamtra2.importers.profiles.usStandardAtmosphere(heigths)"
   ]
  },
  {
   "cell_type": "markdown",
   "metadata": {},
   "source": [
    "# Describe Hydrometeors\n",
    "To describe the hydrometeors, you can use functions, xr.DataArrays or scalars. Teh functions must support xr.DataArrays. The kwargs of the functions are gathered from (in this order)\n",
    "\n",
    "1. pam2.hydrometors.name.profile variables (name must match). E.g. density (after it has been calculated) \n",
    "2. pam2.profile variables (name must match). E.g. temperature\n",
    "3. Other provided kwargs (e.g. Dmin, DMax, N0 etc)\n",
    "4. Default function arguments. Can be turned of with useFuncArgDefaults = False to make sure everything is explicitly covered.\n",
    "\n"
   ]
  },
  {
   "cell_type": "code",
   "execution_count": 8,
   "metadata": {},
   "outputs": [
    {
     "name": "stdout",
     "output_type": "stream",
     "text": [
      "sizeBounds <function linspaceBounds at 0x10f4bfd08>\n",
      "callable\n",
      "sizeCenter <function boundsToMid at 0x10f4bfe18>\n",
      "callable\n",
      "sizeBoundsWidth <function boundsWidth at 0x10f4bfea0>\n",
      "callable\n",
      "aspectRatio 1.0\n",
      "not callable 1.0\n",
      "density 1000.0\n",
      "not callable 1000.0\n",
      "mass <function ellipsoid at 0x310484048>\n",
      "callable\n",
      "crossSectionArea <function sphere at 0x3104846a8>\n",
      "callable\n",
      "sizeDistribution <function exponentialN0WC at 0x310484400>\n",
      "callable\n",
      "relativePermittivity <function turner_kneifel_cadeddu at 0x4110b3488>\n",
      "callable\n"
     ]
    },
    {
     "name": "stderr",
     "output_type": "stream",
     "text": [
      "/Volumes/User/mmaahn/anaconda/envs/python3/lib/python3.6/site-packages/pamtra2/hydrometeors/sizeDistribution.py:301: UserWarning: Truncation effect on the PSD are not considered. I.e., typically mass is lost!\n",
      "  warnings.warn('Truncation effect on the PSD are not considered. '\n",
      "/Volumes/User/mmaahn/anaconda/envs/python3/lib/python3.6/site-packages/dask/local.py:271: RuntimeWarning: divide by zero encountered in true_divide\n",
      "  return func(*args2)\n"
     ]
    },
    {
     "name": "stdout",
     "output_type": "stream",
     "text": [
      "scattering <function Rayleigh at 0x310484ae8>\n",
      "callable\n",
      "fallVelocity <function khvorostyanov01_drops at 0x4110a81e0>\n",
      "callable\n",
      "nBins 40\n",
      "not callable 40\n",
      "Dmin 1e-06\n",
      "not callable 1e-06\n",
      "Dmax 0.01\n",
      "not callable 0.01\n",
      "N0 8000000.0\n",
      "not callable 8000000.0\n"
     ]
    },
    {
     "name": "stderr",
     "output_type": "stream",
     "text": [
      "/Volumes/User/mmaahn/anaconda/envs/python3/lib/python3.6/_collections_abc.py:720: FutureWarning: iteration over an xarray.Dataset will change in xarray v0.11 to only include data variables, not coordinates. Iterate over the Dataset.variables property instead to preserve existing behavior in a forwards compatible manner.\n",
      "  yield from self._mapping\n"
     ]
    },
    {
     "data": {
      "text/plain": [
       "<pamtra2.hydrometeors.core.softEllipsoidFixedDensity at 0x4126ae780>"
      ]
     },
     "execution_count": 8,
     "metadata": {},
     "output_type": "execute_result"
    }
   ],
   "source": [
    "\n",
    "pam2.describeHydrometeor(\n",
    "    pamtra2.hydrometeors.softEllipsoidFixedDensity,\n",
    "    name = 'rain', #or None, then str(index)\n",
    "    nBins =40,\n",
    "    sizeBounds = pamtra2.hydrometeors.size.linspaceBounds, \n",
    "    sizeCenter = pamtra2.hydrometeors.size.boundsToMid,\n",
    "    sizeBoundsWidth = pamtra2.hydrometeors.size.boundsWidth,\n",
    "    sizeDistribution = pamtra2.hydrometeors.sizeDistribution.exponentialN0WC, \n",
    "    aspectRatio = 1.0,\n",
    "    mass = pamtra2.hydrometeors.mass.ellipsoid,\n",
    "    density = pamtra2.hydrometeors.density.water,\n",
    "    crossSectionArea = pamtra2.hydrometeors.crossSectionArea.sphere,\n",
    "    relativePermittivity = refractiveIndex.water.turner_kneifel_cadeddu, #replace with refractiveIndex.water.Turner.n\n",
    "    scattering = pamtra2.hydrometeors.scattering.Rayleigh,\n",
    "    fallVelocity = pamtra2.hydrometeors.fallVelocity.khvorostyanov01_drops,\n",
    "    Dmin  = 1e-6,\n",
    "    Dmax  = 1e-2,\n",
    "    N0 =  8e6,\n",
    "    useFuncArgDefaults = True,\n",
    ")\n"
   ]
  },
  {
   "cell_type": "markdown",
   "metadata": {},
   "source": [
    "Note that there is a warning in case not all arguments are used"
   ]
  },
  {
   "cell_type": "code",
   "execution_count": 9,
   "metadata": {
    "scrolled": true
   },
   "outputs": [
    {
     "name": "stderr",
     "output_type": "stream",
     "text": [
      "/Volumes/User/mmaahn/anaconda/envs/python3/lib/python3.6/site-packages/pamtra2/hydrometeors/sizeDistribution.py:301: UserWarning: Truncation effect on the PSD are not considered. I.e., typically mass is lost!\n",
      "  warnings.warn('Truncation effect on the PSD are not considered. '\n",
      "/Volumes/User/mmaahn/anaconda/envs/python3/lib/python3.6/site-packages/dask/local.py:271: RuntimeWarning: divide by zero encountered in true_divide\n",
      "  return func(*args2)\n"
     ]
    },
    {
     "name": "stdout",
     "output_type": "stream",
     "text": [
      "sizeBounds <function logspaceBounds at 0x10f4bfd90>\n",
      "callable\n",
      "sizeCenter <function boundsToMid at 0x10f4bfe18>\n",
      "callable\n",
      "sizeBoundsWidth <function boundsWidth at 0x10f4bfea0>\n",
      "callable\n",
      "aspectRatio 0.6\n",
      "not callable 0.6\n",
      "mass <function powerLaw at 0x31047df28>\n",
      "callable\n",
      "density <function softEllipsoid at 0x3104847b8>\n",
      "callable\n",
      "crossSectionArea <function powerLaw at 0x310484620>\n",
      "callable\n",
      "sizeDistribution <function exponentialFieldWC at 0x3104842f0>\n",
      "callable\n",
      "relativePermittivity <function eps at 0x4110b32f0>\n",
      "callable\n",
      "scattering <function Mie at 0x310484a60>\n",
      "callable\n",
      "fallVelocity <function heymsfield10_particles at 0x310484c80>\n",
      "callable\n",
      "nBins 20\n",
      "not callable 20\n",
      "Dmin 1e-06\n",
      "not callable 1e-06\n",
      "Dmax 0.01\n",
      "not callable 0.01\n",
      "massSizeA 0.0121\n",
      "not callable 0.0121\n",
      "massSizeB 1.9\n",
      "not callable 1.9\n",
      "areaSizeA 0.4\n",
      "not callable 0.4\n",
      "areaSizeB 1.8\n",
      "not callable 1.8\n",
      "minDensity 100\n",
      "not callable 100\n",
      "bla 12\n",
      "not callable 12\n"
     ]
    },
    {
     "name": "stderr",
     "output_type": "stream",
     "text": [
      "/Volumes/User/mmaahn/anaconda/envs/python3/lib/python3.6/_collections_abc.py:720: FutureWarning: iteration over an xarray.Dataset will change in xarray v0.11 to only include data variables, not coordinates. Iterate over the Dataset.variables property instead to preserve existing behavior in a forwards compatible manner.\n",
      "  yield from self._mapping\n",
      "/Volumes/User/mmaahn/anaconda/envs/python3/lib/python3.6/site-packages/pamtra2/hydrometeors/core.py:273: UserWarning: The following kwargs were NOT used: ['bla']\n",
      "  '%s' % self._keysToBeUsed)\n"
     ]
    },
    {
     "data": {
      "text/plain": [
       "<pamtra2.hydrometeors.core.softEllipsoidMassSize at 0x4126ae2e8>"
      ]
     },
     "execution_count": 9,
     "metadata": {},
     "output_type": "execute_result"
    }
   ],
   "source": [
    "pam2.describeHydrometeor(\n",
    "    pamtra2.hydrometeors.softEllipsoidMassSize,\n",
    "    name='snow',\n",
    "    nBins = 20,\n",
    "    sizeBounds=pamtra2.hydrometeors.size.logspaceBounds, #function/object to call for getting sizes\n",
    "    sizeCenter = pamtra2.hydrometeors.size.boundsToMid,\n",
    "    sizeBoundsWidth = pamtra2.hydrometeors.size.boundsWidth,\n",
    "    sizeDistribution = pamtra2.hydrometeors.sizeDistribution.exponentialFieldWC,\n",
    "    aspectRatio = 0.6,\n",
    "    crossSectionArea = pamtra2.hydrometeors.crossSectionArea.powerLaw,\n",
    "    mass = pamtra2.hydrometeors.mass.powerLaw,\n",
    "    density = pamtra2.hydrometeors.density.softEllipsoid,\n",
    "    #to do: adapt refractiveIndex routine so that mixing and RI are treated separately. \n",
    "    relativePermittivity = refractiveIndex.snow.eps,\n",
    "    scattering = pamtra2.hydrometeors.scattering.Mie,\n",
    "    fallVelocity = pamtra2.hydrometeors.fallVelocity.heymsfield10_particles,\n",
    "    Dmin = 1e-6,\n",
    "    Dmax = 1e-2,\n",
    "    massSizeA = 0.0121, \n",
    "    massSizeB = 1.9,\n",
    "    areaSizeA = 0.4,\n",
    "    areaSizeB = 1.8,\n",
    "    minDensity = 100,\n",
    "    bla = 12,\n",
    "    useFuncArgDefaults = True,\n",
    "    )\n"
   ]
  },
  {
   "cell_type": "markdown",
   "metadata": {},
   "source": [
    "We have access to a lot of internal properties, like the fall velocityu of particles"
   ]
  },
  {
   "cell_type": "code",
   "execution_count": 10,
   "metadata": {},
   "outputs": [],
   "source": [
    "# plt.plot(\n",
    "#     pam2.hydrometeors.rain.profile.sizeCenter,\n",
    "#     pam2.hydrometeors.rain.profile.fallVelocity.isel(layer=10,time=0,lat=0),\n",
    "#     label = 'rain')\n",
    "# plt.plot(\n",
    "#     pam2.hydrometeors.snow.profile.sizeCenter,\n",
    "#     pam2.hydrometeors.snow.profile.fallVelocity.isel(layer=10,time=0,lat=0),\n",
    "#     label = 'snow')\n",
    "# plt.legend()\n",
    "# plt.grid()\n"
   ]
  },
  {
   "cell_type": "markdown",
   "metadata": {},
   "source": [
    "The profile arrays have been populated, but they contain daks arrays. These are only placeholders, they have not been calculated yet!"
   ]
  },
  {
   "cell_type": "code",
   "execution_count": 11,
   "metadata": {},
   "outputs": [
    {
     "data": {
      "text/plain": [
       "(<xarray.Dataset>\n",
       " Dimensions:                  (frequency: 2, lat: 10, layer: 100, sizeBin: 40, sizeBin1: 41, time: 1)\n",
       " Coordinates:\n",
       "   * sizeBin                  (sizeBin) int64 0 1 2 3 4 5 6 7 8 9 10 11 12 13 ...\n",
       "   * sizeBin1                 (sizeBin1) int64 0 1 2 3 4 5 6 7 8 9 10 11 12 ...\n",
       "   * time                     (time) datetime64[ns] 2016-01-01\n",
       "   * lat                      (lat) int64 70 71 72 73 74 75 76 77 78 79\n",
       "   * layer                    (layer) int64 0 1 2 3 4 5 6 7 8 9 10 11 12 13 ...\n",
       "   * frequency                (frequency) float64 3.5e+10 9.4e+10\n",
       " Data variables:\n",
       "     sizeBounds               (sizeBin1) float64 1e-06 0.000251 0.000501 ...\n",
       "     sizeCenter               (sizeBin) float64 0.000126 0.000376 0.0006259 ...\n",
       "     sizeBoundsWidth          (sizeBin) float64 0.00025 0.00025 0.00025 ...\n",
       "     aspectRatio              float64 1.0\n",
       "     density                  float64 1e+03\n",
       "     mass                     (sizeBin) float64 1.047e-09 2.782e-08 1.284e-07 ...\n",
       "     crossSectionArea         (sizeBin) float64 1.247e-08 1.11e-07 3.077e-07 ...\n",
       "     sizeDistribution         (sizeBin, time, lat, layer) float64 dask.array<shape=(40, 1, 10, 100), chunksize=(40, 1, 1, 100)>\n",
       "     relativePermittivity     (time, lat, layer, frequency) complex128 dask.array<shape=(1, 10, 100, 2), chunksize=(1, 1, 100, 2)>\n",
       "     fallVelocity             (sizeBin, time, lat, layer) float64 dask.array<shape=(40, 1, 10, 100), chunksize=(40, 1, 1, 100)>\n",
       "     nBins                    int64 40\n",
       "     Dmin                     float64 1e-06\n",
       "     Dmax                     float64 0.01\n",
       "     N0                       float64 8e+06\n",
       "     extinctionCrossSection   (sizeBin, frequency, time, lat, layer) float64 dask.array<shape=(40, 2, 1, 10, 100), chunksize=(40, 1, 1, 1, 100)>\n",
       "     scatterCrossSection      (sizeBin, frequency, time, lat, layer) float64 dask.array<shape=(40, 2, 1, 10, 100), chunksize=(40, 1, 1, 1, 100)>\n",
       "     absorptionCrossSection   (sizeBin, frequency, time, lat, layer) float64 dask.array<shape=(40, 2, 1, 10, 100), chunksize=(40, 1, 1, 1, 100)>\n",
       "     backscatterCrossSection  (sizeBin, frequency, time, lat, layer) float64 dask.array<shape=(40, 2, 1, 10, 100), chunksize=(40, 1, 1, 1, 100)>,\n",
       " <xarray.Dataset>\n",
       " Dimensions:                  (frequency: 2, lat: 10, layer: 100, sizeBin: 20, sizeBin1: 21, time: 1)\n",
       " Coordinates:\n",
       "   * sizeBin                  (sizeBin) int64 0 1 2 3 4 5 6 7 8 9 10 11 12 13 ...\n",
       "   * sizeBin1                 (sizeBin1) int64 0 1 2 3 4 5 6 7 8 9 10 11 12 ...\n",
       "   * time                     (time) datetime64[ns] 2016-01-01\n",
       "   * lat                      (lat) int64 70 71 72 73 74 75 76 77 78 79\n",
       "   * layer                    (layer) int64 0 1 2 3 4 5 6 7 8 9 10 11 12 13 ...\n",
       "   * frequency                (frequency) float64 3.5e+10 9.4e+10\n",
       " Data variables:\n",
       "     sizeBounds               (sizeBin1) float64 1e-06 1.585e-06 2.512e-06 ...\n",
       "     sizeCenter               (sizeBin) float64 1.292e-06 2.048e-06 3.246e-06 ...\n",
       "     sizeBoundsWidth          (sizeBin) float64 5.849e-07 9.27e-07 1.469e-06 ...\n",
       "     aspectRatio              float64 0.6\n",
       "     mass                     (sizeBin) float64 7.843e-14 1.881e-13 4.513e-13 ...\n",
       "     density                  (sizeBin) float64 917.0 917.0 917.0 917.0 917.0 ...\n",
       "     crossSectionArea         (sizeBin) float64 1.006e-11 2.305e-11 5.28e-11 ...\n",
       "     sizeDistribution         (time, lat, layer, sizeBin) float64 dask.array<shape=(1, 10, 100, 20), chunksize=(1, 1, 100, 20)>\n",
       "     relativePermittivity     (sizeBin, time, lat, layer, frequency) complex128 dask.array<shape=(20, 1, 10, 100, 2), chunksize=(20, 1, 1, 100, 2)>\n",
       "     fallVelocity             (time, lat, layer, sizeBin) float64 dask.array<shape=(1, 10, 100, 20), chunksize=(1, 1, 100, 20)>\n",
       "     nBins                    int64 20\n",
       "     Dmin                     float64 1e-06\n",
       "     Dmax                     float64 0.01\n",
       "     massSizeA                float64 0.0121\n",
       "     massSizeB                float64 1.9\n",
       "     areaSizeA                float64 0.4\n",
       "     areaSizeB                float64 1.8\n",
       "     minDensity               int64 100\n",
       "     bla                      int64 12\n",
       "     extinctionCrossSection   (sizeBin, frequency, time, lat, layer) float64 dask.array<shape=(20, 2, 1, 10, 100), chunksize=(20, 1, 1, 1, 100)>\n",
       "     scatterCrossSection      (sizeBin, frequency, time, lat, layer) float64 dask.array<shape=(20, 2, 1, 10, 100), chunksize=(20, 1, 1, 1, 100)>\n",
       "     absorptionCrossSection   (sizeBin, frequency, time, lat, layer) float64 dask.array<shape=(20, 2, 1, 10, 100), chunksize=(20, 1, 1, 1, 100)>\n",
       "     backscatterCrossSection  (sizeBin, frequency, time, lat, layer) float64 dask.array<shape=(20, 2, 1, 10, 100), chunksize=(20, 1, 1, 1, 100)>)"
      ]
     },
     "execution_count": 11,
     "metadata": {},
     "output_type": "execute_result"
    }
   ],
   "source": [
    "pam2.hydrometeors.rain.profile, pam2.hydrometeors.snow.profile"
   ]
  },
  {
   "cell_type": "markdown",
   "metadata": {},
   "source": [
    "Force computation with e.g.\n",
    "`pam2.hydrometeors.rain.profile.compute()` or `pam2.hydrometeors.rain.profile.to_netcdf()` or  or `pam2.hydrometeors.rain.profile.fallVelocity.plot()`"
   ]
  },
  {
   "cell_type": "markdown",
   "metadata": {},
   "source": [
    "# Radar simulator\n"
   ]
  },
  {
   "cell_type": "code",
   "execution_count": 12,
   "metadata": {},
   "outputs": [
    {
     "name": "stderr",
     "output_type": "stream",
     "text": [
      "/Volumes/User/mmaahn/anaconda/envs/python3/lib/python3.6/site-packages/pamtra2/instruments/radar.py:66: UserWarning: only hydrometeor attenuation is considered by now!\n",
      "  warnings.warn('only hydrometeor attenuation is considered by now!')\n"
     ]
    },
    {
     "data": {
      "text/plain": [
       "<pamtra2.instruments.radar.dopplerRadarPamtra at 0x4126a3978>"
      ]
     },
     "execution_count": 12,
     "metadata": {},
     "output_type": "execute_result"
    }
   ],
   "source": [
    "pam2.profile['pathIntegratedAtenuattion'] = xr.zeros_like(pam2.profile.height)\n",
    "\n",
    "\n",
    "pam2.addInstrument(\n",
    "    pamtra2.instruments.radar.dopplerRadarPamtra,\n",
    "    name = 'test',\n",
    "    frequencies = 3.5e+10,    \n",
    "        radarMaxV=7.885,\n",
    "        radarMinV=-7.885,\n",
    "        radarAliasingNyquistInterv=1,\n",
    "        radarNFFT=256,\n",
    "        verbosity=0,\n",
    "        radarAirmotion=True,\n",
    "        radarAirmotionModel=\"constant\",  # \"constant\",\"linear\",\"step\"\n",
    "        radarAirmotionVmin=0,\n",
    "        radarAirmotionVmax=0,\n",
    "        radarAirmotionLinearSteps=30,\n",
    "        radarAirmotionStepVmin=0.5,\n",
    "        radarK2=0.93,         # dielectric constant |K|² (always for liquid water by convention) for the radar equation\n",
    "        radarBeamwidthDeg=0.2,\n",
    "        radarIntegrationTime=60,\n",
    "        radarPNoise1000=-30,\n",
    "        radarNAve=150,\n",
    "        seed=0,\n",
    ")"
   ]
  },
  {
   "cell_type": "markdown",
   "metadata": {},
   "source": [
    "Again, the results are not estimated yet when using dask."
   ]
  },
  {
   "cell_type": "code",
   "execution_count": 13,
   "metadata": {},
   "outputs": [
    {
     "data": {
      "text/plain": [
       "<xarray.Dataset>\n",
       "Dimensions:                    (dopplerVelocity: 256, dopplerVelocityAliased: 768, frequency: 1, lat: 10, layer: 100, peak: 2, time: 1)\n",
       "Coordinates:\n",
       "  * frequency                  (frequency) float64 3.5e+10\n",
       "  * time                       (time) datetime64[ns] 2016-01-01\n",
       "  * lat                        (lat) int64 70 71 72 73 74 75 76 77 78 79\n",
       "  * layer                      (layer) int64 0 1 2 3 4 5 6 7 8 9 10 11 12 13 ...\n",
       "  * dopplerVelocity            (dopplerVelocity) float64 -7.885 -7.823 ...\n",
       "  * peak                       (peak) int64 1 2\n",
       "Dimensions without coordinates: dopplerVelocityAliased\n",
       "Data variables:\n",
       "    radarIdealizedSpectrum     (dopplerVelocityAliased, time, lat, layer, frequency) float64 dask.array<shape=(768, 1, 10, 100, 1), chunksize=(768, 1, 1, 100, 1)>\n",
       "    radarSpectrum              (dopplerVelocity, time, lat, layer, frequency) float64 dask.array<shape=(256, 1, 10, 100, 1), chunksize=(256, 1, 1, 100, 1)>\n",
       "    radarReflectivity          (peak, time, lat, layer, frequency) float64 dask.array<shape=(2, 1, 10, 100, 1), chunksize=(2, 1, 1, 100, 1)>\n",
       "    meanDopplerVel             (peak, time, lat, layer, frequency) float64 dask.array<shape=(2, 1, 10, 100, 1), chunksize=(2, 1, 1, 100, 1)>\n",
       "    spectrumWidth              (peak, time, lat, layer, frequency) float64 dask.array<shape=(2, 1, 10, 100, 1), chunksize=(2, 1, 1, 100, 1)>\n",
       "    skewness                   (peak, time, lat, layer, frequency) float64 dask.array<shape=(2, 1, 10, 100, 1), chunksize=(2, 1, 1, 100, 1)>\n",
       "    kurtosis                   (peak, time, lat, layer, frequency) float64 dask.array<shape=(2, 1, 10, 100, 1), chunksize=(2, 1, 1, 100, 1)>\n",
       "    leftSlope                  (peak, time, lat, layer, frequency) float64 dask.array<shape=(2, 1, 10, 100, 1), chunksize=(2, 1, 1, 100, 1)>\n",
       "    rightSlope                 (peak, time, lat, layer, frequency) float64 dask.array<shape=(2, 1, 10, 100, 1), chunksize=(2, 1, 1, 100, 1)>\n",
       "    leftEdge                   (peak, time, lat, layer, frequency) float64 dask.array<shape=(2, 1, 10, 100, 1), chunksize=(2, 1, 1, 100, 1)>\n",
       "    rightEdge                  (peak, time, lat, layer, frequency) float64 dask.array<shape=(2, 1, 10, 100, 1), chunksize=(2, 1, 1, 100, 1)>\n",
       "    quality                    (time, lat, layer, frequency) float64 dask.array<shape=(1, 10, 100, 1), chunksize=(1, 1, 100, 1)>\n",
       "    noiseMean                  (time, lat, layer, frequency) float64 dask.array<shape=(1, 10, 100, 1), chunksize=(1, 1, 100, 1)>\n",
       "    attenuation                (frequency, time, lat, layer) float64 dask.array<shape=(1, 1, 10, 100), chunksize=(1, 1, 1, 100)>\n",
       "    pathIntegratedAttBottomUp  (frequency, time, lat, layer) float64 dask.array<shape=(1, 1, 10, 100), chunksize=(1, 1, 1, 100)>\n",
       "    pathIntegratedAttTopDown   (frequency, time, lat, layer) float64 dask.array<shape=(1, 1, 10, 100), chunksize=(1, 1, 1, 100)>"
      ]
     },
     "execution_count": 13,
     "metadata": {},
     "output_type": "execute_result"
    }
   ],
   "source": [
    "pam2.instruments.test.results\n"
   ]
  },
  {
   "cell_type": "markdown",
   "metadata": {},
   "source": [
    "Do the numbers!"
   ]
  },
  {
   "cell_type": "code",
   "execution_count": 14,
   "metadata": {},
   "outputs": [
    {
     "name": "stderr",
     "output_type": "stream",
     "text": [
      "/Volumes/User/mmaahn/anaconda/envs/python3/lib/python3.6/site-packages/dask/local.py:271: RuntimeWarning: divide by zero encountered in true_divide\n",
      "  return func(*args2)\n",
      "/Volumes/User/mmaahn/anaconda/envs/python3/lib/python3.6/site-packages/pyPamtraRadarMoments/core.py:167: RuntimeWarning: invalid value encountered in log10\n",
      "  noiseMean = 10*np.log10(momentsSpecNoiseMean * radarNFFT * del_v)\n"
     ]
    },
    {
     "data": {
      "text/plain": [
       "<xarray.Dataset>\n",
       "Dimensions:                    (dopplerVelocity: 256, dopplerVelocityAliased: 768, frequency: 1, lat: 10, layer: 100, peak: 2, time: 1)\n",
       "Coordinates:\n",
       "  * frequency                  (frequency) float64 3.5e+10\n",
       "  * time                       (time) datetime64[ns] 2016-01-01\n",
       "  * lat                        (lat) int64 70 71 72 73 74 75 76 77 78 79\n",
       "  * layer                      (layer) int64 0 1 2 3 4 5 6 7 8 9 10 11 12 13 ...\n",
       "  * dopplerVelocity            (dopplerVelocity) float64 -7.885 -7.823 ...\n",
       "  * peak                       (peak) int64 1 2\n",
       "Dimensions without coordinates: dopplerVelocityAliased\n",
       "Data variables:\n",
       "    radarIdealizedSpectrum     (dopplerVelocityAliased, time, lat, layer, frequency) float64 0.0 ...\n",
       "    radarSpectrum              (dopplerVelocity, time, lat, layer, frequency) float64 -9.999e+03 ...\n",
       "    radarReflectivity          (peak, time, lat, layer, frequency) float64 nan ...\n",
       "    meanDopplerVel             (peak, time, lat, layer, frequency) float64 nan ...\n",
       "    spectrumWidth              (peak, time, lat, layer, frequency) float64 nan ...\n",
       "    skewness                   (peak, time, lat, layer, frequency) float64 nan ...\n",
       "    kurtosis                   (peak, time, lat, layer, frequency) float64 nan ...\n",
       "    leftSlope                  (peak, time, lat, layer, frequency) float64 nan ...\n",
       "    rightSlope                 (peak, time, lat, layer, frequency) float64 nan ...\n",
       "    leftEdge                   (peak, time, lat, layer, frequency) float64 nan ...\n",
       "    rightEdge                  (peak, time, lat, layer, frequency) float64 nan ...\n",
       "    quality                    (time, lat, layer, frequency) float64 64.0 ...\n",
       "    noiseMean                  (time, lat, layer, frequency) float64 nan ...\n",
       "    attenuation                (frequency, time, lat, layer) float64 0.0 0.0 ...\n",
       "    pathIntegratedAttBottomUp  (frequency, time, lat, layer) float64 0.0 0.0 ...\n",
       "    pathIntegratedAttTopDown   (frequency, time, lat, layer) float64 0.115 ..."
      ]
     },
     "execution_count": 14,
     "metadata": {},
     "output_type": "execute_result"
    }
   ],
   "source": [
    "pam2.instruments.test.results.load()"
   ]
  },
  {
   "cell_type": "code",
   "execution_count": 15,
   "metadata": {},
   "outputs": [
    {
     "data": {
      "text/plain": [
       "<matplotlib.collections.QuadMesh at 0x41273d048>"
      ]
     },
     "execution_count": 15,
     "metadata": {},
     "output_type": "execute_result"
    },
    {
     "data": {
      "image/png": "[encoded data removed]",
      "text/plain": [
       "<Figure size 432x288 with 2 Axes>"
      ]
     },
     "metadata": {},
     "output_type": "display_data"
    }
   ],
   "source": [
    "pam2.instruments.test.results.radarReflectivity.isel(peak=0).T.plot()\n"
   ]
  },
  {
   "cell_type": "code",
   "execution_count": 18,
   "metadata": {},
   "outputs": [
    {
     "data": {
      "text/plain": [
       "<matplotlib.collections.QuadMesh at 0x412b1ff98>"
      ]
     },
     "execution_count": 18,
     "metadata": {},
     "output_type": "execute_result"
    },
    {
     "data": {
      "image/png": "[encoded data removed]",
      "text/plain": [
       "<Figure size 432x288 with 2 Axes>"
      ]
     },
     "metadata": {},
     "output_type": "display_data"
    }
   ],
   "source": [
    "pam2.instruments.test.results.pathIntegratedAttTopDown.T.plot()\n",
    "\n"
   ]
  },
  {
   "cell_type": "code",
   "execution_count": null,
   "metadata": {},
   "outputs": [],
   "source": []
  }
 ],
 "metadata": {
  "kernelspec": {
   "display_name": "Python 3",
   "language": "python",
   "name": "python3"
  },
  "language_info": {
   "codemirror_mode": {
    "name": "ipython",
    "version": 3
   },
   "file_extension": ".py",
   "mimetype": "text/x-python",
   "name": "python",
   "nbconvert_exporter": "python",
   "pygments_lexer": "ipython3",
   "version": "3.6.5"
  },
  "toc": {
   "base_numbering": 1,
   "nav_menu": {},
   "number_sections": true,
   "sideBar": true,
   "skip_h1_title": false,
   "title_cell": "Table of Contents",
   "title_sidebar": "Contents",
   "toc_cell": false,
   "toc_position": {
    "height": "calc(100% - 180px)",
    "left": "10px",
    "top": "150px",
    "width": "249px"
   },
   "toc_section_display": "block",
   "toc_window_display": true
  }
 },
 "nbformat": 4,
 "nbformat_minor": 2
}
