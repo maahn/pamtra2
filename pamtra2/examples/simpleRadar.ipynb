{
 "cells": [
  {
   "cell_type": "markdown",
   "metadata": {},
   "source": [
    "# Simple Radar"
   ]
  },
  {
   "cell_type": "code",
   "execution_count": 1,
   "metadata": {},
   "outputs": [],
   "source": [
    "import pamtra2\n",
    "import collections\n",
    "import refractiveIndex\n",
    "import numpy as np\n",
    "import pandas as pn\n",
    "import xarray as xr\n",
    "from collections import OrderedDict\n",
    "from copy import deepcopy, copy\n",
    "import toolz\n",
    "import collections\n",
    "import matplotlib.pyplot as plt\n",
    "\n",
    "try:\n",
    "    %matplotlib inline\n",
    "except:\n",
    "    pass"
   ]
  },
  {
   "cell_type": "code",
   "execution_count": 2,
   "metadata": {},
   "outputs": [],
   "source": [
    "import pyPamtraRadarSimulator\n",
    "\n"
   ]
  },
  {
   "cell_type": "markdown",
   "metadata": {},
   "source": [
    "# create Profile"
   ]
  },
  {
   "cell_type": "code",
   "execution_count": 28,
   "metadata": {},
   "outputs": [],
   "source": [
    "additionalDims = collections.OrderedDict()\n",
    "nHeights = 1\n",
    "# nHeights = 2\n",
    "\n",
    "pam2 = pamtra2.pamtra2(\n",
    "    nLayer=nHeights,\n",
    "    hydrometeors=['cloud'],\n",
    "    additionalDims = additionalDims,\n",
    "    frequencies = [3e9],\n",
    ")\n"
   ]
  },
  {
   "cell_type": "code",
   "execution_count": 29,
   "metadata": {},
   "outputs": [
    {
     "data": {
      "text/plain": [
       "<xarray.customProfile>\n",
       "Dimensions:              (frequency: 1, hydrometeor: 1, layer: 10)\n",
       "Coordinates:\n",
       "  * layer                (layer) int64 0 1 2 3 4 5 6 7 8 9\n",
       "  * hydrometeor          (hydrometeor) <U5 'cloud'\n",
       "  * frequency            (frequency) float64 3e+09\n",
       "Data variables:\n",
       "    height               (layer) float64 nan nan nan nan nan nan nan nan nan nan\n",
       "    temperature          (layer) float64 nan nan nan nan nan nan nan nan nan nan\n",
       "    pressure             (layer) float64 nan nan nan nan nan nan nan nan nan nan\n",
       "    relativeHumidity     (layer) float64 nan nan nan nan nan nan nan nan nan nan\n",
       "    horizontalWind       (layer) float64 nan nan nan nan nan nan nan nan nan nan\n",
       "    verticalWind         (layer) float64 nan nan nan nan nan nan nan nan nan nan\n",
       "    eddyDissipationRate  (layer) float64 nan nan nan nan nan nan nan nan nan nan\n",
       "    waterContent         (layer, hydrometeor) float64 nan nan nan nan nan ...\n",
       "    wavelength           (frequency) float64 0.09993"
      ]
     },
     "execution_count": 29,
     "metadata": {},
     "output_type": "execute_result"
    }
   ],
   "source": [
    "pam2.profile"
   ]
  },
  {
   "cell_type": "markdown",
   "metadata": {},
   "source": [
    "Fill with some dummie values"
   ]
  },
  {
   "cell_type": "code",
   "execution_count": 30,
   "metadata": {},
   "outputs": [],
   "source": [
    "\n",
    "pam2.profile.height[:] = np.linspace(100,1000,nHeights)\n",
    "pam2.profile.temperature[:] = 250 \n",
    "pam2.profile.relativeHumidity[:] = 90\n",
    "pam2.profile.pressure[:] = 100000\n",
    "pam2.profile.eddyDissipationRate[:] = 1e-3\n",
    "pam2.profile.horizontalWind[:] = 10\n",
    "\n"
   ]
  },
  {
   "cell_type": "markdown",
   "metadata": {},
   "source": [
    "For testing, dask arrays are turned on by chunking."
   ]
  },
  {
   "cell_type": "code",
   "execution_count": 31,
   "metadata": {},
   "outputs": [
    {
     "data": {
      "text/plain": [
       "<xarray.customProfile>\n",
       "Dimensions:              (frequency: 1, hydrometeor: 1, layer: 10)\n",
       "Coordinates:\n",
       "  * layer                (layer) int64 0 1 2 3 4 5 6 7 8 9\n",
       "  * hydrometeor          (hydrometeor) <U5 'cloud'\n",
       "  * frequency            (frequency) float64 3e+09\n",
       "Data variables:\n",
       "    height               (layer) float64 dask.array<shape=(10,), chunksize=(1,)>\n",
       "    temperature          (layer) float64 dask.array<shape=(10,), chunksize=(1,)>\n",
       "    pressure             (layer) float64 dask.array<shape=(10,), chunksize=(1,)>\n",
       "    relativeHumidity     (layer) float64 dask.array<shape=(10,), chunksize=(1,)>\n",
       "    horizontalWind       (layer) float64 dask.array<shape=(10,), chunksize=(1,)>\n",
       "    verticalWind         (layer) float64 dask.array<shape=(10,), chunksize=(1,)>\n",
       "    eddyDissipationRate  (layer) float64 dask.array<shape=(10,), chunksize=(1,)>\n",
       "    waterContent         (layer, hydrometeor) float64 dask.array<shape=(10, 1), chunksize=(1, 1)>\n",
       "    wavelength           (frequency) float64 dask.array<shape=(1,), chunksize=(1,)>\n",
       "    dryAirDensity        (layer) float64 dask.array<shape=(10,), chunksize=(1,)>\n",
       "    airDensity           (layer) float64 dask.array<shape=(10,), chunksize=(1,)>\n",
       "    dynamicViscosity     (layer) float64 dask.array<shape=(10,), chunksize=(1,)>\n",
       "    kinematicViscosity   (layer) float64 dask.array<shape=(10,), chunksize=(1,)>"
      ]
     },
     "execution_count": 31,
     "metadata": {},
     "output_type": "execute_result"
    }
   ],
   "source": [
    "# pam2.profile = pam2.profile.chunk({'layer':1, 'frequency':1})\n",
    "\n",
    "\n",
    "pam2.profile \n",
    "pam2.addMissingVariables()"
   ]
  },
  {
   "cell_type": "code",
   "execution_count": 32,
   "metadata": {},
   "outputs": [],
   "source": [
    "# # OR EASIER if desired: \n",
    "# pam2 = pamtra2.importers.profiles.usStandardAtmosphere(heigths)"
   ]
  },
  {
   "cell_type": "markdown",
   "metadata": {},
   "source": [
    "# Describe Hydrometeors\n",
    "To describe the hydrometeors, you can use functions, xr.DataArrays or scalars. Teh functions must support xr.DataArrays. The kwargs of the functions are gathered from (in this order)\n",
    "\n",
    "1. pam2.hydrometors.name.profile variables (name must match). E.g. density (after it has been calculated) \n",
    "2. pam2.profile variables (name must match). E.g. temperature\n",
    "3. Other provided kwargs (e.g. Dmin, DMax, N0 etc)\n",
    "4. Default function arguments. Can be turned of with useFuncArgDefaults = False to make sure everything is explicitly covered.\n",
    "\n"
   ]
  },
  {
   "cell_type": "code",
   "execution_count": 33,
   "metadata": {},
   "outputs": [
    {
     "name": "stdout",
     "output_type": "stream",
     "text": [
      "sizeBounds <function linspaceBounds at 0x1107cfbf8>\n",
      "callable\n",
      "sizeCenter <function boundsToMid at 0x1107cfd08>\n",
      "callable\n",
      "sizeBoundsWidth <function boundsWidth at 0x1107cfd90>\n",
      "callable\n",
      "aspectRatio 1.0\n",
      "not callable 1.0\n",
      "density 1000.0\n",
      "not callable 1000.0\n",
      "mass <function ellipsoid at 0x110db2ea0>\n",
      "callable\n",
      "crossSectionArea <function sphere at 0x110dbb598>\n",
      "callable\n",
      "sizeDistribution <function monoDisperse at 0x1107cfe18>\n",
      "callable\n",
      "relativePermittivity <function turner_kneifel_cadeddu at 0x412465378>\n",
      "callable\n",
      "scattering <function Rayleigh at 0x110dbb9d8>\n",
      "callable\n",
      "fallVelocity <function khvorostyanov01_drops at 0x41245d0d0>\n",
      "callable\n",
      "nBins 2\n",
      "not callable 2\n",
      "Dmin 0.00099999995\n",
      "not callable 0.00099999995\n",
      "Dmax 0.00100000005\n",
      "not callable 0.00100000005\n",
      "Ntot <xarray.DataArray (layer: 10)>\n",
      "array([1.000e-02, 1.112e+01, 2.223e+01, 3.334e+01, 4.445e+01, 5.556e+01,\n",
      "       6.667e+01, 7.778e+01, 8.889e+01, 1.000e+02])\n",
      "Coordinates:\n",
      "  * layer    (layer) int64 0 1 2 3 4 5 6 7 8 9\n",
      "not callable <xarray.DataArray (layer: 10)>\n",
      "array([1.000e-02, 1.112e+01, 2.223e+01, 3.334e+01, 4.445e+01, 5.556e+01,\n",
      "       6.667e+01, 7.778e+01, 8.889e+01, 1.000e+02])\n",
      "Coordinates:\n",
      "  * layer    (layer) int64 0 1 2 3 4 5 6 7 8 9\n"
     ]
    },
    {
     "name": "stderr",
     "output_type": "stream",
     "text": [
      "/Volumes/User/mmaahn/anaconda/envs/python3/lib/python3.6/_collections_abc.py:720: FutureWarning: iteration over an xarray.Dataset will change in xarray v0.11 to only include data variables, not coordinates. Iterate over the Dataset.variables property instead to preserve existing behavior in a forwards compatible manner.\n",
      "  yield from self._mapping\n"
     ]
    },
    {
     "data": {
      "text/plain": [
       "<pamtra2.hydrometeors.core.softEllipsoidFixedDensity at 0x4163a9d68>"
      ]
     },
     "execution_count": 33,
     "metadata": {},
     "output_type": "execute_result"
    }
   ],
   "source": [
    "\n",
    "pam2.describeHydrometeor(\n",
    "    pamtra2.hydrometeors.softEllipsoidFixedDensity,\n",
    "    name = 'cloud', #or None, then str(index)\n",
    "    nBins =2,\n",
    "    sizeBounds = pamtra2.hydrometeors.size.linspaceBounds, \n",
    "    sizeCenter = pamtra2.hydrometeors.size.boundsToMid,\n",
    "    sizeBoundsWidth = pamtra2.hydrometeors.size.boundsWidth,\n",
    "    sizeDistribution = pamtra2.hydrometeors.sizeDistribution.monoDisperse, \n",
    "    aspectRatio = 1.0,\n",
    "    mass = pamtra2.hydrometeors.mass.ellipsoid,\n",
    "    density = pamtra2.hydrometeors.density.water,\n",
    "    crossSectionArea = pamtra2.hydrometeors.crossSectionArea.sphere,\n",
    "    relativePermittivity = refractiveIndex.water.turner_kneifel_cadeddu, #replace with refractiveIndex.water.Turner.n\n",
    "    scattering = pamtra2.hydrometeors.scattering.Rayleigh,\n",
    "    fallVelocity = pamtra2.hydrometeors.fallVelocity.khvorostyanov01_drops,\n",
    "    Dmin  = 0.001 - .5e-10,\n",
    "    Dmax  = 0.001 + .5e-10,\n",
    "    Ntot =  xr.DataArray(np.linspace(0.01,100,nHeights),coords=[pam2.profile.layer]),\n",
    "#     Ntot = 10,\n",
    "    useFuncArgDefaults = False,\n",
    ")\n"
   ]
  },
  {
   "cell_type": "markdown",
   "metadata": {},
   "source": [
    "The profile arrays have been populated, but they contain daks arrays. These are only placeholders, they have not been calculated yet!"
   ]
  },
  {
   "cell_type": "code",
   "execution_count": 34,
   "metadata": {},
   "outputs": [
    {
     "data": {
      "text/plain": [
       "<xarray.Dataset>\n",
       "Dimensions:                  (frequency: 1, layer: 10, sizeBin: 2, sizeBin1: 3)\n",
       "Coordinates:\n",
       "  * sizeBin                  (sizeBin) int64 0 1\n",
       "  * sizeBin1                 (sizeBin1) int64 0 1 2\n",
       "  * layer                    (layer) int64 0 1 2 3 4 5 6 7 8 9\n",
       "  * frequency                (frequency) float64 3e+09\n",
       "Data variables:\n",
       "    sizeBounds               (sizeBin1) float64 0.001 0.001 0.001\n",
       "    sizeCenter               (sizeBin) float64 0.001 0.001\n",
       "    sizeBoundsWidth          (sizeBin) float64 5e-11 5e-11\n",
       "    aspectRatio              float64 1.0\n",
       "    density                  float64 1e+03\n",
       "    mass                     (sizeBin) float64 5.236e-07 5.236e-07\n",
       "    crossSectionArea         (sizeBin) float64 7.854e-07 7.854e-07\n",
       "    sizeDistribution         (layer, sizeBin) float64 1e+08 1e+08 1.112e+11 ...\n",
       "    relativePermittivity     (layer, frequency) complex128 dask.array<shape=(10, 1), chunksize=(1, 1)>\n",
       "    fallVelocity             (sizeBin, layer) float64 dask.array<shape=(2, 10), chunksize=(2, 1)>\n",
       "    nBins                    int64 2\n",
       "    Dmin                     float64 0.001\n",
       "    Dmax                     float64 0.001\n",
       "    Ntot                     (layer) float64 0.01 11.12 22.23 33.34 44.45 ...\n",
       "    extinctionCrossSection   (sizeBin, frequency, layer) float64 dask.array<shape=(2, 1, 10), chunksize=(2, 1, 1)>\n",
       "    scatterCrossSection      (sizeBin, frequency, layer) float64 dask.array<shape=(2, 1, 10), chunksize=(2, 1, 1)>\n",
       "    absorptionCrossSection   (sizeBin, frequency, layer) float64 dask.array<shape=(2, 1, 10), chunksize=(2, 1, 1)>\n",
       "    backscatterCrossSection  (sizeBin, frequency, layer) float64 dask.array<shape=(2, 1, 10), chunksize=(2, 1, 1)>"
      ]
     },
     "execution_count": 34,
     "metadata": {},
     "output_type": "execute_result"
    }
   ],
   "source": [
    "pam2.hydrometeors.cloud.profile"
   ]
  },
  {
   "cell_type": "markdown",
   "metadata": {},
   "source": [
    "# Radar simulator\n"
   ]
  },
  {
   "cell_type": "code",
   "execution_count": 35,
   "metadata": {},
   "outputs": [
    {
     "data": {
      "text/plain": [
       "<pamtra2.instruments.radar.simpleRadar at 0x41639af60>"
      ]
     },
     "execution_count": 35,
     "metadata": {},
     "output_type": "execute_result"
    }
   ],
   "source": [
    "pam2.profile['pathIntegratedAtenuattion'] = xr.zeros_like(pam2.hydrometeors.cloud.profile.backscatterCrossSection.isel(sizeBin=0))\n",
    "\n",
    "    \n",
    "\n",
    "pam2.addInstrument(\n",
    "    pamtra2.instruments.radar.simpleRadar,\n",
    "    name = 'simple',\n",
    "    frequencies = 3e9,    \n",
    "        radarK2=0.93,    \n",
    ")"
   ]
  },
  {
   "cell_type": "code",
   "execution_count": 44,
   "metadata": {},
   "outputs": [],
   "source": [
    "spectral = pam2.addInstrument(\n",
    "    pamtra2.instruments.radar.dopplerRadarPamtra,\n",
    "    name = 'spectral',\n",
    "    frequencies = 3e9,    \n",
    "        verbosity=10,\n",
    "    radarNAve =150,\n",
    "    momentsNPeaks = 1,\n",
    "    seed = 11,\n",
    "    radarAliasingNyquistInterv = 0,\n",
    ")\n",
    "\n"
   ]
  },
  {
   "cell_type": "code",
   "execution_count": 45,
   "metadata": {},
   "outputs": [
    {
     "data": {
      "text/plain": [
       "[<matplotlib.lines.Line2D at 0x4166c4b00>]"
      ]
     },
     "execution_count": 45,
     "metadata": {},
     "output_type": "execute_result"
    },
    {
     "data": {
      "image/png": "[encoded data removed]",
      "text/plain": [
       "<Figure size 432x288 with 1 Axes>"
      ]
     },
     "metadata": {},
     "output_type": "display_data"
    }
   ],
   "source": [
    "spectral.results.radarSpectrum.isel(layer=0).plot()\n",
    "\n"
   ]
  },
  {
   "cell_type": "code",
   "execution_count": 43,
   "metadata": {},
   "outputs": [
    {
     "name": "stdout",
     "output_type": "stream",
     "text": [
      "momentsNPeaks 2\n",
      "momentsNPeaks 2\n",
      "momentsNPeaks 2\n",
      "momentsNPeaks 2\n",
      "momentsNPeaksmomentsNPeaks 2\n",
      " 2\n",
      "momentsNPeaks 2\n",
      "momentsNPeaks 2\n",
      "momentsNPeaks 2\n",
      "momentsNPeaks 2\n"
     ]
    },
    {
     "name": "stderr",
     "output_type": "stream",
     "text": [
      "/Volumes/User/mmaahn/anaconda/envs/python3/lib/python3.6/site-packages/pamtra2/instruments/radar.py:368: RuntimeWarning: invalid value encountered in log10\n",
      "  radarReflectivity = 10 * np.log10(moments[:, 0, :])\n"
     ]
    },
    {
     "data": {
      "text/plain": [
       "(<xarray.DataArray 'radarReflectitivty' (frequency: 1, layer: 10)>\n",
       " array([[-19.96824 ,  10.492808,  13.501155,  15.261416,  16.510478,\n",
       "          17.479383,  18.271065,  18.94044 ,  19.52029 ,  20.03176 ]])\n",
       " Coordinates:\n",
       "   * layer      (layer) int64 0 1 2 3 4 5 6 7 8 9\n",
       "   * frequency  (frequency) float64 3e+09\n",
       "     sizeBin    int64 0,\n",
       " <xarray.DataArray 'radarReflectivity' (peak: 2, layer: 10, frequency: 1)>\n",
       " array([[[-19.869214],\n",
       "         [       nan],\n",
       "         [       nan],\n",
       "         [ 15.360339],\n",
       "         [ 16.609367],\n",
       "         [       nan],\n",
       "         [       nan],\n",
       "         [ 19.039228],\n",
       "         [ 19.619044],\n",
       "         [ 20.130482]],\n",
       " \n",
       "        [[       nan],\n",
       "         [       nan],\n",
       "         [       nan],\n",
       "         [       nan],\n",
       "         [       nan],\n",
       "         [       nan],\n",
       "         [       nan],\n",
       "         [       nan],\n",
       "         [       nan],\n",
       "         [       nan]]])\n",
       " Coordinates:\n",
       "   * layer      (layer) int64 0 1 2 3 4 5 6 7 8 9\n",
       "   * frequency  (frequency) float64 3e+09\n",
       "     sizeBin    int64 0\n",
       "   * peak       (peak) int64 1 2)"
      ]
     },
     "execution_count": 43,
     "metadata": {},
     "output_type": "execute_result"
    }
   ],
   "source": [
    "\n",
    "pam2.instruments.simple.results.radarReflectivty.compute()"
   ]
  },
  {
   "cell_type": "code",
   "execution_count": 14,
   "metadata": {},
   "outputs": [
    {
     "name": "stdout",
     "output_type": "stream",
     "text": [
      "momentsNPeaks 2\n"
     ]
    },
    {
     "name": "stderr",
     "output_type": "stream",
     "text": [
      "/Volumes/User/mmaahn/anaconda/envs/python3/lib/python3.6/site-packages/pamtra2/instruments/radar.py:368: RuntimeWarning: invalid value encountered in log10\n",
      "  radarReflectivity = 10 * np.log10(moments[:, 0, :])\n"
     ]
    },
    {
     "data": {
      "text/plain": [
       "<xarray.DataArray 'radarReflectivity' (layer: 1, frequency: 1)>\n",
       "array([[9.942638]])\n",
       "Coordinates:\n",
       "  * layer      (layer) int64 0\n",
       "  * frequency  (frequency) float64 3e+09\n",
       "    sizeBin    int64 0\n",
       "    peak       int64 1"
      ]
     },
     "execution_count": 14,
     "metadata": {},
     "output_type": "execute_result"
    }
   ],
   "source": [
    "res = pam2.instruments.spectral.results.radarReflectivity.compute()\n",
    "print(res)"
   ]
  },
  {
   "cell_type": "code",
   "execution_count": null,
   "metadata": {},
   "outputs": [],
   "source": []
  }
 ],
 "metadata": {
  "kernelspec": {
   "display_name": "Python 3",
   "language": "python",
   "name": "python3"
  },
  "language_info": {
   "codemirror_mode": {
    "name": "ipython",
    "version": 3
   },
   "file_extension": ".py",
   "mimetype": "text/x-python",
   "name": "python",
   "nbconvert_exporter": "python",
   "pygments_lexer": "ipython3",
   "version": "3.6.5"
  },
  "toc": {
   "base_numbering": 1,
   "nav_menu": {},
   "number_sections": true,
   "sideBar": true,
   "skip_h1_title": false,
   "title_cell": "Table of Contents",
   "title_sidebar": "Contents",
   "toc_cell": false,
   "toc_position": {
    "height": "calc(100% - 180px)",
    "left": "10px",
    "top": "150px",
    "width": "249px"
   },
   "toc_section_display": "block",
   "toc_window_display": true
  }
 },
 "nbformat": 4,
 "nbformat_minor": 2
}
