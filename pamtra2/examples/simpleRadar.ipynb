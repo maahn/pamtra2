{
 "cells": [
  {
   "cell_type": "markdown",
   "metadata": {},
   "source": [
    "# Simple Radar"
   ]
  },
  {
   "cell_type": "code",
   "execution_count": 1,
   "metadata": {},
   "outputs": [],
   "source": [
    "import pamtra2\n",
    "import collections\n",
    "import refractiveIndex\n",
    "import numpy as np\n",
    "import pandas as pn\n",
    "import xarray as xr\n",
    "from collections import OrderedDict\n",
    "from copy import deepcopy, copy\n",
    "import toolz\n",
    "import collections\n",
    "import matplotlib.pyplot as plt\n",
    "\n",
    "try:\n",
    "    %matplotlib inline\n",
    "except:\n",
    "    pass"
   ]
  },
  {
   "cell_type": "code",
   "execution_count": 2,
   "metadata": {},
   "outputs": [],
   "source": [
    "import pyPamtraRadarSimulator\n",
    "\n"
   ]
  },
  {
   "cell_type": "markdown",
   "metadata": {},
   "source": [
    "# create Profile"
   ]
  },
  {
   "cell_type": "code",
   "execution_count": 3,
   "metadata": {},
   "outputs": [],
   "source": [
    "additionalDims = collections.OrderedDict()\n",
    "\n",
    "nHeights = 3\n",
    "\n",
    "pam2 = pamtra2.pamtra2(\n",
    "    nLayer=nHeights,\n",
    "    hydrometeors=['cloud'],\n",
    "    additionalDims = additionalDims,\n",
    "    frequencies = [3e9],\n",
    ")\n"
   ]
  },
  {
   "cell_type": "code",
   "execution_count": 4,
   "metadata": {},
   "outputs": [
    {
     "data": {
      "text/plain": [
       "<xarray.customProfile>\n",
       "Dimensions:              (frequency: 1, hydrometeor: 1, layer: 3)\n",
       "Coordinates:\n",
       "  * layer                (layer) int64 0 1 2\n",
       "  * hydrometeor          (hydrometeor) <U5 'cloud'\n",
       "  * frequency            (frequency) float64 3e+09\n",
       "Data variables:\n",
       "    height               (layer) float64 nan nan nan\n",
       "    temperature          (layer) float64 nan nan nan\n",
       "    pressure             (layer) float64 nan nan nan\n",
       "    relativeHumidity     (layer) float64 nan nan nan\n",
       "    horizontalWind       (layer) float64 nan nan nan\n",
       "    verticalWind         (layer) float64 nan nan nan\n",
       "    eddyDissipationRate  (layer) float64 nan nan nan\n",
       "    waterContent         (layer, hydrometeor) float64 nan nan nan\n",
       "    wavelength           (frequency) float64 0.09993"
      ]
     },
     "execution_count": 4,
     "metadata": {},
     "output_type": "execute_result"
    }
   ],
   "source": [
    "pam2.profile"
   ]
  },
  {
   "cell_type": "markdown",
   "metadata": {},
   "source": [
    "Fill with some dummie values"
   ]
  },
  {
   "cell_type": "code",
   "execution_count": 5,
   "metadata": {},
   "outputs": [],
   "source": [
    "\n",
    "pam2.profile.height[:] = 1000\n",
    "pam2.profile.temperature[:] = 250 \n",
    "pam2.profile.relativeHumidity[:] = 90\n",
    "pam2.profile.pressure[:] = 100000\n",
    "pam2.profile.eddyDissipationRate[:] = 1e-3\n",
    "pam2.profile.horizontalWind[:] = 10\n",
    "\n"
   ]
  },
  {
   "cell_type": "markdown",
   "metadata": {},
   "source": [
    "For testing, dask arrays are turned on by chunking."
   ]
  },
  {
   "cell_type": "code",
   "execution_count": 6,
   "metadata": {},
   "outputs": [
    {
     "data": {
      "text/plain": [
       "<xarray.customProfile>\n",
       "Dimensions:              (frequency: 1, hydrometeor: 1, layer: 3)\n",
       "Coordinates:\n",
       "  * layer                (layer) int64 0 1 2\n",
       "  * hydrometeor          (hydrometeor) <U5 'cloud'\n",
       "  * frequency            (frequency) float64 3e+09\n",
       "Data variables:\n",
       "    height               (layer) float64 dask.array<shape=(3,), chunksize=(1,)>\n",
       "    temperature          (layer) float64 dask.array<shape=(3,), chunksize=(1,)>\n",
       "    pressure             (layer) float64 dask.array<shape=(3,), chunksize=(1,)>\n",
       "    relativeHumidity     (layer) float64 dask.array<shape=(3,), chunksize=(1,)>\n",
       "    horizontalWind       (layer) float64 dask.array<shape=(3,), chunksize=(1,)>\n",
       "    verticalWind         (layer) float64 dask.array<shape=(3,), chunksize=(1,)>\n",
       "    eddyDissipationRate  (layer) float64 dask.array<shape=(3,), chunksize=(1,)>\n",
       "    waterContent         (layer, hydrometeor) float64 dask.array<shape=(3, 1), chunksize=(1, 1)>\n",
       "    wavelength           (frequency) float64 dask.array<shape=(1,), chunksize=(1,)>\n",
       "    dryAirDensity        (layer) float64 dask.array<shape=(3,), chunksize=(1,)>\n",
       "    airDensity           (layer) float64 dask.array<shape=(3,), chunksize=(1,)>\n",
       "    dynamicViscosity     (layer) float64 dask.array<shape=(3,), chunksize=(1,)>\n",
       "    kinematicViscosity   (layer) float64 dask.array<shape=(3,), chunksize=(1,)>"
      ]
     },
     "execution_count": 6,
     "metadata": {},
     "output_type": "execute_result"
    }
   ],
   "source": [
    "pam2.profile = pam2.profile.chunk({'layer':1, 'frequency':1})\n",
    "\n",
    "\n",
    "pam2.profile \n",
    "pam2.addMissingVariables()"
   ]
  },
  {
   "cell_type": "code",
   "execution_count": 7,
   "metadata": {},
   "outputs": [],
   "source": [
    "# # OR EASIER if desired: \n",
    "# pam2 = pamtra2.importers.profiles.usStandardAtmosphere(heigths)"
   ]
  },
  {
   "cell_type": "markdown",
   "metadata": {},
   "source": [
    "# Describe Hydrometeors\n",
    "To describe the hydrometeors, you can use functions, xr.DataArrays or scalars. Teh functions must support xr.DataArrays. The kwargs of the functions are gathered from (in this order)\n",
    "\n",
    "1. pam2.hydrometors.name.profile variables (name must match). E.g. density (after it has been calculated) \n",
    "2. pam2.profile variables (name must match). E.g. temperature\n",
    "3. Other provided kwargs (e.g. Dmin, DMax, N0 etc)\n",
    "4. Default function arguments. Can be turned of with useFuncArgDefaults = False to make sure everything is explicitly covered.\n",
    "\n"
   ]
  },
  {
   "cell_type": "code",
   "execution_count": 8,
   "metadata": {},
   "outputs": [
    {
     "name": "stdout",
     "output_type": "stream",
     "text": [
      "sizeBounds <function linspaceBounds at 0x11ada4c80>\n",
      "callable\n",
      "sizeCenter <function boundsToMid at 0x11ada4d90>\n",
      "callable\n",
      "sizeBoundsWidth <function boundsWidth at 0x11ada4e18>\n",
      "callable\n",
      "aspectRatio 1.0\n",
      "not callable 1.0\n",
      "density 1000.0\n",
      "not callable 1000.0\n",
      "mass <function ellipsoid at 0x31bd61f28>\n",
      "callable\n",
      "crossSectionArea <function sphere at 0x31bd69620>\n",
      "callable\n",
      "sizeDistribution <function monoDisperse at 0x11ada4ea0>\n",
      "callable\n",
      "relativePermittivity <function turner_kneifel_cadeddu at 0x41c995400>\n",
      "callable\n",
      "scattering <function Rayleigh at 0x31bd69a60>\n",
      "callable\n",
      "fallVelocity <function khvorostyanov01_drops at 0x41c998158>\n",
      "callable\n",
      "nBins 2\n",
      "not callable 2\n",
      "Dmin 0.00099999995\n",
      "not callable 0.00099999995\n",
      "Dmax 0.00100000005\n",
      "not callable 0.00100000005\n",
      "Ntot <xarray.DataArray (layer: 3)>\n",
      "array([1.e-02, 1.e+00, 1.e+02])\n",
      "Coordinates:\n",
      "  * layer    (layer) int64 0 1 2\n",
      "not callable <xarray.DataArray (layer: 3)>\n",
      "array([1.e-02, 1.e+00, 1.e+02])\n",
      "Coordinates:\n",
      "  * layer    (layer) int64 0 1 2\n"
     ]
    },
    {
     "name": "stderr",
     "output_type": "stream",
     "text": [
      "/Volumes/User/mmaahn/anaconda/envs/python3/lib/python3.6/_collections_abc.py:720: FutureWarning: iteration over an xarray.Dataset will change in xarray v0.11 to only include data variables, not coordinates. Iterate over the Dataset.variables property instead to preserve existing behavior in a forwards compatible manner.\n",
      "  yield from self._mapping\n"
     ]
    },
    {
     "data": {
      "text/plain": [
       "<pamtra2.hydrometeors.core.softEllipsoidFixedDensity at 0x41df4aa90>"
      ]
     },
     "execution_count": 8,
     "metadata": {},
     "output_type": "execute_result"
    }
   ],
   "source": [
    "\n",
    "pam2.describeHydrometeor(\n",
    "    pamtra2.hydrometeors.softEllipsoidFixedDensity,\n",
    "    name = 'cloud', #or None, then str(index)\n",
    "    nBins =2,\n",
    "    sizeBounds = pamtra2.hydrometeors.size.linspaceBounds, \n",
    "    sizeCenter = pamtra2.hydrometeors.size.boundsToMid,\n",
    "    sizeBoundsWidth = pamtra2.hydrometeors.size.boundsWidth,\n",
    "    sizeDistribution = pamtra2.hydrometeors.sizeDistribution.monoDisperse, \n",
    "    aspectRatio = 1.0,\n",
    "    mass = pamtra2.hydrometeors.mass.ellipsoid,\n",
    "    density = pamtra2.hydrometeors.density.water,\n",
    "    crossSectionArea = pamtra2.hydrometeors.crossSectionArea.sphere,\n",
    "    relativePermittivity = refractiveIndex.water.turner_kneifel_cadeddu, #replace with refractiveIndex.water.Turner.n\n",
    "    scattering = pamtra2.hydrometeors.scattering.Rayleigh,\n",
    "    fallVelocity = pamtra2.hydrometeors.fallVelocity.khvorostyanov01_drops,\n",
    "    Dmin  = 0.001 - .5e-10,\n",
    "    Dmax  = 0.001 + .5e-10,\n",
    "    Ntot =  xr.DataArray(np.logspace(-2,2,nHeights),coords=[pam2.profile.layer]),\n",
    "#     Ntot = 10,\n",
    "    useFuncArgDefaults = False,\n",
    ")\n"
   ]
  },
  {
   "cell_type": "markdown",
   "metadata": {},
   "source": [
    "The profile arrays have been populated, but they contain daks arrays. These are only placeholders, they have not been calculated yet!"
   ]
  },
  {
   "cell_type": "code",
   "execution_count": 9,
   "metadata": {},
   "outputs": [
    {
     "data": {
      "text/plain": [
       "<xarray.Dataset>\n",
       "Dimensions:                  (frequency: 1, layer: 3, sizeBin: 2, sizeBin1: 3)\n",
       "Coordinates:\n",
       "  * sizeBin                  (sizeBin) int64 0 1\n",
       "  * sizeBin1                 (sizeBin1) int64 0 1 2\n",
       "  * layer                    (layer) int64 0 1 2\n",
       "  * frequency                (frequency) float64 3e+09\n",
       "Data variables:\n",
       "    sizeBounds               (sizeBin1) float64 0.001 0.001 0.001\n",
       "    sizeCenter               (sizeBin) float64 0.001 0.001\n",
       "    sizeBoundsWidth          (sizeBin) float64 5e-11 5e-11\n",
       "    aspectRatio              float64 1.0\n",
       "    density                  float64 1e+03\n",
       "    mass                     (sizeBin) float64 5.236e-07 5.236e-07\n",
       "    crossSectionArea         (sizeBin) float64 7.854e-07 7.854e-07\n",
       "    sizeDistribution         (layer, sizeBin) float64 1e+08 1e+08 1e+10 ...\n",
       "    relativePermittivity     (layer, frequency) complex128 dask.array<shape=(3, 1), chunksize=(1, 1)>\n",
       "    fallVelocity             (sizeBin, layer) float64 dask.array<shape=(2, 3), chunksize=(2, 1)>\n",
       "    nBins                    int64 2\n",
       "    Dmin                     float64 0.001\n",
       "    Dmax                     float64 0.001\n",
       "    Ntot                     (layer) float64 0.01 1.0 100.0\n",
       "    extinctionCrossSection   (sizeBin, frequency, layer) float64 dask.array<shape=(2, 1, 3), chunksize=(2, 1, 1)>\n",
       "    scatterCrossSection      (sizeBin, frequency, layer) float64 dask.array<shape=(2, 1, 3), chunksize=(2, 1, 1)>\n",
       "    absorptionCrossSection   (sizeBin, frequency, layer) float64 dask.array<shape=(2, 1, 3), chunksize=(2, 1, 1)>\n",
       "    backscatterCrossSection  (sizeBin, frequency, layer) float64 dask.array<shape=(2, 1, 3), chunksize=(2, 1, 1)>"
      ]
     },
     "execution_count": 9,
     "metadata": {},
     "output_type": "execute_result"
    }
   ],
   "source": [
    "pam2.hydrometeors.cloud.profile"
   ]
  },
  {
   "cell_type": "markdown",
   "metadata": {},
   "source": [
    "# Radar simulator\n"
   ]
  },
  {
   "cell_type": "code",
   "execution_count": 10,
   "metadata": {},
   "outputs": [
    {
     "data": {
      "text/plain": [
       "<pamtra2.instruments.radar.simpleRadar at 0x41df3ec18>"
      ]
     },
     "execution_count": 10,
     "metadata": {},
     "output_type": "execute_result"
    }
   ],
   "source": [
    "pam2.profile['pathIntegratedAtenuattion'] = xr.zeros_like(pam2.hydrometeors.cloud.profile.backscatterCrossSection.isel(sizeBin=0))\n",
    "\n",
    "pam2.addInstrument(\n",
    "    pamtra2.instruments.radar.simpleRadar,\n",
    "    name = 'simple',\n",
    "    frequencies = 3e9,    \n",
    "        radarK2=0.93,    \n",
    ")"
   ]
  },
  {
   "cell_type": "code",
   "execution_count": 11,
   "metadata": {},
   "outputs": [
    {
     "data": {
      "text/plain": [
       "<pamtra2.instruments.radar.dopplerRadarPamtra at 0x41df45be0>"
      ]
     },
     "execution_count": 11,
     "metadata": {},
     "output_type": "execute_result"
    }
   ],
   "source": [
    "pam2.addInstrument(\n",
    "    pamtra2.instruments.radar.dopplerRadarPamtra,\n",
    "    name = 'spectral',\n",
    "    frequencies = 3e9,    \n",
    "        verbosity=10,\n",
    "    radarNAve =150,\n",
    "    momentsNPeaks = 1,\n",
    "    seed = 11,\n",
    "    radarAliasingNyquistInterv = 0,\n",
    "    radarPNoise1000 = -100\n",
    ")\n",
    "\n"
   ]
  },
  {
   "cell_type": "code",
   "execution_count": 12,
   "metadata": {},
   "outputs": [
    {
     "data": {
      "text/plain": [
       "<xarray.Dataset>\n",
       "Dimensions:            (frequency: 1, layer: 3)\n",
       "Coordinates:\n",
       "  * layer              (layer) int64 0 1 2\n",
       "  * frequency          (frequency) float64 3e+09\n",
       "    sizeBin            int64 0\n",
       "Data variables:\n",
       "    radarReflectivity  (frequency, layer) float64 -19.97 0.03176 20.03"
      ]
     },
     "execution_count": 12,
     "metadata": {},
     "output_type": "execute_result"
    }
   ],
   "source": [
    "\n",
    "pam2.instruments.simple.results.compute()"
   ]
  },
  {
   "cell_type": "code",
   "execution_count": 13,
   "metadata": {},
   "outputs": [
    {
     "data": {
      "text/plain": [
       "<xarray.Dataset>\n",
       "Dimensions:                 (dopplerVelocity: 256, dopplerVelocityAliased: 256, frequency: 1, layer: 3, peak: 1)\n",
       "Coordinates:\n",
       "  * layer                   (layer) int64 0 1 2\n",
       "  * frequency               (frequency) float64 3e+09\n",
       "    sizeBin                 int64 0\n",
       "  * dopplerVelocity         (dopplerVelocity) float64 -7.885 -7.823 -7.762 ...\n",
       "  * peak                    (peak) int64 1\n",
       "Dimensions without coordinates: dopplerVelocityAliased\n",
       "Data variables:\n",
       "    radarIdealizedSpectrum  (dopplerVelocityAliased, layer, frequency) float64 0.0 ...\n",
       "    radarSpectrum           (dopplerVelocity, layer, frequency) float64 6.217e-12 ...\n",
       "    radarReflectivity       (peak, layer, frequency) float64 -19.91 0.1033 20.02\n",
       "    meanDopplerVel          (peak, layer, frequency) float64 3.693 3.702 3.686\n",
       "    spectrumWidth           (peak, layer, frequency) float64 0.3954 0.3957 ...\n",
       "    skewness                (peak, layer, frequency) float64 -0.01364 ...\n",
       "    kurtosis                (peak, layer, frequency) float64 3.034 2.971 3.001\n",
       "    leftSlope               (peak, layer, frequency) float64 34.08 37.13 41.27\n",
       "    rightSlope              (peak, layer, frequency) float64 -34.87 -38.71 ...\n",
       "    leftEdge                (peak, layer, frequency) float64 1.109 0.8008 0.5544\n",
       "    rightEdge               (peak, layer, frequency) float64 6.345 6.591 6.838\n",
       "    quality                 (layer, frequency) float64 0.0 0.0 0.0\n",
       "    noiseMean               (layer, frequency) float64 -100.0 -99.96 -100.0"
      ]
     },
     "execution_count": 13,
     "metadata": {},
     "output_type": "execute_result"
    }
   ],
   "source": [
    "pam2.instruments.spectral.results.compute()\n"
   ]
  },
  {
   "cell_type": "code",
   "execution_count": null,
   "metadata": {},
   "outputs": [],
   "source": []
  }
 ],
 "metadata": {
  "kernelspec": {
   "display_name": "Python 3",
   "language": "python",
   "name": "python3"
  },
  "language_info": {
   "codemirror_mode": {
    "name": "ipython",
    "version": 3
   },
   "file_extension": ".py",
   "mimetype": "text/x-python",
   "name": "python",
   "nbconvert_exporter": "python",
   "pygments_lexer": "ipython3",
   "version": "3.6.5"
  },
  "toc": {
   "base_numbering": 1,
   "nav_menu": {},
   "number_sections": true,
   "sideBar": true,
   "skip_h1_title": false,
   "title_cell": "Table of Contents",
   "title_sidebar": "Contents",
   "toc_cell": false,
   "toc_position": {
    "height": "calc(100% - 180px)",
    "left": "10px",
    "top": "150px",
    "width": "249px"
   },
   "toc_section_display": "block",
   "toc_window_display": true
  }
 },
 "nbformat": 4,
 "nbformat_minor": 2
}
