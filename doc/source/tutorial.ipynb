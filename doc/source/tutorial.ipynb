{
 "cells": [
  {
   "cell_type": "markdown",
   "metadata": {},
   "source": [
    "# Pamtra2 tutorial\n",
    "\n",
    "The following is a walk-through though a Pamtra2 work-flow.\n",
    "\n",
    "Import all required libraries first"
   ]
  },
  {
   "cell_type": "code",
   "execution_count": 1,
   "metadata": {},
   "outputs": [],
   "source": [
    "import pamtra2\n",
    "import collections\n",
    "import numpy as np\n",
    "import pandas as pn\n",
    "import xarray as xr\n",
    "from collections import OrderedDict\n",
    "from copy import deepcopy, copy\n",
    "import toolz\n",
    "import collections\n",
    "import matplotlib.pyplot as plt\n",
    "\n",
    "try:\n",
    "    %matplotlib inline\n",
    "except:\n",
    "    pass"
   ]
  },
  {
   "cell_type": "markdown",
   "metadata": {},
   "source": [
    "# create Pamtra object and Profile object\n",
    "\n",
    "First we have to create the Pamtra2 object called `pam2`. We have to provide the number of model layers, the frequencies we want to use later, the names of the used hydroometeors (details are defined later) and optionally we can an arbitrary number of additional dimensions, e.g. time, latitude, favorite color, etc."
   ]
  },
  {
   "cell_type": "code",
   "execution_count": 2,
   "metadata": {},
   "outputs": [],
   "source": [
    "additionalDims = collections.OrderedDict()\n",
    "additionalDims['time'] = pn.date_range('2016-01-01','2016-01-05',freq='D')[:1]\n",
    "additionalDims['lat'] = np.arange(70,80,5)\n",
    "nHeights = 10\n",
    "\n",
    "pam2 = pamtra2.pamtra2(\n",
    "    nLayer=nHeights,\n",
    "    hydrometeors=['rain','snow'],\n",
    "    additionalDims = additionalDims,\n",
    "    frequencies = [35e9, 94e9],\n",
    ")\n",
    "\n"
   ]
  },
  {
   "cell_type": "markdown",
   "metadata": {},
   "source": [
    "The profile data object (it is a xarray DataArray) contains all atmospheric variables. Empty arrays are already provided with the most important variables. You can add additional variables if required."
   ]
  },
  {
   "cell_type": "code",
   "execution_count": 3,
   "metadata": {},
   "outputs": [
    {
     "data": {
      "text/plain": [
       "<xarray.customProfile>\n",
       "Dimensions:              (frequency: 2, hydrometeor: 2, lat: 2, layer: 10, time: 1)\n",
       "Coordinates:\n",
       "  * time                 (time) datetime64[ns] 2016-01-01\n",
       "  * lat                  (lat) int64 70 75\n",
       "  * layer                (layer) int64 0 1 2 3 4 5 6 7 8 9\n",
       "  * hydrometeor          (hydrometeor) <U4 'rain' 'snow'\n",
       "  * frequency            (frequency) float64 3.5e+10 9.4e+10\n",
       "Data variables:\n",
       "    height               (time, lat, layer) float64 nan nan nan nan nan nan ...\n",
       "    temperature          (time, lat, layer) float64 nan nan nan nan nan nan ...\n",
       "    pressure             (time, lat, layer) float64 nan nan nan nan nan nan ...\n",
       "    relativeHumidity     (time, lat, layer) float64 nan nan nan nan nan nan ...\n",
       "    horizontalWind       (time, lat, layer) float64 nan nan nan nan nan nan ...\n",
       "    verticalWind         (time, lat, layer) float64 nan nan nan nan nan nan ...\n",
       "    eddyDissipationRate  (time, lat, layer) float64 nan nan nan nan nan nan ...\n",
       "    hydrometeorContent   (time, lat, layer, hydrometeor) float64 nan nan nan ...\n",
       "    wavelength           (frequency) float64 0.008565 0.003189"
      ]
     },
     "execution_count": 3,
     "metadata": {},
     "output_type": "execute_result"
    }
   ],
   "source": [
    "pam2.profile"
   ]
  },
  {
   "cell_type": "markdown",
   "metadata": {},
   "source": [
    "Fill the profile with some more or less random variables. The hydrometeorContent field has an additional dimension corresponding to the hydrometeor index.  "
   ]
  },
  {
   "cell_type": "code",
   "execution_count": 4,
   "metadata": {},
   "outputs": [],
   "source": [
    "pam2.profile.height[:] = np.linspace(10,1000,nHeights)\n",
    "pam2.profile.temperature[:] = 250 \n",
    "pam2.profile.relativeHumidity[:] = 90\n",
    "pam2.profile.pressure[:] = 100000\n",
    "pam2.profile.eddyDissipationRate[:] = 1e-4\n",
    "pam2.profile.horizontalWind[:] = 0\n",
    "\n",
    "pam2.profile.hydrometeorContent.values[:] = 0\n",
    "#rain\n",
    "pam2.profile.hydrometeorContent.values[...,5:8,0] = 1e-4\n",
    "#snow\n",
    "pam2.profile.hydrometeorContent.values[...,5:8,1] = 2e-4\n"
   ]
  },
  {
   "cell_type": "markdown",
   "metadata": {},
   "source": [
    "The `dask` library is for making Pamtra2 parallel: http://dask.pydata.org/ It's use is entirely optional. If used the profile is split up in chunks and each chunk is processed separately. As a little side effect, any calculation is delayed until the result is really needed (e.g. plotting, netcdf export). For testing, dask arrays are turned on by chunking, we keep a version without dask to make the difference clear. "
   ]
  },
  {
   "cell_type": "code",
   "execution_count": 5,
   "metadata": {
    "scrolled": true
   },
   "outputs": [],
   "source": [
    "pam2_nodask = deepcopy(pam2)\n",
    "pam2.profile = pam2.profile.chunk({'time':1, 'hydrometeor':1, 'lat':1, 'frequency':1})"
   ]
  },
  {
   "cell_type": "markdown",
   "metadata": {},
   "source": [
    "The helper function `addMissingVariables` calculates missing atmospheric variables like additional humidity measures. Note that because of dask the filed are only created, but the calculation were not done yet. Note the `dask.array<shape=(1, 10, 100), chunksize=(1, 1, 100)>`.\n",
    "\n"
   ]
  },
  {
   "cell_type": "code",
   "execution_count": 6,
   "metadata": {},
   "outputs": [
    {
     "data": {
      "text/plain": [
       "<xarray.customProfile>\n",
       "Dimensions:              (frequency: 2, hydrometeor: 2, lat: 2, layer: 10, time: 1)\n",
       "Coordinates:\n",
       "  * time                 (time) datetime64[ns] 2016-01-01\n",
       "  * lat                  (lat) int64 70 75\n",
       "  * layer                (layer) int64 0 1 2 3 4 5 6 7 8 9\n",
       "  * hydrometeor          (hydrometeor) <U4 'rain' 'snow'\n",
       "  * frequency            (frequency) float64 3.5e+10 9.4e+10\n",
       "Data variables:\n",
       "    height               (time, lat, layer) float64 dask.array<shape=(1, 2, 10), chunksize=(1, 1, 10)>\n",
       "    temperature          (time, lat, layer) float64 dask.array<shape=(1, 2, 10), chunksize=(1, 1, 10)>\n",
       "    pressure             (time, lat, layer) float64 dask.array<shape=(1, 2, 10), chunksize=(1, 1, 10)>\n",
       "    relativeHumidity     (time, lat, layer) float64 dask.array<shape=(1, 2, 10), chunksize=(1, 1, 10)>\n",
       "    horizontalWind       (time, lat, layer) float64 dask.array<shape=(1, 2, 10), chunksize=(1, 1, 10)>\n",
       "    verticalWind         (time, lat, layer) float64 dask.array<shape=(1, 2, 10), chunksize=(1, 1, 10)>\n",
       "    eddyDissipationRate  (time, lat, layer) float64 dask.array<shape=(1, 2, 10), chunksize=(1, 1, 10)>\n",
       "    hydrometeorContent   (time, lat, layer, hydrometeor) float64 dask.array<shape=(1, 2, 10, 2), chunksize=(1, 1, 10, 1)>\n",
       "    wavelength           (frequency) float64 dask.array<shape=(2,), chunksize=(1,)>\n",
       "    heightBinDepth       (time, lat, layer) float64 110.0 110.0 110.0 110.0 ...\n",
       "    specificHumidity     (time, lat, layer) float64 dask.array<shape=(1, 2, 10), chunksize=(1, 1, 10)>\n",
       "    absoluteHumidity     (time, lat, layer) float64 dask.array<shape=(1, 2, 10), chunksize=(1, 1, 10)>\n",
       "    dryAirDensity        (time, lat, layer) float64 dask.array<shape=(1, 2, 10), chunksize=(1, 1, 10)>\n",
       "    airDensity           (time, lat, layer) float64 dask.array<shape=(1, 2, 10), chunksize=(1, 1, 10)>\n",
       "    dynamicViscosity     (time, lat, layer) float64 dask.array<shape=(1, 2, 10), chunksize=(1, 1, 10)>\n",
       "    kinematicViscosity   (time, lat, layer) float64 dask.array<shape=(1, 2, 10), chunksize=(1, 1, 10)>\n",
       "    waterVaporPressure   (time, lat, layer) float64 dask.array<shape=(1, 2, 10), chunksize=(1, 1, 10)>"
      ]
     },
     "execution_count": 6,
     "metadata": {},
     "output_type": "execute_result"
    }
   ],
   "source": [
    "pam2.addMissingVariables()\n",
    "pam2.profile "
   ]
  },
  {
   "cell_type": "markdown",
   "metadata": {},
   "source": [
    "The nodask version estimates all fields directly, even if they are never used. So we actually get results"
   ]
  },
  {
   "cell_type": "code",
   "execution_count": 7,
   "metadata": {},
   "outputs": [
    {
     "data": {
      "text/plain": [
       "<xarray.customProfile>\n",
       "Dimensions:              (frequency: 2, hydrometeor: 2, lat: 2, layer: 10, time: 1)\n",
       "Coordinates:\n",
       "  * time                 (time) datetime64[ns] 2016-01-01\n",
       "  * lat                  (lat) int64 70 75\n",
       "  * layer                (layer) int64 0 1 2 3 4 5 6 7 8 9\n",
       "  * hydrometeor          (hydrometeor) <U4 'rain' 'snow'\n",
       "  * frequency            (frequency) float64 3.5e+10 9.4e+10\n",
       "Data variables:\n",
       "    height               (time, lat, layer) float64 10.0 120.0 230.0 340.0 ...\n",
       "    temperature          (time, lat, layer) float64 250.0 250.0 250.0 250.0 ...\n",
       "    pressure             (time, lat, layer) float64 1e+05 1e+05 1e+05 1e+05 ...\n",
       "    relativeHumidity     (time, lat, layer) float64 90.0 90.0 90.0 90.0 90.0 ...\n",
       "    horizontalWind       (time, lat, layer) float64 0.0 0.0 0.0 0.0 0.0 0.0 ...\n",
       "    verticalWind         (time, lat, layer) float64 nan nan nan nan nan nan ...\n",
       "    eddyDissipationRate  (time, lat, layer) float64 0.0001 0.0001 0.0001 ...\n",
       "    hydrometeorContent   (time, lat, layer, hydrometeor) float64 0.0 0.0 0.0 ...\n",
       "    wavelength           (frequency) float64 0.008565 0.003189\n",
       "    heightBinDepth       (time, lat, layer) float64 110.0 110.0 110.0 110.0 ...\n",
       "    specificHumidity     (time, lat, layer) float64 0.0005358 0.0005358 ...\n",
       "    absoluteHumidity     (time, lat, layer) float64 0.0007464 0.0007464 ...\n",
       "    dryAirDensity        (time, lat, layer) float64 1.394 1.394 1.394 1.394 ...\n",
       "    airDensity           (time, lat, layer) float64 1.393 1.393 1.393 1.393 ...\n",
       "    dynamicViscosity     (time, lat, layer) float64 1.6e-05 1.6e-05 1.6e-05 ...\n",
       "    kinematicViscosity   (time, lat, layer) float64 1.148e-05 1.148e-05 ...\n",
       "    waterVaporPressure   (time, lat, layer) float64 86.12 86.12 86.12 86.12 ..."
      ]
     },
     "execution_count": 7,
     "metadata": {},
     "output_type": "execute_result"
    }
   ],
   "source": [
    "pam2_nodask.addMissingVariables()\n",
    "pam2_nodask.profile "
   ]
  },
  {
   "cell_type": "markdown",
   "metadata": {},
   "source": [
    "# Describe Hydrometeors\n",
    "To describe the hydrometeors, you can use functions, xr.DataArrays or scalars. If you provide a function, the function must support xr.DataArrays as input. Of course, the function needs arguments (keywords only!), they are gathered from the following locastions.\n",
    "\n",
    "1. pam2.hydrometors.name.profile variables (name must match). E.g. density (after it has been calculated) \n",
    "2. pam2.profile variables (name must match). E.g. temperature\n",
    "3. Other provided kwargs (e.g. Dmin, DMax, N0 etc)\n",
    "4. Default function arguments. Can be turned of with `useFuncArgDefaults = False` to make sure everything is explicitly covered.\n",
    "\n",
    "The following is for a hydrometeor with a fixed density, e.g. liquid or ice"
   ]
  },
  {
   "cell_type": "code",
   "execution_count": 8,
   "metadata": {},
   "outputs": [
    {
     "name": "stderr",
     "output_type": "stream",
     "text": [
      "/Volumes/User/mmaahn/anaconda/envs/python3/lib/python3.6/site-packages/pamtra2-0.1-py3.6-macosx-10.9-x86_64.egg/pamtra2/hydrometeors/numberConcentration.py:384: UserWarning: Truncation effect on the PSD are not considered. I.e., typically mass is lost!\n",
      "  warnings.warn('Truncation effect on the PSD are not considered. '\n",
      "/Volumes/User/mmaahn/anaconda/envs/python3/lib/python3.6/site-packages/dask/local.py:271: RuntimeWarning: divide by zero encountered in true_divide\n",
      "  return func(*args2)\n",
      "/Volumes/User/mmaahn/anaconda/envs/python3/lib/python3.6/_collections_abc.py:720: FutureWarning: iteration over an xarray.Dataset will change in xarray v0.11 to only include data variables, not coordinates. Iterate over the Dataset.variables property instead to preserve existing behavior in a forwards compatible manner.\n",
      "  yield from self._mapping\n",
      "/Volumes/User/mmaahn/anaconda/envs/python3/lib/python3.6/site-packages/pamtra2-0.1-py3.6-macosx-10.9-x86_64.egg/pamtra2/hydrometeors/core.py:306: FutureWarning: xarray.DataArray.__contains__ currently checks membership in DataArray.coords, but in xarray v0.11 will change to check membership in array values.\n",
      "  if key in self.profile[key]:\n",
      "/Volumes/User/mmaahn/anaconda/envs/python3/lib/python3.6/site-packages/pamtra2-0.1-py3.6-macosx-10.9-x86_64.egg/pamtra2/hydrometeors/core.py:310: FutureWarning: xarray.DataArray.__contains__ currently checks membership in DataArray.coords, but in xarray v0.11 will change to check membership in array values.\n",
      "  if key in self.profile[key]:\n"
     ]
    },
    {
     "data": {
      "text/plain": [
       "<pamtra2.hydrometeors.core.softEllipsoidFixedDensity at 0x11bc23198>"
      ]
     },
     "execution_count": 8,
     "metadata": {},
     "output_type": "execute_result"
    }
   ],
   "source": [
    "\n",
    "pam2.describeHydrometeor(\n",
    "    # hydrometeor type\n",
    "    pamtra2.hydrometeors.softEllipsoidFixedDensity,\n",
    "    name = 'rain', \n",
    "    nBins =40,\n",
    "    # Boundaries of the size distrbution. linspaceBounds distributes them linearly.\n",
    "    # Input Dmin, Dmax and nBins is tkane from the other arguments. \n",
    "    sizeBounds = pamtra2.hydrometeors.size.linspaceBounds, \n",
    "    # center of the size bin where the scattering properties are estimated,\n",
    "    # boundsToMid takes the numerical center\n",
    "    sizeCenter = pamtra2.hydrometeors.size.boundsToMid,\n",
    "    # width of teh bins\n",
    "    sizeBoundsWidth = pamtra2.hydrometeors.size.boundsWidth,\n",
    "    # size distribution normalized by linear bin width, unit m^-4\n",
    "    numberConcentration = pamtra2.hydrometeors.numberConcentration.exponentialN0WC, \n",
    "    # aspect ratio\n",
    "    aspectRatio = 1.0,\n",
    "    # mass, assume an ellipsoid with aspectRatio as defined above.\n",
    "    mass = pamtra2.hydrometeors.mass.ellipsoid,\n",
    "    density = pamtra2.hydrometeors.density.water,\n",
    "    # corss section follows a sphere\n",
    "    crossSectionArea = pamtra2.hydrometeors.crossSectionArea.sphere,\n",
    "    # use turner_kneifel_cadeddu to estimtate the relativePermittivity\n",
    "    relativePermittivity = pamtra2.libs.refractiveIndex.water.turner_kneifel_cadeddu, \n",
    "    # use simple Rayleigh scattering\n",
    "    scattering = pamtra2.hydrometeors.scattering.Rayleigh,\n",
    "    # define the fall velocity relation. Required variables are tkaen form profiles. \n",
    "    fallVelocity = pamtra2.hydrometeors.fallVelocity.khvorostyanov01_drops,\n",
    "    #mimimum and maximum size. Note this corresponds to sizeBounds\n",
    "    Dmin  = 1e-6,\n",
    "    Dmax  = 1e-2,\n",
    "    # n) is required by exponentialN0WC to make the size distrbution\n",
    "    N0 =  8e6,\n",
    "    useFuncArgDefaults = True,\n",
    ")\n"
   ]
  },
  {
   "cell_type": "markdown",
   "metadata": {},
   "source": [
    "Note that there is a warning in case not all arguments are used"
   ]
  },
  {
   "cell_type": "code",
   "execution_count": 9,
   "metadata": {
    "scrolled": false
   },
   "outputs": [
    {
     "name": "stdout",
     "output_type": "stream",
     "text": [
      "sizeBounds <function logspaceBounds at 0x11ae380d0>\n",
      "callable\n",
      "kw4Func {'nBins': 20, 'Dmin': 1e-06, 'Dmax': 0.01}\n",
      "sizeCenter <function boundsToMid at 0x11ae38158>\n",
      "callable\n",
      "kw4Func {'sizeBounds': <xarray.DataArray 'sizeBounds' (sizeBin1: 21)>\n",
      "array([1.000000e-06, 1.584893e-06, 2.511886e-06, 3.981072e-06, 6.309573e-06,\n",
      "       1.000000e-05, 1.584893e-05, 2.511886e-05, 3.981072e-05, 6.309573e-05,\n",
      "       1.000000e-04, 1.584893e-04, 2.511886e-04, 3.981072e-04, 6.309573e-04,\n",
      "       1.000000e-03, 1.584893e-03, 2.511886e-03, 3.981072e-03, 6.309573e-03,\n",
      "       1.000000e-02])\n",
      "Coordinates:\n",
      "  * sizeBin1  (sizeBin1) int64 0 1 2 3 4 5 6 7 8 9 10 11 12 13 14 15 16 17 ...\n",
      "Attributes:\n",
      "    unit:     m}\n",
      "sizeBoundsWidth <function boundsWidth at 0x11ae381e0>\n",
      "callable\n",
      "kw4Func {'sizeBounds': <xarray.DataArray 'sizeBounds' (sizeBin1: 21)>\n",
      "array([1.000000e-06, 1.584893e-06, 2.511886e-06, 3.981072e-06, 6.309573e-06,\n",
      "       1.000000e-05, 1.584893e-05, 2.511886e-05, 3.981072e-05, 6.309573e-05,\n",
      "       1.000000e-04, 1.584893e-04, 2.511886e-04, 3.981072e-04, 6.309573e-04,\n",
      "       1.000000e-03, 1.584893e-03, 2.511886e-03, 3.981072e-03, 6.309573e-03,\n",
      "       1.000000e-02])\n",
      "Coordinates:\n",
      "  * sizeBin1  (sizeBin1) int64 0 1 2 3 4 5 6 7 8 9 10 11 12 13 14 15 16 17 ...\n",
      "Attributes:\n",
      "    unit:     m}\n",
      "aspectRatio 0.6\n",
      "not callable\n",
      "mass <function powerLaw at 0x11ae38400>\n",
      "callable\n",
      "kw4Func {'sizeCenter': <xarray.DataArray 'sizeCenter' (sizeBin: 20)>\n",
      "array([1.292447e-06, 2.048390e-06, 3.246479e-06, 5.145323e-06, 8.154787e-06,\n",
      "       1.292447e-05, 2.048390e-05, 3.246479e-05, 5.145323e-05, 8.154787e-05,\n",
      "       1.292447e-04, 2.048390e-04, 3.246479e-04, 5.145323e-04, 8.154787e-04,\n",
      "       1.292447e-03, 2.048390e-03, 3.246479e-03, 5.145323e-03, 8.154787e-03])\n",
      "Coordinates:\n",
      "  * sizeBin  (sizeBin) int64 0 1 2 3 4 5 6 7 8 9 10 11 12 13 14 15 16 17 18 19\n",
      "Attributes:\n",
      "    unit:     m, 'massSizeA': 0.0121, 'massSizeB': 1.9}\n",
      "density <function softEllipsoid at 0x11ae38730>\n",
      "callable\n",
      "kw4Func {'sizeCenter': <xarray.DataArray 'sizeCenter' (sizeBin: 20)>\n",
      "array([1.292447e-06, 2.048390e-06, 3.246479e-06, 5.145323e-06, 8.154787e-06,\n",
      "       1.292447e-05, 2.048390e-05, 3.246479e-05, 5.145323e-05, 8.154787e-05,\n",
      "       1.292447e-04, 2.048390e-04, 3.246479e-04, 5.145323e-04, 8.154787e-04,\n",
      "       1.292447e-03, 2.048390e-03, 3.246479e-03, 5.145323e-03, 8.154787e-03])\n",
      "Coordinates:\n",
      "  * sizeBin  (sizeBin) int64 0 1 2 3 4 5 6 7 8 9 10 11 12 13 14 15 16 17 18 19\n",
      "Attributes:\n",
      "    unit:     m, 'aspectRatio': <xarray.DataArray 'aspectRatio' ()>\n",
      "array(0.6)\n",
      "Attributes:\n",
      "    unit:     -, 'mass': <xarray.DataArray 'mass' (sizeBin: 20)>\n",
      "array([7.842767e-14, 1.881349e-13, 4.513041e-13, 1.082603e-12, 2.596984e-12,\n",
      "       6.229731e-12, 1.494408e-11, 3.584836e-11, 8.599423e-11, 2.062858e-10,\n",
      "       4.948452e-10, 1.187051e-09, 2.847537e-09, 6.830765e-09, 1.638586e-08,\n",
      "       3.930695e-08, 9.429080e-08, 2.261879e-07, 5.425869e-07, 1.301575e-06])\n",
      "Coordinates:\n",
      "  * sizeBin  (sizeBin) int64 0 1 2 3 4 5 6 7 8 9 10 11 12 13 14 15 16 17 18 19\n",
      "Attributes:\n",
      "    unit:     kg, 'minDensity': 100, 'maxDensity': 917.0}\n",
      "crossSectionArea <function powerLaw at 0x11ae38620>\n",
      "callable\n",
      "kw4Func {'sizeCenter': <xarray.DataArray 'sizeCenter' (sizeBin: 20)>\n",
      "array([1.292447e-06, 2.048390e-06, 3.246479e-06, 5.145323e-06, 8.154787e-06,\n",
      "       1.292447e-05, 2.048390e-05, 3.246479e-05, 5.145323e-05, 8.154787e-05,\n",
      "       1.292447e-04, 2.048390e-04, 3.246479e-04, 5.145323e-04, 8.154787e-04,\n",
      "       1.292447e-03, 2.048390e-03, 3.246479e-03, 5.145323e-03, 8.154787e-03])\n",
      "Coordinates:\n",
      "  * sizeBin  (sizeBin) int64 0 1 2 3 4 5 6 7 8 9 10 11 12 13 14 15 16 17 18 19\n",
      "Attributes:\n",
      "    unit:     m, 'areaSizeA': 0.4, 'areaSizeB': 1.8}\n",
      "relativePermittivityIce <function ice_matzler_2006 at 0x11ae38b70>\n",
      "callable\n",
      "kw4Func {'temperature': <xarray.DataArray 'temperature' (time: 1, lat: 2, layer: 10)>\n",
      "dask.array<shape=(1, 2, 10), dtype=float64, chunksize=(1, 1, 10)>\n",
      "Coordinates:\n",
      "  * time     (time) datetime64[ns] 2016-01-01\n",
      "  * lat      (lat) int64 70 75\n",
      "  * layer    (layer) int64 0 1 2 3 4 5 6 7 8 9\n",
      "Attributes:\n",
      "    unit:     K, 'frequency': <xarray.DataArray 'frequency' (frequency: 2)>\n",
      "array([3.5e+10, 9.4e+10])\n",
      "Coordinates:\n",
      "  * frequency  (frequency) float64 3.5e+10 9.4e+10, 'checkTemperatureForRelativePermittivity': False}\n",
      "numberConcentration <function exponentialFieldWC at 0x11ae45378>\n",
      "callable\n",
      "kw4Func {'sizeCenter': <xarray.DataArray 'sizeCenter' (sizeBin: 20)>\n",
      "array([1.292447e-06, 2.048390e-06, 3.246479e-06, 5.145323e-06, 8.154787e-06,\n",
      "       1.292447e-05, 2.048390e-05, 3.246479e-05, 5.145323e-05, 8.154787e-05,\n",
      "       1.292447e-04, 2.048390e-04, 3.246479e-04, 5.145323e-04, 8.154787e-04,\n",
      "       1.292447e-03, 2.048390e-03, 3.246479e-03, 5.145323e-03, 8.154787e-03])\n",
      "Coordinates:\n",
      "  * sizeBin  (sizeBin) int64 0 1 2 3 4 5 6 7 8 9 10 11 12 13 14 15 16 17 18 19\n",
      "Attributes:\n",
      "    unit:     m, 'sizeBoundsWidth': <xarray.DataArray 'sizeBoundsWidth' (sizeBin: 20)>\n",
      "array([5.848932e-07, 9.269932e-07, 1.469185e-06, 2.328502e-06, 3.690427e-06,\n",
      "       5.848932e-06, 9.269932e-06, 1.469185e-05, 2.328502e-05, 3.690427e-05,\n",
      "       5.848932e-05, 9.269932e-05, 1.469185e-04, 2.328502e-04, 3.690427e-04,\n",
      "       5.848932e-04, 9.269932e-04, 1.469185e-03, 2.328502e-03, 3.690427e-03])\n",
      "Coordinates:\n",
      "  * sizeBin  (sizeBin) int64 0 1 2 3 4 5 6 7 8 9 10 11 12 13 14 15 16 17 18 19\n",
      "Attributes:\n",
      "    unit:     m, 'temperature': <xarray.DataArray 'temperature' (time: 1, lat: 2, layer: 10)>\n",
      "dask.array<shape=(1, 2, 10), dtype=float64, chunksize=(1, 1, 10)>\n",
      "Coordinates:\n",
      "  * time     (time) datetime64[ns] 2016-01-01\n",
      "  * lat      (lat) int64 70 75\n",
      "  * layer    (layer) int64 0 1 2 3 4 5 6 7 8 9\n",
      "Attributes:\n",
      "    unit:     K, 'hydrometeorContent': <xarray.DataArray 'hydrometeorContent' (time: 1, lat: 2, layer: 10)>\n",
      "dask.array<shape=(1, 2, 10), dtype=float64, chunksize=(1, 1, 10)>\n",
      "Coordinates:\n",
      "  * time     (time) datetime64[ns] 2016-01-01\n",
      "  * lat      (lat) int64 70 75\n",
      "  * layer    (layer) int64 0 1 2 3 4 5 6 7 8 9\n",
      "Attributes:\n",
      "    unit:     kg/m^3, 'massSizeA': 0.0121, 'massSizeB': 1.9}\n",
      "relativePermittivity <function mixing_sihvola at 0x11ae38d08>\n",
      "callable\n",
      "kw4Func {'relativePermittivityIce': <xarray.DataArray 'relativePermittivityIce' (time: 1, lat: 2, layer: 10, frequency: 2)>\n",
      "dask.array<shape=(1, 2, 10, 2), dtype=complex128, chunksize=(1, 1, 10, 2)>\n",
      "Coordinates:\n",
      "  * time       (time) datetime64[ns] 2016-01-01\n",
      "  * lat        (lat) int64 70 75\n",
      "  * layer      (layer) int64 0 1 2 3 4 5 6 7 8 9\n",
      "  * frequency  (frequency) float64 3.5e+10 9.4e+10\n",
      "Attributes:\n",
      "    unit:     n/a, 'density': <xarray.DataArray 'density' (sizeBin: 20)>\n",
      "array([917.      , 917.      , 917.      , 917.      , 917.      , 917.      ,\n",
      "       917.      , 917.      , 917.      , 917.      , 729.594632, 439.624239,\n",
      "       264.8998  , 159.617914, 100.      , 100.      , 100.      , 100.      ,\n",
      "       100.      , 100.      ])\n",
      "Coordinates:\n",
      "  * sizeBin  (sizeBin) int64 0 1 2 3 4 5 6 7 8 9 10 11 12 13 14 15 16 17 18 19\n",
      "Attributes:\n",
      "    unit:     kg/m^3}\n",
      "scattering <function Mie at 0x11ae38950>\n",
      "callable\n",
      "kw4Func {'sizeCenter': <xarray.DataArray 'sizeCenter' (sizeBin: 20)>\n",
      "array([1.292447e-06, 2.048390e-06, 3.246479e-06, 5.145323e-06, 8.154787e-06,\n",
      "       1.292447e-05, 2.048390e-05, 3.246479e-05, 5.145323e-05, 8.154787e-05,\n",
      "       1.292447e-04, 2.048390e-04, 3.246479e-04, 5.145323e-04, 8.154787e-04,\n",
      "       1.292447e-03, 2.048390e-03, 3.246479e-03, 5.145323e-03, 8.154787e-03])\n",
      "Coordinates:\n",
      "  * sizeBin  (sizeBin) int64 0 1 2 3 4 5 6 7 8 9 10 11 12 13 14 15 16 17 18 19\n",
      "Attributes:\n",
      "    unit:     m, 'wavelength': <xarray.DataArray 'wavelength' (frequency: 2)>\n",
      "dask.array<shape=(2,), dtype=float64, chunksize=(1,)>\n",
      "Coordinates:\n",
      "  * frequency  (frequency) float64 3.5e+10 9.4e+10, 'relativePermittivity': <xarray.DataArray 'relativePermittivity' (time: 1, lat: 2, layer: 10, frequency: 2, sizeBin: 20)>\n",
      "dask.array<shape=(1, 2, 10, 2, 20), dtype=complex128, chunksize=(1, 1, 10, 2, 20)>\n",
      "Coordinates:\n",
      "  * sizeBin    (sizeBin) int64 0 1 2 3 4 5 6 7 8 9 10 11 12 13 14 15 16 17 18 19\n",
      "  * time       (time) datetime64[ns] 2016-01-01\n",
      "  * lat        (lat) int64 70 75\n",
      "  * layer      (layer) int64 0 1 2 3 4 5 6 7 8 9\n",
      "  * frequency  (frequency) float64 3.5e+10 9.4e+10\n",
      "Attributes:\n",
      "    unit:     n/a}\n",
      "fallVelocity <function heymsfield10_particles at 0x11ae38a60>\n",
      "callable\n",
      "kw4Func {'sizeCenter': <xarray.DataArray 'sizeCenter' (sizeBin: 20)>\n",
      "array([1.292447e-06, 2.048390e-06, 3.246479e-06, 5.145323e-06, 8.154787e-06,\n",
      "       1.292447e-05, 2.048390e-05, 3.246479e-05, 5.145323e-05, 8.154787e-05,\n",
      "       1.292447e-04, 2.048390e-04, 3.246479e-04, 5.145323e-04, 8.154787e-04,\n",
      "       1.292447e-03, 2.048390e-03, 3.246479e-03, 5.145323e-03, 8.154787e-03])\n",
      "Coordinates:\n",
      "  * sizeBin  (sizeBin) int64 0 1 2 3 4 5 6 7 8 9 10 11 12 13 14 15 16 17 18 19\n",
      "Attributes:\n",
      "    unit:     m, 'mass': <xarray.DataArray 'mass' (sizeBin: 20)>\n",
      "array([7.842767e-14, 1.881349e-13, 4.513041e-13, 1.082603e-12, 2.596984e-12,\n",
      "       6.229731e-12, 1.494408e-11, 3.584836e-11, 8.599423e-11, 2.062858e-10,\n",
      "       4.948452e-10, 1.187051e-09, 2.847537e-09, 6.830765e-09, 1.638586e-08,\n",
      "       3.930695e-08, 9.429080e-08, 2.261879e-07, 5.425869e-07, 1.301575e-06])\n",
      "Coordinates:\n",
      "  * sizeBin  (sizeBin) int64 0 1 2 3 4 5 6 7 8 9 10 11 12 13 14 15 16 17 18 19\n",
      "Attributes:\n",
      "    unit:     kg, 'crossSectionArea': <xarray.DataArray 'crossSectionArea' (sizeBin: 20)>\n",
      "array([1.006011e-11, 2.304638e-11, 5.279620e-11, 1.209491e-10, 2.770784e-10,\n",
      "       6.347500e-10, 1.454128e-09, 3.331215e-09, 7.631373e-09, 1.748247e-08,\n",
      "       4.005002e-08, 9.174928e-08, 2.101855e-07, 4.815071e-07, 1.103069e-06,\n",
      "       2.526985e-06, 5.788988e-06, 1.326181e-05, 3.038104e-05, 6.959895e-05])\n",
      "Coordinates:\n",
      "  * sizeBin  (sizeBin) int64 0 1 2 3 4 5 6 7 8 9 10 11 12 13 14 15 16 17 18 19\n",
      "Attributes:\n",
      "    unit:     m^2, 'dynamicViscosity': <xarray.DataArray 'dynamicViscosity' (time: 1, lat: 2, layer: 10)>\n",
      "dask.array<shape=(1, 2, 10), dtype=float64, chunksize=(1, 1, 10)>\n",
      "Coordinates:\n",
      "  * time     (time) datetime64[ns] 2016-01-01\n",
      "  * lat      (lat) int64 70 75\n",
      "  * layer    (layer) int64 0 1 2 3 4 5 6 7 8 9, 'dryAirDensity': <xarray.DataArray 'dryAirDensity' (time: 1, lat: 2, layer: 10)>\n",
      "dask.array<shape=(1, 2, 10), dtype=float64, chunksize=(1, 1, 10)>\n",
      "Coordinates:\n",
      "  * time     (time) datetime64[ns] 2016-01-01\n",
      "  * lat      (lat) int64 70 75\n"
     ]
    },
    {
     "name": "stdout",
     "output_type": "stream",
     "text": [
      "  * layer    (layer) int64 0 1 2 3 4 5 6 7 8 9}\n",
      "nBins 20\n",
      "not callable\n",
      "Dmin 1e-06\n",
      "not callable\n",
      "Dmax 0.01\n",
      "not callable\n",
      "massSizeA 0.0121\n",
      "not callable\n",
      "massSizeB 1.9\n",
      "not callable\n",
      "areaSizeA 0.4\n",
      "not callable\n",
      "areaSizeB 1.8\n",
      "not callable\n",
      "minDensity 100\n",
      "not callable\n",
      "bla 12\n",
      "not callable\n"
     ]
    },
    {
     "name": "stderr",
     "output_type": "stream",
     "text": [
      "/Volumes/User/mmaahn/anaconda/envs/python3/lib/python3.6/site-packages/pamtra2-0.1-py3.6-macosx-10.9-x86_64.egg/pamtra2/hydrometeors/numberConcentration.py:384: UserWarning: Truncation effect on the PSD are not considered. I.e., typically mass is lost!\n",
      "  warnings.warn('Truncation effect on the PSD are not considered. '\n",
      "/Volumes/User/mmaahn/anaconda/envs/python3/lib/python3.6/site-packages/dask/local.py:271: RuntimeWarning: divide by zero encountered in true_divide\n",
      "  return func(*args2)\n",
      "/Volumes/User/mmaahn/anaconda/envs/python3/lib/python3.6/_collections_abc.py:720: FutureWarning: iteration over an xarray.Dataset will change in xarray v0.11 to only include data variables, not coordinates. Iterate over the Dataset.variables property instead to preserve existing behavior in a forwards compatible manner.\n",
      "  yield from self._mapping\n",
      "/Volumes/User/mmaahn/anaconda/envs/python3/lib/python3.6/site-packages/pamtra2-0.1-py3.6-macosx-10.9-x86_64.egg/pamtra2/hydrometeors/core.py:278: UserWarning: The following kwargs were NOT used: ['bla']\n",
      "  '%s' % self._keysToBeUsed)\n",
      "/Volumes/User/mmaahn/anaconda/envs/python3/lib/python3.6/site-packages/pamtra2-0.1-py3.6-macosx-10.9-x86_64.egg/pamtra2/hydrometeors/core.py:306: FutureWarning: xarray.DataArray.__contains__ currently checks membership in DataArray.coords, but in xarray v0.11 will change to check membership in array values.\n",
      "  if key in self.profile[key]:\n",
      "/Volumes/User/mmaahn/anaconda/envs/python3/lib/python3.6/site-packages/pamtra2-0.1-py3.6-macosx-10.9-x86_64.egg/pamtra2/hydrometeors/core.py:310: FutureWarning: xarray.DataArray.__contains__ currently checks membership in DataArray.coords, but in xarray v0.11 will change to check membership in array values.\n",
      "  if key in self.profile[key]:\n"
     ]
    },
    {
     "data": {
      "text/plain": [
       "<pamtra2.hydrometeors.core.softEllipsoidMassSize at 0x11bc879e8>"
      ]
     },
     "execution_count": 9,
     "metadata": {},
     "output_type": "execute_result"
    }
   ],
   "source": [
    "pam2.describeHydrometeor(\n",
    "    pamtra2.hydrometeors.softEllipsoidMassSize,\n",
    "    name='snow',\n",
    "    nBins = 20,\n",
    "    sizeBounds=pamtra2.hydrometeors.size.logspaceBounds, #function/object to call for getting sizes\n",
    "    sizeCenter = pamtra2.hydrometeors.size.boundsToMid,\n",
    "    sizeBoundsWidth = pamtra2.hydrometeors.size.boundsWidth,\n",
    "    numberConcentration = pamtra2.hydrometeors.numberConcentration.exponentialFieldWC,\n",
    "    aspectRatio = 0.6,\n",
    "    crossSectionArea = pamtra2.hydrometeors.crossSectionArea.powerLaw,\n",
    "    mass = pamtra2.hydrometeors.mass.powerLaw,\n",
    "    density = pamtra2.hydrometeors.density.softEllipsoid,\n",
    "    #to do: adapt refractiveIndex routine so that mixing and RI are treated separately. \n",
    "    relativePermittivityIce = pamtra2.hydrometeors.relativePermittivity.ice_matzler_2006,\n",
    "    relativePermittivity = pamtra2.hydrometeors.relativePermittivity.mixing_sihvola,\n",
    "    scattering = pamtra2.hydrometeors.scattering.Mie,\n",
    "    fallVelocity = pamtra2.hydrometeors.fallVelocity.heymsfield10_particles,\n",
    "    Dmin = 1e-6,\n",
    "    Dmax = 1e-2,\n",
    "    massSizeA = 0.0121, \n",
    "    massSizeB = 1.9,\n",
    "    areaSizeA = 0.4,\n",
    "    areaSizeB = 1.8,\n",
    "    minDensity = 100,\n",
    "    bla = 12,\n",
    "    useFuncArgDefaults = True,\n",
    "    verbosity = 3,\n",
    "    )\n"
   ]
  },
  {
   "cell_type": "markdown",
   "metadata": {},
   "source": [
    "We have access to a lot of internal properties, like the fall velocityu of particles"
   ]
  },
  {
   "cell_type": "code",
   "execution_count": 10,
   "metadata": {},
   "outputs": [],
   "source": [
    "# plt.plot(\n",
    "#     pam2.hydrometeors.rain.profile.sizeCenter,\n",
    "#     pam2.hydrometeors.rain.profile.fallVelocity.isel(layer=10,time=0,lat=0),\n",
    "#     label = 'rain')\n",
    "# plt.plot(\n",
    "#     pam2.hydrometeors.snow.profile.sizeCenter,\n",
    "#     pam2.hydrometeors.snow.profile.fallVelocity.isel(layer=10,time=0,lat=0),\n",
    "#     label = 'snow')\n",
    "# plt.legend()\n",
    "# plt.grid()\n"
   ]
  },
  {
   "cell_type": "markdown",
   "metadata": {},
   "source": [
    "The profile arrays have been populated, but they contain daks arrays. These are only placeholders, they have not been calculated yet!"
   ]
  },
  {
   "cell_type": "markdown",
   "metadata": {},
   "source": [
    "Force computation with e.g.\n",
    "`pam2.hydrometeors.rain.profile.compute()` or `pam2.hydrometeors.rain.profile.to_netcdf()` or  or `pam2.hydrometeors.rain.profile.fallVelocity.plot()`"
   ]
  },
  {
   "cell_type": "markdown",
   "metadata": {},
   "source": [
    "# Radar simulator\n"
   ]
  },
  {
   "cell_type": "code",
   "execution_count": 11,
   "metadata": {},
   "outputs": [
    {
     "data": {
      "text/plain": [
       "<pamtra2.instruments.radar.dopplerRadarPamtra at 0x11bbf2d30>"
      ]
     },
     "execution_count": 11,
     "metadata": {},
     "output_type": "execute_result"
    }
   ],
   "source": [
    "\n",
    "\n",
    "pam2.addInstrument(\n",
    "    pamtra2.instruments.radar.dopplerRadarPamtra,\n",
    "    name = 'test',\n",
    "    frequencies = [3.5e+10],    \n",
    "        radarMaxV=7.885,\n",
    "        radarMinV=-7.885,\n",
    "        radarAliasingNyquistInterv=10,\n",
    "        radarNFFT=256,\n",
    "        verbosity=0,\n",
    "        radarAirmotion=True,\n",
    "        radarAirmotionModel=\"constant\",  # \"constant\",\"linear\",\"step\"\n",
    "        radarAirmotionVmin=0,\n",
    "        radarAirmotionVmax=0,\n",
    "        radarAirmotionLinearSteps=30,\n",
    "        radarAirmotionStepVmin=0.5,\n",
    "        radarK2=0.93,         # dielectric constant |K|² (always for liquid water by convention) for the radar equation\n",
    "        radarBeamwidthDeg=0.2,\n",
    "        radarIntegrationTime=60,\n",
    "        radarPNoise1000=-30,\n",
    "        radarNAve=150,\n",
    "        seed=0,\n",
    "        solve=False,\n",
    ")"
   ]
  },
  {
   "cell_type": "code",
   "execution_count": 12,
   "metadata": {},
   "outputs": [
    {
     "data": {
      "text/plain": [
       "<xarray.Dataset>\n",
       "Dimensions:                    (dopplerVelocity: 256, dopplerVelocityAliased: 5376, frequency: 1, lat: 2, layer: 10, peak: 2, time: 1)\n",
       "Coordinates:\n",
       "  * frequency                  (frequency) float64 3.5e+10\n",
       "  * time                       (time) datetime64[ns] 2016-01-01\n",
       "  * lat                        (lat) int64 70 75\n",
       "  * layer                      (layer) int64 0 1 2 3 4 5 6 7 8 9\n",
       "  * dopplerVelocity            (dopplerVelocity) float64 -7.885 -7.823 ...\n",
       "  * peak                       (peak) int64 1 2\n",
       "Dimensions without coordinates: dopplerVelocityAliased\n",
       "Data variables:\n",
       "    specificAttenuation        (frequency, time, lat, layer) float64 dask.array<shape=(1, 1, 2, 10), chunksize=(1, 1, 1, 10)>\n",
       "    pathIntegratedAttBottomUp  (frequency, time, lat, layer) float64 dask.array<shape=(1, 1, 2, 10), chunksize=(1, 1, 1, 10)>\n",
       "    pathIntegratedAttTopDown   (frequency, time, lat, layer) float64 dask.array<shape=(1, 1, 2, 10), chunksize=(1, 1, 1, 10)>\n",
       "    radarIdealizedSpectrum     (dopplerVelocityAliased, time, lat, layer, frequency) float64 dask.array<shape=(5376, 1, 2, 10, 1), chunksize=(5376, 1, 1, 10, 1)>\n",
       "    radarSpectrum              (dopplerVelocity, time, lat, layer, frequency) float64 dask.array<shape=(256, 1, 2, 10, 1), chunksize=(256, 1, 1, 10, 1)>\n",
       "    radarReflectivity          (peak, time, lat, layer, frequency) float64 dask.array<shape=(2, 1, 2, 10, 1), chunksize=(2, 1, 1, 10, 1)>\n",
       "    meanDopplerVel             (peak, time, lat, layer, frequency) float64 dask.array<shape=(2, 1, 2, 10, 1), chunksize=(2, 1, 1, 10, 1)>\n",
       "    spectrumWidth              (peak, time, lat, layer, frequency) float64 dask.array<shape=(2, 1, 2, 10, 1), chunksize=(2, 1, 1, 10, 1)>\n",
       "    skewness                   (peak, time, lat, layer, frequency) float64 dask.array<shape=(2, 1, 2, 10, 1), chunksize=(2, 1, 1, 10, 1)>\n",
       "    kurtosis                   (peak, time, lat, layer, frequency) float64 dask.array<shape=(2, 1, 2, 10, 1), chunksize=(2, 1, 1, 10, 1)>\n",
       "    leftSlope                  (peak, time, lat, layer, frequency) float64 dask.array<shape=(2, 1, 2, 10, 1), chunksize=(2, 1, 1, 10, 1)>\n",
       "    rightSlope                 (peak, time, lat, layer, frequency) float64 dask.array<shape=(2, 1, 2, 10, 1), chunksize=(2, 1, 1, 10, 1)>\n",
       "    leftEdge                   (peak, time, lat, layer, frequency) float64 dask.array<shape=(2, 1, 2, 10, 1), chunksize=(2, 1, 1, 10, 1)>\n",
       "    rightEdge                  (peak, time, lat, layer, frequency) float64 dask.array<shape=(2, 1, 2, 10, 1), chunksize=(2, 1, 1, 10, 1)>\n",
       "    quality                    (time, lat, layer, frequency) float64 dask.array<shape=(1, 2, 10, 1), chunksize=(1, 1, 10, 1)>\n",
       "    noiseMean                  (time, lat, layer, frequency) float64 dask.array<shape=(1, 2, 10, 1), chunksize=(1, 1, 10, 1)>"
      ]
     },
     "execution_count": 12,
     "metadata": {},
     "output_type": "execute_result"
    }
   ],
   "source": [
    "pam2.instruments.test.solve()"
   ]
  },
  {
   "cell_type": "markdown",
   "metadata": {},
   "source": [
    "Again, the results are not estimated yet when using dask."
   ]
  },
  {
   "cell_type": "code",
   "execution_count": 13,
   "metadata": {},
   "outputs": [
    {
     "data": {
      "text/plain": [
       "<xarray.Dataset>\n",
       "Dimensions:                    (dopplerVelocity: 256, dopplerVelocityAliased: 5376, frequency: 1, lat: 2, layer: 10, peak: 2, time: 1)\n",
       "Coordinates:\n",
       "  * frequency                  (frequency) float64 3.5e+10\n",
       "  * time                       (time) datetime64[ns] 2016-01-01\n",
       "  * lat                        (lat) int64 70 75\n",
       "  * layer                      (layer) int64 0 1 2 3 4 5 6 7 8 9\n",
       "  * dopplerVelocity            (dopplerVelocity) float64 -7.885 -7.823 ...\n",
       "  * peak                       (peak) int64 1 2\n",
       "Dimensions without coordinates: dopplerVelocityAliased\n",
       "Data variables:\n",
       "    specificAttenuation        (frequency, time, lat, layer) float64 dask.array<shape=(1, 1, 2, 10), chunksize=(1, 1, 1, 10)>\n",
       "    pathIntegratedAttBottomUp  (frequency, time, lat, layer) float64 dask.array<shape=(1, 1, 2, 10), chunksize=(1, 1, 1, 10)>\n",
       "    pathIntegratedAttTopDown   (frequency, time, lat, layer) float64 dask.array<shape=(1, 1, 2, 10), chunksize=(1, 1, 1, 10)>\n",
       "    radarIdealizedSpectrum     (dopplerVelocityAliased, time, lat, layer, frequency) float64 dask.array<shape=(5376, 1, 2, 10, 1), chunksize=(5376, 1, 1, 10, 1)>\n",
       "    radarSpectrum              (dopplerVelocity, time, lat, layer, frequency) float64 dask.array<shape=(256, 1, 2, 10, 1), chunksize=(256, 1, 1, 10, 1)>\n",
       "    radarReflectivity          (peak, time, lat, layer, frequency) float64 dask.array<shape=(2, 1, 2, 10, 1), chunksize=(2, 1, 1, 10, 1)>\n",
       "    meanDopplerVel             (peak, time, lat, layer, frequency) float64 dask.array<shape=(2, 1, 2, 10, 1), chunksize=(2, 1, 1, 10, 1)>\n",
       "    spectrumWidth              (peak, time, lat, layer, frequency) float64 dask.array<shape=(2, 1, 2, 10, 1), chunksize=(2, 1, 1, 10, 1)>\n",
       "    skewness                   (peak, time, lat, layer, frequency) float64 dask.array<shape=(2, 1, 2, 10, 1), chunksize=(2, 1, 1, 10, 1)>\n",
       "    kurtosis                   (peak, time, lat, layer, frequency) float64 dask.array<shape=(2, 1, 2, 10, 1), chunksize=(2, 1, 1, 10, 1)>\n",
       "    leftSlope                  (peak, time, lat, layer, frequency) float64 dask.array<shape=(2, 1, 2, 10, 1), chunksize=(2, 1, 1, 10, 1)>\n",
       "    rightSlope                 (peak, time, lat, layer, frequency) float64 dask.array<shape=(2, 1, 2, 10, 1), chunksize=(2, 1, 1, 10, 1)>\n",
       "    leftEdge                   (peak, time, lat, layer, frequency) float64 dask.array<shape=(2, 1, 2, 10, 1), chunksize=(2, 1, 1, 10, 1)>\n",
       "    rightEdge                  (peak, time, lat, layer, frequency) float64 dask.array<shape=(2, 1, 2, 10, 1), chunksize=(2, 1, 1, 10, 1)>\n",
       "    quality                    (time, lat, layer, frequency) float64 dask.array<shape=(1, 2, 10, 1), chunksize=(1, 1, 10, 1)>\n",
       "    noiseMean                  (time, lat, layer, frequency) float64 dask.array<shape=(1, 2, 10, 1), chunksize=(1, 1, 10, 1)>"
      ]
     },
     "execution_count": 13,
     "metadata": {},
     "output_type": "execute_result"
    }
   ],
   "source": [
    "pam2.instruments.test.results\n"
   ]
  },
  {
   "cell_type": "markdown",
   "metadata": {},
   "source": [
    "Do the numbers!"
   ]
  },
  {
   "cell_type": "code",
   "execution_count": 69,
   "metadata": {},
   "outputs": [
    {
     "name": "stderr",
     "output_type": "stream",
     "text": [
      "/Volumes/User/mmaahn/anaconda/envs/python3/lib/python3.6/site-packages/dask/local.py:271: RuntimeWarning: divide by zero encountered in true_divide\n",
      "  return func(*args2)\n"
     ]
    },
    {
     "data": {
      "text/plain": [
       "<xarray.Dataset>\n",
       "Dimensions:                    (dopplerVelocity: 256, dopplerVelocityAliased: 5376, frequency: 2, lat: 2, layer: 10, peak: 2, time: 1)\n",
       "Coordinates:\n",
       "  * frequency                  (frequency) float64 3.5e+10 9.4e+10\n",
       "  * time                       (time) datetime64[ns] 2016-01-01\n",
       "  * lat                        (lat) int64 70 75\n",
       "  * layer                      (layer) int64 0 1 2 3 4 5 6 7 8 9\n",
       "  * dopplerVelocity            (dopplerVelocity) float64 -7.885 -7.823 ...\n",
       "  * peak                       (peak) int64 1 2\n",
       "Dimensions without coordinates: dopplerVelocityAliased\n",
       "Data variables:\n",
       "    specificAttenuation        (frequency, time, lat, layer) float64 5.399e-05 ...\n",
       "    pathIntegratedAttBottomUp  (frequency, time, lat, layer) float64 0.005939 ...\n",
       "    pathIntegratedAttTopDown   (frequency, time, lat, layer) float64 0.3122 ...\n",
       "    radarIdealizedSpectrum     (dopplerVelocityAliased, time, lat, layer, frequency) float64 0.0 ...\n",
       "    radarSpectrum              (dopplerVelocity, time, lat, layer, frequency) float64 6.307e-09 ...\n",
       "    radarReflectivity          (peak, time, lat, layer, frequency) float64 nan ...\n",
       "    meanDopplerVel             (peak, time, lat, layer, frequency) float64 nan ...\n",
       "    spectrumWidth              (peak, time, lat, layer, frequency) float64 nan ...\n",
       "    skewness                   (peak, time, lat, layer, frequency) float64 nan ...\n",
       "    kurtosis                   (peak, time, lat, layer, frequency) float64 nan ...\n",
       "    leftSlope                  (peak, time, lat, layer, frequency) float64 nan ...\n",
       "    rightSlope                 (peak, time, lat, layer, frequency) float64 nan ...\n",
       "    leftEdge                   (peak, time, lat, layer, frequency) float64 nan ...\n",
       "    rightEdge                  (peak, time, lat, layer, frequency) float64 nan ...\n",
       "    quality                    (time, lat, layer, frequency) float64 64.0 ...\n",
       "    noiseMean                  (time, lat, layer, frequency) float64 -69.99 ..."
      ]
     },
     "execution_count": 69,
     "metadata": {},
     "output_type": "execute_result"
    }
   ],
   "source": [
    "pam2.instruments.test.results.load()"
   ]
  },
  {
   "cell_type": "code",
   "execution_count": 71,
   "metadata": {},
   "outputs": [
    {
     "data": {
      "text/plain": [
       "<xarray.DataArray 'radarReflectivity' (lat: 2, layer: 10, frequency: 2)>\n",
       "array([[[      nan,       nan],\n",
       "        [      nan,       nan],\n",
       "        [      nan,       nan],\n",
       "        [      nan,       nan],\n",
       "        [      nan,       nan],\n",
       "        [25.472446,       nan],\n",
       "        [25.48312 ,       nan],\n",
       "        [25.550881,       nan],\n",
       "        [      nan,       nan],\n",
       "        [      nan,       nan]],\n",
       "\n",
       "       [[      nan,       nan],\n",
       "        [      nan,       nan],\n",
       "        [      nan,       nan],\n",
       "        [      nan,       nan],\n",
       "        [      nan,       nan],\n",
       "        [25.481581,       nan],\n",
       "        [25.614113,       nan],\n",
       "        [25.608399,       nan],\n",
       "        [      nan,       nan],\n",
       "        [      nan,       nan]]])\n",
       "Coordinates:\n",
       "  * frequency  (frequency) float64 3.5e+10 9.4e+10\n",
       "    time       datetime64[ns] 2016-01-01\n",
       "  * lat        (lat) int64 70 75\n",
       "  * layer      (layer) int64 0 1 2 3 4 5 6 7 8 9\n",
       "    peak       int64 1\n",
       "Attributes:\n",
       "    unit:     n/a"
      ]
     },
     "execution_count": 71,
     "metadata": {},
     "output_type": "execute_result"
    }
   ],
   "source": [
    "pam2.instruments.test.results.radarReflectivity.isel(peak=0,time=0).T.plot()"
   ]
  },
  {
   "cell_type": "code",
   "execution_count": null,
   "metadata": {},
   "outputs": [],
   "source": []
  }
 ],
 "metadata": {
  "kernelspec": {
   "display_name": "Python 3",
   "language": "python",
   "name": "python3"
  },
  "language_info": {
   "codemirror_mode": {
    "name": "ipython",
    "version": 3
   },
   "file_extension": ".py",
   "mimetype": "text/x-python",
   "name": "python",
   "nbconvert_exporter": "python",
   "pygments_lexer": "ipython3",
   "version": "3.6.5"
  },
  "toc": {
   "base_numbering": 1,
   "nav_menu": {},
   "number_sections": true,
   "sideBar": true,
   "skip_h1_title": false,
   "title_cell": "Table of Contents",
   "title_sidebar": "Contents",
   "toc_cell": false,
   "toc_position": {
    "height": "calc(100% - 180px)",
    "left": "10px",
    "top": "150px",
    "width": "249px"
   },
   "toc_section_display": "block",
   "toc_window_display": true
  }
 },
 "nbformat": 4,
 "nbformat_minor": 2
}
