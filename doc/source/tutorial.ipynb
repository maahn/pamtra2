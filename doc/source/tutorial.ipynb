{
 "cells": [
  {
   "cell_type": "markdown",
   "metadata": {},
   "source": [
    "# Pamtra2 tutorial\n",
    "\n",
    "The following is a walk-through though a Pamtra2 work-flow.\n",
    "\n",
    "Import all required libraries first"
   ]
  },
  {
   "cell_type": "code",
   "execution_count": 1,
   "metadata": {},
   "outputs": [
    {
     "name": "stderr",
     "output_type": "stream",
     "text": [
      "/Users/mmaahn/miniconda3/envs/py36/lib/python3.6/abc.py:133: FutureWarning: xarray subclass customProfile should explicitly define __slots__\n",
      "  cls = super().__new__(mcls, name, bases, namespace, **kwargs)\n"
     ]
    }
   ],
   "source": [
    "import pamtra2\n",
    "import collections\n",
    "import numpy as np\n",
    "import pandas as pn\n",
    "import xarray as xr\n",
    "from collections import OrderedDict\n",
    "from copy import deepcopy, copy\n",
    "import toolz\n",
    "import collections\n",
    "import matplotlib.pyplot as plt\n",
    "\n",
    "try:\n",
    "    %matplotlib inline\n",
    "except:\n",
    "    pass"
   ]
  },
  {
   "cell_type": "markdown",
   "metadata": {},
   "source": [
    "# create Pamtra object and Profile object\n",
    "\n",
    "First we have to create the Pamtra2 object called `pam2`. We have to provide the number of model layers, the frequencies we want to use later, the names of the used hydroometeors (details are defined later) and optionally we can an arbitrary number of additional dimensions, e.g. time, latitude, favorite color, etc."
   ]
  },
  {
   "cell_type": "code",
   "execution_count": 2,
   "metadata": {},
   "outputs": [],
   "source": [
    "additionalDims = collections.OrderedDict()\n",
    "additionalDims['time'] = pn.date_range('2016-01-01','2016-01-05',freq='D')[:1]\n",
    "additionalDims['lat'] = np.arange(70,80,5)\n",
    "nHeights = 10\n",
    "\n",
    "pam2 = pamtra2.pamtra2(\n",
    "    nLayer=nHeights,\n",
    "    hydrometeors=['rain','snow'],\n",
    "    additionalDims = additionalDims,\n",
    "    frequencies = [35e9, 94e9],\n",
    ")\n",
    "\n"
   ]
  },
  {
   "cell_type": "markdown",
   "metadata": {},
   "source": [
    "The profile data object (it is a xarray DataArray) contains all atmospheric variables. Empty arrays are already provided with the most important variables. You can add additional variables if required."
   ]
  },
  {
   "cell_type": "code",
   "execution_count": 3,
   "metadata": {},
   "outputs": [
    {
     "data": {
      "text/html": [
       "<pre>&lt;xarray.customProfile&gt;\n",
       "Dimensions:              (frequency: 2, hydrometeor: 2, lat: 2, layer: 10, time: 1)\n",
       "Coordinates:\n",
       "  * time                 (time) datetime64[ns] 2016-01-01\n",
       "  * lat                  (lat) int64 70 75\n",
       "  * layer                (layer) int64 0 1 2 3 4 5 6 7 8 9\n",
       "  * hydrometeor          (hydrometeor) &lt;U4 &#x27;rain&#x27; &#x27;snow&#x27;\n",
       "  * frequency            (frequency) float64 3.5e+10 9.4e+10\n",
       "Data variables:\n",
       "    height               (time, lat, layer) float64 nan nan nan ... nan nan nan\n",
       "    temperature          (time, lat, layer) float64 nan nan nan ... nan nan nan\n",
       "    pressure             (time, lat, layer) float64 nan nan nan ... nan nan nan\n",
       "    relativeHumidity     (time, lat, layer) float64 nan nan nan ... nan nan nan\n",
       "    horizontalWind       (time, lat, layer) float64 nan nan nan ... nan nan nan\n",
       "    verticalWind         (time, lat, layer) float64 nan nan nan ... nan nan nan\n",
       "    eddyDissipationRate  (time, lat, layer) float64 nan nan nan ... nan nan nan\n",
       "    hydrometeorContent   (time, lat, layer, hydrometeor) float64 nan nan ... nan\n",
       "    wavelength           (frequency) float64 0.008565 0.003189</pre>"
      ],
      "text/plain": [
       "<xarray.customProfile>\n",
       "Dimensions:              (frequency: 2, hydrometeor: 2, lat: 2, layer: 10, time: 1)\n",
       "Coordinates:\n",
       "  * time                 (time) datetime64[ns] 2016-01-01\n",
       "  * lat                  (lat) int64 70 75\n",
       "  * layer                (layer) int64 0 1 2 3 4 5 6 7 8 9\n",
       "  * hydrometeor          (hydrometeor) <U4 'rain' 'snow'\n",
       "  * frequency            (frequency) float64 3.5e+10 9.4e+10\n",
       "Data variables:\n",
       "    height               (time, lat, layer) float64 nan nan nan ... nan nan nan\n",
       "    temperature          (time, lat, layer) float64 nan nan nan ... nan nan nan\n",
       "    pressure             (time, lat, layer) float64 nan nan nan ... nan nan nan\n",
       "    relativeHumidity     (time, lat, layer) float64 nan nan nan ... nan nan nan\n",
       "    horizontalWind       (time, lat, layer) float64 nan nan nan ... nan nan nan\n",
       "    verticalWind         (time, lat, layer) float64 nan nan nan ... nan nan nan\n",
       "    eddyDissipationRate  (time, lat, layer) float64 nan nan nan ... nan nan nan\n",
       "    hydrometeorContent   (time, lat, layer, hydrometeor) float64 nan nan ... nan\n",
       "    wavelength           (frequency) float64 0.008565 0.003189"
      ]
     },
     "execution_count": 3,
     "metadata": {},
     "output_type": "execute_result"
    }
   ],
   "source": [
    "pam2.profile"
   ]
  },
  {
   "cell_type": "markdown",
   "metadata": {},
   "source": [
    "Fill the profile with some more or less random variables. The hydrometeorContent field has an additional dimension corresponding to the hydrometeor index.  "
   ]
  },
  {
   "cell_type": "code",
   "execution_count": 4,
   "metadata": {},
   "outputs": [],
   "source": [
    "pam2.profile.height[:] = np.linspace(10,1000,nHeights)\n",
    "pam2.profile.temperature[:] = 250 \n",
    "pam2.profile.relativeHumidity[:] = 90\n",
    "pam2.profile.pressure[:] = 100000\n",
    "pam2.profile.eddyDissipationRate[:] = 1e-4\n",
    "pam2.profile.horizontalWind[:] = 0\n",
    "\n",
    "pam2.profile.hydrometeorContent.values[:] = 0\n",
    "#rain\n",
    "pam2.profile.hydrometeorContent.values[...,5:8,0] = 1e-4\n",
    "#snow\n",
    "pam2.profile.hydrometeorContent.values[...,5:8,1] = 2e-4\n"
   ]
  },
  {
   "cell_type": "markdown",
   "metadata": {},
   "source": [
    "The `dask` library is for making Pamtra2 parallel: http://dask.pydata.org/ It's use is entirely optional. If used the profile is split up in chunks and each chunk is processed separately. As a little side effect, any calculation is delayed until the result is really needed (e.g. plotting, netcdf export). For testing, dask arrays are turned on by chunking, we keep a version without dask to make the difference clear. "
   ]
  },
  {
   "cell_type": "code",
   "execution_count": 5,
   "metadata": {
    "scrolled": true
   },
   "outputs": [],
   "source": [
    "pam2_nodask = deepcopy(pam2)\n",
    "pam2.profile = pam2.profile.chunk({'time':1, 'hydrometeor':1, 'lat':1, 'frequency':1})"
   ]
  },
  {
   "cell_type": "markdown",
   "metadata": {},
   "source": [
    "The helper function `addMissingVariables` calculates missing atmospheric variables like additional humidity measures. Note that because of dask the filed are only created, but the calculation were not done yet. Note the `dask.array<shape=(1, 10, 100), chunksize=(1, 1, 100)>`.\n",
    "\n"
   ]
  },
  {
   "cell_type": "code",
   "execution_count": 6,
   "metadata": {},
   "outputs": [
    {
     "data": {
      "text/html": [
       "<pre>&lt;xarray.customProfile&gt;\n",
       "Dimensions:              (frequency: 2, hydrometeor: 2, lat: 2, layer: 10, time: 1)\n",
       "Coordinates:\n",
       "  * time                 (time) datetime64[ns] 2016-01-01\n",
       "  * lat                  (lat) int64 70 75\n",
       "  * layer                (layer) int64 0 1 2 3 4 5 6 7 8 9\n",
       "  * hydrometeor          (hydrometeor) &lt;U4 &#x27;rain&#x27; &#x27;snow&#x27;\n",
       "  * frequency            (frequency) float64 3.5e+10 9.4e+10\n",
       "Data variables:\n",
       "    height               (time, lat, layer) float64 dask.array&lt;chunksize=(1, 1, 10), meta=np.ndarray&gt;\n",
       "    temperature          (time, lat, layer) float64 dask.array&lt;chunksize=(1, 1, 10), meta=np.ndarray&gt;\n",
       "    pressure             (time, lat, layer) float64 dask.array&lt;chunksize=(1, 1, 10), meta=np.ndarray&gt;\n",
       "    relativeHumidity     (time, lat, layer) float64 dask.array&lt;chunksize=(1, 1, 10), meta=np.ndarray&gt;\n",
       "    horizontalWind       (time, lat, layer) float64 dask.array&lt;chunksize=(1, 1, 10), meta=np.ndarray&gt;\n",
       "    verticalWind         (time, lat, layer) float64 dask.array&lt;chunksize=(1, 1, 10), meta=np.ndarray&gt;\n",
       "    eddyDissipationRate  (time, lat, layer) float64 dask.array&lt;chunksize=(1, 1, 10), meta=np.ndarray&gt;\n",
       "    hydrometeorContent   (time, lat, layer, hydrometeor) float64 dask.array&lt;chunksize=(1, 1, 10, 1), meta=np.ndarray&gt;\n",
       "    wavelength           (frequency) float64 dask.array&lt;chunksize=(1,), meta=np.ndarray&gt;\n",
       "    heightBinDepth       (time, lat, layer) float64 110.0 110.0 ... 110.0 110.0\n",
       "    specificHumidity     (time, lat, layer) float64 dask.array&lt;chunksize=(1, 1, 10), meta=np.ndarray&gt;\n",
       "    absoluteHumidity     (time, lat, layer) float64 dask.array&lt;chunksize=(1, 1, 10), meta=np.ndarray&gt;\n",
       "    dryAirDensity        (time, lat, layer) float64 dask.array&lt;chunksize=(1, 1, 10), meta=np.ndarray&gt;\n",
       "    airDensity           (time, lat, layer) float64 dask.array&lt;chunksize=(1, 1, 10), meta=np.ndarray&gt;\n",
       "    dynamicViscosity     (time, lat, layer) float64 dask.array&lt;chunksize=(1, 1, 10), meta=np.ndarray&gt;\n",
       "    kinematicViscosity   (time, lat, layer) float64 dask.array&lt;chunksize=(1, 1, 10), meta=np.ndarray&gt;\n",
       "    waterVaporPressure   (time, lat, layer) float64 dask.array&lt;chunksize=(1, 1, 10), meta=np.ndarray&gt;</pre>"
      ],
      "text/plain": [
       "<xarray.customProfile>\n",
       "Dimensions:              (frequency: 2, hydrometeor: 2, lat: 2, layer: 10, time: 1)\n",
       "Coordinates:\n",
       "  * time                 (time) datetime64[ns] 2016-01-01\n",
       "  * lat                  (lat) int64 70 75\n",
       "  * layer                (layer) int64 0 1 2 3 4 5 6 7 8 9\n",
       "  * hydrometeor          (hydrometeor) <U4 'rain' 'snow'\n",
       "  * frequency            (frequency) float64 3.5e+10 9.4e+10\n",
       "Data variables:\n",
       "    height               (time, lat, layer) float64 dask.array<chunksize=(1, 1, 10), meta=np.ndarray>\n",
       "    temperature          (time, lat, layer) float64 dask.array<chunksize=(1, 1, 10), meta=np.ndarray>\n",
       "    pressure             (time, lat, layer) float64 dask.array<chunksize=(1, 1, 10), meta=np.ndarray>\n",
       "    relativeHumidity     (time, lat, layer) float64 dask.array<chunksize=(1, 1, 10), meta=np.ndarray>\n",
       "    horizontalWind       (time, lat, layer) float64 dask.array<chunksize=(1, 1, 10), meta=np.ndarray>\n",
       "    verticalWind         (time, lat, layer) float64 dask.array<chunksize=(1, 1, 10), meta=np.ndarray>\n",
       "    eddyDissipationRate  (time, lat, layer) float64 dask.array<chunksize=(1, 1, 10), meta=np.ndarray>\n",
       "    hydrometeorContent   (time, lat, layer, hydrometeor) float64 dask.array<chunksize=(1, 1, 10, 1), meta=np.ndarray>\n",
       "    wavelength           (frequency) float64 dask.array<chunksize=(1,), meta=np.ndarray>\n",
       "    heightBinDepth       (time, lat, layer) float64 110.0 110.0 ... 110.0 110.0\n",
       "    specificHumidity     (time, lat, layer) float64 dask.array<chunksize=(1, 1, 10), meta=np.ndarray>\n",
       "    absoluteHumidity     (time, lat, layer) float64 dask.array<chunksize=(1, 1, 10), meta=np.ndarray>\n",
       "    dryAirDensity        (time, lat, layer) float64 dask.array<chunksize=(1, 1, 10), meta=np.ndarray>\n",
       "    airDensity           (time, lat, layer) float64 dask.array<chunksize=(1, 1, 10), meta=np.ndarray>\n",
       "    dynamicViscosity     (time, lat, layer) float64 dask.array<chunksize=(1, 1, 10), meta=np.ndarray>\n",
       "    kinematicViscosity   (time, lat, layer) float64 dask.array<chunksize=(1, 1, 10), meta=np.ndarray>\n",
       "    waterVaporPressure   (time, lat, layer) float64 dask.array<chunksize=(1, 1, 10), meta=np.ndarray>"
      ]
     },
     "execution_count": 6,
     "metadata": {},
     "output_type": "execute_result"
    }
   ],
   "source": [
    "pam2.addMissingVariables()\n",
    "pam2.profile "
   ]
  },
  {
   "cell_type": "markdown",
   "metadata": {},
   "source": [
    "The nodask version estimates all fields directly, even if they are never used. So we actually get results"
   ]
  },
  {
   "cell_type": "code",
   "execution_count": 7,
   "metadata": {},
   "outputs": [
    {
     "data": {
      "text/html": [
       "<pre>&lt;xarray.customProfile&gt;\n",
       "Dimensions:              (frequency: 2, hydrometeor: 2, lat: 2, layer: 10, time: 1)\n",
       "Coordinates:\n",
       "  * time                 (time) datetime64[ns] 2016-01-01\n",
       "  * lat                  (lat) int64 70 75\n",
       "  * layer                (layer) int64 0 1 2 3 4 5 6 7 8 9\n",
       "  * hydrometeor          (hydrometeor) &lt;U4 &#x27;rain&#x27; &#x27;snow&#x27;\n",
       "  * frequency            (frequency) float64 3.5e+10 9.4e+10\n",
       "Data variables:\n",
       "    height               (time, lat, layer) float64 10.0 120.0 ... 890.0 1e+03\n",
       "    temperature          (time, lat, layer) float64 250.0 250.0 ... 250.0 250.0\n",
       "    pressure             (time, lat, layer) float64 1e+05 1e+05 ... 1e+05 1e+05\n",
       "    relativeHumidity     (time, lat, layer) float64 90.0 90.0 90.0 ... 90.0 90.0\n",
       "    horizontalWind       (time, lat, layer) float64 0.0 0.0 0.0 ... 0.0 0.0 0.0\n",
       "    verticalWind         (time, lat, layer) float64 nan nan nan ... nan nan nan\n",
       "    eddyDissipationRate  (time, lat, layer) float64 0.0001 0.0001 ... 0.0001\n",
       "    hydrometeorContent   (time, lat, layer, hydrometeor) float64 0.0 0.0 ... 0.0\n",
       "    wavelength           (frequency) float64 0.008565 0.003189\n",
       "    heightBinDepth       (time, lat, layer) float64 110.0 110.0 ... 110.0 110.0\n",
       "    specificHumidity     (time, lat, layer) float64 0.0005358 ... 0.0005358\n",
       "    absoluteHumidity     (time, lat, layer) float64 0.0007464 ... 0.0007464\n",
       "    dryAirDensity        (time, lat, layer) float64 1.394 1.394 ... 1.394 1.394\n",
       "    airDensity           (time, lat, layer) float64 1.393 1.393 ... 1.393 1.393\n",
       "    dynamicViscosity     (time, lat, layer) float64 1.6e-05 1.6e-05 ... 1.6e-05\n",
       "    kinematicViscosity   (time, lat, layer) float64 1.148e-05 ... 1.148e-05\n",
       "    waterVaporPressure   (time, lat, layer) float64 86.12 86.12 ... 86.12 86.12</pre>"
      ],
      "text/plain": [
       "<xarray.customProfile>\n",
       "Dimensions:              (frequency: 2, hydrometeor: 2, lat: 2, layer: 10, time: 1)\n",
       "Coordinates:\n",
       "  * time                 (time) datetime64[ns] 2016-01-01\n",
       "  * lat                  (lat) int64 70 75\n",
       "  * layer                (layer) int64 0 1 2 3 4 5 6 7 8 9\n",
       "  * hydrometeor          (hydrometeor) <U4 'rain' 'snow'\n",
       "  * frequency            (frequency) float64 3.5e+10 9.4e+10\n",
       "Data variables:\n",
       "    height               (time, lat, layer) float64 10.0 120.0 ... 890.0 1e+03\n",
       "    temperature          (time, lat, layer) float64 250.0 250.0 ... 250.0 250.0\n",
       "    pressure             (time, lat, layer) float64 1e+05 1e+05 ... 1e+05 1e+05\n",
       "    relativeHumidity     (time, lat, layer) float64 90.0 90.0 90.0 ... 90.0 90.0\n",
       "    horizontalWind       (time, lat, layer) float64 0.0 0.0 0.0 ... 0.0 0.0 0.0\n",
       "    verticalWind         (time, lat, layer) float64 nan nan nan ... nan nan nan\n",
       "    eddyDissipationRate  (time, lat, layer) float64 0.0001 0.0001 ... 0.0001\n",
       "    hydrometeorContent   (time, lat, layer, hydrometeor) float64 0.0 0.0 ... 0.0\n",
       "    wavelength           (frequency) float64 0.008565 0.003189\n",
       "    heightBinDepth       (time, lat, layer) float64 110.0 110.0 ... 110.0 110.0\n",
       "    specificHumidity     (time, lat, layer) float64 0.0005358 ... 0.0005358\n",
       "    absoluteHumidity     (time, lat, layer) float64 0.0007464 ... 0.0007464\n",
       "    dryAirDensity        (time, lat, layer) float64 1.394 1.394 ... 1.394 1.394\n",
       "    airDensity           (time, lat, layer) float64 1.393 1.393 ... 1.393 1.393\n",
       "    dynamicViscosity     (time, lat, layer) float64 1.6e-05 1.6e-05 ... 1.6e-05\n",
       "    kinematicViscosity   (time, lat, layer) float64 1.148e-05 ... 1.148e-05\n",
       "    waterVaporPressure   (time, lat, layer) float64 86.12 86.12 ... 86.12 86.12"
      ]
     },
     "execution_count": 7,
     "metadata": {},
     "output_type": "execute_result"
    }
   ],
   "source": [
    "pam2_nodask.addMissingVariables()\n",
    "pam2_nodask.profile "
   ]
  },
  {
   "cell_type": "markdown",
   "metadata": {},
   "source": [
    "# Describe Hydrometeors\n",
    "To describe the hydrometeors, you can use functions, xr.DataArrays or scalars. If you provide a function, the function must support xr.DataArrays as input. Of course, the function needs arguments (keywords only!), they are gathered from the following locastions.\n",
    "\n",
    "1. pam2.hydrometors.name.profile variables (name must match). E.g. density (after it has been calculated) \n",
    "2. pam2.profile variables (name must match). E.g. temperature\n",
    "3. Other provided kwargs (e.g. Dmin, DMax, N0 etc)\n",
    "4. Default function arguments. Can be turned of with `useFuncArgDefaults = False` to make sure everything is explicitly covered.\n",
    "\n",
    "The following is for a hydrometeor with a fixed density, e.g. liquid or ice"
   ]
  },
  {
   "cell_type": "code",
   "execution_count": 8,
   "metadata": {},
   "outputs": [
    {
     "name": "stderr",
     "output_type": "stream",
     "text": [
      "/Users/mmaahn/miniconda3/envs/py36/lib/python3.6/site-packages/pamtra2-0.1-py3.6-macosx-10.7-x86_64.egg/pamtra2/hydrometeors/numberConcentration.py:384: UserWarning: Truncation effect on the PSD are not considered. I.e., typically mass is lost!\n",
      "  warnings.warn('Truncation effect on the PSD are not considered. '\n",
      "/Users/mmaahn/miniconda3/envs/py36/lib/python3.6/site-packages/dask/core.py:121: RuntimeWarning: divide by zero encountered in true_divide\n",
      "  return func(*(_execute_task(a, cache) for a in args))\n"
     ]
    },
    {
     "name": "stdout",
     "output_type": "stream",
     "text": [
      "Did not find information about relativePermittivityIce. This might cause trouble later.\n"
     ]
    },
    {
     "name": "stderr",
     "output_type": "stream",
     "text": [
      "/Users/mmaahn/miniconda3/envs/py36/lib/python3.6/site-packages/pamtra2-0.1-py3.6-macosx-10.7-x86_64.egg/pamtra2/libs/singleScattering/scattering_utilities.py:170: RuntimeWarning: invalid value encountered in double_scalars\n",
      "  alpha = np.arccos((cos_sca-cos_th*cos_inc)/(sin_th*sin_inc))\n",
      "/Users/mmaahn/miniconda3/envs/py36/lib/python3.6/site-packages/pamtra2-0.1-py3.6-macosx-10.7-x86_64.egg/pamtra2/libs/singleScattering/scattering_utilities.py:171: RuntimeWarning: invalid value encountered in double_scalars\n",
      "  beta = np.arccos((cos_inc-cos_th*cos_sca)/(sin_th*sin_sca))\n",
      "/Users/mmaahn/miniconda3/envs/py36/lib/python3.6/site-packages/pamtra2-0.1-py3.6-macosx-10.7-x86_64.egg/pamtra2/libs/singleScattering/scattering_utilities.py:170: RuntimeWarning: invalid value encountered in double_scalars\n",
      "  alpha = np.arccos((cos_sca-cos_th*cos_inc)/(sin_th*sin_inc))\n",
      "/Users/mmaahn/miniconda3/envs/py36/lib/python3.6/site-packages/pamtra2-0.1-py3.6-macosx-10.7-x86_64.egg/pamtra2/libs/singleScattering/scattering_utilities.py:171: RuntimeWarning: invalid value encountered in double_scalars\n",
      "  beta = np.arccos((cos_inc-cos_th*cos_sca)/(sin_th*sin_sca))\n",
      "/Users/mmaahn/miniconda3/envs/py36/lib/python3.6/site-packages/pamtra2-0.1-py3.6-macosx-10.7-x86_64.egg/pamtra2/libs/singleScattering/scattering_utilities.py:170: RuntimeWarning: invalid value encountered in double_scalars\n",
      "  alpha = np.arccos((cos_sca-cos_th*cos_inc)/(sin_th*sin_inc))\n",
      "/Users/mmaahn/miniconda3/envs/py36/lib/python3.6/site-packages/pamtra2-0.1-py3.6-macosx-10.7-x86_64.egg/pamtra2/libs/singleScattering/scattering_utilities.py:171: RuntimeWarning: invalid value encountered in double_scalars\n",
      "  beta = np.arccos((cos_inc-cos_th*cos_sca)/(sin_th*sin_sca))\n",
      "/Users/mmaahn/miniconda3/envs/py36/lib/python3.6/site-packages/pamtra2-0.1-py3.6-macosx-10.7-x86_64.egg/pamtra2/libs/singleScattering/scattering_utilities.py:170: RuntimeWarning: invalid value encountered in double_scalars\n",
      "  alpha = np.arccos((cos_sca-cos_th*cos_inc)/(sin_th*sin_inc))\n",
      "/Users/mmaahn/miniconda3/envs/py36/lib/python3.6/site-packages/pamtra2-0.1-py3.6-macosx-10.7-x86_64.egg/pamtra2/libs/singleScattering/scattering_utilities.py:171: RuntimeWarning: invalid value encountered in double_scalars\n",
      "  beta = np.arccos((cos_inc-cos_th*cos_sca)/(sin_th*sin_sca))\n",
      "/Users/mmaahn/miniconda3/envs/py36/lib/python3.6/site-packages/dask/core.py:121: RuntimeWarning: divide by zero encountered in true_divide\n",
      "  return func(*(_execute_task(a, cache) for a in args))\n"
     ]
    },
    {
     "data": {
      "text/plain": [
       "<pamtra2.hydrometeors.core.softEllipsoidFixedDensity at 0x1162e0160>"
      ]
     },
     "execution_count": 8,
     "metadata": {},
     "output_type": "execute_result"
    }
   ],
   "source": [
    "\n",
    "pam2.addHydrometeor(\n",
    "    # hydrometeor type\n",
    "    pamtra2.hydrometeors.softEllipsoidFixedDensity(\n",
    "        name = 'rain', \n",
    "        nBins =40,\n",
    "        # Boundaries of the size distrbution. linspaceBounds distributes them linearly.\n",
    "        # Input Dmin, Dmax and nBins is tkane from the other arguments. \n",
    "        sizeBounds = pamtra2.hydrometeors.size.linspaceBounds, \n",
    "        # center of the size bin where the scattering properties are estimated,\n",
    "        # boundsToMid takes the numerical center\n",
    "        sizeCenter = pamtra2.hydrometeors.size.boundsToMid,\n",
    "        # width of the bins\n",
    "        sizeBoundsWidth = pamtra2.hydrometeors.size.boundsWidth,\n",
    "        # size distribution normalized by linear bin width, unit m^-4\n",
    "        numberConcentration = pamtra2.hydrometeors.numberConcentration.exponentialN0WC, \n",
    "        # aspect ratio\n",
    "        aspectRatio = 1.0,\n",
    "        # mass, assume an ellipsoid with aspectRatio as defined above.\n",
    "        mass = pamtra2.hydrometeors.mass.ellipsoid,\n",
    "        density = pamtra2.hydrometeors.density.water,\n",
    "        # corss section follows a sphere\n",
    "        crossSectionArea = pamtra2.hydrometeors.crossSectionArea.sphere,\n",
    "        # use turner_kneifel_cadeddu to estimtate the relativePermittivity\n",
    "        relativePermittivity = pamtra2.libs.refractiveIndex.water.turner_kneifel_cadeddu, \n",
    "        # use simple Rayleigh scattering\n",
    "        scattering = pamtra2.hydrometeors.scattering.Rayleigh,\n",
    "        # define the fall velocity relation. Required variables are tkaen form profiles. \n",
    "        fallVelocity = pamtra2.hydrometeors.fallVelocity.khvorostyanov01_drops,\n",
    "        #mimimum and maximum size. Note this corresponds to sizeBounds\n",
    "        Dmin  = 1e-6,\n",
    "        Dmax  = 1e-2,\n",
    "        # n) is required by exponentialN0WC to make the size distrbution\n",
    "        N0 =  8e6,\n",
    "        useFuncArgDefaults = True,\n",
    "    )\n",
    ")\n"
   ]
  },
  {
   "cell_type": "markdown",
   "metadata": {},
   "source": [
    "Note that there is a warning in case not all arguments are used"
   ]
  },
  {
   "cell_type": "code",
   "execution_count": 9,
   "metadata": {
    "scrolled": false
   },
   "outputs": [
    {
     "name": "stderr",
     "output_type": "stream",
     "text": [
      "/Users/mmaahn/miniconda3/envs/py36/lib/python3.6/site-packages/pamtra2-0.1-py3.6-macosx-10.7-x86_64.egg/pamtra2/hydrometeors/numberConcentration.py:384: UserWarning: Truncation effect on the PSD are not considered. I.e., typically mass is lost!\n",
      "  warnings.warn('Truncation effect on the PSD are not considered. '\n",
      "/Users/mmaahn/miniconda3/envs/py36/lib/python3.6/site-packages/dask/core.py:121: RuntimeWarning: divide by zero encountered in true_divide\n",
      "  return func(*(_execute_task(a, cache) for a in args))\n",
      "/Users/mmaahn/miniconda3/envs/py36/lib/python3.6/site-packages/pamtra2-0.1-py3.6-macosx-10.7-x86_64.egg/pamtra2/hydrometeors/core.py:286: UserWarning: The following kwargs were NOT used: ['bla', 'verbosity']\n",
      "  '%s' % self._keysToBeUsed)\n",
      "/Users/mmaahn/miniconda3/envs/py36/lib/python3.6/site-packages/pamtra2-0.1-py3.6-macosx-10.7-x86_64.egg/pamtra2/libs/singleScattering/scattering_utilities.py:170: RuntimeWarning: invalid value encountered in double_scalars\n",
      "  alpha = np.arccos((cos_sca-cos_th*cos_inc)/(sin_th*sin_inc))\n",
      "/Users/mmaahn/miniconda3/envs/py36/lib/python3.6/site-packages/pamtra2-0.1-py3.6-macosx-10.7-x86_64.egg/pamtra2/libs/singleScattering/scattering_utilities.py:171: RuntimeWarning: invalid value encountered in double_scalars\n",
      "  beta = np.arccos((cos_inc-cos_th*cos_sca)/(sin_th*sin_sca))\n",
      "/Users/mmaahn/miniconda3/envs/py36/lib/python3.6/site-packages/pamtra2-0.1-py3.6-macosx-10.7-x86_64.egg/pamtra2/libs/singleScattering/scattering_utilities.py:170: RuntimeWarning: invalid value encountered in double_scalars\n",
      "  alpha = np.arccos((cos_sca-cos_th*cos_inc)/(sin_th*sin_inc))\n",
      "/Users/mmaahn/miniconda3/envs/py36/lib/python3.6/site-packages/pamtra2-0.1-py3.6-macosx-10.7-x86_64.egg/pamtra2/libs/singleScattering/scattering_utilities.py:171: RuntimeWarning: invalid value encountered in double_scalars\n",
      "  beta = np.arccos((cos_inc-cos_th*cos_sca)/(sin_th*sin_sca))\n",
      "/Users/mmaahn/miniconda3/envs/py36/lib/python3.6/site-packages/pamtra2-0.1-py3.6-macosx-10.7-x86_64.egg/pamtra2/libs/singleScattering/scattering_utilities.py:170: RuntimeWarning: invalid value encountered in double_scalars\n",
      "  alpha = np.arccos((cos_sca-cos_th*cos_inc)/(sin_th*sin_inc))\n",
      "/Users/mmaahn/miniconda3/envs/py36/lib/python3.6/site-packages/pamtra2-0.1-py3.6-macosx-10.7-x86_64.egg/pamtra2/libs/singleScattering/scattering_utilities.py:171: RuntimeWarning: invalid value encountered in double_scalars\n",
      "  beta = np.arccos((cos_inc-cos_th*cos_sca)/(sin_th*sin_sca))\n",
      "/Users/mmaahn/miniconda3/envs/py36/lib/python3.6/site-packages/pamtra2-0.1-py3.6-macosx-10.7-x86_64.egg/pamtra2/libs/singleScattering/scattering_utilities.py:170: RuntimeWarning: invalid value encountered in double_scalars\n",
      "  alpha = np.arccos((cos_sca-cos_th*cos_inc)/(sin_th*sin_inc))\n",
      "/Users/mmaahn/miniconda3/envs/py36/lib/python3.6/site-packages/pamtra2-0.1-py3.6-macosx-10.7-x86_64.egg/pamtra2/libs/singleScattering/scattering_utilities.py:171: RuntimeWarning: invalid value encountered in double_scalars\n",
      "  beta = np.arccos((cos_inc-cos_th*cos_sca)/(sin_th*sin_sca))\n",
      "/Users/mmaahn/miniconda3/envs/py36/lib/python3.6/site-packages/dask/core.py:121: RuntimeWarning: divide by zero encountered in true_divide\n",
      "  return func(*(_execute_task(a, cache) for a in args))\n"
     ]
    },
    {
     "data": {
      "text/plain": [
       "<pamtra2.hydrometeors.core.softEllipsoidMassSize at 0x111fe2940>"
      ]
     },
     "execution_count": 9,
     "metadata": {},
     "output_type": "execute_result"
    }
   ],
   "source": [
    "pam2.addHydrometeor(\n",
    "    pamtra2.hydrometeors.softEllipsoidMassSize(\n",
    "        name='snow',\n",
    "        nBins = 20,\n",
    "        sizeBounds=pamtra2.hydrometeors.size.logspaceBounds, #function/object to call for getting sizes\n",
    "        sizeCenter = pamtra2.hydrometeors.size.boundsToMid,\n",
    "        sizeBoundsWidth = pamtra2.hydrometeors.size.boundsWidth,\n",
    "        numberConcentration = pamtra2.hydrometeors.numberConcentration.exponentialFieldWC,\n",
    "        aspectRatio = 0.6,\n",
    "        crossSectionArea = pamtra2.hydrometeors.crossSectionArea.powerLaw,\n",
    "        mass = pamtra2.hydrometeors.mass.powerLaw,\n",
    "        density = pamtra2.hydrometeors.density.softEllipsoid,\n",
    "        #to do: adapt refractiveIndex routine so that mixing and RI are treated separately. \n",
    "        relativePermittivityIce = pamtra2.hydrometeors.relativePermittivity.ice_matzler_2006,\n",
    "        relativePermittivity = pamtra2.hydrometeors.relativePermittivity.mixing_sihvola,\n",
    "        scattering = pamtra2.hydrometeors.scattering.Mie,\n",
    "        fallVelocity = pamtra2.hydrometeors.fallVelocity.heymsfield10_particles,\n",
    "        Dmin = 1e-6,\n",
    "        Dmax = 1e-2,\n",
    "        massSizeA = 0.0121, \n",
    "        massSizeB = 1.9,\n",
    "        areaSizeA = 0.4,\n",
    "        areaSizeB = 1.8,\n",
    "        minDensity = 100,\n",
    "        bla = 12,\n",
    "        useFuncArgDefaults = True,\n",
    "        verbosity = 3,\n",
    "    )\n",
    ")\n"
   ]
  },
  {
   "cell_type": "markdown",
   "metadata": {},
   "source": [
    "We have access to a lot of internal properties, like the fall velocityu of particles"
   ]
  },
  {
   "cell_type": "code",
   "execution_count": 10,
   "metadata": {},
   "outputs": [
    {
     "data": {
      "image/png": "[encoded data removed]",
      "text/plain": [
       "<Figure size 432x288 with 1 Axes>"
      ]
     },
     "metadata": {
      "needs_background": "light"
     },
     "output_type": "display_data"
    }
   ],
   "source": [
    "plt.plot(\n",
    "    pam2.hydrometeors.rain.profile.sizeCenter,\n",
    "    pam2.hydrometeors.rain.profile.fallVelocity.isel(layer=1,time=0,lat=0),\n",
    "    label = 'rain')\n",
    "plt.plot(\n",
    "    pam2.hydrometeors.snow.profile.sizeCenter,\n",
    "    pam2.hydrometeors.snow.profile.fallVelocity.isel(layer=1,time=0,lat=0),\n",
    "    label = 'snow')\n",
    "plt.legend()\n",
    "plt.grid()\n"
   ]
  },
  {
   "cell_type": "markdown",
   "metadata": {},
   "source": [
    "Force computation with e.g.\n",
    "`pam2.hydrometeors.rain.profile.compute()` or `pam2.hydrometeors.rain.profile.to_netcdf()` or  or `pam2.hydrometeors.rain.profile.fallVelocity.plot()`"
   ]
  },
  {
   "cell_type": "markdown",
   "metadata": {},
   "source": [
    "# Radar simulator\n"
   ]
  },
  {
   "cell_type": "code",
   "execution_count": 11,
   "metadata": {},
   "outputs": [
    {
     "data": {
      "text/plain": [
       "<pamtra2.instruments.radar.dopplerRadarPamtra at 0x106f70240>"
      ]
     },
     "execution_count": 11,
     "metadata": {},
     "output_type": "execute_result"
    }
   ],
   "source": [
    "\n",
    "\n",
    "pam2.addInstrument(\n",
    "    pamtra2.instruments.radar.dopplerRadarPamtra(\n",
    "        name = 'test',\n",
    "        frequencies = [3.5e+10],    \n",
    "        radarMaxV=7.885,\n",
    "        radarMinV=-7.885,\n",
    "        radarAliasingNyquistInterv=10,\n",
    "        radarNFFT=256,\n",
    "        verbosity=0,\n",
    "        radarAirmotion=True,\n",
    "        radarAirmotionModel=\"constant\",  # \"constant\",\"linear\",\"step\"\n",
    "        radarAirmotionVmin=0,\n",
    "        radarAirmotionVmax=0,\n",
    "        radarAirmotionLinearSteps=30,\n",
    "        radarAirmotionStepVmin=0.5,\n",
    "        radarK2=0.93,         # dielectric constant |K|² (always for liquid water by convention) for the radar equation\n",
    "        radarBeamwidthDeg=0.2,\n",
    "        radarIntegrationTime=60,\n",
    "        radarPNoise1000=-30,\n",
    "        radarNAve=150,\n",
    "        seed=0,\n",
    "    ),\n",
    "    solve=False,\n",
    ")"
   ]
  },
  {
   "cell_type": "code",
   "execution_count": 12,
   "metadata": {},
   "outputs": [
    {
     "data": {
      "text/html": [
       "<pre>&lt;xarray.Dataset&gt;\n",
       "Dimensions:                    (dopplerVelocity: 256, dopplerVelocityAliased: 5376, frequency: 1, lat: 2, layer: 10, peak: 2, time: 1)\n",
       "Coordinates:\n",
       "  * frequency                  (frequency) float64 3.5e+10\n",
       "  * lat                        (lat) int64 70 75\n",
       "  * time                       (time) datetime64[ns] 2016-01-01\n",
       "  * layer                      (layer) int64 0 1 2 3 4 5 6 7 8 9\n",
       "  * dopplerVelocity            (dopplerVelocity) float64 -7.885 -7.823 ... 7.823\n",
       "  * peak                       (peak) int64 1 2\n",
       "Dimensions without coordinates: dopplerVelocityAliased\n",
       "Data variables:\n",
       "    specificAttenuation        (frequency, time, lat, layer) float64 dask.array&lt;chunksize=(1, 1, 1, 10), meta=np.ndarray&gt;\n",
       "    pathIntegratedAttBottomUp  (frequency, time, lat, layer) float64 dask.array&lt;chunksize=(1, 1, 1, 10), meta=np.ndarray&gt;\n",
       "    pathIntegratedAttTopDown   (frequency, time, lat, layer) float64 dask.array&lt;chunksize=(1, 1, 1, 10), meta=np.ndarray&gt;\n",
       "    radarIdealizedSpectrum     (dopplerVelocityAliased, time, lat, layer, frequency) float64 dask.array&lt;chunksize=(5376, 1, 1, 10, 1), meta=np.ndarray&gt;\n",
       "    radarSpectrum              (dopplerVelocity, time, lat, layer, frequency) float64 dask.array&lt;chunksize=(256, 1, 1, 10, 1), meta=np.ndarray&gt;\n",
       "    radarReflectivity          (peak, time, lat, layer, frequency) float64 dask.array&lt;chunksize=(2, 1, 1, 10, 1), meta=np.ndarray&gt;\n",
       "    meanDopplerVel             (peak, time, lat, layer, frequency) float64 dask.array&lt;chunksize=(2, 1, 1, 10, 1), meta=np.ndarray&gt;\n",
       "    spectrumWidth              (peak, time, lat, layer, frequency) float64 dask.array&lt;chunksize=(2, 1, 1, 10, 1), meta=np.ndarray&gt;\n",
       "    skewness                   (peak, time, lat, layer, frequency) float64 dask.array&lt;chunksize=(2, 1, 1, 10, 1), meta=np.ndarray&gt;\n",
       "    kurtosis                   (peak, time, lat, layer, frequency) float64 dask.array&lt;chunksize=(2, 1, 1, 10, 1), meta=np.ndarray&gt;\n",
       "    leftSlope                  (peak, time, lat, layer, frequency) float64 dask.array&lt;chunksize=(2, 1, 1, 10, 1), meta=np.ndarray&gt;\n",
       "    rightSlope                 (peak, time, lat, layer, frequency) float64 dask.array&lt;chunksize=(2, 1, 1, 10, 1), meta=np.ndarray&gt;\n",
       "    leftEdge                   (peak, time, lat, layer, frequency) float64 dask.array&lt;chunksize=(2, 1, 1, 10, 1), meta=np.ndarray&gt;\n",
       "    rightEdge                  (peak, time, lat, layer, frequency) float64 dask.array&lt;chunksize=(2, 1, 1, 10, 1), meta=np.ndarray&gt;\n",
       "    quality                    (time, lat, layer, frequency) float64 dask.array&lt;chunksize=(1, 1, 10, 1), meta=np.ndarray&gt;\n",
       "    noiseMean                  (time, lat, layer, frequency) float64 dask.array&lt;chunksize=(1, 1, 10, 1), meta=np.ndarray&gt;</pre>"
      ],
      "text/plain": [
       "<xarray.Dataset>\n",
       "Dimensions:                    (dopplerVelocity: 256, dopplerVelocityAliased: 5376, frequency: 1, lat: 2, layer: 10, peak: 2, time: 1)\n",
       "Coordinates:\n",
       "  * frequency                  (frequency) float64 3.5e+10\n",
       "  * lat                        (lat) int64 70 75\n",
       "  * time                       (time) datetime64[ns] 2016-01-01\n",
       "  * layer                      (layer) int64 0 1 2 3 4 5 6 7 8 9\n",
       "  * dopplerVelocity            (dopplerVelocity) float64 -7.885 -7.823 ... 7.823\n",
       "  * peak                       (peak) int64 1 2\n",
       "Dimensions without coordinates: dopplerVelocityAliased\n",
       "Data variables:\n",
       "    specificAttenuation        (frequency, time, lat, layer) float64 dask.array<chunksize=(1, 1, 1, 10), meta=np.ndarray>\n",
       "    pathIntegratedAttBottomUp  (frequency, time, lat, layer) float64 dask.array<chunksize=(1, 1, 1, 10), meta=np.ndarray>\n",
       "    pathIntegratedAttTopDown   (frequency, time, lat, layer) float64 dask.array<chunksize=(1, 1, 1, 10), meta=np.ndarray>\n",
       "    radarIdealizedSpectrum     (dopplerVelocityAliased, time, lat, layer, frequency) float64 dask.array<chunksize=(5376, 1, 1, 10, 1), meta=np.ndarray>\n",
       "    radarSpectrum              (dopplerVelocity, time, lat, layer, frequency) float64 dask.array<chunksize=(256, 1, 1, 10, 1), meta=np.ndarray>\n",
       "    radarReflectivity          (peak, time, lat, layer, frequency) float64 dask.array<chunksize=(2, 1, 1, 10, 1), meta=np.ndarray>\n",
       "    meanDopplerVel             (peak, time, lat, layer, frequency) float64 dask.array<chunksize=(2, 1, 1, 10, 1), meta=np.ndarray>\n",
       "    spectrumWidth              (peak, time, lat, layer, frequency) float64 dask.array<chunksize=(2, 1, 1, 10, 1), meta=np.ndarray>\n",
       "    skewness                   (peak, time, lat, layer, frequency) float64 dask.array<chunksize=(2, 1, 1, 10, 1), meta=np.ndarray>\n",
       "    kurtosis                   (peak, time, lat, layer, frequency) float64 dask.array<chunksize=(2, 1, 1, 10, 1), meta=np.ndarray>\n",
       "    leftSlope                  (peak, time, lat, layer, frequency) float64 dask.array<chunksize=(2, 1, 1, 10, 1), meta=np.ndarray>\n",
       "    rightSlope                 (peak, time, lat, layer, frequency) float64 dask.array<chunksize=(2, 1, 1, 10, 1), meta=np.ndarray>\n",
       "    leftEdge                   (peak, time, lat, layer, frequency) float64 dask.array<chunksize=(2, 1, 1, 10, 1), meta=np.ndarray>\n",
       "    rightEdge                  (peak, time, lat, layer, frequency) float64 dask.array<chunksize=(2, 1, 1, 10, 1), meta=np.ndarray>\n",
       "    quality                    (time, lat, layer, frequency) float64 dask.array<chunksize=(1, 1, 10, 1), meta=np.ndarray>\n",
       "    noiseMean                  (time, lat, layer, frequency) float64 dask.array<chunksize=(1, 1, 10, 1), meta=np.ndarray>"
      ]
     },
     "execution_count": 12,
     "metadata": {},
     "output_type": "execute_result"
    }
   ],
   "source": [
    "pam2.instruments.test.solve()"
   ]
  },
  {
   "cell_type": "markdown",
   "metadata": {},
   "source": [
    "Again, the results are not estimated yet when using dask."
   ]
  },
  {
   "cell_type": "code",
   "execution_count": 13,
   "metadata": {},
   "outputs": [
    {
     "data": {
      "text/html": [
       "<pre>&lt;xarray.Dataset&gt;\n",
       "Dimensions:                    (dopplerVelocity: 256, dopplerVelocityAliased: 5376, frequency: 1, lat: 2, layer: 10, peak: 2, time: 1)\n",
       "Coordinates:\n",
       "  * frequency                  (frequency) float64 3.5e+10\n",
       "  * lat                        (lat) int64 70 75\n",
       "  * time                       (time) datetime64[ns] 2016-01-01\n",
       "  * layer                      (layer) int64 0 1 2 3 4 5 6 7 8 9\n",
       "  * dopplerVelocity            (dopplerVelocity) float64 -7.885 -7.823 ... 7.823\n",
       "  * peak                       (peak) int64 1 2\n",
       "Dimensions without coordinates: dopplerVelocityAliased\n",
       "Data variables:\n",
       "    specificAttenuation        (frequency, time, lat, layer) float64 dask.array&lt;chunksize=(1, 1, 1, 10), meta=np.ndarray&gt;\n",
       "    pathIntegratedAttBottomUp  (frequency, time, lat, layer) float64 dask.array&lt;chunksize=(1, 1, 1, 10), meta=np.ndarray&gt;\n",
       "    pathIntegratedAttTopDown   (frequency, time, lat, layer) float64 dask.array&lt;chunksize=(1, 1, 1, 10), meta=np.ndarray&gt;\n",
       "    radarIdealizedSpectrum     (dopplerVelocityAliased, time, lat, layer, frequency) float64 dask.array&lt;chunksize=(5376, 1, 1, 10, 1), meta=np.ndarray&gt;\n",
       "    radarSpectrum              (dopplerVelocity, time, lat, layer, frequency) float64 dask.array&lt;chunksize=(256, 1, 1, 10, 1), meta=np.ndarray&gt;\n",
       "    radarReflectivity          (peak, time, lat, layer, frequency) float64 dask.array&lt;chunksize=(2, 1, 1, 10, 1), meta=np.ndarray&gt;\n",
       "    meanDopplerVel             (peak, time, lat, layer, frequency) float64 dask.array&lt;chunksize=(2, 1, 1, 10, 1), meta=np.ndarray&gt;\n",
       "    spectrumWidth              (peak, time, lat, layer, frequency) float64 dask.array&lt;chunksize=(2, 1, 1, 10, 1), meta=np.ndarray&gt;\n",
       "    skewness                   (peak, time, lat, layer, frequency) float64 dask.array&lt;chunksize=(2, 1, 1, 10, 1), meta=np.ndarray&gt;\n",
       "    kurtosis                   (peak, time, lat, layer, frequency) float64 dask.array&lt;chunksize=(2, 1, 1, 10, 1), meta=np.ndarray&gt;\n",
       "    leftSlope                  (peak, time, lat, layer, frequency) float64 dask.array&lt;chunksize=(2, 1, 1, 10, 1), meta=np.ndarray&gt;\n",
       "    rightSlope                 (peak, time, lat, layer, frequency) float64 dask.array&lt;chunksize=(2, 1, 1, 10, 1), meta=np.ndarray&gt;\n",
       "    leftEdge                   (peak, time, lat, layer, frequency) float64 dask.array&lt;chunksize=(2, 1, 1, 10, 1), meta=np.ndarray&gt;\n",
       "    rightEdge                  (peak, time, lat, layer, frequency) float64 dask.array&lt;chunksize=(2, 1, 1, 10, 1), meta=np.ndarray&gt;\n",
       "    quality                    (time, lat, layer, frequency) float64 dask.array&lt;chunksize=(1, 1, 10, 1), meta=np.ndarray&gt;\n",
       "    noiseMean                  (time, lat, layer, frequency) float64 dask.array&lt;chunksize=(1, 1, 10, 1), meta=np.ndarray&gt;</pre>"
      ],
      "text/plain": [
       "<xarray.Dataset>\n",
       "Dimensions:                    (dopplerVelocity: 256, dopplerVelocityAliased: 5376, frequency: 1, lat: 2, layer: 10, peak: 2, time: 1)\n",
       "Coordinates:\n",
       "  * frequency                  (frequency) float64 3.5e+10\n",
       "  * lat                        (lat) int64 70 75\n",
       "  * time                       (time) datetime64[ns] 2016-01-01\n",
       "  * layer                      (layer) int64 0 1 2 3 4 5 6 7 8 9\n",
       "  * dopplerVelocity            (dopplerVelocity) float64 -7.885 -7.823 ... 7.823\n",
       "  * peak                       (peak) int64 1 2\n",
       "Dimensions without coordinates: dopplerVelocityAliased\n",
       "Data variables:\n",
       "    specificAttenuation        (frequency, time, lat, layer) float64 dask.array<chunksize=(1, 1, 1, 10), meta=np.ndarray>\n",
       "    pathIntegratedAttBottomUp  (frequency, time, lat, layer) float64 dask.array<chunksize=(1, 1, 1, 10), meta=np.ndarray>\n",
       "    pathIntegratedAttTopDown   (frequency, time, lat, layer) float64 dask.array<chunksize=(1, 1, 1, 10), meta=np.ndarray>\n",
       "    radarIdealizedSpectrum     (dopplerVelocityAliased, time, lat, layer, frequency) float64 dask.array<chunksize=(5376, 1, 1, 10, 1), meta=np.ndarray>\n",
       "    radarSpectrum              (dopplerVelocity, time, lat, layer, frequency) float64 dask.array<chunksize=(256, 1, 1, 10, 1), meta=np.ndarray>\n",
       "    radarReflectivity          (peak, time, lat, layer, frequency) float64 dask.array<chunksize=(2, 1, 1, 10, 1), meta=np.ndarray>\n",
       "    meanDopplerVel             (peak, time, lat, layer, frequency) float64 dask.array<chunksize=(2, 1, 1, 10, 1), meta=np.ndarray>\n",
       "    spectrumWidth              (peak, time, lat, layer, frequency) float64 dask.array<chunksize=(2, 1, 1, 10, 1), meta=np.ndarray>\n",
       "    skewness                   (peak, time, lat, layer, frequency) float64 dask.array<chunksize=(2, 1, 1, 10, 1), meta=np.ndarray>\n",
       "    kurtosis                   (peak, time, lat, layer, frequency) float64 dask.array<chunksize=(2, 1, 1, 10, 1), meta=np.ndarray>\n",
       "    leftSlope                  (peak, time, lat, layer, frequency) float64 dask.array<chunksize=(2, 1, 1, 10, 1), meta=np.ndarray>\n",
       "    rightSlope                 (peak, time, lat, layer, frequency) float64 dask.array<chunksize=(2, 1, 1, 10, 1), meta=np.ndarray>\n",
       "    leftEdge                   (peak, time, lat, layer, frequency) float64 dask.array<chunksize=(2, 1, 1, 10, 1), meta=np.ndarray>\n",
       "    rightEdge                  (peak, time, lat, layer, frequency) float64 dask.array<chunksize=(2, 1, 1, 10, 1), meta=np.ndarray>\n",
       "    quality                    (time, lat, layer, frequency) float64 dask.array<chunksize=(1, 1, 10, 1), meta=np.ndarray>\n",
       "    noiseMean                  (time, lat, layer, frequency) float64 dask.array<chunksize=(1, 1, 10, 1), meta=np.ndarray>"
      ]
     },
     "execution_count": 13,
     "metadata": {},
     "output_type": "execute_result"
    }
   ],
   "source": [
    "pam2.instruments.test.results\n"
   ]
  },
  {
   "cell_type": "markdown",
   "metadata": {},
   "source": [
    "Do the numbers!"
   ]
  },
  {
   "cell_type": "code",
   "execution_count": 14,
   "metadata": {},
   "outputs": [
    {
     "name": "stderr",
     "output_type": "stream",
     "text": [
      "/Users/mmaahn/miniconda3/envs/py36/lib/python3.6/site-packages/dask/core.py:121: RuntimeWarning: divide by zero encountered in true_divide\n",
      "  return func(*(_execute_task(a, cache) for a in args))\n",
      "/Users/mmaahn/miniconda3/envs/py36/lib/python3.6/site-packages/pamtra2-0.1-py3.6-macosx-10.7-x86_64.egg/pamtra2/libs/singleScattering/scattering_utilities.py:170: RuntimeWarning: invalid value encountered in double_scalars\n",
      "  alpha = np.arccos((cos_sca-cos_th*cos_inc)/(sin_th*sin_inc))\n",
      "/Users/mmaahn/miniconda3/envs/py36/lib/python3.6/site-packages/pamtra2-0.1-py3.6-macosx-10.7-x86_64.egg/pamtra2/libs/singleScattering/scattering_utilities.py:171: RuntimeWarning: invalid value encountered in double_scalars\n",
      "  beta = np.arccos((cos_inc-cos_th*cos_sca)/(sin_th*sin_sca))\n"
     ]
    },
    {
     "data": {
      "text/html": [
       "<pre>&lt;xarray.Dataset&gt;\n",
       "Dimensions:                    (dopplerVelocity: 256, dopplerVelocityAliased: 5376, frequency: 1, lat: 2, layer: 10, peak: 2, time: 1)\n",
       "Coordinates:\n",
       "  * frequency                  (frequency) float64 3.5e+10\n",
       "  * lat                        (lat) int64 70 75\n",
       "  * time                       (time) datetime64[ns] 2016-01-01\n",
       "  * layer                      (layer) int64 0 1 2 3 4 5 6 7 8 9\n",
       "  * dopplerVelocity            (dopplerVelocity) float64 -7.885 -7.823 ... 7.823\n",
       "  * peak                       (peak) int64 1 2\n",
       "Dimensions without coordinates: dopplerVelocityAliased\n",
       "Data variables:\n",
       "    specificAttenuation        (frequency, time, lat, layer) float64 5.399e-05 ... 5.399e-05\n",
       "    pathIntegratedAttBottomUp  (frequency, time, lat, layer) float64 0.005939 ... 0.2554\n",
       "    pathIntegratedAttTopDown   (frequency, time, lat, layer) float64 0.2554 ... 0.005939\n",
       "    radarIdealizedSpectrum     (dopplerVelocityAliased, time, lat, layer, frequency) float64 0.0 ... 0.0\n",
       "    radarSpectrum              (dopplerVelocity, time, lat, layer, frequency) float64 5.72e-09 ... 6.036e-05\n",
       "    radarReflectivity          (peak, time, lat, layer, frequency) float64 nan ... nan\n",
       "    meanDopplerVel             (peak, time, lat, layer, frequency) float64 nan ... nan\n",
       "    spectrumWidth              (peak, time, lat, layer, frequency) float64 nan ... nan\n",
       "    skewness                   (peak, time, lat, layer, frequency) float64 nan ... nan\n",
       "    kurtosis                   (peak, time, lat, layer, frequency) float64 nan ... nan\n",
       "    leftSlope                  (peak, time, lat, layer, frequency) float64 nan ... nan\n",
       "    rightSlope                 (peak, time, lat, layer, frequency) float64 nan ... nan\n",
       "    leftEdge                   (peak, time, lat, layer, frequency) float64 nan ... nan\n",
       "    rightEdge                  (peak, time, lat, layer, frequency) float64 nan ... nan\n",
       "    quality                    (time, lat, layer, frequency) float64 64.0 ... 64.0\n",
       "    noiseMean                  (time, lat, layer, frequency) float64 -70.03 ... -30.0</pre>"
      ],
      "text/plain": [
       "<xarray.Dataset>\n",
       "Dimensions:                    (dopplerVelocity: 256, dopplerVelocityAliased: 5376, frequency: 1, lat: 2, layer: 10, peak: 2, time: 1)\n",
       "Coordinates:\n",
       "  * frequency                  (frequency) float64 3.5e+10\n",
       "  * lat                        (lat) int64 70 75\n",
       "  * time                       (time) datetime64[ns] 2016-01-01\n",
       "  * layer                      (layer) int64 0 1 2 3 4 5 6 7 8 9\n",
       "  * dopplerVelocity            (dopplerVelocity) float64 -7.885 -7.823 ... 7.823\n",
       "  * peak                       (peak) int64 1 2\n",
       "Dimensions without coordinates: dopplerVelocityAliased\n",
       "Data variables:\n",
       "    specificAttenuation        (frequency, time, lat, layer) float64 5.399e-05 ... 5.399e-05\n",
       "    pathIntegratedAttBottomUp  (frequency, time, lat, layer) float64 0.005939 ... 0.2554\n",
       "    pathIntegratedAttTopDown   (frequency, time, lat, layer) float64 0.2554 ... 0.005939\n",
       "    radarIdealizedSpectrum     (dopplerVelocityAliased, time, lat, layer, frequency) float64 0.0 ... 0.0\n",
       "    radarSpectrum              (dopplerVelocity, time, lat, layer, frequency) float64 5.72e-09 ... 6.036e-05\n",
       "    radarReflectivity          (peak, time, lat, layer, frequency) float64 nan ... nan\n",
       "    meanDopplerVel             (peak, time, lat, layer, frequency) float64 nan ... nan\n",
       "    spectrumWidth              (peak, time, lat, layer, frequency) float64 nan ... nan\n",
       "    skewness                   (peak, time, lat, layer, frequency) float64 nan ... nan\n",
       "    kurtosis                   (peak, time, lat, layer, frequency) float64 nan ... nan\n",
       "    leftSlope                  (peak, time, lat, layer, frequency) float64 nan ... nan\n",
       "    rightSlope                 (peak, time, lat, layer, frequency) float64 nan ... nan\n",
       "    leftEdge                   (peak, time, lat, layer, frequency) float64 nan ... nan\n",
       "    rightEdge                  (peak, time, lat, layer, frequency) float64 nan ... nan\n",
       "    quality                    (time, lat, layer, frequency) float64 64.0 ... 64.0\n",
       "    noiseMean                  (time, lat, layer, frequency) float64 -70.03 ... -30.0"
      ]
     },
     "execution_count": 14,
     "metadata": {},
     "output_type": "execute_result"
    }
   ],
   "source": [
    "pam2.instruments.test.results.load()"
   ]
  },
  {
   "cell_type": "code",
   "execution_count": 15,
   "metadata": {},
   "outputs": [
    {
     "data": {
      "text/plain": [
       "<matplotlib.collections.QuadMesh at 0x1126b0940>"
      ]
     },
     "execution_count": 15,
     "metadata": {},
     "output_type": "execute_result"
    },
    {
     "data": {
      "image/png": "[encoded data removed]",
      "text/plain": [
       "<Figure size 432x288 with 2 Axes>"
      ]
     },
     "metadata": {
      "needs_background": "light"
     },
     "output_type": "display_data"
    }
   ],
   "source": [
    "pam2.instruments.test.results.radarReflectivity.isel(peak=0,time=0).T.plot()"
   ]
  }
 ],
 "metadata": {
  "language_info": {
   "codemirror_mode": {
    "name": "ipython",
    "version": 3
   },
   "file_extension": ".py",
   "mimetype": "text/x-python",
   "name": "python",
   "nbconvert_exporter": "python",
   "pygments_lexer": "ipython3",
   "version": "3.6.7"
  },
  "toc": {
   "base_numbering": 1,
   "nav_menu": {},
   "number_sections": true,
   "sideBar": true,
   "skip_h1_title": false,
   "title_cell": "Table of Contents",
   "title_sidebar": "Contents",
   "toc_cell": false,
   "toc_position": {
    "height": "calc(100% - 180px)",
    "left": "10px",
    "top": "150px",
    "width": "249px"
   },
   "toc_section_display": "block",
   "toc_window_display": true
  }
 },
 "nbformat": 4,
 "nbformat_minor": 2
}
