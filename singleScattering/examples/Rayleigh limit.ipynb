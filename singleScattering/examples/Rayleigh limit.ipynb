{
 "cells": [
  {
   "cell_type": "code",
   "execution_count": 1,
   "metadata": {},
   "outputs": [],
   "source": [
    "import numpy as np\n",
    "\n",
    "\n",
    "import sys\n",
    "sys.path.append('../') # singleScattering is not in my default path\n",
    "\n",
    "from singleScattering import scatterer\n",
    "from singleScattering import Rayleigh\n",
    "\n",
    "%matplotlib inline"
   ]
  },
  {
   "cell_type": "code",
   "execution_count": 2,
   "metadata": {},
   "outputs": [],
   "source": [
    "try:\n",
    "    generic = scatterer.scatterer()\n",
    "except:\n",
    "    pass\n",
    "try:\n",
    "    ray = Rayleigh.Rayleigh()\n",
    "except:\n",
    "    pass\n",
    "try:\n",
    "    TM = scatterer.T_Matrix()\n",
    "except:\n",
    "    pass\n",
    "try:\n",
    "    Mie = scatterer.Mie()\n",
    "except:\n",
    "    pass\n",
    "#ray.back_spec"
   ]
  },
  {
   "cell_type": "code",
   "execution_count": 3,
   "metadata": {},
   "outputs": [],
   "source": [
    "ray = Rayleigh.Rayleigh(frequency=1.0e9,dielectric_permittivity=complex(6.0,1.0))\n",
    "# ray.set_scattering_geometry([0.5*np.pi, 0.0, 0.5*np.pi, 0.0])\n",
    "# ray.set_scattering_geometry([0.0, 0.0, np.pi, 0.0])\n",
    "# ray.set_scattering_geometry([np.pi, 0.0, np.pi, 0.0])"
   ]
  },
  {
   "cell_type": "code",
   "execution_count": 4,
   "metadata": {},
   "outputs": [],
   "source": [
    "ray.set_scattering_geometry([0.5*np.pi, 0.0, 0.5*np.pi, np.pi, 0.5*np.pi, np.pi])\n",
    "\n"
   ]
  },
  {
   "cell_type": "code",
   "execution_count": 5,
   "metadata": {},
   "outputs": [
    {
     "name": "stdout",
     "output_type": "stream",
     "text": [
      "0.299792458 1.5153974184979275e-14\n"
     ]
    }
   ],
   "source": [
    "print(ray.wavelength,ray.Cbck)"
   ]
  },
  {
   "cell_type": "code",
   "execution_count": 6,
   "metadata": {},
   "outputs": [
    {
     "data": {
      "text/plain": [
       "1.0102649456652851e-14"
      ]
     },
     "execution_count": 6,
     "metadata": {},
     "output_type": "execute_result"
    }
   ],
   "source": [
    "8.0*ray.size_parameter**4*ray.K2*ray.geometric_cross_section/3.0"
   ]
  },
  {
   "cell_type": "code",
   "execution_count": 7,
   "metadata": {},
   "outputs": [
    {
     "data": {
      "text/plain": [
       "1.5194518440060331e-09"
      ]
     },
     "execution_count": 7,
     "metadata": {},
     "output_type": "execute_result"
    }
   ],
   "source": [
    "ray.Cabs"
   ]
  },
  {
   "cell_type": "code",
   "execution_count": 8,
   "metadata": {},
   "outputs": [
    {
     "name": "stdout",
     "output_type": "stream",
     "text": [
      "1.5707963267948966 0.0 1.5707963267948966 3.141592653589793\n"
     ]
    },
    {
     "data": {
      "text/plain": [
       "1.5707963267948966"
      ]
     },
     "execution_count": 8,
     "metadata": {},
     "output_type": "execute_result"
    }
   ],
   "source": [
    "print(ray.theta_inc,ray.theta_sca,ray.phi_inc,ray.phi_sca)\n",
    "ray.scatt_angle\n"
   ]
  },
  {
   "cell_type": "code",
   "execution_count": null,
   "metadata": {},
   "outputs": [],
   "source": []
  }
 ],
 "metadata": {
  "kernelspec": {
   "display_name": "Python 3",
   "language": "python",
   "name": "python3"
  },
  "language_info": {
   "codemirror_mode": {
    "name": "ipython",
    "version": 3
   },
   "file_extension": ".py",
   "mimetype": "text/x-python",
   "name": "python",
   "nbconvert_exporter": "python",
   "pygments_lexer": "ipython3",
   "version": "3.6.5"
  },
  "toc": {
   "base_numbering": 1,
   "nav_menu": {},
   "number_sections": true,
   "sideBar": true,
   "skip_h1_title": false,
   "title_cell": "Table of Contents",
   "title_sidebar": "Contents",
   "toc_cell": false,
   "toc_position": {},
   "toc_section_display": true,
   "toc_window_display": false
  }
 },
 "nbformat": 4,
 "nbformat_minor": 2
}
