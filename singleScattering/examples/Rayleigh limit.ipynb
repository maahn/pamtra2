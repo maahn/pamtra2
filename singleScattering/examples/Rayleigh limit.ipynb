{
 "cells": [
  {
   "cell_type": "code",
   "execution_count": 1,
   "metadata": {},
   "outputs": [],
   "source": [
    "import numpy as np\n",
    "\n",
    "\n",
    "# import sys\n",
    "# sys.path.append('../') # scattering is not in my default path\n",
    "\n",
    "from scattering import scatterer\n",
    "from scattering import Rayleigh"
   ]
  },
  {
   "cell_type": "code",
   "execution_count": 2,
   "metadata": {},
   "outputs": [],
   "source": [
    "try:\n",
    "    generic = scatterer.scatterer()\n",
    "except:\n",
    "    pass\n",
    "try:\n",
    "    ray = Rayleigh.Rayleigh()\n",
    "except:\n",
    "    pass\n",
    "try:\n",
    "    TM = scatterer.T_Matrix()\n",
    "except:\n",
    "    pass\n",
    "try:\n",
    "    Mie = scatterer.Mie()\n",
    "except:\n",
    "    pass\n",
    "#ray.back_spec"
   ]
  },
  {
   "cell_type": "code",
   "execution_count": 3,
   "metadata": {},
   "outputs": [
    {
     "ename": "ValueError",
     "evalue": "not enough values to unpack (expected 6, got 4)",
     "output_type": "error",
     "traceback": [
      "\u001b[0;31m---------------------------------------------------------------------------\u001b[0m",
      "\u001b[0;31mValueError\u001b[0m                                Traceback (most recent call last)",
      "\u001b[0;32m<ipython-input-3-56b385733083>\u001b[0m in \u001b[0;36m<module>\u001b[0;34m()\u001b[0m\n\u001b[1;32m      1\u001b[0m \u001b[0mray\u001b[0m \u001b[0;34m=\u001b[0m \u001b[0mRayleigh\u001b[0m\u001b[0;34m.\u001b[0m\u001b[0mRayleigh\u001b[0m\u001b[0;34m(\u001b[0m\u001b[0mfrequency\u001b[0m\u001b[0;34m=\u001b[0m\u001b[0;36m1.0e9\u001b[0m\u001b[0;34m,\u001b[0m\u001b[0mdielectric_permittivity\u001b[0m\u001b[0;34m=\u001b[0m\u001b[0mcomplex\u001b[0m\u001b[0;34m(\u001b[0m\u001b[0;36m6.0\u001b[0m\u001b[0;34m,\u001b[0m\u001b[0;36m1.0\u001b[0m\u001b[0;34m)\u001b[0m\u001b[0;34m)\u001b[0m\u001b[0;34m\u001b[0m\u001b[0m\n\u001b[0;32m----> 2\u001b[0;31m \u001b[0mray\u001b[0m\u001b[0;34m.\u001b[0m\u001b[0mset_scattering_geometry\u001b[0m\u001b[0;34m(\u001b[0m\u001b[0;34m[\u001b[0m\u001b[0;36m0.5\u001b[0m\u001b[0;34m*\u001b[0m\u001b[0mnp\u001b[0m\u001b[0;34m.\u001b[0m\u001b[0mpi\u001b[0m\u001b[0;34m,\u001b[0m \u001b[0;36m0.0\u001b[0m\u001b[0;34m,\u001b[0m \u001b[0;36m0.5\u001b[0m\u001b[0;34m*\u001b[0m\u001b[0mnp\u001b[0m\u001b[0;34m.\u001b[0m\u001b[0mpi\u001b[0m\u001b[0;34m,\u001b[0m \u001b[0mnp\u001b[0m\u001b[0;34m.\u001b[0m\u001b[0mpi\u001b[0m\u001b[0;34m]\u001b[0m\u001b[0;34m)\u001b[0m\u001b[0;34m\u001b[0m\u001b[0m\n\u001b[0m\u001b[1;32m      3\u001b[0m \u001b[0mray\u001b[0m\u001b[0;34m.\u001b[0m\u001b[0mset_scattering_geometry\u001b[0m\u001b[0;34m(\u001b[0m\u001b[0;34m[\u001b[0m\u001b[0;36m0.5\u001b[0m\u001b[0;34m*\u001b[0m\u001b[0mnp\u001b[0m\u001b[0;34m.\u001b[0m\u001b[0mpi\u001b[0m\u001b[0;34m,\u001b[0m \u001b[0;36m0.0\u001b[0m\u001b[0;34m,\u001b[0m \u001b[0;36m0.5\u001b[0m\u001b[0;34m*\u001b[0m\u001b[0mnp\u001b[0m\u001b[0;34m.\u001b[0m\u001b[0mpi\u001b[0m\u001b[0;34m,\u001b[0m \u001b[0;36m0.0\u001b[0m\u001b[0;34m]\u001b[0m\u001b[0;34m)\u001b[0m\u001b[0;34m\u001b[0m\u001b[0m\n\u001b[1;32m      4\u001b[0m \u001b[0mray\u001b[0m\u001b[0;34m.\u001b[0m\u001b[0mset_scattering_geometry\u001b[0m\u001b[0;34m(\u001b[0m\u001b[0;34m[\u001b[0m\u001b[0;36m0.0\u001b[0m\u001b[0;34m,\u001b[0m \u001b[0;36m0.0\u001b[0m\u001b[0;34m,\u001b[0m \u001b[0mnp\u001b[0m\u001b[0;34m.\u001b[0m\u001b[0mpi\u001b[0m\u001b[0;34m,\u001b[0m \u001b[0;36m0.0\u001b[0m\u001b[0;34m]\u001b[0m\u001b[0;34m)\u001b[0m\u001b[0;34m\u001b[0m\u001b[0m\n\u001b[1;32m      5\u001b[0m \u001b[0mray\u001b[0m\u001b[0;34m.\u001b[0m\u001b[0mset_scattering_geometry\u001b[0m\u001b[0;34m(\u001b[0m\u001b[0;34m[\u001b[0m\u001b[0mnp\u001b[0m\u001b[0;34m.\u001b[0m\u001b[0mpi\u001b[0m\u001b[0;34m,\u001b[0m \u001b[0;36m0.0\u001b[0m\u001b[0;34m,\u001b[0m \u001b[0mnp\u001b[0m\u001b[0;34m.\u001b[0m\u001b[0mpi\u001b[0m\u001b[0;34m,\u001b[0m \u001b[0;36m0.0\u001b[0m\u001b[0;34m]\u001b[0m\u001b[0;34m)\u001b[0m\u001b[0;34m\u001b[0m\u001b[0m\n",
      "\u001b[0;32m/Volumes/User/mmaahn/anaconda/envs/python3/lib/python3.6/site-packages/scattering/scatterer.py\u001b[0m in \u001b[0;36mset_scattering_geometry\u001b[0;34m(self, geometry)\u001b[0m\n\u001b[1;32m    147\u001b[0m \u001b[0;34m\u001b[0m\u001b[0m\n\u001b[1;32m    148\u001b[0m         (self.theta_inc, self.theta_sca, self.phi_inc, self.phi_sca,\n\u001b[0;32m--> 149\u001b[0;31m          self.alpha, self.beta) = geometry\n\u001b[0m\u001b[1;32m    150\u001b[0m         self.scatt_angle = scatt_utils.scattering_angle(self.theta_inc,\n\u001b[1;32m    151\u001b[0m                                                         \u001b[0mself\u001b[0m\u001b[0;34m.\u001b[0m\u001b[0mtheta_sca\u001b[0m\u001b[0;34m,\u001b[0m\u001b[0;34m\u001b[0m\u001b[0m\n",
      "\u001b[0;31mValueError\u001b[0m: not enough values to unpack (expected 6, got 4)"
     ]
    }
   ],
   "source": [
    "ray = Rayleigh.Rayleigh(frequency=1.0e9,dielectric_permittivity=complex(6.0,1.0))\n",
    "ray.set_scattering_geometry([0.5*np.pi, 0.0, 0.5*np.pi, np.pi])\n",
    "ray.set_scattering_geometry([0.5*np.pi, 0.0, 0.5*np.pi, 0.0])\n",
    "ray.set_scattering_geometry([0.0, 0.0, np.pi, 0.0])\n",
    "ray.set_scattering_geometry([np.pi, 0.0, np.pi, 0.0])"
   ]
  },
  {
   "cell_type": "code",
   "execution_count": null,
   "metadata": {},
   "outputs": [],
   "source": [
    "%debug"
   ]
  },
  {
   "cell_type": "code",
   "execution_count": null,
   "metadata": {},
   "outputs": [],
   "source": [
    "print(ray.wavelength,ray.Cbck)"
   ]
  },
  {
   "cell_type": "code",
   "execution_count": null,
   "metadata": {},
   "outputs": [],
   "source": [
    "8.0*ray.size_parameter**4*ray.K2*ray.geometric_cross_section/3.0"
   ]
  },
  {
   "cell_type": "code",
   "execution_count": null,
   "metadata": {},
   "outputs": [],
   "source": [
    "ray.Cabs"
   ]
  },
  {
   "cell_type": "code",
   "execution_count": null,
   "metadata": {},
   "outputs": [],
   "source": [
    "print(ray.theta_inc,ray.theta_sca,ray.phi_inc,ray.phi_sca)\n",
    "ray.scatt_angle\n"
   ]
  },
  {
   "cell_type": "code",
   "execution_count": null,
   "metadata": {},
   "outputs": [],
   "source": []
  },
  {
   "cell_type": "code",
   "execution_count": 4,
   "metadata": {},
   "outputs": [],
   "source": [
    "%matplotlib inline"
   ]
  },
  {
   "cell_type": "code",
   "execution_count": 6,
   "metadata": {},
   "outputs": [
    {
     "name": "stderr",
     "output_type": "stream",
     "text": [
      "/Volumes/User/mmaahn/anaconda/envs/python3/lib/python3.6/site-packages/numpy/core/numeric.py:583: ComplexWarning: Casting complex values to real discards the imaginary part\n",
      "  return array(a, dtype, copy=False, order=order, subok=True)\n"
     ]
    },
    {
     "data": {
      "image/png": "[encoded data removed]",
      "text/plain": [
       "<matplotlib.figure.Figure at 0x1148857b8>"
      ]
     },
     "metadata": {},
     "output_type": "display_data"
    },
    {
     "data": {
      "image/png": "[encoded data removed]",
      "text/plain": [
       "<matplotlib.figure.Figure at 0x11b1fd438>"
      ]
     },
     "metadata": {},
     "output_type": "display_data"
    }
   ],
   "source": [
    "# -*- coding: utf-8 -*-\n",
    "\"\"\"\n",
    "Spyder Editor\n",
    "\n",
    "This is a temporary script file.\n",
    "\"\"\"\n",
    "\n",
    "from pytmatrix import tmatrix\n",
    "from pytmatrix import tmatrix_aux\n",
    "from pytmatrix import refractive\n",
    "from pytmatrix import scatter\n",
    "import matplotlib.pyplot as plt\n",
    "\n",
    "import numpy as np\n",
    "\n",
    "import sys\n",
    "sys.path.append('../')\n",
    "\n",
    "wl = tmatrix_aux.wl_S\n",
    "m = refractive.mi(tmatrix_aux.wl_S,refractive.ice_density)\n",
    "\n",
    "pi5 = np.pi**5.0\n",
    "wl4 = wl**4.0\n",
    "K = (m**2+1.0)/(m**2-2)\n",
    "K2 = (K*K.conj()).real\n",
    "pref = pi5*K2/wl4\n",
    "\n",
    "scatt = tmatrix.Scatterer(radius=1.0,\n",
    "                          wavelength=wl,\n",
    "                          m=m,\n",
    "                          axis_ratio=1.0)\n",
    "\n",
    "plt.figure()\n",
    "ax = plt.gca()\n",
    "for th in np.linspace(0.0,180):\n",
    "    scatt.thet = th\n",
    "    [[S11,S12],[S21,S22]] = scatt.get_S()\n",
    "    sig = scatter.sca_xsect(scatt)\n",
    "#    ax.scatter(th,1e6*sig,c='m')\n",
    "    ax.scatter(th,S11,c='b')\n",
    "    ax.scatter(th,S12,c='r')\n",
    "    ax.scatter(th,S21,c='g',marker='x')\n",
    "    ax.scatter(th,S22,c='k')\n",
    "ax.set_ylim([-0.0015,0.0015])\n",
    "ax.set_ylim([-0.001355,-0.00135])\n",
    "\n",
    "plt.figure()\n",
    "ax = plt.gca()\n",
    "for s in np.linspace(1,10,50):\n",
    "    scatt = tmatrix.Scatterer(radius=s,\n",
    "                              wavelength=wl,\n",
    "                              m=m,\n",
    "                              axis_ratio=1.0)\n",
    "    R = pref * s**6.0\n",
    "    ax.scatter(2*np.pi*s/wl,scatter.sca_xsect(scatt),c='b')\n",
    "    ax.scatter(2*np.pi*s/wl,R,c='g',marker='x')"
   ]
  },
  {
   "cell_type": "code",
   "execution_count": null,
   "metadata": {},
   "outputs": [],
   "source": []
  }
 ],
 "metadata": {
  "kernelspec": {
   "display_name": "Python 3",
   "language": "python",
   "name": "python3"
  },
  "language_info": {
   "codemirror_mode": {
    "name": "ipython",
    "version": 3
   },
   "file_extension": ".py",
   "mimetype": "text/x-python",
   "name": "python",
   "nbconvert_exporter": "python",
   "pygments_lexer": "ipython3",
   "version": "3.6.3"
  },
  "toc": {
   "nav_menu": {},
   "number_sections": true,
   "sideBar": true,
   "skip_h1_title": false,
   "toc_cell": false,
   "toc_position": {},
   "toc_section_display": "block",
   "toc_window_display": false
  }
 },
 "nbformat": 4,
 "nbformat_minor": 2
}
