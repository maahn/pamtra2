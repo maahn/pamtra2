{
 "cells": [
  {
   "cell_type": "code",
   "execution_count": 1,
   "metadata": {
    "collapsed": false,
    "deletable": true,
    "editable": true
   },
   "outputs": [],
   "source": [
    "import numpy as np\n",
    "\n",
    "\n",
    "import sys\n",
    "sys.path.append('../') # scattering is not in my default path\n",
    "\n",
    "from scattering import scatterer\n",
    "from scattering import Rayleigh"
   ]
  },
  {
   "cell_type": "code",
   "execution_count": 2,
   "metadata": {
    "collapsed": false,
    "deletable": true,
    "editable": true
   },
   "outputs": [],
   "source": [
    "try:\n",
    "    generic = scatterer.scatterer()\n",
    "except:\n",
    "    pass\n",
    "try:\n",
    "    ray = Rayleigh.Rayleigh()\n",
    "except:\n",
    "    pass\n",
    "try:\n",
    "    TM = scatterer.T_Matrix()\n",
    "except:\n",
    "    pass\n",
    "try:\n",
    "    Mie = scatterer.Mie()\n",
    "except:\n",
    "    pass\n",
    "#ray.back_spec"
   ]
  },
  {
   "cell_type": "code",
   "execution_count": 7,
   "metadata": {
    "collapsed": false,
    "deletable": true,
    "editable": true
   },
   "outputs": [
    {
     "name": "stdout",
     "output_type": "stream",
     "text": [
      "I am a Rayleigh instance\n",
      "((0.625+0j), (0.98174770424681035+0j), 0.390625)\n"
     ]
    }
   ],
   "source": [
    "ray = Rayleigh.Rayleigh(frequency=1.0e9,dielectric_permittivity=complex(6.0,0.0))"
   ]
  },
  {
   "cell_type": "code",
   "execution_count": 8,
   "metadata": {
    "collapsed": false,
    "deletable": true,
    "editable": true
   },
   "outputs": [
    {
     "name": "stdout",
     "output_type": "stream",
     "text": [
      "(0.299792458, 20.95845021951682, 0.0, 9865.8686100125469, 9865.8686100125469, 14798.802915018821)\n"
     ]
    }
   ],
   "source": [
    "print(ray.wavelength,ray.wavenumber,ray.Cabs,ray.Csca,ray.Cext,ray.Cbck)"
   ]
  },
  {
   "cell_type": "code",
   "execution_count": null,
   "metadata": {
    "collapsed": true,
    "deletable": true,
    "editable": true
   },
   "outputs": [],
   "source": []
  }
 ],
 "metadata": {
  "kernelspec": {
   "display_name": "Python 2",
   "language": "python",
   "name": "python2"
  },
  "language_info": {
   "codemirror_mode": {
    "name": "ipython",
    "version": 2
   },
   "file_extension": ".py",
   "mimetype": "text/x-python",
   "name": "python",
   "nbconvert_exporter": "python",
   "pygments_lexer": "ipython2",
   "version": "2.7.12"
  }
 },
 "nbformat": 4,
 "nbformat_minor": 2
}
