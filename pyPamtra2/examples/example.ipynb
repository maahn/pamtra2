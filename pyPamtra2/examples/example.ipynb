{
 "cells": [
  {
   "cell_type": "markdown",
   "metadata": {},
   "source": [
    "# Simple pyPamtra2 example\n",
    "\n",
    "Note that Fortran output cannot be seen from a jupyter notebook. For debugging Fortran modules, run this notebook from the ipython terminal with '%run notebookname.pynb'"
   ]
  },
  {
   "cell_type": "code",
   "execution_count": 21,
   "metadata": {},
   "outputs": [],
   "source": [
    "import numpy as np\n",
    "import xarray as xr\n",
    "import matplotlib.pyplot as plt\n",
    "from collections import OrderedDict\n",
    "import pandas as pn\n",
    "\n",
    "\n",
    "\n",
    "import pyPamtra2\n",
    "\n",
    "\n",
    "try:\n",
    "    %matplotlib inline\n",
    "except:\n",
    "    pass\n",
    "\n"
   ]
  },
  {
   "cell_type": "markdown",
   "metadata": {},
   "source": [
    "We can have an abritrary number of helper dimensions"
   ]
  },
  {
   "cell_type": "code",
   "execution_count": 40,
   "metadata": {},
   "outputs": [],
   "source": [
    "additionalDims = OrderedDict()\n",
    "additionalDims['time'] = pn.date_range('2016-01-01','2016-01-05',freq='D')[:1]\n",
    "# additionalDims['hair_color'] = ['red','brown','black']\n",
    "additionalDims['lat'] = np.arange(70,80)\n",
    "# additionalDims['lon'] = np.arange(170,180,2)"
   ]
  },
  {
   "cell_type": "markdown",
   "metadata": {},
   "source": [
    "Create the pyPamtra2 object"
   ]
  },
  {
   "cell_type": "code",
   "execution_count": 41,
   "metadata": {},
   "outputs": [
    {
     "name": "stdout",
     "output_type": "stream",
     "text": [
      "fallVelocityRelation\n"
     ]
    }
   ],
   "source": [
    "pam2 = pyPamtra2.pyPamtra2(\n",
    "    hydrometeors=['liquidHydros','iceHydros','snowHydros'], # list of names \n",
    "    nPeaks = 1, #for which moments are estimated\n",
    "    nHydroBins=99, \n",
    "    nFFT=512,\n",
    "    additionalDims = additionalDims,\n",
    "    frequencies = [35]\n",
    ")\n"
   ]
  },
  {
   "cell_type": "markdown",
   "metadata": {},
   "source": [
    "modify settings"
   ]
  },
  {
   "cell_type": "code",
   "execution_count": 42,
   "metadata": {},
   "outputs": [
    {
     "data": {
      "text/plain": [
       "{'fallVelocityRelation': 'khvorostyanov01_spheres',\n",
       " 'general': {'verbosity': 0},\n",
       " 'hydrometeorProperties': {'iceHydros': {},\n",
       "  'liquidHydros': {},\n",
       "  'snowHydros': {}},\n",
       " 'radarProperties': {'35': {'fwhrBeamwidthDeg': 0.31,\n",
       "   'integrationTime': 1.4,\n",
       "   'k2': 0.92,\n",
       "   'maxV': 7.885,\n",
       "   'minV': -7.885,\n",
       "   'nAve': 150,\n",
       "   'pNoise1000': -32.23,\n",
       "   'smoothSpectrum': True}},\n",
       " 'radarSimulator': {'aliasingNyquistInterv': 1, 'randomSeed': 0}}"
      ]
     },
     "execution_count": 42,
     "metadata": {},
     "output_type": "execute_result"
    }
   ],
   "source": [
    "pam2.settings"
   ]
  },
  {
   "cell_type": "code",
   "execution_count": 43,
   "metadata": {},
   "outputs": [],
   "source": [
    "pam2.settings['general']['verbosity'] = 10\n",
    "pam2.settings['radarSimulator']['randomSeed'] = 5\n",
    "pam2.settings['radarSimulator']['aliasingNyquistInterv'] = 1\n",
    "pam2.settings['radarProperties']['35']['nAve'] = 25\n",
    "\n"
   ]
  },
  {
   "cell_type": "markdown",
   "metadata": {},
   "source": [
    " it's a modified dict, so you cannot add keys on your own (or by accident)"
   ]
  },
  {
   "cell_type": "code",
   "execution_count": 44,
   "metadata": {},
   "outputs": [],
   "source": [
    "# pam2.settings['general']['test'] = 10"
   ]
  },
  {
   "cell_type": "markdown",
   "metadata": {},
   "source": [
    "Start with the atmospheric data, everything is stored in a .data xarray Dataset. In addition, there is a ._tmp object for intermediate data."
   ]
  },
  {
   "cell_type": "code",
   "execution_count": 45,
   "metadata": {},
   "outputs": [],
   "source": [
    "pam2.data.eddyDissipationRate.values[:] = 1e-4\n",
    "pam2.data.horizontalWind.values[:] = 10\n",
    "pam2.data.verticalWind.values[:] = 0\n",
    "pam2.data.temperature.values[:] = 300\n",
    "pam2.data.pressure.values[:] = 10000\n",
    "pam2.data.height.values[:] = 1000\n",
    "\n"
   ]
  },
  {
   "cell_type": "markdown",
   "metadata": {},
   "source": [
    "add the liquid hydrometeor description. monodisperse distribution (at least almost, we still need Dmin and Dmax)"
   ]
  },
  {
   "cell_type": "code",
   "execution_count": 46,
   "metadata": {},
   "outputs": [],
   "source": [
    "\n",
    "pam2.addHydrometeorProperties(\n",
    "    0, #hydrometeor index or name\n",
    "    [1e-5,2e-5], # Dmin and DMax\n",
    "    10**7, #N(D)\n",
    "    psdNormalized = False, #PSD normalized by bins?\n",
    "    hydroType='liquid'\n",
    "    )\n",
    "\n"
   ]
  },
  {
   "cell_type": "markdown",
   "metadata": {},
   "source": [
    "the same for ice. Here the PSD is estmated by the function pyPamtra2.sizeDistributions.exponential, the parameters are provided by psdFuncArgs (could be arrays, too!)"
   ]
  },
  {
   "cell_type": "code",
   "execution_count": 47,
   "metadata": {},
   "outputs": [],
   "source": [
    "pam2.addHydrometeorProperties(\n",
    "    'snowHydros',#hydrometeor index or name\n",
    "    [1e-5,6e-4],# Dmin and DMax\n",
    "    pyPamtra2.sizeDistributions.exponential, #this is the function for the psd\n",
    "    hydroType='snow',\n",
    "    psdFuncArgs = [100,400], # with these arguments, corresponding to N0 and lambda\n",
    "    psdNormalized = True,\n",
    "    hydrometeorProperties = {\n",
    "        'massSizeA_snow' : 0.0121, #mass size relation (Brown and Freancis) \n",
    "        'massSizeB_snow' : 1.9,\n",
    "        'areaSizeA_snow' : 0.02, #area size relation (random)\n",
    "        'areaSizeB_snow' : 1.4,\n",
    "        'maxDensity_snow' : 971.,\n",
    "    }\n",
    ")\n"
   ]
  },
  {
   "cell_type": "code",
   "execution_count": 48,
   "metadata": {},
   "outputs": [],
   "source": [
    "pam2.addHydrometeorProperties(\n",
    "    'iceHydros',#hydrometeor index or name\n",
    "    [1e-5,6e-5],# Dmin and DMax\n",
    "    pyPamtra2.sizeDistributions.exponential, #this is the function for the psd\n",
    "    hydroType='ice',\n",
    "    psdFuncArgs = [100,400], # with these arguments, corresponding to N0 and lambda\n",
    "    psdNormalized = True,\n",
    ")\n",
    "\n"
   ]
  },
  {
   "cell_type": "markdown",
   "metadata": {},
   "source": [
    "now we have all variables together, let's run the model. Note that we do all processing steps for all columns together. This might be too much for large model fields. In this case the user has to add a loop. Routines which will provide a subset of teh data set will be added later."
   ]
  },
  {
   "cell_type": "code",
   "execution_count": 49,
   "metadata": {},
   "outputs": [
    {
     "data": {
      "text/plain": [
       "{'fallVelocityRelation': 'khvorostyanov01_spheres',\n",
       " 'general': {'verbosity': 10},\n",
       " 'hydrometeorProperties': {'iceHydros': {'refractiveIndexModel': 'Matzler_2006',\n",
       "   'type': 'ice'},\n",
       "  'liquidHydros': {'refractiveIndexModel': 'Ellison', 'type': 'liquid'},\n",
       "  'snowHydros': {'areaSizeA_snow': 0.02,\n",
       "   'areaSizeB_snow': 1.4,\n",
       "   'massSizeA_snow': 0.0121,\n",
       "   'massSizeB_snow': 1.9,\n",
       "   'maxDensity_snow': 971.0,\n",
       "   'refractiveIndexMix_snow': 'Bruggeman',\n",
       "   'refractiveIndexModel': 'Matzler_2006',\n",
       "   'type': 'snow'}},\n",
       " 'radarProperties': {'35': {'fwhrBeamwidthDeg': 0.31,\n",
       "   'integrationTime': 1.4,\n",
       "   'k2': 0.92,\n",
       "   'maxV': 7.885,\n",
       "   'minV': -7.885,\n",
       "   'nAve': 25,\n",
       "   'pNoise1000': -32.23,\n",
       "   'smoothSpectrum': True}},\n",
       " 'radarSimulator': {'aliasingNyquistInterv': 1, 'randomSeed': 5}}"
      ]
     },
     "execution_count": 49,
     "metadata": {},
     "output_type": "execute_result"
    }
   ],
   "source": [
    "pam2.settings"
   ]
  },
  {
   "cell_type": "markdown",
   "metadata": {},
   "source": [
    "estimate the refractive index "
   ]
  },
  {
   "cell_type": "code",
   "execution_count": 50,
   "metadata": {},
   "outputs": [
    {
     "name": "stdout",
     "output_type": "stream",
     "text": [
      "decorating eps 2 1 [0, 2] [0]\n",
      "in 2 (1, 10, 1, 99) (10, 99) (1, 10, 1) False\n",
      "in 0 (1, 10, 1, 1) (10, 1) (1, 10, 1) False\n",
      "out 0 (10, 99) (1, 10, 1, 99) (1, 10, 1)\n"
     ]
    }
   ],
   "source": [
    "pam2.getRefractiveIndex()"
   ]
  },
  {
   "cell_type": "markdown",
   "metadata": {},
   "source": [
    "estimate the broadening of the radar Doppler spectrum"
   ]
  },
  {
   "cell_type": "code",
   "execution_count": 51,
   "metadata": {},
   "outputs": [
    {
     "name": "stdout",
     "output_type": "stream",
     "text": [
      "decorating calcSpectralBraodening 0 0 [0, 1, 2] [0]\n",
      "in 0 (1, 10, 1) (10,) (1, 10, 1) False\n",
      "in 1 (1, 10, 1) (10,) (1, 10, 1) False\n",
      "in 2 (1, 10, 1) (10,) (1, 10, 1) False\n",
      "out 0 (10,) (1, 10, 1) (1, 10, 1)\n"
     ]
    }
   ],
   "source": [
    "pam2.getSpectralBroadening()"
   ]
  },
  {
   "cell_type": "markdown",
   "metadata": {},
   "source": [
    "scattering properties"
   ]
  },
  {
   "cell_type": "code",
   "execution_count": 52,
   "metadata": {},
   "outputs": [
    {
     "name": "stdout",
     "output_type": "stream",
     "text": [
      "decorating rayleigh 0 1 [0, 1] [0]\n",
      "in 0 (1, 10, 1, 99) (10, 99) (1, 10, 1) False\n",
      "in 1 (1, 10, 1) (10,) (1, 10, 1) False\n",
      "out 0 (10, 99) (1, 10, 1, 99) (1, 10, 1)\n",
      "decorating rayleigh 0 1 [0, 1] [0]\n",
      "in 0 (1, 10, 1, 99) (10, 99) (1, 10, 1) False\n",
      "in 1 (1, 10, 1) (10,) (1, 10, 1) False\n",
      "out 0 (10, 99) (1, 10, 1, 99) (1, 10, 1)\n",
      "decorating rayleigh 0 1 [0, 1] [0]\n",
      "in 0 (1, 10, 1, 99) (10, 99) (1, 10, 1) False\n",
      "in 1 (1, 10, 1) (10,) (1, 10, 1) False\n",
      "out 0 (10, 99) (1, 10, 1, 99) (1, 10, 1)\n"
     ]
    }
   ],
   "source": [
    "pam2.getScattering(method='Rayleigh')"
   ]
  },
  {
   "cell_type": "code",
   "execution_count": 53,
   "metadata": {},
   "outputs": [
    {
     "name": "stdout",
     "output_type": "stream",
     "text": [
      "decorating rayleigh 0 1 [0, 1] [0]\n",
      "in 0 (1, 10, 1, 99) (10, 99) (1, 10, 1) False\n",
      "in 1 (1, 10, 1) (10,) (1, 10, 1) False\n",
      "out 0 (10, 99) (1, 10, 1, 99) (1, 10, 1)\n",
      "decorating rayleigh 0 1 [0, 1] [0]\n",
      "in 0 (1, 10, 1, 99) (10, 99) (1, 10, 1) False\n",
      "in 1 (1, 10, 1) (10,) (1, 10, 1) False\n",
      "out 0 (10, 99) (1, 10, 1, 99) (1, 10, 1)\n",
      "decorating rayleigh 0 1 [0, 1] [0]\n",
      "in 0 (1, 10, 1, 99) (10, 99) (1, 10, 1) False\n",
      "in 1 (1, 10, 1) (10,) (1, 10, 1) False\n",
      "out 0 (10, 99) (1, 10, 1, 99) (1, 10, 1)\n"
     ]
    }
   ],
   "source": [
    "pam2.getScattering(method='Rayleigh')"
   ]
  },
  {
   "cell_type": "markdown",
   "metadata": {},
   "source": [
    "estimate path integrated attenuation (alibi function! returns 0!) "
   ]
  },
  {
   "cell_type": "code",
   "execution_count": 54,
   "metadata": {},
   "outputs": [],
   "source": [
    "pam2.getPIA()\n",
    "\n"
   ]
  },
  {
   "cell_type": "markdown",
   "metadata": {},
   "source": [
    "now estimate the radar Doppler spectrum\n",
    "\n",
    "(There is a numerical issue caused by the convolution of turbulence: You can test it by increasing N0 of the snow PSD)"
   ]
  },
  {
   "cell_type": "code",
   "execution_count": 55,
   "metadata": {},
   "outputs": [
    {
     "name": "stdout",
     "output_type": "stream",
     "text": [
      "decorating simulateRadarSpectrum 0 2 [0, 1, 2, 3, 4, 5, 6, 7, 8, 9, 10] [0]\n",
      "in 0 (1, 10, 1, 3, 99) (10, 3, 99) (1, 10, 1) False\n",
      "in 1 (1, 10, 1, 3, 99) (10, 3, 99) (1, 10, 1) False\n",
      "in 2 (1, 10, 1, 3, 99) (10, 3, 99) (1, 10, 1) False\n",
      "in 3 (1, 10, 1, 3, 99) (10, 3, 99) (1, 10, 1) False\n",
      "in 4 (1, 10, 1, 3, 99) (10, 3, 99) (1, 10, 1) False\n",
      "in 5 (1, 10, 1) (10,) (1, 10, 1) False\n",
      "in 6 (1, 10, 1) (10,) (1, 10, 1) False\n",
      "in 7 (1, 10, 1) (10,) (1, 10, 1) False\n",
      "in 8 (1, 10, 1) (10,) (1, 10, 1) False\n",
      "in 9 (1, 10, 1) (10,) (1, 10, 1) False\n",
      "in 10 (1, 10, 1) (10,) (1, 10, 1) False\n",
      "out 0 (10, 512) (1, 10, 1, 512) (1, 10, 1)\n"
     ]
    }
   ],
   "source": [
    "pam2.getRadarSpectrum()\n",
    "\n"
   ]
  },
  {
   "cell_type": "code",
   "execution_count": 56,
   "metadata": {},
   "outputs": [
    {
     "data": {
      "image/png": "[encoded data removed]",
      "text/plain": [
       "<matplotlib.figure.Figure at 0x11aa6f7f0>"
      ]
     },
     "metadata": {},
     "output_type": "display_data"
    }
   ],
   "source": [
    "\n",
    "\n",
    "(10*np.log10(pam2.results.radar_spectrum)).plot()\n",
    "\n"
   ]
  },
  {
   "cell_type": "code",
   "execution_count": 39,
   "metadata": {},
   "outputs": [
    {
     "data": {
      "text/plain": [
       "<xarray.DataArray 'radar_spectrum' (time: 1, layer: 1, frequency: 1, activePolarisation: 1, dopplerVelBin: 512)>\n",
       "array([[[[[ 0.015788, ...,  0.011695]]]]])\n",
       "Coordinates:\n",
       "  * time                (time) datetime64[ns] 2016-01-01\n",
       "  * layer               (layer) int64 0\n",
       "  * frequency           (frequency) int64 35\n",
       "  * activePolarisation  (activePolarisation) <U2 'NN'\n",
       "  * dopplerVelBin       (dopplerVelBin) int64 0 1 2 3 4 5 6 7 8 9 10 11 12 ...\n",
       "Attributes:\n",
       "    unit:     mm6/m3"
      ]
     },
     "execution_count": 39,
     "metadata": {},
     "output_type": "execute_result"
    }
   ],
   "source": [
    "pam2.results.radar_spectrum"
   ]
  },
  {
   "cell_type": "markdown",
   "metadata": {},
   "source": [
    "Estimate the moments of the radar Doppler spectrum. All results are stored in a .results xarray Dataset"
   ]
  },
  {
   "cell_type": "code",
   "execution_count": 57,
   "metadata": {},
   "outputs": [],
   "source": [
    "pam2.getRadarMoments()"
   ]
  },
  {
   "cell_type": "code",
   "execution_count": null,
   "metadata": {},
   "outputs": [],
   "source": []
  }
 ],
 "metadata": {
  "kernelspec": {
   "display_name": "Python [conda env:python3]",
   "language": "python",
   "name": "conda-env-python3-py"
  },
  "language_info": {
   "codemirror_mode": {
    "name": "ipython",
    "version": 3
   },
   "file_extension": ".py",
   "mimetype": "text/x-python",
   "name": "python",
   "nbconvert_exporter": "python",
   "pygments_lexer": "ipython3",
   "version": "3.6.3"
  },
  "toc": {
   "nav_menu": {
    "height": "12px",
    "width": "252px"
   },
   "number_sections": true,
   "sideBar": true,
   "skip_h1_title": false,
   "toc_cell": false,
   "toc_position": {},
   "toc_section_display": "block",
   "toc_window_display": false
  }
 },
 "nbformat": 4,
 "nbformat_minor": 2
}
