{
 "cells": [
  {
   "cell_type": "markdown",
   "metadata": {},
   "source": [
    "# Simple pyPamtra2 example\n",
    "\n",
    "Note that Fortran output cannot be seen from a jupyter notebook. For debugging Fortran modules, run this notebook from the ipython terminal with '%run notebookname.pynb'"
   ]
  },
  {
   "cell_type": "code",
   "execution_count": 1,
   "metadata": {},
   "outputs": [],
   "source": [
    "import numpy as np\n",
    "import xarray as xr\n",
    "import matplotlib.pyplot as plt\n",
    "from collections import OrderedDict\n",
    "import pandas as pn\n",
    "\n",
    "\n",
    "\n",
    "import pyPamtra2\n",
    "\n",
    "\n",
    "try:\n",
    "    %matplotlib inline\n",
    "except:\n",
    "    pass\n",
    "\n"
   ]
  },
  {
   "cell_type": "markdown",
   "metadata": {},
   "source": [
    "We can have an abritrary number of helper dimensions"
   ]
  },
  {
   "cell_type": "code",
   "execution_count": 2,
   "metadata": {
    "collapsed": true
   },
   "outputs": [],
   "source": [
    "additionalDims = OrderedDict()\n",
    "additionalDims['time'] = pn.date_range('2016-01-01','2016-01-05',freq='D')[:1]\n",
    "# additionalDims['hair_color'] = ['red','brown','black']\n",
    "# additionalDims['lat'] = np.arange(70,80)\n",
    "# additionalDims['lon'] = np.arange(170,180,2)"
   ]
  },
  {
   "cell_type": "markdown",
   "metadata": {},
   "source": [
    "Create the pyPamtra2 object"
   ]
  },
  {
   "cell_type": "code",
   "execution_count": 3,
   "metadata": {},
   "outputs": [
    {
     "name": "stdout",
     "output_type": "stream",
     "text": [
      "fallVelocityRelation\n"
     ]
    }
   ],
   "source": [
    "pam2 = pyPamtra2.pyPamtra2(\n",
    "    hydrometeors=['liquid','ice'], # list of names \n",
    "    nPeaks = 1, #for which moments are estimated\n",
    "    nHydroBins=99, \n",
    "    nFFT=512,\n",
    "    additionalDims = additionalDims)\n"
   ]
  },
  {
   "cell_type": "markdown",
   "metadata": {},
   "source": [
    "modify settings"
   ]
  },
  {
   "cell_type": "code",
   "execution_count": 4,
   "metadata": {},
   "outputs": [
    {
     "data": {
      "text/plain": [
       "{'fallVelocityRelation': 'khvorostyanov01_spheres',\n",
       " 'general': {'verbosity': 0},\n",
       " 'radarProperties': {35.5: {'fwhrBeamwidthDeg': 0.31,\n",
       "   'integrationTime': 1.4,\n",
       "   'k2': 0.92,\n",
       "   'maxV': 7.885,\n",
       "   'minV': -7.885,\n",
       "   'nAve': 150,\n",
       "   'pNoise1000': -32.23,\n",
       "   'smoothSpectrum': True}},\n",
       " 'radarSimulator': {'aliasingNyquistInterv': 1, 'randomSeed': 0}}"
      ]
     },
     "execution_count": 4,
     "metadata": {},
     "output_type": "execute_result"
    }
   ],
   "source": [
    "pam2.settings"
   ]
  },
  {
   "cell_type": "code",
   "execution_count": 5,
   "metadata": {
    "collapsed": true
   },
   "outputs": [],
   "source": [
    "pam2.settings['general']['verbosity'] = 10\n",
    "pam2.settings['radarSimulator']['randomSeed'] = 5\n",
    "pam2.settings['radarSimulator']['aliasingNyquistInterv'] = 1\n",
    "pam2.settings['radarProperties'][35.5]['nAve'] = 25\n",
    "\n"
   ]
  },
  {
   "cell_type": "markdown",
   "metadata": {},
   "source": [
    " it's a modified dict, so you cannot add keys on your own (or by accident)"
   ]
  },
  {
   "cell_type": "code",
   "execution_count": 6,
   "metadata": {},
   "outputs": [
    {
     "ename": "ValueError",
     "evalue": "Frozen dictionary does not contain key test",
     "output_type": "error",
     "traceback": [
      "\u001b[0;31m---------------------------------------------------------------------------\u001b[0m",
      "\u001b[0;31mValueError\u001b[0m                                Traceback (most recent call last)",
      "\u001b[0;32m<ipython-input-6-4cb65bbf8d26>\u001b[0m in \u001b[0;36m<module>\u001b[0;34m()\u001b[0m\n\u001b[0;32m----> 1\u001b[0;31m \u001b[0mpam2\u001b[0m\u001b[0;34m.\u001b[0m\u001b[0msettings\u001b[0m\u001b[0;34m[\u001b[0m\u001b[0;34m'general'\u001b[0m\u001b[0;34m]\u001b[0m\u001b[0;34m[\u001b[0m\u001b[0;34m'test'\u001b[0m\u001b[0;34m]\u001b[0m \u001b[0;34m=\u001b[0m \u001b[0;36m10\u001b[0m\u001b[0;34m\u001b[0m\u001b[0m\n\u001b[0m",
      "\u001b[0;32m/Volumes/User/mmaahn/anaconda/envs/python3/lib/python3.5/site-packages/pyPamtra2/configuration.py\u001b[0m in \u001b[0;36m__setitem__\u001b[0;34m(self, key, value)\u001b[0m\n\u001b[1;32m     27\u001b[0m     \u001b[0;32mdef\u001b[0m \u001b[0m__setitem__\u001b[0m \u001b[0;34m(\u001b[0m\u001b[0mself\u001b[0m\u001b[0;34m,\u001b[0m \u001b[0mkey\u001b[0m\u001b[0;34m,\u001b[0m \u001b[0mvalue\u001b[0m\u001b[0;34m)\u001b[0m\u001b[0;34m:\u001b[0m\u001b[0;34m\u001b[0m\u001b[0m\n\u001b[1;32m     28\u001b[0m       \u001b[0;32mif\u001b[0m \u001b[0mself\u001b[0m\u001b[0;34m.\u001b[0m\u001b[0m__frozen\u001b[0m \u001b[0;32mand\u001b[0m \u001b[0mkey\u001b[0m \u001b[0;32mnot\u001b[0m \u001b[0;32min\u001b[0m \u001b[0mself\u001b[0m\u001b[0;34m:\u001b[0m\u001b[0;34m\u001b[0m\u001b[0m\n\u001b[0;32m---> 29\u001b[0;31m         \u001b[0;32mraise\u001b[0m \u001b[0mValueError\u001b[0m\u001b[0;34m(\u001b[0m\u001b[0;34m'Frozen dictionary does not contain key %s'\u001b[0m\u001b[0;34m%\u001b[0m\u001b[0mkey\u001b[0m\u001b[0;34m)\u001b[0m\u001b[0;34m\u001b[0m\u001b[0m\n\u001b[0m\u001b[1;32m     30\u001b[0m       \u001b[0msuper\u001b[0m\u001b[0;34m(\u001b[0m\u001b[0;34m)\u001b[0m\u001b[0;34m.\u001b[0m\u001b[0m__setitem__\u001b[0m\u001b[0;34m(\u001b[0m\u001b[0mkey\u001b[0m\u001b[0;34m,\u001b[0m \u001b[0mvalue\u001b[0m\u001b[0;34m)\u001b[0m\u001b[0;34m\u001b[0m\u001b[0m\n\u001b[1;32m     31\u001b[0m \u001b[0;34m\u001b[0m\u001b[0m\n",
      "\u001b[0;31mValueError\u001b[0m: Frozen dictionary does not contain key test"
     ]
    }
   ],
   "source": [
    "pam2.settings['general']['test'] = 10"
   ]
  },
  {
   "cell_type": "markdown",
   "metadata": {},
   "source": [
    "Start with the atmospheric data"
   ]
  },
  {
   "cell_type": "code",
   "execution_count": 7,
   "metadata": {
    "collapsed": true
   },
   "outputs": [],
   "source": [
    "pam2.data.eddyDissipationRate.values[:] = 1e-4\n",
    "pam2.data.horizontalWind.values[:] = 10\n",
    "pam2.data.verticalWind.values[:] = 0\n",
    "pam2.data.temperature.values[:] = 300\n",
    "pam2.data.pressure.values[:] = 10000\n",
    "pam2.data.height.values[:] = 1000\n",
    "\n"
   ]
  },
  {
   "cell_type": "markdown",
   "metadata": {},
   "source": [
    "add the liquid hydrometeor description. monodisperse distribution (at least almost, we still need Dmin and Dmax)"
   ]
  },
  {
   "cell_type": "code",
   "execution_count": 8,
   "metadata": {
    "collapsed": true
   },
   "outputs": [],
   "source": [
    "\n",
    "pam2.addHydrometeorProperties(\n",
    "    0, #hydrometeor index or name\n",
    "    [1e-5,2e-5], # Dmin and DMax\n",
    "    10**7, #N(D)\n",
    "    psdNormalized = False, #PSD normalized by bins?\n",
    "    )\n",
    "\n"
   ]
  },
  {
   "cell_type": "markdown",
   "metadata": {},
   "source": [
    "the same for ice. Here the PSD is estmated by the function pyPamtra2.sizeDistributions.exponential, the parameters are provided by psdFuncArgs (could be arrays, too!)"
   ]
  },
  {
   "cell_type": "code",
   "execution_count": 9,
   "metadata": {},
   "outputs": [],
   "source": [
    "pam2.addHydrometeorProperties(\n",
    "    'ice',#hydrometeor index or name\n",
    "    [1e-5,6e-4],# Dmin and DMax\n",
    "    pyPamtra2.sizeDistributions.exponential, #this is the function for the psd\n",
    "    psdFuncArgs = [100,400], # with these arguments, corresponding to N0 and lambda\n",
    "    psdNormalized = True,\n",
    "    mass_size_a = 0.0121, #mass size relation (Brown and Freancis) \n",
    "    mass_size_b = 1.9,\n",
    "    area_size_a = 0.02, #area size relation (random)\n",
    "    area_size_b = 1.4,\n",
    ")\n"
   ]
  },
  {
   "cell_type": "markdown",
   "metadata": {},
   "source": [
    "now we have all variables together, let's run the model"
   ]
  },
  {
   "cell_type": "markdown",
   "metadata": {},
   "source": [
    "estimate the broadening of the radar Doppler spectrum"
   ]
  },
  {
   "cell_type": "code",
   "execution_count": 10,
   "metadata": {},
   "outputs": [
    {
     "name": "stdout",
     "output_type": "stream",
     "text": [
      "decorating calcSpectralBraodening 0 0 [0, 1, 2] [0]\n",
      "in 0 (1, 1) (1,) (1, 1) False\n",
      "in 1 (1, 1) (1,) (1, 1) False\n",
      "in 2 (1, 1) (1,) (1, 1) False\n",
      "out 0 (1,) (1, 1) (1, 1)\n"
     ]
    }
   ],
   "source": [
    "pam2.getSpectralBroadening()"
   ]
  },
  {
   "cell_type": "markdown",
   "metadata": {},
   "source": [
    "estimate the refractive index (alibi function as of now!)"
   ]
  },
  {
   "cell_type": "code",
   "execution_count": 11,
   "metadata": {
    "collapsed": true
   },
   "outputs": [],
   "source": [
    "pam2.getRefractiveIndex()"
   ]
  },
  {
   "cell_type": "markdown",
   "metadata": {},
   "source": [
    "scattering properties"
   ]
  },
  {
   "cell_type": "code",
   "execution_count": 12,
   "metadata": {},
   "outputs": [
    {
     "name": "stdout",
     "output_type": "stream",
     "text": [
      "decorating rayleigh 0 1 [0, 1] [0]\n",
      "in 0 (1, 1, 99) (1, 99) (1, 1) False\n",
      "in 1 (1, 1) (1,) (1, 1) False\n",
      "out 0 (1, 99) (1, 1, 99) (1, 1)\n",
      "decorating rayleigh 0 1 [0, 1] [0]\n",
      "in 0 (1, 1, 99) (1, 99) (1, 1) False\n",
      "in 1 (1, 1) (1,) (1, 1) False\n",
      "out 0 (1, 99) (1, 1, 99) (1, 1)\n"
     ]
    }
   ],
   "source": [
    "pam2.getScattering(method='Rayleigh')"
   ]
  },
  {
   "cell_type": "markdown",
   "metadata": {},
   "source": [
    "estimate path integrated attenuation (alibi function! returns 0!) "
   ]
  },
  {
   "cell_type": "code",
   "execution_count": 13,
   "metadata": {
    "collapsed": true
   },
   "outputs": [],
   "source": [
    "pam2.getPIA()\n",
    "\n"
   ]
  },
  {
   "cell_type": "markdown",
   "metadata": {},
   "source": [
    "now estimate the radar Doppler spectrum\n",
    "\n",
    "(There is a numerical issue caused by the convolution of turbulence: You can test it by increasing N0 of the snow PSD)"
   ]
  },
  {
   "cell_type": "code",
   "execution_count": 14,
   "metadata": {},
   "outputs": [
    {
     "name": "stdout",
     "output_type": "stream",
     "text": [
      "decorating simulateRadarSpectrum 0 2 [0, 1, 2, 3, 4, 5, 6, 7, 8, 9, 10] [0]\n",
      "in 0 (1, 1, 2, 99) (1, 2, 99) (1, 1) False\n",
      "in 1 (1, 1, 2, 99) (1, 2, 99) (1, 1) False\n",
      "in 2 (1, 1, 2, 99) (1, 2, 99) (1, 1) False\n",
      "in 3 (1, 1, 2, 99) (1, 2, 99) (1, 1) False\n",
      "in 4 (1, 1, 2, 99) (1, 2, 99) (1, 1) False\n",
      "in 5 (1, 1) (1,) (1, 1) False\n",
      "in 6 (1, 1) (1,) (1, 1) False\n",
      "in 7 (1, 1) (1,) (1, 1) False\n",
      "in 8 (1, 1) (1,) (1, 1) False\n",
      "in 9 (1, 1) (1,) (1, 1) False\n",
      "in 10 (1, 1) (1,) (1, 1) False\n",
      "out 0 (1, 512) (1, 1, 512) (1, 1)\n"
     ]
    },
    {
     "data": {
      "image/png": "[encoded data removed]",
      "text/plain": [
       "<matplotlib.figure.Figure at 0x10e4c3c50>"
      ]
     },
     "metadata": {},
     "output_type": "display_data"
    }
   ],
   "source": [
    "\n",
    "pam2.getRadarSpectrum()\n",
    "\n",
    "(10*np.log10(pam2.results.radar_spectrum)).plot()\n",
    "plt.show()\n",
    "\n"
   ]
  },
  {
   "cell_type": "markdown",
   "metadata": {},
   "source": [
    "Estimate the moments of the radar Doppler spectrum "
   ]
  },
  {
   "cell_type": "code",
   "execution_count": 15,
   "metadata": {},
   "outputs": [
    {
     "data": {
      "text/plain": [
       "<xarray.DataArray 'reflectivity' (time: 1, layer: 1, frequency: 1, activePolarisation: 1, dopplerPeak: 1)>\n",
       "array([[[[[ 22.018293]]]]])\n",
       "Coordinates:\n",
       "  * time                (time) datetime64[ns] 2016-01-01\n",
       "  * layer               (layer) int64 0\n",
       "  * activePolarisation  (activePolarisation) <U2 'NN'\n",
       "  * frequency           (frequency) float64 35.5\n",
       "  * dopplerPeak         (dopplerPeak) int64 0"
      ]
     },
     "execution_count": 15,
     "metadata": {},
     "output_type": "execute_result"
    }
   ],
   "source": [
    "pam2.getRadarMoments()\n",
    "\n",
    "10*np.log10(pam2.results.reflectivity)\n",
    "\n",
    "\n"
   ]
  },
  {
   "cell_type": "code",
   "execution_count": null,
   "metadata": {
    "collapsed": true
   },
   "outputs": [],
   "source": []
  }
 ],
 "metadata": {
  "kernelspec": {
   "display_name": "Python [conda env:python3]",
   "language": "python",
   "name": "conda-env-python3-py"
  },
  "language_info": {
   "codemirror_mode": {
    "name": "ipython",
    "version": 3
   },
   "file_extension": ".py",
   "mimetype": "text/x-python",
   "name": "python",
   "nbconvert_exporter": "python",
   "pygments_lexer": "ipython3",
   "version": "3.5.4"
  },
  "toc": {
   "colors": {
    "hover_highlight": "#DAA520",
    "navigate_num": "#000000",
    "navigate_text": "#333333",
    "running_highlight": "#FF0000",
    "selected_highlight": "#FFD700",
    "sidebar_border": "#EEEEEE",
    "wrapper_background": "#FFFFFF"
   },
   "moveMenuLeft": true,
   "nav_menu": {
    "height": "12px",
    "width": "252px"
   },
   "navigate_menu": true,
   "number_sections": true,
   "sideBar": true,
   "threshold": 4,
   "toc_cell": false,
   "toc_section_display": "block",
   "toc_window_display": false,
   "widenNotebook": false
  }
 },
 "nbformat": 4,
 "nbformat_minor": 2
}
