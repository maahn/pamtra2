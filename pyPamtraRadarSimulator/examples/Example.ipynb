{
 "cells": [
  {
   "cell_type": "code",
   "execution_count": 11,
   "metadata": {
    "collapsed": true
   },
   "outputs": [],
   "source": [
    "import numpy as np\n",
    "import xarray as xr\n",
    "import matplotlib.pyplot as plt\n",
    "\n",
    "import pyPamtraRadarSimulator\n",
    "\n",
    "%matplotlib inline\n"
   ]
  },
  {
   "cell_type": "markdown",
   "metadata": {},
   "source": [
    "Define variables, not very realistic ones!"
   ]
  },
  {
   "cell_type": "code",
   "execution_count": 16,
   "metadata": {
    "collapsed": true
   },
   "outputs": [],
   "source": [
    "\n",
    "edr = 1e-4\n",
    "wind_uv = 10\n",
    "height = 1000\n",
    "beamwidth_deg = .6\n",
    "integration_time = 3\n",
    "frequency = 30.\n",
    "kolmogorov = 0.5\n",
    "\n",
    "diameter_spec = np.logspace(-3,-2.9,30)\n",
    "back_spec = np.logspace(-20,-10,30)\n",
    "back = np.sum(back_spec)\n",
    "pia = 0\n",
    "temp = 300\n",
    "press = 10000\n",
    "hgt = 1000\n",
    "wind_w = 0\n",
    "rho_particle = np.ones(30)*100\n",
    "mass = np.ones(30)*0.0001\n",
    "area = np.ones(30)*0.0001\n",
    "\n"
   ]
  },
  {
   "cell_type": "markdown",
   "metadata": {},
   "source": [
    "Estimate the broadening of the spectrum"
   ]
  },
  {
   "cell_type": "code",
   "execution_count": 17,
   "metadata": {},
   "outputs": [
    {
     "name": "stdout",
     "output_type": "stream",
     "text": [
      "decorating calcSpectralBraodening 0 0 [0, 1, 2] [0]\n",
      "in 0 () (1,) None True\n",
      "in 1 () (1,) None True\n",
      "in 2 () (1,) None True\n",
      "out 0 (1,) () None\n"
     ]
    },
    {
     "data": {
      "text/plain": [
       "array(0.08107585909496273)"
      ]
     },
     "execution_count": 17,
     "metadata": {},
     "output_type": "execute_result"
    }
   ],
   "source": [
    "\n",
    "specBroadening = pyPamtraRadarSimulator.calcSpectralBraodening(edr,\n",
    "wind_uv,\n",
    "height,\n",
    "beamwidth_deg,\n",
    "integration_time,\n",
    "frequency,\n",
    "kolmogorov=kolmogorov)\n",
    "specBroadening\n"
   ]
  },
  {
   "cell_type": "markdown",
   "metadata": {},
   "source": [
    "Now, we can simulate the spectrum itself"
   ]
  },
  {
   "cell_type": "code",
   "execution_count": 18,
   "metadata": {},
   "outputs": [
    {
     "name": "stdout",
     "output_type": "stream",
     "text": [
      "decorating simulateRadarSpectrum 0 2 [0, 1, 2, 3, 4, 5, 6, 7, 8, 9, 10] [0]\n",
      "in 0 (1, 30) (1, 1, 30) None True\n",
      "in 1 (1, 30) (1, 1, 30) None True\n",
      "in 2 (1, 30) (1, 1, 30) None True\n",
      "in 3 (1, 30) (1, 1, 30) None True\n",
      "in 4 (1, 30) (1, 1, 30) None True\n",
      "in 5 () (1,) None True\n",
      "in 6 () (1,) None True\n",
      "in 7 () (1,) None True\n",
      "in 8 () (1,) None True\n",
      "in 9 () (1,) None True\n",
      "in 10 () (1,) None True\n",
      "out 0 (1, 256) (256,) None\n"
     ]
    }
   ],
   "source": [
    "\n",
    "spec = pyPamtraRadarSimulator.simulateRadarSpectrum(\n",
    "  np.array([diameter_spec]),\n",
    "  np.array([back_spec]),\n",
    "  np.array([mass]),\n",
    "  np.array([rho_particle]),\n",
    "  np.array([area]),\n",
    "  pia,\n",
    "  hgt,\n",
    "  temp,\n",
    "  press,\n",
    "  wind_w,\n",
    "  specBroadening,\n",
    "  frequency,\n",
    "  vel_size_mod ='heymsfield10_particles',\n",
    "  radar_max_v =7.885,\n",
    "  radar_min_v =-7.885,\n",
    "  radar_aliasing_nyquist_interv = 10,\n",
    "  radar_nfft = 256,\n",
    "  radar_airmotion = False,\n",
    "  radar_airmotion_model = \"step\", #\"constant\",\"linear\",\"step\"\n",
    "  radar_airmotion_vmin = -4.0,\n",
    "  radar_airmotion_vmax = +4.0,\n",
    "  radar_airmotion_linear_steps = 30,\n",
    "  radar_airmotion_step_vmin = 0.5,\n",
    "  radar_pnoise1000 = -30,\n",
    "  radar_k2 =0.93, # dielectric constant |K|² (always for liquid water by convention) for the radar equation\n",
    "  radar_no_ave = 150,\n",
    "  seed  = 1,\n",
    "  verbosity = 0\n",
    "      )"
   ]
  },
  {
   "cell_type": "markdown",
   "metadata": {},
   "source": [
    "Plot result"
   ]
  },
  {
   "cell_type": "code",
   "execution_count": 19,
   "metadata": {},
   "outputs": [
    {
     "data": {
      "text/plain": [
       "[<matplotlib.lines.Line2D at 0x11d3b4c88>]"
      ]
     },
     "execution_count": 19,
     "metadata": {},
     "output_type": "execute_result"
    },
    {
     "data": {
      "image/png": "[encoded data removed]",
      "text/plain": [
       "<matplotlib.figure.Figure at 0x11d2de908>"
      ]
     },
     "metadata": {},
     "output_type": "display_data"
    }
   ],
   "source": [
    "plt.plot(10*np.log10(spec))"
   ]
  },
  {
   "cell_type": "code",
   "execution_count": 21,
   "metadata": {},
   "outputs": [
    {
     "data": {
      "text/plain": [
       "1307.3361412148724"
      ]
     },
     "execution_count": 21,
     "metadata": {},
     "output_type": "execute_result"
    }
   ],
   "source": [
    "np.sin(np.deg2rad(5))*15000"
   ]
  },
  {
   "cell_type": "code",
   "execution_count": null,
   "metadata": {
    "collapsed": true
   },
   "outputs": [],
   "source": []
  }
 ],
 "metadata": {
  "kernelspec": {
   "display_name": "Python 3",
   "language": "python",
   "name": "python3"
  },
  "language_info": {
   "codemirror_mode": {
    "name": "ipython",
    "version": 3
   },
   "file_extension": ".py",
   "mimetype": "text/x-python",
   "name": "python",
   "nbconvert_exporter": "python",
   "pygments_lexer": "ipython3",
   "version": "3.5.4"
  },
  "toc": {
   "colors": {
    "hover_highlight": "#DAA520",
    "navigate_num": "#000000",
    "navigate_text": "#333333",
    "running_highlight": "#FF0000",
    "selected_highlight": "#FFD700",
    "sidebar_border": "#EEEEEE",
    "wrapper_background": "#FFFFFF"
   },
   "moveMenuLeft": true,
   "nav_menu": {
    "height": "12px",
    "width": "252px"
   },
   "navigate_menu": true,
   "number_sections": true,
   "sideBar": true,
   "threshold": 4,
   "toc_cell": false,
   "toc_section_display": "block",
   "toc_window_display": false,
   "widenNotebook": false
  }
 },
 "nbformat": 4,
 "nbformat_minor": 2
}
