{
 "cells": [
  {
   "cell_type": "code",
   "execution_count": 1,
   "metadata": {},
   "outputs": [],
   "source": [
    "import numpy as np\n",
    "import xarray as xr\n",
    "import matplotlib.pyplot as plt\n",
    "\n",
    "import pyPamtraRadarSimulator\n",
    "\n",
    "%matplotlib inline\n"
   ]
  },
  {
   "cell_type": "markdown",
   "metadata": {},
   "source": [
    "Define variables, not very realistic ones!"
   ]
  },
  {
   "cell_type": "code",
   "execution_count": 2,
   "metadata": {},
   "outputs": [],
   "source": [
    "\n",
    "edr = 1e-4\n",
    "wind_uv = 10\n",
    "height = 1000\n",
    "beamwidth_deg = .6\n",
    "integration_time = 3\n",
    "frequency = 30.\n",
    "kolmogorov = 0.5\n",
    "\n",
    "diameter_spec = np.logspace(-3,-2.9,30)\n",
    "back_spec = np.logspace(-20,-10,30)\n",
    "back = np.sum(back_spec)\n",
    "pia = 0\n",
    "temp = 300\n",
    "press = 10000\n",
    "hgt = 1000\n",
    "wind_w = 0\n",
    "rho_particle = np.ones(30)*100\n",
    "mass = np.ones(30)*0.0001\n",
    "area = np.ones(30)*0.0001\n",
    "\n"
   ]
  },
  {
   "cell_type": "markdown",
   "metadata": {},
   "source": [
    "Estimate the broadening of the spectrum"
   ]
  },
  {
   "cell_type": "code",
   "execution_count": 3,
   "metadata": {},
   "outputs": [
    {
     "name": "stdout",
     "output_type": "stream",
     "text": [
      "decorating calcSpectralBraodening 0 0 [0, 1, 2] [0]\n",
      "in 0 () (1,) None True\n",
      "in 1 () (1,) None True\n",
      "in 2 () (1,) None True\n",
      "out 0 (1,) () None\n"
     ]
    },
    {
     "data": {
      "text/plain": [
       "array(0.08107585909496273)"
      ]
     },
     "execution_count": 3,
     "metadata": {},
     "output_type": "execute_result"
    }
   ],
   "source": [
    "\n",
    "specBroadening = pyPamtraRadarSimulator.calcSpectralBraodening(edr,\n",
    "wind_uv,\n",
    "height,\n",
    "beamwidth_deg,\n",
    "integration_time,\n",
    "frequency,\n",
    "kolmogorov=kolmogorov)\n",
    "specBroadening\n"
   ]
  },
  {
   "cell_type": "markdown",
   "metadata": {},
   "source": [
    "Now, we can simulate the spectrum itself"
   ]
  },
  {
   "cell_type": "code",
   "execution_count": 4,
   "metadata": {
    "scrolled": true
   },
   "outputs": [
    {
     "name": "stdout",
     "output_type": "stream",
     "text": [
      "decorating simulateRadarSpectrum 0 2 [0, 1, 2, 3, 4, 5, 6, 7, 8, 9, 10] [0]\n",
      "in 0 (1, 30) (1, 1, 30) None True\n",
      "in 1 (1, 30) (1, 1, 30) None True\n",
      "in 2 (1, 30) (1, 1, 30) None True\n",
      "in 3 (1, 30) (1, 1, 30) None True\n",
      "in 4 (1, 30) (1, 1, 30) None True\n",
      "in 5 () (1,) None True\n",
      "in 6 () (1,) None True\n",
      "in 7 () (1,) None True\n",
      "in 8 () (1,) None True\n",
      "in 9 () (1,) None True\n",
      "in 10 () (1,) None True\n",
      "out 0 (1, 256) (256,) None\n"
     ]
    }
   ],
   "source": [
    "spec = pyPamtraRadarSimulator.simulateRadarSpectrum(\n",
    "  np.array([diameter_spec]),\n",
    "  np.array([back_spec]),\n",
    "  np.array([mass]),\n",
    "  np.array([rho_particle]),\n",
    "  np.array([area]),\n",
    "  pia,\n",
    "  hgt,\n",
    "  temp,\n",
    "  press,\n",
    "  wind_w,\n",
    "  specBroadening,\n",
    "  frequency,\n",
    "  fallVelocityRelation ='heymsfield10_particles',\n",
    "  radarMaxV =7.885,\n",
    "  radarMinV =-7.885,\n",
    "  radarAliasingNyquistInterv = 10,\n",
    "  radarNFFT = 256,\n",
    "  radarAirmotion = False,\n",
    "  radarAirmotionModel = \"step\", #\"constant\",\"linear\",\"step\"\n",
    "  radarAirmotionVmin = -4.0,\n",
    "  radarAirmotionVmax = +4.0,\n",
    "  radarAirmotionLinearSteps = 30,\n",
    "  radarAirmotionStepVmin = 0.5,\n",
    "  radarPNoise1000 = -30,\n",
    "  radarK2 =0.93, # dielectric constant |K|² (always for liquid water by convention) for the radar equation\n",
    "  radarNAve = 150,\n",
    "  seed  = 1,\n",
    "  verbosity = 0\n",
    "      )"
   ]
  },
  {
   "cell_type": "markdown",
   "metadata": {},
   "source": [
    "Plot result"
   ]
  },
  {
   "cell_type": "code",
   "execution_count": 5,
   "metadata": {},
   "outputs": [
    {
     "data": {
      "text/plain": [
       "[<matplotlib.lines.Line2D at 0x11d53c780>]"
      ]
     },
     "execution_count": 5,
     "metadata": {},
     "output_type": "execute_result"
    },
    {
     "data": {
      "image/png": "[encoded data removed]",
      "text/plain": [
       "<matplotlib.figure.Figure at 0x110d75a58>"
      ]
     },
     "metadata": {},
     "output_type": "display_data"
    }
   ],
   "source": [
    "plt.plot(10*np.log10(spec))"
   ]
  },
  {
   "cell_type": "code",
   "execution_count": null,
   "metadata": {},
   "outputs": [],
   "source": []
  }
 ],
 "metadata": {
  "kernelspec": {
   "display_name": "Python 3",
   "language": "python",
   "name": "python3"
  },
  "language_info": {
   "codemirror_mode": {
    "name": "ipython",
    "version": 3
   },
   "file_extension": ".py",
   "mimetype": "text/x-python",
   "name": "python",
   "nbconvert_exporter": "python",
   "pygments_lexer": "ipython3",
   "version": "3.6.3"
  },
  "toc": {
   "nav_menu": {
    "height": "12px",
    "width": "252px"
   },
   "number_sections": true,
   "sideBar": true,
   "skip_h1_title": false,
   "toc_cell": false,
   "toc_position": {},
   "toc_section_display": "block",
   "toc_window_display": false
  }
 },
 "nbformat": 4,
 "nbformat_minor": 2
}
