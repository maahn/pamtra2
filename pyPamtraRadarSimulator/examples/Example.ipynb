{
 "cells": [
  {
   "cell_type": "code",
   "execution_count": 8,
   "metadata": {},
   "outputs": [],
   "source": [
    "import numpy as np\n",
    "import xarray as xr\n",
    "import matplotlib.pyplot as plt\n",
    "\n",
    "\n",
    "import pamtra2\n",
    "import refractiveIndex\n",
    "import singleScattering\n",
    "import pyPamtraRadarSimulator\n",
    "\n",
    "try:\n",
    "    %matplotlib inline\n",
    "except:\n",
    "    pass"
   ]
  },
  {
   "cell_type": "markdown",
   "metadata": {},
   "source": [
    "Define variables, not very realistic ones!"
   ]
  },
  {
   "cell_type": "code",
   "execution_count": 9,
   "metadata": {},
   "outputs": [],
   "source": [
    "edr = 1e-4\n",
    "wind_uv = 10\n",
    "height = 1000\n",
    "temperature = 300\n",
    "pia = 0\n",
    "temp = 300\n",
    "press = 100000\n",
    "wind_w = 0\n",
    "\n",
    "\n",
    "frequency = 3e9\n",
    "c = 299792458 \n",
    "wavelength = c/frequency\n",
    "\n",
    "\n",
    "diameter_spec = np.logspace(-4,-2.5,80)\n",
    "diameter_width = np.gradient(diameter_spec)\n",
    "\n",
    "rainRate = 1\n",
    "number_concentration = pamtra2.hydrometeors.sizeDistribution.exponentialMarshallPalmer(\n",
    "                diameter_spec, rainRate)\n",
    "\n",
    "\n",
    "diameter_spec = np.array([0.001])\n",
    "diameter_width = np.array([1e-6])\n",
    "number_concentration = pamtra2.hydrometeors.sizeDistribution.monoDisperse(diameter_width,10)\n",
    "refInd = refractiveIndex.water.n(temperature,frequency)\n",
    "refInd\n",
    "\n",
    "back_crosssec = singleScattering.Rayleigh.RayleighScatt(\n",
    "    diameter=diameter_spec,\n",
    "    frequency = frequency,\n",
    "    refractive_index=refInd\n",
    ").Cbck\n",
    "\n",
    "rho_particle = 1000.\n",
    "mass = pamtra2.hydrometeors.mass.waterSphere(diameter_spec)\n",
    "area = pamtra2.hydrometeors.crossSectionArea.sphere(diameter_spec)\n",
    "rho_particle= np.ones_like(diameter_spec)*rho_particle\n",
    "\n",
    "backSpec = back_crosssec * number_concentration * diameter_width\n",
    "    \n",
    "    \n",
    "dryAirDensity = 1.23\n",
    "kinematicViscosity = 1.343e-5\n",
    "velSpec = pamtra2.hydrometeors.fallVelocity.khvorostyanov01_drops(\n",
    "    diameter_spec, dryAirDensity, kinematicViscosity)"
   ]
  },
  {
   "cell_type": "code",
   "execution_count": 10,
   "metadata": {},
   "outputs": [
    {
     "data": {
      "text/plain": [
       "array([10.02850403])"
      ]
     },
     "execution_count": 10,
     "metadata": {},
     "output_type": "execute_result"
    }
   ],
   "source": [
    "K2=0.92\n",
    "Ze_back = 1.e18*(1/(K2*np.pi**5))*backSpec*(wavelength)**4\n",
    "\n",
    "    \n",
    "10*np.log10(Ze_back)"
   ]
  },
  {
   "cell_type": "code",
   "execution_count": 11,
   "metadata": {},
   "outputs": [
    {
     "name": "stderr",
     "output_type": "stream",
     "text": [
      "/Volumes/User/mmaahn/anaconda/envs/python3/lib/python3.6/site-packages/matplotlib/axes/_base.py:3443: UserWarning: Attempting to set identical bottom==top results\n",
      "in singular transformations; automatically expanding.\n",
      "bottom=10000000.0, top=10000000.0\n",
      "  'bottom=%s, top=%s') % (bottom, top))\n"
     ]
    },
    {
     "data": {
      "text/plain": [
       "[<matplotlib.lines.Line2D at 0x41c884390>]"
      ]
     },
     "execution_count": 11,
     "metadata": {},
     "output_type": "execute_result"
    },
    {
     "data": {
      "image/png": "[encoded data removed]",
      "text/plain": [
       "<Figure size 432x288 with 1 Axes>"
      ]
     },
     "metadata": {},
     "output_type": "display_data"
    }
   ],
   "source": [
    "# plt.figure()\n",
    "plt.loglog(diameter_spec,number_concentration)\n",
    "# plt.figure()\n",
    "plt.loglog(diameter_spec,back_crosssec)\n",
    "plt.loglog(diameter_spec,backSpec)"
   ]
  },
  {
   "cell_type": "markdown",
   "metadata": {},
   "source": [
    "Estimate the broadening of the spectrum (Function is now integrated in main radar simulator routine)"
   ]
  },
  {
   "cell_type": "code",
   "execution_count": 12,
   "metadata": {},
   "outputs": [
    {
     "data": {
      "text/plain": [
       "array([0.18421374])"
      ]
     },
     "execution_count": 12,
     "metadata": {},
     "output_type": "execute_result"
    }
   ],
   "source": [
    "\n",
    "specBroadening = pyPamtraRadarSimulator.calcSpectralBroadening(\n",
    "    np.array([edr]),\n",
    "    np.array([wind_uv]),\n",
    "    np.array([height]),\n",
    "    np.array([wavelength]),\n",
    "    radarBeamwidthDeg=0.2,\n",
    "    radarIntegrationTime=60,\n",
    "    kolmogorov=0.5,\n",
    "    verbosity=0\n",
    ")\n",
    "                                                              \n",
    "specBroadening\n"
   ]
  },
  {
   "cell_type": "code",
   "execution_count": 13,
   "metadata": {},
   "outputs": [],
   "source": [
    "\n",
    "# pyPamtraRadarSimulator.createRadarSpectrum(\n",
    "#     diameterSpec=np.array([[1]*20]),\n",
    "#     backSpec=np.array([[2]*20]),\n",
    "#     massSpec=np.array([[3]*20]),\n",
    "#     rhoSpec=np.array([[4]*20]),\n",
    "#     areaSpec=np.array([[5]*20]),\n",
    "#     temperature=np.array([6]),\n",
    "#     pressure=np.array([7]),\n",
    "#     verticalWind=np.array([8]),\n",
    "#     wavelength=np.array([9]),\n",
    "#     fallVelocityRelation='10',\n",
    "#     radarMaxV=11,\n",
    "#     radarMinV=12,\n",
    "#     radarAliasingNyquistInterv=13,\n",
    "#     radarNFFT=14,\n",
    "#     radarAirmotion=True,\n",
    "#     radarAirmotionModel=\"16\",\n",
    "#     radarAirmotionVmin=17,\n",
    "#     radarAirmotionVmax=18,\n",
    "#     radarAirmotionLinearSteps=19,\n",
    "#     radarAirmotionStepVmin=20,\n",
    "#     radarK2=21,\n",
    "#     verbosity=10,\n",
    "# )"
   ]
  },
  {
   "cell_type": "code",
   "execution_count": 14,
   "metadata": {},
   "outputs": [
    {
     "ename": "RuntimeError",
     "evalue": "Error in Fortran routine radar_spectrum",
     "output_type": "error",
     "traceback": [
      "\u001b[0;31m---------------------------------------------------------------------------\u001b[0m",
      "\u001b[0;31mRuntimeError\u001b[0m                              Traceback (most recent call last)",
      "\u001b[0;32m<ipython-input-14-1a19f58e6300>\u001b[0m in \u001b[0;36m<module>\u001b[0;34m()\u001b[0m\n\u001b[1;32m      8\u001b[0m     \u001b[0mfallVelSpec\u001b[0m\u001b[0;34m=\u001b[0m\u001b[0mnp\u001b[0m\u001b[0;34m.\u001b[0m\u001b[0marray\u001b[0m\u001b[0;34m(\u001b[0m\u001b[0;34m[\u001b[0m\u001b[0mvelSpec\u001b[0m\u001b[0;34m]\u001b[0m\u001b[0;34m)\u001b[0m\u001b[0;34m,\u001b[0m\u001b[0;34m\u001b[0m\u001b[0m\n\u001b[1;32m      9\u001b[0m     \u001b[0mverticalWind\u001b[0m\u001b[0;34m=\u001b[0m\u001b[0mnp\u001b[0m\u001b[0;34m.\u001b[0m\u001b[0marray\u001b[0m\u001b[0;34m(\u001b[0m\u001b[0;34m[\u001b[0m\u001b[0mwind_w\u001b[0m\u001b[0;34m]\u001b[0m\u001b[0;34m)\u001b[0m\u001b[0;34m,\u001b[0m\u001b[0;34m\u001b[0m\u001b[0m\n\u001b[0;32m---> 10\u001b[0;31m     \u001b[0mwavelength\u001b[0m\u001b[0;34m=\u001b[0m\u001b[0mnp\u001b[0m\u001b[0;34m.\u001b[0m\u001b[0marray\u001b[0m\u001b[0;34m(\u001b[0m\u001b[0;34m[\u001b[0m\u001b[0mwavelength\u001b[0m\u001b[0;34m]\u001b[0m\u001b[0;34m)\u001b[0m\u001b[0;34m,\u001b[0m\u001b[0;34m\u001b[0m\u001b[0m\n\u001b[0m\u001b[1;32m     11\u001b[0m \u001b[0;31m#     radarMinV=-7.885,\u001b[0m\u001b[0;34m\u001b[0m\u001b[0;34m\u001b[0m\u001b[0m\n\u001b[1;32m     12\u001b[0m \u001b[0;31m#     radarAliasingNyquistInterv=1,\u001b[0m\u001b[0;34m\u001b[0m\u001b[0;34m\u001b[0m\u001b[0m\n",
      "\u001b[0;32m/Volumes/User/mmaahn/anaconda/envs/python3/lib/python3.6/site-packages/pyPamtraRadarSimulator/core.py\u001b[0m in \u001b[0;36mcreateRadarSpectrum\u001b[0;34m(diameterSpec, backSpec, massSpec, rhoSpec, areaSpec, fallVelSpec, verticalWind, wavelength, radarMaxV, radarMinV, radarAliasingNyquistInterv, radarNFFT, radarAirmotion, radarAirmotionModel, radarAirmotionVmin, radarAirmotionVmax, radarAirmotionLinearSteps, radarAirmotionStepVmin, radarK2, verbosity)\u001b[0m\n\u001b[1;32m    310\u001b[0m     )\n\u001b[1;32m    311\u001b[0m     \u001b[0;32mif\u001b[0m \u001b[0merror\u001b[0m \u001b[0;34m>\u001b[0m \u001b[0;36m0\u001b[0m\u001b[0;34m:\u001b[0m\u001b[0;34m\u001b[0m\u001b[0m\n\u001b[0;32m--> 312\u001b[0;31m         \u001b[0;32mraise\u001b[0m \u001b[0mRuntimeError\u001b[0m\u001b[0;34m(\u001b[0m\u001b[0;34m'Error in Fortran routine radar_spectrum'\u001b[0m\u001b[0;34m)\u001b[0m\u001b[0;34m\u001b[0m\u001b[0m\n\u001b[0m\u001b[1;32m    313\u001b[0m \u001b[0;34m\u001b[0m\u001b[0m\n\u001b[1;32m    314\u001b[0m     \u001b[0;32mreturn\u001b[0m \u001b[0mparticleSpec\u001b[0m\u001b[0;34m\u001b[0m\u001b[0m\n",
      "\u001b[0;31mRuntimeError\u001b[0m: Error in Fortran routine radar_spectrum"
     ]
    }
   ],
   "source": [
    "\n",
    "idealizedSpec = pyPamtraRadarSimulator.createRadarSpectrum(\n",
    "    diameterSpec=np.array([diameter_spec]),\n",
    "    backSpec=np.array([backSpec]),\n",
    "    massSpec=np.array([mass]),\n",
    "    rhoSpec=np.array([rho_particle]),\n",
    "    areaSpec=np.array([area]),\n",
    "    fallVelSpec=np.array([velSpec]),\n",
    "    verticalWind=np.array([wind_w]),\n",
    "    wavelength=np.array([wavelength]),\n",
    "#     radarMinV=-7.885,\n",
    "#     radarAliasingNyquistInterv=1,\n",
    "#     radarNFFT=256,\n",
    "#     radarAirmotion=True,\n",
    "#     radarAirmotionModel=\"constant\",\n",
    "#     radarAirmotionVmin=0,\n",
    "#     radarAirmotionVmax=0,\n",
    "#     radarAirmotionLinearSteps=30,\n",
    "#     radarAirmotionStepVmin=0.5,\n",
    "#     radarK2=0.93,\n",
    "#     verbosity=10,\n",
    ")\n",
    "\n",
    "plt.plot(idealizedSpec.flatten())\n"
   ]
  },
  {
   "cell_type": "code",
   "execution_count": null,
   "metadata": {},
   "outputs": [],
   "source": [
    "\n",
    "\n",
    "radarSpectrum = pyPamtraRadarSimulator.simulateRadarSpectrum(\n",
    "    height=np.array([height]),\n",
    "    eddyDissipationRate=np.array([edr]),\n",
    "    horizontalWind=np.array([wind_uv]),\n",
    "    mergedParticleSpec=idealizedSpec,\n",
    "    pathIntegratedAtenuattion=np.array([pia]),\n",
    "    wavelength=np.array([wavelength]),\n",
    "#     radarMaxV=7.885,\n",
    "#     radarMinV=-7.885,\n",
    "#     radarAliasingNyquistInterv=1,\n",
    "#     radarNFFT=256,\n",
    "#     radarPNoise1000=-30,\n",
    "#     radarK2=0.93,\n",
    "#     radarNAve=150,\n",
    "#     radarBeamwidthDeg=0.2,\n",
    "#     radarIntegrationTime=60,\n",
    "#     kolmogorov=0.5,\n",
    "    seed=10,\n",
    "#     verbosity=0,\n",
    ")\n",
    "vspec = np.linspace(-7.885,7.885,256,endpoint=False)\n",
    "plt.plot(vspec,10*np.log10(radarSpectrum.flatten()))"
   ]
  },
  {
   "cell_type": "markdown",
   "metadata": {},
   "source": [
    "Use combined method for convenience"
   ]
  },
  {
   "cell_type": "code",
   "execution_count": 10,
   "metadata": {
    "scrolled": true
   },
   "outputs": [],
   "source": [
    "\n",
    "radarSpectrum2 = pyPamtraRadarSimulator.radarSimulator(\n",
    "    diameterSpec=np.array([[diameter_spec]]),\n",
    "    backSpec=np.array([[backSpec]]),\n",
    "    massSpec=np.array([[mass]]),\n",
    "    rhoSpec=np.array([[rho_particle]]),\n",
    "    areaSpec=np.array([[area]]),\n",
    "    pathIntegratedAtenuattion=np.array([pia]),\n",
    "    height=np.array([height]),\n",
    "    temperature=np.array([temp]),\n",
    "    pressure=np.array([press]),\n",
    "    verticalWind=np.array([wind_w]),\n",
    "    horizontalWind=np.array([wind_uv]),\n",
    "    eddyDissipationRate=np.array([edr]),\n",
    "    wavelength=np.array([wavelength]),\n",
    "    fallVelocityRelation='heymsfield10_particles',\n",
    "#     radarMaxV=7.885,\n",
    "#     radarMinV=-7.885,\n",
    "#     radarAliasingNyquistInterv=1,\n",
    "#     radarNFFT=256,\n",
    "#     radarAirmotion=True,\n",
    "#     radarAirmotionModel=\"constant\",\n",
    "#     radarAirmotionVmin=0,\n",
    "#     radarAirmotionVmax=0,\n",
    "#     radarAirmotionLinearSteps=30,\n",
    "#     radarAirmotionStepVmin=0.5,\n",
    "#     radarPNoise1000=-30,\n",
    "#     radarK2=0.93,\n",
    "#     radarNAve=150,\n",
    "#     radarBeamwidthDeg=0.2,\n",
    "#     radarIntegrationTime=60,\n",
    "    seed=10,\n",
    "#     verbosity=0\n",
    ")\n"
   ]
  },
  {
   "cell_type": "code",
   "execution_count": 11,
   "metadata": {},
   "outputs": [
    {
     "data": {
      "text/plain": [
       "[<matplotlib.lines.Line2D at 0x4207b8668>]"
      ]
     },
     "execution_count": 11,
     "metadata": {},
     "output_type": "execute_result"
    },
    {
     "data": {
      "image/png": "[encoded data removed]",
      "text/plain": [
       "<Figure size 432x288 with 1 Axes>"
      ]
     },
     "metadata": {},
     "output_type": "display_data"
    }
   ],
   "source": [
    "plt.plot(vspec,10*np.log10(radarSpectrum.flatten()))\n",
    "plt.plot(vspec,10*np.log10(radarSpectrum2.flatten()))"
   ]
  },
  {
   "cell_type": "code",
   "execution_count": 11,
   "metadata": {},
   "outputs": [],
   "source": [
    "import pyPamtraRadarMoments\n",
    "\n",
    "spectrumOut, moments, slope, edge, quality, noiseMean = pyPamtraRadarMoments.calc_radarMoments(radarSpectrum2)"
   ]
  },
  {
   "cell_type": "code",
   "execution_count": 12,
   "metadata": {},
   "outputs": [
    {
     "name": "stderr",
     "output_type": "stream",
     "text": [
      "/Volumes/User/mmaahn/anaconda/envs/python3/lib/python3.6/site-packages/ipykernel_launcher.py:2: RuntimeWarning: divide by zero encountered in log10\n",
      "  \n"
     ]
    },
    {
     "data": {
      "text/plain": [
       "[<matplotlib.lines.Line2D at 0x41fa8e4a8>]"
      ]
     },
     "execution_count": 12,
     "metadata": {},
     "output_type": "execute_result"
    },
    {
     "data": {
      "image/png": "[encoded data removed]",
      "text/plain": [
       "<Figure size 432x288 with 1 Axes>"
      ]
     },
     "metadata": {},
     "output_type": "display_data"
    }
   ],
   "source": [
    "plt.plot(vspec,10*np.log10(radarSpectrum.flatten()))\n",
    "plt.plot(vspec,10*np.log10(spectrumOut.flatten()))"
   ]
  },
  {
   "cell_type": "code",
   "execution_count": 13,
   "metadata": {},
   "outputs": [
    {
     "name": "stderr",
     "output_type": "stream",
     "text": [
      "/Volumes/User/mmaahn/anaconda/envs/python3/lib/python3.6/site-packages/ipykernel_launcher.py:1: RuntimeWarning: invalid value encountered in log10\n",
      "  \"\"\"Entry point for launching an IPython kernel.\n"
     ]
    },
    {
     "data": {
      "text/plain": [
       "(array([109.78185078,          nan,          nan]),\n",
       " array([-1.18666016e-01, -9.99900000e+03, -9.99900000e+03]))"
      ]
     },
     "execution_count": 13,
     "metadata": {},
     "output_type": "execute_result"
    }
   ],
   "source": [
    "10*np.log10(moments[0,0,:]), moments[0,1,:]\n",
    "\n"
   ]
  },
  {
   "cell_type": "code",
   "execution_count": null,
   "metadata": {},
   "outputs": [],
   "source": []
  }
 ],
 "metadata": {
  "kernelspec": {
   "display_name": "Python 3",
   "language": "python",
   "name": "python3"
  },
  "language_info": {
   "codemirror_mode": {
    "name": "ipython",
    "version": 3
   },
   "file_extension": ".py",
   "mimetype": "text/x-python",
   "name": "python",
   "nbconvert_exporter": "python",
   "pygments_lexer": "ipython3",
   "version": "3.6.5"
  },
  "toc": {
   "base_numbering": 1,
   "nav_menu": {
    "height": "12px",
    "width": "252px"
   },
   "number_sections": true,
   "sideBar": true,
   "skip_h1_title": false,
   "title_cell": "Table of Contents",
   "title_sidebar": "Contents",
   "toc_cell": false,
   "toc_position": {},
   "toc_section_display": "block",
   "toc_window_display": false
  }
 },
 "nbformat": 4,
 "nbformat_minor": 2
}
