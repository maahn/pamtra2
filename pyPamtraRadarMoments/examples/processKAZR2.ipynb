{
 "cells": [
  {
   "cell_type": "markdown",
   "metadata": {},
   "source": [
    "Sample routine for processing of DOE ARM KAZR2 data"
   ]
  },
  {
   "cell_type": "code",
   "execution_count": 1,
   "metadata": {},
   "outputs": [],
   "source": [
    "import datetime\n",
    "import numpy as np\n",
    "import xarray as xr\n",
    "import numba\n",
    "import matplotlib.pyplot as plt\n",
    "\n",
    "import pyPamtraRadarMoments\n",
    "\n",
    "%matplotlib inline"
   ]
  },
  {
   "cell_type": "markdown",
   "metadata": {},
   "source": [
    "load data. The file has been truncated to the first 100 time steps. See http://www.arm.gov/data for complete file"
   ]
  },
  {
   "cell_type": "code",
   "execution_count": 2,
   "metadata": {},
   "outputs": [],
   "source": [
    "fIn = 'data/olikazrspeccmaskgecopolM1.a0.20160926.180000.part.nc'\n",
    "specData = xr.open_dataset(fIn)"
   ]
  },
  {
   "cell_type": "markdown",
   "metadata": {},
   "source": [
    "get settings from netCDf file"
   ]
  },
  {
   "cell_type": "code",
   "execution_count": 3,
   "metadata": {},
   "outputs": [],
   "source": [
    "verbosity = 1\n",
    "\n",
    "no_ave = int(specData.attrs[u'num_spectral_averages'])\n",
    "max_v = float(specData.attrs[u'nyquist_velocity'].split(' ')[0])\n",
    "min_v = -float(specData.attrs[u'nyquist_velocity'].split(' ')[0])\n",
    "\n",
    "noT, noH = specData.locator_mask.shape\n",
    "nFFT = specData.speclength.shape[0]\n",
    "\n",
    "calibrationOffset = 0\n",
    "calibConstant = float(specData.attrs[u'cal_constant'].split(' ')[0])"
   ]
  },
  {
   "cell_type": "markdown",
   "metadata": {},
   "source": [
    "other settings"
   ]
  },
  {
   "cell_type": "code",
   "execution_count": 4,
   "metadata": {
    "collapsed": true
   },
   "outputs": [],
   "source": [
    "nPeaks = 2\n",
    "minHeight =300\n",
    "hildeDiscardedLowestValues = 0.005 #percentage of spectral bins discarded for hildebrand application.\n",
    "missingNumber = -9999\n",
    "fType = np.float32\n",
    "iType = np.int32\n"
   ]
  },
  {
   "cell_type": "markdown",
   "metadata": {},
   "source": [
    "Prepare Output"
   ]
  },
  {
   "cell_type": "code",
   "execution_count": 5,
   "metadata": {},
   "outputs": [],
   "source": [
    "peaks  = range(nPeaks)\n",
    "outData = dict()\n",
    "outData['reflectivityFromSpectra'] = xr.DataArray(\n",
    "      missingNumber*np.ones((noT,noH),dtype=fType),\n",
    "      coords=[specData.time.values,specData.range.values],\n",
    "      dims=('time','range'),\n",
    "      attrs={'units':'dBz'},\n",
    "      encoding={'_FillValue':missingNumber}\n",
    "      )\n",
    "outData['reflectivity'] = xr.DataArray(\n",
    "      missingNumber*np.ones((noT,noH,nPeaks),dtype=fType),\n",
    "      coords=[specData.time.values,specData.range.values,peaks],\n",
    "      dims=('time','range','peak'),\n",
    "      attrs={'units':'dBz'},\n",
    "      encoding={'_FillValue':missingNumber}\n",
    "      )\n",
    "outData['mean_doppler_velocity'] = xr.DataArray(\n",
    "      missingNumber*np.ones((noT,noH,nPeaks),dtype=fType),\n",
    "      coords=[specData.time.values,specData.range.values,peaks],\n",
    "      dims=('time','range','peak'),\n",
    "      attrs={'units':'m/s'},\n",
    "      encoding={'_FillValue':missingNumber}\n",
    "      )\n",
    "outData['doppler_spectrum_width'] = xr.DataArray(\n",
    "      missingNumber*np.ones((noT,noH,nPeaks),dtype=fType),\n",
    "      coords=[specData.time.values,specData.range.values,peaks],\n",
    "      dims=('time','range','peak'),\n",
    "      attrs={'units':'m/s'},\n",
    "      encoding={'_FillValue':missingNumber}\n",
    "      )\n",
    "outData['skewness'] = xr.DataArray(\n",
    "      missingNumber*np.ones((noT,noH,nPeaks),dtype=fType),\n",
    "      coords=[specData.time.values,specData.range.values,peaks],\n",
    "      dims=('time','range','peak'),\n",
    "      attrs={'units':'-'},\n",
    "      encoding={'_FillValue':missingNumber}\n",
    "      )\n",
    "outData['kurtosis'] = xr.DataArray(\n",
    "      missingNumber*np.ones((noT,noH,nPeaks),dtype=fType),\n",
    "      coords=[specData.time.values,specData.range.values,peaks],\n",
    "      dims=('time','range','peak'),\n",
    "      attrs={'units':'-'},\n",
    "      encoding={'_FillValue':missingNumber}\n",
    "      )\n",
    "outData['left_slope'] = xr.DataArray(\n",
    "      missingNumber*np.ones((noT,noH,nPeaks),dtype=fType),\n",
    "      coords=[specData.time.values,specData.range.values,peaks],\n",
    "      dims=('time','range','peak'),\n",
    "      attrs={'units':'dB s/m'},\n",
    "      encoding={'_FillValue':missingNumber}\n",
    "      )\n",
    "outData['right_slope'] = xr.DataArray(\n",
    "      missingNumber*np.ones((noT,noH,nPeaks),dtype=fType),\n",
    "      coords=[specData.time.values,specData.range.values,peaks],\n",
    "      dims=('time','range','peak'),\n",
    "      attrs={'units':'dB s/m'},\n",
    "      encoding={'_FillValue':missingNumber}\n",
    "      )\n",
    "outData['left_edge'] = xr.DataArray(\n",
    "      missingNumber*np.ones((noT,noH,nPeaks),dtype=fType),\n",
    "      coords=[specData.time.values,specData.range.values,peaks],\n",
    "      dims=('time','range','peak'),\n",
    "      attrs={'units':'m/s'},\n",
    "      encoding={'_FillValue':missingNumber}\n",
    "      )\n",
    "outData['right_edge'] = xr.DataArray(\n",
    "      missingNumber*np.ones((noT,noH,nPeaks),dtype=fType),\n",
    "      coords=[specData.time.values,specData.range.values,peaks],\n",
    "      dims=('time','range','peak'),\n",
    "      attrs={'units':'m/s'},\n",
    "      encoding={'_FillValue':missingNumber}\n",
    "      )\n",
    "outData['snr'] = xr.DataArray(\n",
    "      missingNumber*np.ones((noT,noH,nPeaks),dtype=fType),\n",
    "      coords=[specData.time.values,specData.range.values,peaks],\n",
    "      dims=('time','range','peak'),\n",
    "      attrs={'units':'dB'},\n",
    "      encoding={'_FillValue':missingNumber}\n",
    "      )\n",
    "outData['noise'] = xr.DataArray(\n",
    "      missingNumber*np.ones((noT,noH),dtype=fType),\n",
    "      coords=[specData.time.values,specData.range.values],\n",
    "      dims=('time','range'),\n",
    "      attrs={'units':'dBz'},\n",
    "      encoding={'_FillValue':missingNumber}\n",
    "      )\n",
    "outData['noise1km_mean'] = xr.DataArray(\n",
    "      missingNumber*np.ones((noT),dtype=fType),\n",
    "      coords=[specData.time.values],\n",
    "      dims=('time'),\n",
    "      attrs={'units':'dBz'},\n",
    "      encoding={'_FillValue':missingNumber}\n",
    "      )\n",
    "outData['noise1km_max'] = xr.DataArray(\n",
    "      missingNumber*np.ones((noT),dtype=fType),\n",
    "      coords=[specData.time.values],\n",
    "      dims=('time'),\n",
    "      attrs={'units':'dBz'},\n",
    "      encoding={'_FillValue':missingNumber}\n",
    "      )\n",
    "outData['quality'] = xr.DataArray(\n",
    "      int(missingNumber)*np.ones((noT,noH),dtype=int),\n",
    "      coords=[specData.time.values,specData.range.values],\n",
    "      dims=('time','range'),\n",
    "      attrs={'units':'bytes',\n",
    "             'desciption':\"1st byte: aliasing; 2nd byte: more peaks present; 7th: no peak found; 8th: principal peak isolated\"},\n",
    "      encoding={'_FillValue':int(missingNumber)}\n",
    "      )\n",
    "outData = xr.Dataset(outData)"
   ]
  },
  {
   "cell_type": "markdown",
   "metadata": {},
   "source": [
    "For calibration we need the range for every pixel with data"
   ]
  },
  {
   "cell_type": "code",
   "execution_count": 6,
   "metadata": {},
   "outputs": [],
   "source": [
    "@numba.jit(nopython=True) #turn on the boosters!\n",
    "def createHeight1D(noS,noT,noH,locator_mask,ranges):\n",
    "    heights1D = np.zeros(noS)\n",
    "    for tt in range(noT):\n",
    "      for hh in range(noH):\n",
    "        specIndex = locator_mask[tt,hh]\n",
    "        if not np.isnan(locator_mask[tt,hh]):\n",
    "          heights1D[int(specIndex)] = ranges[hh]\n",
    "    return heights1D\n",
    "\n",
    "heights1DT = createHeight1D(specData.spectra.shape[0],noT,noH,specData.locator_mask.values,specData.range.values).T\n",
    "heights1DTSquared = heights1DT**2\n",
    "\n"
   ]
  },
  {
   "cell_type": "markdown",
   "metadata": {},
   "source": [
    "Calibrating"
   ]
  },
  {
   "cell_type": "code",
   "execution_count": 7,
   "metadata": {},
   "outputs": [],
   "source": [
    "spectraCalib1D = (10**(0.1*specData.spectra.values.T) * heights1DT**2 * 10**(.1*calibConstant)  * 10**(.1*calibrationOffset)).T\n",
    "spectraSemiCalib1D = (10**(0.1*specData.spectra.values.T) * 10**(.1*calibConstant)  * 10**(.1*calibrationOffset)).T\n"
   ]
  },
  {
   "cell_type": "markdown",
   "metadata": {},
   "source": [
    "The loop over all data"
   ]
  },
  {
   "cell_type": "code",
   "execution_count": 8,
   "metadata": {
    "collapsed": true
   },
   "outputs": [],
   "source": [
    "locatorMask = np.array(specData.locator_mask.values)\n"
   ]
  },
  {
   "cell_type": "code",
   "execution_count": null,
   "metadata": {},
   "outputs": [],
   "source": [
    "for tt in xrange(noT):\n",
    "\n",
    "      #estimate noise\n",
    "    specIndicesThisTime = np.ma.masked_invalid(specData.locator_mask.values[tt][specData.range.values > minHeight]).compressed().astype(int)\n",
    "    if len(specIndicesThisTime) < 1: continue\n",
    "\n",
    "    #remove 5 lowest values to get rid of strange dips in the spectrum\n",
    "    spec4Hilde = np.sort(spectraSemiCalib1D[specIndicesThisTime].ravel())\n",
    "    cutOffValue = int(np.floor(len(spec4Hilde)*hildeDiscardedLowestValues))\n",
    "    meanNoiseColumn, maxNoiseColumn = pyPamtraRadarMoments.calc_hildebrandSekhon(spec4Hilde[cutOffValue:], no_ave = no_ave,verbose=verbosity)\n",
    "\n",
    "                               \n",
    "    outData['noise1km_max'][tt] = maxNoiseColumn\n",
    "    outData['noise1km_mean'][tt] = meanNoiseColumn\n",
    "\n",
    "    for hh in xrange(noH):\n",
    "        print tt+1, \"of\", noT,  hh, \"of\", noH\n",
    "\n",
    "        #find Data\n",
    "        specIndex = locatorMask[tt,hh]\n",
    "\n",
    "        #skip noise\n",
    "        if np.isnan(specIndex): continue\n",
    "        else: specIndex = int(specIndex)\n",
    "\n",
    "        #remove data below minHeight\n",
    "        if heights1DT[specIndex] < minHeight:\n",
    "            continue\n",
    "\n",
    "        #pick calibrated spectrum\n",
    "        spectraCalib = spectraCalib1D[specIndex]\n",
    "\n",
    "        #estimate noise\n",
    "        noise_mean = meanNoiseColumn * heights1DTSquared[specIndex]\n",
    "        noise_max = maxNoiseColumn * heights1DTSquared[specIndex]\n",
    "\n",
    "\n",
    "        #poor man's fixed echo filter!\n",
    "        if np.mean(spectraCalib[nFFT/2-1:nFFT/2+2]) > 2* np.mean(spectraCalib[[nFFT/2-2,nFFT/2+2]]):\n",
    "            spectraCalib[nFFT/2-1:nFFT/2+2] = np.interp([1,2,3],[0,4],spectraCalib[[nFFT/2-2,nFFT/2+2]])\n",
    "\n",
    "            \n",
    "        kwargs = {\n",
    "            'verbose'  :  verbosity, \n",
    "            'max_v'  :  max_v, \n",
    "            'min_v'  :  min_v, \n",
    "            'no_ave'  :  no_ave, \n",
    "            'npeaks'  :  nPeaks, \n",
    "            'noise_distance_factor'  :  0, \n",
    "            'noise_mean'  :  noise_mean,\n",
    "            'noise_max'  :  noise_max,\n",
    "            'peak_min_snr' : 1.2, \n",
    "            'peak_min_bins' : 2, \n",
    "            'smooth_spectrum' :  True,\n",
    "            'use_wider_peak' : False,\n",
    "        }\n",
    "            \n",
    "            \n",
    "        #now estimate the moments\n",
    "        (\n",
    "        res_spectrum_out,\n",
    "        res_moments,\n",
    "        res_slope,\n",
    "        res_edge,\n",
    "        outData['quality'].values[tt,hh],\n",
    "        outData['noise'].values[tt,hh], #array(0.00013121511437930167, dtype=float32)\n",
    "        ) =  pyPamtraRadarMoments.calc_radarMoments(spectraCalib,**kwargs)\n",
    "\n",
    "        \n",
    "        #map data to prepared arrays  \n",
    "        outData['reflectivityFromSpectra'].values[tt,hh] = 10*np.log10(np.sum(spectraCalib))\n",
    "        outData['reflectivity'].values[tt,hh] = res_moments[0]\n",
    "        outData['mean_doppler_velocity'].values[tt,hh] = res_moments[1]\n",
    "        outData['doppler_spectrum_width'].values[tt,hh] = res_moments[2]\n",
    "        outData['skewness'].values[tt,hh] = res_moments[3]\n",
    "        outData['kurtosis'].values[tt,hh] = res_moments[4]\n",
    "        outData['left_slope'].values[tt,hh] = res_slope[0]\n",
    "        outData['right_slope'].values[tt,hh] = res_slope[1]\n",
    "        outData['left_edge'].values[tt,hh] = res_edge[0]\n",
    "        outData['right_edge'].values[tt,hh] = res_edge[1]\n",
    "\n",
    "        #simple aliasing detection\n",
    "        if (res_spectrum_out[0] > 0) & (res_spectrum_out[1] > 0):\n",
    "            outData['quality'].values[tt,hh] += 1\n",
    "\n"
   ]
  },
  {
   "cell_type": "markdown",
   "metadata": {},
   "source": [
    "take care of SNR and log units\n",
    "\n"
   ]
  },
  {
   "cell_type": "code",
   "execution_count": 12,
   "metadata": {},
   "outputs": [
    {
     "name": "stderr",
     "output_type": "stream",
     "text": [
      "/Users/mmaahn/anaconda/envs/numpy1.13/lib/python2.7/site-packages/ipykernel/__main__.py:1: RuntimeWarning: invalid value encountered in log10\n",
      "  if __name__ == '__main__':\n",
      "/Users/mmaahn/anaconda/envs/numpy1.13/lib/python2.7/site-packages/ipykernel/__main__.py:3: RuntimeWarning: invalid value encountered in log10\n",
      "  app.launch_new_instance()\n",
      "/Users/mmaahn/anaconda/envs/numpy1.13/lib/python2.7/site-packages/ipykernel/__main__.py:4: RuntimeWarning: invalid value encountered in log10\n"
     ]
    }
   ],
   "source": [
    "outData['snr'].values = 10*np.log10(outData['reflectivity'].values.T/(outData['noise'].values.T * specData.spectra.shape[1])).T\n",
    "outData['snr'].values[outData['reflectivity'].values == missingNumber] = missingNumber\n",
    "outData['reflectivity'].values = 10*np.log10(outData['reflectivity'].values)\n",
    "outData['noise'].values = 10*np.log10(outData['noise'].values * specData.spectra.shape[1])\n",
    "outData['noise1km_mean'].values = 10*np.log10(outData['noise1km_mean'].values * specData.spectra.shape[1] * 1000**2)\n",
    "outData['noise1km_max'].values = 10*np.log10(outData['noise1km_max'].values * specData.spectra.shape[1] * 1000**2)\n"
   ]
  },
  {
   "cell_type": "markdown",
   "metadata": {},
   "source": [
    "add meta data"
   ]
  },
  {
   "cell_type": "code",
   "execution_count": 13,
   "metadata": {},
   "outputs": [],
   "source": [
    "outData.time.encoding['units'] = u'seconds since 1970-01-01 00:00:00'\n",
    "outData.attrs['author'] = \"Maximilian Maahn\"\n",
    "outData.attrs['created'] = str(datetime.datetime.now())\n",
    "outData.attrs['version'] = \"pyPamtraRadarMoments Version \"+ str(pyPamtraRadarMoments.__version__)\n",
    "#copy attrinbutes\n",
    "\n",
    "keys =   [\n",
    "    u'site_id',\n",
    "    u'facility_id',\n",
    "    u'platform_id',\n",
    "    u'location_description',\n",
    "    u'antenna_altitude',\n",
    "    u'antenna_diameter',\n",
    "    u'attenuation',\n",
    "    u'cal_constant',\n",
    "    u'fft_len',\n",
    "    u'num_spectral_averages',\n",
    "    u'nyquist_velocity',\n",
    "    u'pulse_repetition_frequency',\n",
    "    u'pulse_width',\n",
    "    u'radar_operating_frequency',\n",
    "    u'rx_noise',\n",
    "    u'zero_gate_range',\n",
    "  ]\n",
    "\n",
    "\n",
    "for key in keys:\n",
    "    outData.attrs[key] = specData.attrs[key]"
   ]
  },
  {
   "cell_type": "markdown",
   "metadata": {},
   "source": [
    "Plot reflectivity"
   ]
  },
  {
   "cell_type": "code",
   "execution_count": 14,
   "metadata": {},
   "outputs": [
    {
     "data": {
      "text/plain": [
       "<matplotlib.collections.QuadMesh at 0x12ce58850>"
      ]
     },
     "execution_count": 14,
     "metadata": {},
     "output_type": "execute_result"
    },
    {
     "data": {
      "image/png": "[encoded data removed]",
      "text/plain": [
       "<matplotlib.figure.Figure at 0x11c91b610>"
      ]
     },
     "metadata": {},
     "output_type": "display_data"
    }
   ],
   "source": [
    "outData['reflectivity'][:,:,0].T.plot(vmin=-40,vmax=40)"
   ]
  },
  {
   "cell_type": "markdown",
   "metadata": {},
   "source": [
    "Store data"
   ]
  },
  {
   "cell_type": "code",
   "execution_count": null,
   "metadata": {},
   "outputs": [],
   "source": [
    "#enable compression\n",
    "for k in outData.keys():\n",
    "    outData[k].encoding['zlib'] = True\n",
    "\n",
    "outData.to_netcdf(fOut)"
   ]
  },
  {
   "cell_type": "markdown",
   "metadata": {},
   "source": [
    "Compare with reference file with moments provided by teh ARM program. Small differences are possible for low SNR, due to different treatment of multiple peaks and due to ground clutter."
   ]
  },
  {
   "cell_type": "code",
   "execution_count": 19,
   "metadata": {},
   "outputs": [],
   "source": [
    "refFile = xr.open_dataset('data/olikazrgeM1.a1.20160926.000000.part.nc')"
   ]
  },
  {
   "cell_type": "code",
   "execution_count": 20,
   "metadata": {},
   "outputs": [
    {
     "data": {
      "text/plain": [
       "<matplotlib.text.Text at 0x11db1ead0>"
      ]
     },
     "execution_count": 20,
     "metadata": {},
     "output_type": "execute_result"
    },
    {
     "data": {
      "image/png": "[encoded data removed]",
      "text/plain": [
       "<matplotlib.figure.Figure at 0x11c91b910>"
      ]
     },
     "metadata": {},
     "output_type": "display_data"
    }
   ],
   "source": [
    "( outData['reflectivity'][:,:,0] - refFile.reflectivity).T.plot(vmin=-0.1,vmax=0.1)\n",
    "plt.title('reflectivity difference')\n",
    "\n"
   ]
  },
  {
   "cell_type": "code",
   "execution_count": 21,
   "metadata": {},
   "outputs": [
    {
     "data": {
      "text/plain": [
       "<matplotlib.collections.PathCollection at 0x11df6e250>"
      ]
     },
     "execution_count": 21,
     "metadata": {},
     "output_type": "execute_result"
    },
    {
     "data": {
      "image/png": "[encoded data removed]",
      "text/plain": [
       "<matplotlib.figure.Figure at 0x11c99a310>"
      ]
     },
     "metadata": {},
     "output_type": "display_data"
    }
   ],
   "source": [
    "plt.scatter(refFile.reflectivity.values, outData['reflectivity'][:,:,0].values)"
   ]
  },
  {
   "cell_type": "code",
   "execution_count": null,
   "metadata": {
    "collapsed": true
   },
   "outputs": [],
   "source": []
  }
 ],
 "metadata": {
  "kernelspec": {
   "display_name": "Python [conda env:numpy1.13]",
   "language": "python",
   "name": "conda-env-numpy1.13-py"
  },
  "language_info": {
   "codemirror_mode": {
    "name": "ipython",
    "version": 2
   },
   "file_extension": ".py",
   "mimetype": "text/x-python",
   "name": "python",
   "nbconvert_exporter": "python",
   "pygments_lexer": "ipython2",
   "version": "2.7.13"
  },
  "toc": {
   "colors": {
    "hover_highlight": "#DAA520",
    "navigate_num": "#000000",
    "navigate_text": "#333333",
    "running_highlight": "#FF0000",
    "selected_highlight": "#FFD700",
    "sidebar_border": "#EEEEEE",
    "wrapper_background": "#FFFFFF"
   },
   "moveMenuLeft": true,
   "nav_menu": {
    "height": "12px",
    "width": "252px"
   },
   "navigate_menu": true,
   "number_sections": true,
   "sideBar": true,
   "threshold": 4,
   "toc_cell": false,
   "toc_section_display": "block",
   "toc_window_display": false,
   "widenNotebook": false
  }
 },
 "nbformat": 4,
 "nbformat_minor": 2
}
